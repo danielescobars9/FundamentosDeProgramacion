{
 "cells": [
  {
   "cell_type": "code",
   "execution_count": 1,
   "metadata": {},
   "outputs": [
    {
     "name": "stderr",
     "output_type": "stream",
     "text": [
      "'wget' is not recognized as an internal or external command,\n",
      "operable program or batch file.\n"
     ]
    }
   ],
   "source": [
    "!wget --no-cache -O init.py -q https://raw.githubusercontent.com/UDEA-Esp-Analitica-y-Ciencia-de-Datos/EACD-01-FUNDAMENTOS/master/init.py\n",
    "import init; init.init(force_download=False); \n",
    "from IPython.display import Image"
   ]
  },
  {
   "cell_type": "markdown",
   "metadata": {},
   "source": [
    "# Concurrencia\n",
    "\n",
    "**Advertencia**: este notebook es prácticamente un resumen de [Speed Up Your Python Program With Concurrency](https://realpython.com/python-concurrency/). Se recomienda bastante leer la fuente original.\n",
    "\n",
    "\n",
    "**¿Qué es concurrencia?**\n",
    "\n",
    "Tomado de [una respuesta en Quora](https://www.quora.com/What-is-concurrency-in-programming)\n",
    "\n",
    "> Concurrency is when two tasks overlap in execution.\n",
    "\n",
    ">In programming, these situations are encountered:\n",
    "\n",
    "> - When two processes are assigned to different cores on a machine by the kernel, and both cores execute the process instructions at the same time.\n",
    "- When more connections arrive before earlier connections are finished, and need to be handled immediately.\n",
    "More generally, it’s when we need to handle multiple tasks at about the same time.\n",
    "\n",
    ">That’s it. That’s all concurrency is. Parallel execution is when two tasks start at the same time, making it a special case of concurrent execution.\n",
    "\n",
    "En resumen, es cuando tareas se sobrelapan. Una tarea puede ser cualquier serie de instrucciones de código. Es importante resaltar que el concepto de paralelismo es un subconjunto de concurrencia. \n",
    "\n",
    "Python ofrece 3 maneras diferentes de realizar esa concurrencia:\n",
    "\n",
    "| Concurrency Type                     | Switching Decision                                                    | Number of Processors |\n",
    "|--------------------------------------|-----------------------------------------------------------------------|----------------------|\n",
    "| Pre-emptive multitasking (threading) | The operating system decides when to switch tasks external to Python. | 1                    |\n",
    "| Cooperative multitasking (asyncio)   | The tasks decide when to give up control.                             | 1                    |\n",
    "| Multiprocessing (multiprocessing)    | The processes all run at the same time on different processors.       | Many                 |\n",
    "\n",
    "Ejecutaremos algunas tareas utilizando las distintas formas de concurrencia para entender su aplicabilidad en alguna situación, así como para observar sus ventajas y desventajas."
   ]
  },
  {
   "cell_type": "markdown",
   "metadata": {},
   "source": [
    "## IO Bound tasks\n",
    "\n",
    "Son tareas que retrasan la velocidad a la que nuestros código ejecuta porque frecuentemente están esperando respuesta de un recurso externo, como un archivo local, una conexión a base de datos o una petición http."
   ]
  },
  {
   "cell_type": "markdown",
   "metadata": {},
   "source": [
    "**Synchronously**"
   ]
  },
  {
   "cell_type": "code",
   "execution_count": 2,
   "metadata": {},
   "outputs": [
    {
     "data": {
      "image/png": "[encoded data removed]",
      "text/plain": [
       "<IPython.core.display.Image object>"
      ]
     },
     "execution_count": 2,
     "metadata": {},
     "output_type": "execute_result"
    }
   ],
   "source": [
    "Image(\"local/imgs/IOBound.png\")"
   ]
  },
  {
   "cell_type": "code",
   "execution_count": 3,
   "metadata": {},
   "outputs": [
    {
     "name": "stdout",
     "output_type": "stream",
     "text": [
      "Read 10966 from https://www.jython.org\n",
      "Read 275 from http://olympus.realpython.org/dice\n",
      "Read 10966 from https://www.jython.org\n",
      "Read 275 from http://olympus.realpython.org/dice\n",
      "Read 10966 from https://www.jython.org\n",
      "Read 275 from http://olympus.realpython.org/dice\n",
      "Read 10966 from https://www.jython.org\n",
      "Read 275 from http://olympus.realpython.org/dice\n",
      "Read 10966 from https://www.jython.org\n",
      "Read 275 from http://olympus.realpython.org/dice\n",
      "Read 10966 from https://www.jython.org\n",
      "Read 275 from http://olympus.realpython.org/dice\n",
      "Read 10966 from https://www.jython.org\n",
      "Read 275 from http://olympus.realpython.org/dice\n",
      "Read 10966 from https://www.jython.org\n",
      "Read 275 from http://olympus.realpython.org/dice\n",
      "Read 10966 from https://www.jython.org\n",
      "Read 275 from http://olympus.realpython.org/dice\n",
      "Read 10966 from https://www.jython.org\n",
      "Read 275 from http://olympus.realpython.org/dice\n",
      "Read 10966 from https://www.jython.org\n",
      "Read 275 from http://olympus.realpython.org/dice\n",
      "Read 10966 from https://www.jython.org\n",
      "Read 275 from http://olympus.realpython.org/dice\n",
      "Read 10966 from https://www.jython.org\n",
      "Read 275 from http://olympus.realpython.org/dice\n",
      "Read 10966 from https://www.jython.org\n",
      "Read 275 from http://olympus.realpython.org/dice\n",
      "Read 10966 from https://www.jython.org\n",
      "Read 275 from http://olympus.realpython.org/dice\n",
      "Read 10966 from https://www.jython.org\n",
      "Read 275 from http://olympus.realpython.org/dice\n",
      "Read 10966 from https://www.jython.org\n",
      "Read 275 from http://olympus.realpython.org/dice\n",
      "Read 10966 from https://www.jython.org\n",
      "Read 275 from http://olympus.realpython.org/dice\n",
      "Read 10966 from https://www.jython.org\n",
      "Read 275 from http://olympus.realpython.org/dice\n",
      "Read 10966 from https://www.jython.org\n",
      "Read 275 from http://olympus.realpython.org/dice\n",
      "Read 10966 from https://www.jython.org\n",
      "Read 275 from http://olympus.realpython.org/dice\n",
      "Read 10966 from https://www.jython.org\n",
      "Read 275 from http://olympus.realpython.org/dice\n",
      "Read 10966 from https://www.jython.org\n",
      "Read 275 from http://olympus.realpython.org/dice\n",
      "Read 10966 from https://www.jython.org\n",
      "Read 275 from http://olympus.realpython.org/dice\n",
      "Read 10966 from https://www.jython.org\n",
      "Read 275 from http://olympus.realpython.org/dice\n",
      "Read 10966 from https://www.jython.org\n",
      "Read 275 from http://olympus.realpython.org/dice\n",
      "Read 10966 from https://www.jython.org\n",
      "Read 275 from http://olympus.realpython.org/dice\n",
      "Read 10966 from https://www.jython.org\n",
      "Read 275 from http://olympus.realpython.org/dice\n",
      "Read 10966 from https://www.jython.org\n",
      "Read 275 from http://olympus.realpython.org/dice\n",
      "Read 10966 from https://www.jython.org\n",
      "Read 275 from http://olympus.realpython.org/dice\n",
      "Read 10966 from https://www.jython.org\n",
      "Read 275 from http://olympus.realpython.org/dice\n",
      "Read 10966 from https://www.jython.org\n",
      "Read 275 from http://olympus.realpython.org/dice\n",
      "Read 10966 from https://www.jython.org\n",
      "Read 275 from http://olympus.realpython.org/dice\n",
      "Read 10966 from https://www.jython.org\n",
      "Read 275 from http://olympus.realpython.org/dice\n",
      "Read 10966 from https://www.jython.org\n",
      "Read 275 from http://olympus.realpython.org/dice\n",
      "Read 10966 from https://www.jython.org\n",
      "Read 275 from http://olympus.realpython.org/dice\n",
      "Read 10966 from https://www.jython.org\n",
      "Read 275 from http://olympus.realpython.org/dice\n",
      "Read 10966 from https://www.jython.org\n",
      "Read 275 from http://olympus.realpython.org/dice\n",
      "Read 10966 from https://www.jython.org\n",
      "Read 275 from http://olympus.realpython.org/dice\n",
      "Read 10966 from https://www.jython.org\n",
      "Read 275 from http://olympus.realpython.org/dice\n",
      "Read 10966 from https://www.jython.org\n",
      "Read 275 from http://olympus.realpython.org/dice\n",
      "Read 10966 from https://www.jython.org\n",
      "Read 275 from http://olympus.realpython.org/dice\n",
      "Read 10966 from https://www.jython.org\n",
      "Read 275 from http://olympus.realpython.org/dice\n",
      "Read 10966 from https://www.jython.org\n",
      "Read 275 from http://olympus.realpython.org/dice\n",
      "Read 10966 from https://www.jython.org\n",
      "Read 275 from http://olympus.realpython.org/dice\n",
      "Read 10966 from https://www.jython.org\n",
      "Read 275 from http://olympus.realpython.org/dice\n",
      "Read 10966 from https://www.jython.org\n",
      "Read 275 from http://olympus.realpython.org/dice\n",
      "Read 10966 from https://www.jython.org\n",
      "Read 275 from http://olympus.realpython.org/dice\n",
      "Read 10966 from https://www.jython.org\n",
      "Read 275 from http://olympus.realpython.org/dice\n",
      "Read 10966 from https://www.jython.org\n",
      "Read 275 from http://olympus.realpython.org/dice\n",
      "Read 10966 from https://www.jython.org\n",
      "Read 275 from http://olympus.realpython.org/dice\n",
      "Read 10966 from https://www.jython.org\n",
      "Read 275 from http://olympus.realpython.org/dice\n",
      "Read 10966 from https://www.jython.org\n",
      "Read 275 from http://olympus.realpython.org/dice\n",
      "Read 10966 from https://www.jython.org\n",
      "Read 275 from http://olympus.realpython.org/dice\n",
      "Read 10966 from https://www.jython.org\n",
      "Read 275 from http://olympus.realpython.org/dice\n",
      "Read 10966 from https://www.jython.org\n",
      "Read 275 from http://olympus.realpython.org/dice\n",
      "Read 10966 from https://www.jython.org\n",
      "Read 275 from http://olympus.realpython.org/dice\n",
      "Read 10966 from https://www.jython.org\n",
      "Read 275 from http://olympus.realpython.org/dice\n",
      "Read 10966 from https://www.jython.org\n",
      "Read 275 from http://olympus.realpython.org/dice\n",
      "Read 10966 from https://www.jython.org\n",
      "Read 275 from http://olympus.realpython.org/dice\n",
      "Read 10966 from https://www.jython.org\n",
      "Read 275 from http://olympus.realpython.org/dice\n",
      "Read 10966 from https://www.jython.org\n",
      "Read 275 from http://olympus.realpython.org/dice\n",
      "Read 10966 from https://www.jython.org\n",
      "Read 275 from http://olympus.realpython.org/dice\n",
      "Read 10966 from https://www.jython.org\n",
      "Read 275 from http://olympus.realpython.org/dice\n",
      "Read 10966 from https://www.jython.org\n",
      "Read 275 from http://olympus.realpython.org/dice\n",
      "Read 10966 from https://www.jython.org\n",
      "Read 275 from http://olympus.realpython.org/dice\n",
      "Read 10966 from https://www.jython.org\n",
      "Read 275 from http://olympus.realpython.org/dice\n",
      "Read 10966 from https://www.jython.org\n",
      "Read 275 from http://olympus.realpython.org/dice\n",
      "Read 10966 from https://www.jython.org\n",
      "Read 275 from http://olympus.realpython.org/dice\n",
      "Read 10966 from https://www.jython.org\n",
      "Read 275 from http://olympus.realpython.org/dice\n",
      "Read 10966 from https://www.jython.org\n",
      "Read 275 from http://olympus.realpython.org/dice\n",
      "Read 10966 from https://www.jython.org\n",
      "Read 275 from http://olympus.realpython.org/dice\n",
      "Read 10966 from https://www.jython.org\n",
      "Read 275 from http://olympus.realpython.org/dice\n",
      "Read 10966 from https://www.jython.org\n",
      "Read 275 from http://olympus.realpython.org/dice\n",
      "Read 10966 from https://www.jython.org\n",
      "Read 275 from http://olympus.realpython.org/dice\n",
      "Read 10966 from https://www.jython.org\n",
      "Read 275 from http://olympus.realpython.org/dice\n",
      "Read 10966 from https://www.jython.org\n",
      "Read 275 from http://olympus.realpython.org/dice\n",
      "Read 10966 from https://www.jython.org\n",
      "Read 275 from http://olympus.realpython.org/dice\n",
      "Read 10966 from https://www.jython.org\n",
      "Read 275 from http://olympus.realpython.org/dice\n",
      "Read 10966 from https://www.jython.org\n",
      "Read 275 from http://olympus.realpython.org/dice\n",
      "Downloaded 160 in 9.91091251373291 seconds\n"
     ]
    }
   ],
   "source": [
    "%run \"local/lib/concurrency/io_synchronous.py\""
   ]
  },
  {
   "cell_type": "markdown",
   "metadata": {},
   "source": [
    "**Threading**"
   ]
  },
  {
   "cell_type": "code",
   "execution_count": 4,
   "metadata": {},
   "outputs": [
    {
     "data": {
      "image/png": "[encoded data removed]",
      "text/plain": [
       "<IPython.core.display.Image object>"
      ]
     },
     "execution_count": 4,
     "metadata": {},
     "output_type": "execute_result"
    }
   ],
   "source": [
    "Image(\"local/imgs/Threading.png\")"
   ]
  },
  {
   "cell_type": "code",
   "execution_count": 5,
   "metadata": {},
   "outputs": [
    {
     "name": "stdout",
     "output_type": "stream",
     "text": [
      "Read 275 from http://olympus.realpython.org/dice\n",
      "Read 275 from http://olympus.realpython.org/dice\n",
      "Read 10966 from https://www.jython.org\n",
      "Read 10966 from https://www.jython.org\n",
      "Read 10966 from https://www.jython.org\n",
      "Read 275 from http://olympus.realpython.org/dice\n",
      "Read 10966 from https://www.jython.org\n",
      "Read 275 from http://olympus.realpython.org/dice\n",
      "Read 275 from http://olympus.realpython.org/dice\n",
      "Read 10966 from https://www.jython.org\n",
      "Read 275 from http://olympus.realpython.org/dice\n",
      "Read 10966 from https://www.jython.org\n",
      "Read 10966 from https://www.jython.org\n",
      "Read 275 from http://olympus.realpython.org/dice\n",
      "Read 275 from http://olympus.realpython.org/dice\n",
      "Read 10966 from https://www.jython.org\n",
      "Read 10966 from https://www.jython.org\n",
      "Read 275 from http://olympus.realpython.org/dice\n",
      "Read 10966 from https://www.jython.org\n",
      "Read 275 from http://olympus.realpython.org/dice\n",
      "Read 10966 from https://www.jython.org\n",
      "Read 275 from http://olympus.realpython.org/dice\n",
      "Read 10966 from https://www.jython.org\n",
      "Read 10966 from https://www.jython.org\n",
      "Read 275 from http://olympus.realpython.org/dice\n",
      "Read 10966 from https://www.jython.org\n",
      "Read 275 from http://olympus.realpython.org/dice\n",
      "Read 10966 from https://www.jython.org\n",
      "Read 10966 from https://www.jython.org\n",
      "Read 275 from http://olympus.realpython.org/dice\n",
      "Read 10966 from https://www.jython.org\n",
      "Read 275 from http://olympus.realpython.org/dice\n",
      "Read 10966 from https://www.jython.org\n",
      "Read 10966 from https://www.jython.org\n",
      "Read 275 from http://olympus.realpython.org/dice\n",
      "Read 10966 from https://www.jython.org\n",
      "Read 275 from http://olympus.realpython.org/dice\n",
      "Read 10966 from https://www.jython.org\n",
      "Read 275 from http://olympus.realpython.org/dice\n",
      "Read 10966 from https://www.jython.org\n",
      "Read 275 from http://olympus.realpython.org/dice\n",
      "Read 10966 from https://www.jython.org\n",
      "Read 10966 from https://www.jython.org\n",
      "Read 275 from http://olympus.realpython.org/dice\n",
      "Read 275 from http://olympus.realpython.org/dice\n",
      "Read 275 from http://olympus.realpython.org/dice\n",
      "Read 10966 from https://www.jython.org\n",
      "Read 275 from http://olympus.realpython.org/dice\n",
      "Read 10966 from https://www.jython.org\n",
      "Read 10966 from https://www.jython.org\n",
      "Read 275 from http://olympus.realpython.org/dice\n",
      "Read 275 from http://olympus.realpython.org/dice\n",
      "Read 10966 from https://www.jython.org\n",
      "Read 275 from http://olympus.realpython.org/dice\n",
      "Read 10966 from https://www.jython.org\n",
      "Read 275 from http://olympus.realpython.org/dice\n",
      "Read 10966 from https://www.jython.org\n",
      "Read 275 from http://olympus.realpython.org/dice\n",
      "Read 10966 from https://www.jython.org\n",
      "Read 10966 from https://www.jython.org\n",
      "Read 275 from http://olympus.realpython.org/dice\n",
      "Read 10966 from https://www.jython.org\n",
      "Read 275 from http://olympus.realpython.org/dice\n",
      "Read 10966 from https://www.jython.org\n",
      "Read 275 from http://olympus.realpython.org/dice\n",
      "Read 10966 from https://www.jython.org\n",
      "Read 275 from http://olympus.realpython.org/dice\n",
      "Read 10966 from https://www.jython.org\n",
      "Read 275 from http://olympus.realpython.org/dice\n",
      "Read 10966 from https://www.jython.org\n",
      "Read 275 from http://olympus.realpython.org/dice\n",
      "Read 10966 from https://www.jython.org\n",
      "Read 275 from http://olympus.realpython.org/dice\n",
      "Read 275 from http://olympus.realpython.org/dice\n",
      "Read 10966 from https://www.jython.org\n",
      "Read 10966 from https://www.jython.org\n",
      "Read 275 from http://olympus.realpython.org/dice\n",
      "Read 10966 from https://www.jython.org\n",
      "Read 275 from http://olympus.realpython.org/dice\n",
      "Read 10966 from https://www.jython.org\n",
      "Read 275 from http://olympus.realpython.org/dice\n",
      "Read 275 from http://olympus.realpython.org/dice\n",
      "Read 10966 from https://www.jython.org\n",
      "Read 10966 from https://www.jython.org\n",
      "Read 275 from http://olympus.realpython.org/dice\n",
      "Read 10966 from https://www.jython.org\n",
      "Read 275 from http://olympus.realpython.org/dice\n",
      "Read 10966 from https://www.jython.org\n",
      "Read 275 from http://olympus.realpython.org/dice\n",
      "Read 10966 from https://www.jython.org\n",
      "Read 275 from http://olympus.realpython.org/dice\n",
      "Read 10966 from https://www.jython.org\n",
      "Read 275 from http://olympus.realpython.org/dice\n",
      "Read 10966 from https://www.jython.org\n",
      "Read 10966 from https://www.jython.org\n",
      "Read 275 from http://olympus.realpython.org/dice\n",
      "Read 275 from http://olympus.realpython.org/dice\n",
      "Read 275 from http://olympus.realpython.org/dice\n",
      "Read 10966 from https://www.jython.org\n",
      "Read 275 from http://olympus.realpython.org/dice\n",
      "Read 10966 from https://www.jython.org\n",
      "Read 10966 from https://www.jython.org\n",
      "Read 275 from http://olympus.realpython.org/dice\n",
      "Read 10966 from https://www.jython.org\n",
      "Read 275 from http://olympus.realpython.org/dice\n",
      "Read 275 from http://olympus.realpython.org/dice\n",
      "Read 10966 from https://www.jython.org\n",
      "Read 275 from http://olympus.realpython.org/dice\n",
      "Read 10966 from https://www.jython.org\n",
      "Read 10966 from https://www.jython.org\n",
      "Read 275 from http://olympus.realpython.org/dice\n",
      "Read 275 from http://olympus.realpython.org/dice\n",
      "Read 10966 from https://www.jython.org\n",
      "Read 275 from http://olympus.realpython.org/dice\n",
      "Read 10966 from https://www.jython.org\n",
      "Read 275 from http://olympus.realpython.org/dice\n",
      "Read 10966 from https://www.jython.org\n",
      "Read 10966 from https://www.jython.org\n",
      "Read 275 from http://olympus.realpython.org/dice\n",
      "Read 275 from http://olympus.realpython.org/dice\n",
      "Read 10966 from https://www.jython.org\n",
      "Read 275 from http://olympus.realpython.org/dice\n",
      "Read 10966 from https://www.jython.org\n",
      "Read 275 from http://olympus.realpython.org/dice\n",
      "Read 10966 from https://www.jython.org\n",
      "Read 275 from http://olympus.realpython.org/dice\n",
      "Read 10966 from https://www.jython.org\n",
      "Read 10966 from https://www.jython.org\n",
      "Read 275 from http://olympus.realpython.org/dice\n",
      "Read 10966 from https://www.jython.org\n",
      "Read 275 from http://olympus.realpython.org/dice\n",
      "Read 10966 from https://www.jython.org\n",
      "Read 275 from http://olympus.realpython.org/dice\n",
      "Read 10966 from https://www.jython.org\n",
      "Read 275 from http://olympus.realpython.org/dice\n",
      "Read 10966 from https://www.jython.org\n",
      "Read 275 from http://olympus.realpython.org/dice\n",
      "Read 10966 from https://www.jython.org\n",
      "Read 10966 from https://www.jython.org\n",
      "Read 275 from http://olympus.realpython.org/dice\n",
      "Read 275 from http://olympus.realpython.org/dice\n",
      "Read 10966 from https://www.jython.org\n",
      "Read 275 from http://olympus.realpython.org/dice\n",
      "Read 10966 from https://www.jython.org\n",
      "Read 275 from http://olympus.realpython.org/dice\n",
      "Read 10966 from https://www.jython.org\n",
      "Read 275 from http://olympus.realpython.org/dice\n",
      "Read 10966 from https://www.jython.org\n",
      "Read 275 from http://olympus.realpython.org/dice\n",
      "Read 10966 from https://www.jython.org\n",
      "Read 10966 from https://www.jython.org\n",
      "Read 275 from http://olympus.realpython.org/dice\n",
      "Read 275 from http://olympus.realpython.org/dice\n",
      "Read 275 from http://olympus.realpython.org/diceRead 10966 from https://www.jython.org\n",
      "\n",
      "Read 275 from http://olympus.realpython.org/dice\n",
      "Read 10966 from https://www.jython.org\n",
      "Read 275 from http://olympus.realpython.org/dice\n",
      "Read 275 from http://olympus.realpython.org/dice\n",
      "Read 275 from http://olympus.realpython.org/dice\n",
      "Downloaded 160 in 2.675794839859009 seconds\n"
     ]
    }
   ],
   "source": [
    "%run \"local/lib/concurrency/io_threading.py\""
   ]
  },
  {
   "cell_type": "markdown",
   "metadata": {},
   "source": [
    "**Asyncio**"
   ]
  },
  {
   "cell_type": "code",
   "execution_count": 6,
   "metadata": {},
   "outputs": [
    {
     "data": {
      "image/png": "[encoded data removed]",
      "text/plain": [
       "<IPython.core.display.Image object>"
      ]
     },
     "execution_count": 6,
     "metadata": {},
     "output_type": "execute_result"
    }
   ],
   "source": [
    "Image(\"local/imgs/Asyncio.png\")"
   ]
  },
  {
   "cell_type": "code",
   "execution_count": 8,
   "metadata": {},
   "outputs": [],
   "source": [
    "import local.lib.concurrency.io_asyncio as executor"
   ]
  },
  {
   "cell_type": "code",
   "execution_count": null,
   "metadata": {},
   "outputs": [
    {
     "name": "stdout",
     "output_type": "stream",
     "text": [
      "Read 3769 from https://www.jython.org\n",
      "Read 3769 from https://www.jython.org\n",
      "Read 3769 from https://www.jython.org\n",
      "Read 3769 from https://www.jython.org\n",
      "Read 3769 from https://www.jython.org\n",
      "Read 3769 from https://www.jython.org\n",
      "Read 3769 from https://www.jython.org\n",
      "Read 3769 from https://www.jython.org\n",
      "Read 3769 from https://www.jython.org\n",
      "Read 3769 from https://www.jython.org\n",
      "Read 3769 from https://www.jython.org\n",
      "Read 3769 from https://www.jython.org\n",
      "Read 3769 from https://www.jython.org\n",
      "Read 3769 from https://www.jython.org\n",
      "Read 3769 from https://www.jython.org\n",
      "Read 3769 from https://www.jython.org\n",
      "Read 3769 from https://www.jython.org\n",
      "Read 3769 from https://www.jython.org\n",
      "Read 3769 from https://www.jython.org\n",
      "Read 3769 from https://www.jython.org\n",
      "Read 3769 from https://www.jython.org\n",
      "Read 3769 from https://www.jython.org\n",
      "Read 3769 from https://www.jython.org\n",
      "Read 3769 from https://www.jython.org\n",
      "Read 3769 from https://www.jython.org\n",
      "Read 3769 from https://www.jython.org\n",
      "Read 3769 from https://www.jython.org\n",
      "Read 3769 from https://www.jython.org\n",
      "Read 3769 from https://www.jython.org\n",
      "Read 3769 from https://www.jython.org\n",
      "Read 3769 from https://www.jython.org\n",
      "Read 3769 from https://www.jython.org\n",
      "Read 3769 from https://www.jython.org\n",
      "Read 3769 from https://www.jython.org\n",
      "Read 3769 from https://www.jython.org\n",
      "Read 3769 from https://www.jython.org\n",
      "Read 3769 from https://www.jython.org\n",
      "Read 3769 from https://www.jython.org\n",
      "Read 3769 from https://www.jython.org\n",
      "Read 3769 from https://www.jython.org\n",
      "Read 3769 from https://www.jython.org\n",
      "Read 3769 from https://www.jython.org\n",
      "Read 3769 from https://www.jython.org\n",
      "Read 3769 from https://www.jython.org\n",
      "Read 3769 from https://www.jython.org\n",
      "Read 3769 from https://www.jython.org\n",
      "Read 3769 from https://www.jython.org\n",
      "Read 3769 from https://www.jython.org\n",
      "Read 3769 from https://www.jython.org\n",
      "Read 3769 from https://www.jython.org\n",
      "Read 3769 from https://www.jython.org\n",
      "Read 3769 from https://www.jython.org\n",
      "Read 3769 from https://www.jython.org\n",
      "Read 3769 from https://www.jython.org\n",
      "Read 3769 from https://www.jython.org\n",
      "Read 3769 from https://www.jython.org\n",
      "Read 3769 from https://www.jython.org\n",
      "Read 3769 from https://www.jython.org\n",
      "Read 3769 from https://www.jython.org\n",
      "Read 3769 from https://www.jython.org\n",
      "Read 3769 from https://www.jython.org\n",
      "Read 3769 from https://www.jython.org\n",
      "Read 3769 from https://www.jython.org\n",
      "Read 3769 from https://www.jython.org\n",
      "Read 3769 from https://www.jython.org\n",
      "Read 3769 from https://www.jython.org\n",
      "Read 3769 from https://www.jython.org\n",
      "Read 3769 from https://www.jython.org\n",
      "Read 3769 from https://www.jython.org\n",
      "Read 3769 from https://www.jython.org\n",
      "Read 3769 from https://www.jython.org\n",
      "Read 3769 from https://www.jython.org\n",
      "Read 3769 from https://www.jython.org\n",
      "Read 3769 from https://www.jython.org\n",
      "Read 3769 from https://www.jython.org\n",
      "Read 275 from http://olympus.realpython.org/dice\n",
      "Read 275 from http://olympus.realpython.org/dice\n",
      "Read 275 from http://olympus.realpython.org/dice\n",
      "Read 275 from http://olympus.realpython.org/dice\n",
      "Read 275 from http://olympus.realpython.org/dice\n",
      "Read 275 from http://olympus.realpython.org/dice\n",
      "Read 275 from http://olympus.realpython.org/dice\n",
      "Read 275 from http://olympus.realpython.org/dice\n",
      "Read 275 from http://olympus.realpython.org/dice\n",
      "Read 275 from http://olympus.realpython.org/dice\n",
      "Read 275 from http://olympus.realpython.org/dice\n",
      "Read 275 from http://olympus.realpython.org/dice\n",
      "Read 275 from http://olympus.realpython.org/dice\n",
      "Read 275 from http://olympus.realpython.org/dice\n",
      "Read 275 from http://olympus.realpython.org/dice\n",
      "Read 275 from http://olympus.realpython.org/dice\n",
      "Read 275 from http://olympus.realpython.org/dice\n",
      "Read 275 from http://olympus.realpython.org/dice\n",
      "Read 275 from http://olympus.realpython.org/dice\n",
      "Read 275 from http://olympus.realpython.org/dice\n",
      "Read 275 from http://olympus.realpython.org/dice\n",
      "Read 275 from http://olympus.realpython.org/dice\n",
      "Read 275 from http://olympus.realpython.org/dice\n",
      "Read 275 from http://olympus.realpython.org/dice\n",
      "Read 275 from http://olympus.realpython.org/dice\n",
      "Read 275 from http://olympus.realpython.org/dice\n",
      "Read 275 from http://olympus.realpython.org/dice\n",
      "Read 275 from http://olympus.realpython.org/dice\n",
      "Read 275 from http://olympus.realpython.org/dice\n",
      "Read 275 from http://olympus.realpython.org/dice\n",
      "Read 275 from http://olympus.realpython.org/dice\n",
      "Read 275 from http://olympus.realpython.org/dice\n",
      "Read 275 from http://olympus.realpython.org/dice\n",
      "Read 275 from http://olympus.realpython.org/dice\n",
      "Read 275 from http://olympus.realpython.org/dice\n",
      "Read 275 from http://olympus.realpython.org/dice\n",
      "Read 275 from http://olympus.realpython.org/dice\n",
      "Read 275 from http://olympus.realpython.org/dice\n",
      "Read 275 from http://olympus.realpython.org/dice\n",
      "Read 275 from http://olympus.realpython.org/dice\n",
      "Read 275 from http://olympus.realpython.org/dice\n",
      "Read 275 from http://olympus.realpython.org/dice\n",
      "Read 275 from http://olympus.realpython.org/dice\n",
      "Read 275 from http://olympus.realpython.org/dice\n",
      "Read 275 from http://olympus.realpython.org/dice\n",
      "Read 275 from http://olympus.realpython.org/dice\n",
      "Read 275 from http://olympus.realpython.org/dice\n",
      "Read 275 from http://olympus.realpython.org/dice\n",
      "Read 275 from http://olympus.realpython.org/dice\n",
      "Read 3769 from https://www.jython.org\n",
      "Read 275 from http://olympus.realpython.org/dice\n",
      "Read 3769 from https://www.jython.org\n",
      "Read 3769 from https://www.jython.org\n",
      "Read 3769 from https://www.jython.org\n",
      "Read 3769 from https://www.jython.org\n",
      "Read 275 from http://olympus.realpython.org/dice\n",
      "Read 275 from http://olympus.realpython.org/dice\n",
      "Read 275 from http://olympus.realpython.org/dice\n",
      "Read 275 from http://olympus.realpython.org/dice\n",
      "Read 275 from http://olympus.realpython.org/dice\n",
      "Read 275 from http://olympus.realpython.org/dice\n",
      "Read 275 from http://olympus.realpython.org/dice\n",
      "Read 275 from http://olympus.realpython.org/dice\n",
      "Read 275 from http://olympus.realpython.org/dice\n",
      "Read 275 from http://olympus.realpython.org/dice\n",
      "Read 275 from http://olympus.realpython.org/dice\n",
      "Read 275 from http://olympus.realpython.org/dice\n",
      "Read 275 from http://olympus.realpython.org/dice\n",
      "Read 275 from http://olympus.realpython.org/dice\n",
      "Read 275 from http://olympus.realpython.org/dice\n",
      "Read 275 from http://olympus.realpython.org/dice\n",
      "Read 275 from http://olympus.realpython.org/dice\n",
      "Read 275 from http://olympus.realpython.org/dice\n",
      "Read 275 from http://olympus.realpython.org/dice\n",
      "Read 275 from http://olympus.realpython.org/dice\n",
      "Read 275 from http://olympus.realpython.org/dice\n",
      "Read 275 from http://olympus.realpython.org/dice\n",
      "Read 275 from http://olympus.realpython.org/dice\n",
      "Read 275 from http://olympus.realpython.org/dice\n",
      "Read 275 from http://olympus.realpython.org/dice\n",
      "Read 275 from http://olympus.realpython.org/dice\n",
      "Read 275 from http://olympus.realpython.org/dice\n",
      "Read 275 from http://olympus.realpython.org/dice\n",
      "Read 275 from http://olympus.realpython.org/dice\n",
      "Read 275 from http://olympus.realpython.org/dice\n",
      "Downloaded 160 sites in 0.4383876323699951 seconds\n"
     ]
    }
   ],
   "source": [
    "await executor.main()"
   ]
  },
  {
   "cell_type": "markdown",
   "metadata": {},
   "source": [
    "**Multiprocessing**"
   ]
  },
  {
   "cell_type": "code",
   "execution_count": null,
   "metadata": {},
   "outputs": [
    {
     "data": {
      "image/png": "[encoded data removed]",
      "text/plain": [
       "<IPython.core.display.Image object>"
      ]
     },
     "execution_count": 11,
     "metadata": {},
     "output_type": "execute_result"
    }
   ],
   "source": [
    "Image(\"local/imgs/MProc.png\")"
   ]
  },
  {
   "cell_type": "code",
   "execution_count": null,
   "metadata": {},
   "outputs": [
    {
     "name": "stdout",
     "output_type": "stream",
     "text": [
      "Downloaded 160 in 3.7105696201324463 seconds\n"
     ]
    }
   ],
   "source": [
    "%run \"local/lib/concurrency/io_multiprocessing.py\""
   ]
  },
  {
   "cell_type": "markdown",
   "metadata": {},
   "source": [
    "## CPU Bound Task\n",
    "\n",
    "Podemos pensar como una tarea en la que todos los datos para ejecutarse ya están en la memoria y no tengo que hacer operaciones de lectura o escritura.\n",
    "\n",
    "**Synchronous**"
   ]
  },
  {
   "cell_type": "code",
   "execution_count": null,
   "metadata": {},
   "outputs": [
    {
     "data": {
      "image/png": "[encoded data removed]",
      "text/plain": [
       "<IPython.core.display.Image object>"
      ]
     },
     "execution_count": 13,
     "metadata": {},
     "output_type": "execute_result"
    }
   ],
   "source": [
    "Image(\"local/imgs/CPUBound.png\")"
   ]
  },
  {
   "cell_type": "code",
   "execution_count": null,
   "metadata": {},
   "outputs": [
    {
     "name": "stdout",
     "output_type": "stream",
     "text": [
      "Duration 6.198119878768921 seconds\n"
     ]
    }
   ],
   "source": [
    "%run \"local/lib/concurrency/cpu_synchronous.py\""
   ]
  },
  {
   "cell_type": "markdown",
   "metadata": {},
   "source": [
    "**Threading**"
   ]
  },
  {
   "cell_type": "code",
   "execution_count": null,
   "metadata": {},
   "outputs": [
    {
     "name": "stdout",
     "output_type": "stream",
     "text": [
      "Duration 6.300612449645996 seconds\n"
     ]
    }
   ],
   "source": [
    "%run \"local/lib/concurrency/cpu_threading.py\""
   ]
  },
  {
   "cell_type": "markdown",
   "metadata": {},
   "source": [
    "**Multiprocessing**"
   ]
  },
  {
   "cell_type": "code",
   "execution_count": null,
   "metadata": {},
   "outputs": [
    {
     "data": {
      "image/png": "[encoded data removed]",
      "text/plain": [
       "<IPython.core.display.Image object>"
      ]
     },
     "execution_count": 16,
     "metadata": {},
     "output_type": "execute_result"
    }
   ],
   "source": [
    "Image(\"local/imgs/CPUMP.png\")"
   ]
  },
  {
   "cell_type": "code",
   "execution_count": null,
   "metadata": {},
   "outputs": [
    {
     "name": "stdout",
     "output_type": "stream",
     "text": [
      "Duration 1.7859385013580322 seconds\n"
     ]
    }
   ],
   "source": [
    "%run \"local/lib/concurrency/cpu_multiprocessing.py\""
   ]
  }
 ],
 "metadata": {
  "kernelspec": {
   "display_name": "venvfund",
   "language": "python",
   "name": "python3"
  },
  "language_info": {
   "codemirror_mode": {
    "name": "ipython",
    "version": 3
   },
   "file_extension": ".py",
   "mimetype": "text/x-python",
   "name": "python",
   "nbconvert_exporter": "python",
   "pygments_lexer": "ipython3",
   "version": "3.11.9"
  }
 },
 "nbformat": 4,
 "nbformat_minor": 2
}
