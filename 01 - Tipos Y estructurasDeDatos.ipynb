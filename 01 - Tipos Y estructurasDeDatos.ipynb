{
 "cells": [
  {
   "cell_type": "markdown",
   "id": "686efe7e",
   "metadata": {},
   "source": [
    "# Fundamentos de Analitica de Datos\n",
    "\n",
    "### Agosto 15 - 2025"
   ]
  },
  {
   "cell_type": "markdown",
   "id": "83b6e9c2",
   "metadata": {},
   "source": [
    "Tipos de Datos"
   ]
  },
  {
   "cell_type": "code",
   "execution_count": 8,
   "id": "1b23365d",
   "metadata": {},
   "outputs": [
    {
     "data": {
      "text/plain": [
       "(36, 30)"
      ]
     },
     "execution_count": 8,
     "metadata": {},
     "output_type": "execute_result"
    }
   ],
   "source": [
    "numero_estudiantes = 36\n",
    "numero_estudiantes_aprobaron = 30\n",
    "numero_estudiantes, numero_estudiantes_aprobaron"
   ]
  },
  {
   "cell_type": "code",
   "execution_count": 9,
   "id": "d00f9d1b",
   "metadata": {},
   "outputs": [],
   "source": [
    "temperatura = -4"
   ]
  },
  {
   "cell_type": "code",
   "execution_count": 11,
   "id": "5f16a467",
   "metadata": {},
   "outputs": [
    {
     "name": "stdout",
     "output_type": "stream",
     "text": [
      "6\n"
     ]
    }
   ],
   "source": [
    "estudiantes_segundo_semestre = numero_estudiantes - numero_estudiantes_aprobaron \n",
    "print(estudiantes_segundo_semestre)"
   ]
  },
  {
   "cell_type": "code",
   "execution_count": 13,
   "id": "5b2ca231",
   "metadata": {},
   "outputs": [],
   "source": [
    "estatura_profe = 1.76\n",
    "learning_rate = 0.0001"
   ]
  },
  {
   "cell_type": "code",
   "execution_count": 16,
   "id": "9178ec2c",
   "metadata": {},
   "outputs": [
    {
     "data": {
      "text/plain": [
       "(1, 2)"
      ]
     },
     "execution_count": 16,
     "metadata": {},
     "output_type": "execute_result"
    }
   ],
   "source": [
    "probability_of_passing = 0.5\n",
    "probability_of_passing.as_integer_ratio()"
   ]
  },
  {
   "cell_type": "code",
   "execution_count": 18,
   "id": "5195d30f",
   "metadata": {},
   "outputs": [],
   "source": [
    "hoy_habia_mucho_taco = True\n",
    "eso_es_excusa = False"
   ]
  },
  {
   "cell_type": "code",
   "execution_count": 20,
   "id": "8d462d37",
   "metadata": {},
   "outputs": [
    {
     "data": {
      "text/plain": [
       "'hola'"
      ]
     },
     "execution_count": 20,
     "metadata": {},
     "output_type": "execute_result"
    }
   ],
   "source": [
    "\"hola\""
   ]
  },
  {
   "cell_type": "code",
   "execution_count": 23,
   "id": "892652e6",
   "metadata": {},
   "outputs": [],
   "source": [
    "nombre = \"Daniel\"\n",
    "Apellido = \"Escobar\""
   ]
  },
  {
   "cell_type": "code",
   "execution_count": null,
   "id": "e0adf40d",
   "metadata": {},
   "outputs": [],
   "source": [
    "Upper_name = nombre.upper().lower().capitalize()"
   ]
  },
  {
   "cell_type": "code",
   "execution_count": 29,
   "id": "242d818b",
   "metadata": {},
   "outputs": [],
   "source": [
    "lower = Upper_name.lower()"
   ]
  },
  {
   "cell_type": "code",
   "execution_count": 31,
   "id": "86911cb2",
   "metadata": {},
   "outputs": [
    {
     "data": {
      "text/plain": [
       "'Daniel'"
      ]
     },
     "execution_count": 31,
     "metadata": {},
     "output_type": "execute_result"
    }
   ],
   "source": [
    "lower.capitalize()"
   ]
  },
  {
   "cell_type": "code",
   "execution_count": 38,
   "id": "3220ee0b",
   "metadata": {},
   "outputs": [
    {
     "data": {
      "text/plain": [
       "0"
      ]
     },
     "execution_count": 38,
     "metadata": {},
     "output_type": "execute_result"
    }
   ],
   "source": [
    "\"Son las 7.16PM de la noche y soy de SonSonSonSon\".count(\"Xyr\")"
   ]
  },
  {
   "cell_type": "code",
   "execution_count": 49,
   "id": "baaeda13",
   "metadata": {},
   "outputs": [
    {
     "data": {
      "text/plain": [
       "['Que rico un tinto para mantenernos despiertos',\n",
       " ' pero falta mucho contenido']"
      ]
     },
     "execution_count": 49,
     "metadata": {},
     "output_type": "execute_result"
    }
   ],
   "source": [
    "\"Que rico un tinto para mantenernos despiertos, pero falta mucho contenido\".split(\",\")"
   ]
  },
  {
   "cell_type": "code",
   "execution_count": 51,
   "id": "96fb9720",
   "metadata": {},
   "outputs": [
    {
     "data": {
      "text/plain": [
       "['manzana', 'pera', 'banano', ' manzana']"
      ]
     },
     "execution_count": 51,
     "metadata": {},
     "output_type": "execute_result"
    }
   ],
   "source": [
    "\"manzana,pera,banano, manzana\".split(\",\")"
   ]
  },
  {
   "cell_type": "code",
   "execution_count": 54,
   "id": "c286ac2e",
   "metadata": {},
   "outputs": [
    {
     "data": {
      "text/plain": [
       "'Muchas palabras seguidas'"
      ]
     },
     "execution_count": 54,
     "metadata": {},
     "output_type": "execute_result"
    }
   ],
   "source": [
    "\"Muchas palabras seguidas como parte de esta oracion\"[:24]"
   ]
  },
  {
   "cell_type": "code",
   "execution_count": 55,
   "id": "0f4c01bd",
   "metadata": {},
   "outputs": [
    {
     "data": {
      "text/plain": [
       "' como parte de esta oracion'"
      ]
     },
     "execution_count": 55,
     "metadata": {},
     "output_type": "execute_result"
    }
   ],
   "source": [
    "\"Muchas palabras seguidas como parte de esta oracion\"[24:]"
   ]
  },
  {
   "cell_type": "code",
   "execution_count": 59,
   "id": "74e5359e",
   "metadata": {},
   "outputs": [],
   "source": [
    "valor_contador = \"Contador=8,Estado=OK\"[9:10]"
   ]
  },
  {
   "cell_type": "code",
   "execution_count": 61,
   "id": "e3c06088",
   "metadata": {},
   "outputs": [
    {
     "data": {
      "text/plain": [
       "'alabras seguidas co'"
      ]
     },
     "execution_count": 61,
     "metadata": {},
     "output_type": "execute_result"
    }
   ],
   "source": [
    "\"Muchas palabras seguidas como parte de esta oracion\"[8:-24]"
   ]
  },
  {
   "cell_type": "code",
   "execution_count": 62,
   "id": "dee3b5b3",
   "metadata": {},
   "outputs": [
    {
     "data": {
      "text/plain": [
       "'sarbalaP sahcuM'"
      ]
     },
     "execution_count": 62,
     "metadata": {},
     "output_type": "execute_result"
    }
   ],
   "source": [
    "\"Muchas Palabras\"[::-1]"
   ]
  },
  {
   "cell_type": "code",
   "execution_count": 63,
   "id": "5d2f4ca6",
   "metadata": {},
   "outputs": [],
   "source": [
    "best_grade = None"
   ]
  },
  {
   "cell_type": "code",
   "execution_count": 70,
   "id": "e10a5e64",
   "metadata": {},
   "outputs": [],
   "source": [
    "todayDate = \"2023-10-05\""
   ]
  },
  {
   "cell_type": "code",
   "execution_count": 71,
   "id": "687ce1d3",
   "metadata": {},
   "outputs": [
    {
     "data": {
      "text/plain": [
       "'2023/10/05'"
      ]
     },
     "execution_count": 71,
     "metadata": {},
     "output_type": "execute_result"
    }
   ],
   "source": [
    "todayDate = todayDate.replace(\"-\", \"/\")\n",
    "todayDate"
   ]
  },
  {
   "cell_type": "markdown",
   "id": "3c3aaf70",
   "metadata": {},
   "source": [
    "Buscar espacio en memoria de None"
   ]
  },
  {
   "cell_type": "code",
   "execution_count": 73,
   "id": "b6e55908",
   "metadata": {},
   "outputs": [],
   "source": [
    "mi_primera_variable = \"underscore\""
   ]
  },
  {
   "cell_type": "code",
   "execution_count": null,
   "id": "47c9832e",
   "metadata": {},
   "outputs": [],
   "source": [
    "MiPrimeraVariable = mi_primera_variable"
   ]
  },
  {
   "cell_type": "code",
   "execution_count": 75,
   "id": "82b62b38",
   "metadata": {},
   "outputs": [],
   "source": [
    "miPrimeraVariable = \"cammelback\""
   ]
  },
  {
   "cell_type": "markdown",
   "id": "adf3f8f1",
   "metadata": {},
   "source": [
    "## Operadores "
   ]
  },
  {
   "cell_type": "code",
   "execution_count": 81,
   "id": "02bb64a9",
   "metadata": {},
   "outputs": [],
   "source": [
    "estudiantes_por_grupo = 5"
   ]
  },
  {
   "cell_type": "code",
   "execution_count": 78,
   "id": "9ff259f2",
   "metadata": {},
   "outputs": [
    {
     "data": {
      "text/plain": [
       "39.625"
      ]
     },
     "execution_count": 78,
     "metadata": {},
     "output_type": "execute_result"
    }
   ],
   "source": [
    "3 + 5 / 8 + numero_estudiantes"
   ]
  },
  {
   "cell_type": "code",
   "execution_count": 83,
   "id": "00a6adec",
   "metadata": {},
   "outputs": [
    {
     "data": {
      "text/plain": [
       "7"
      ]
     },
     "execution_count": 83,
     "metadata": {},
     "output_type": "execute_result"
    }
   ],
   "source": [
    "numero_estudiantes // estudiantes_por_grupo"
   ]
  },
  {
   "cell_type": "code",
   "execution_count": 85,
   "id": "ad864687",
   "metadata": {},
   "outputs": [
    {
     "data": {
      "text/plain": [
       "4"
      ]
     },
     "execution_count": 85,
     "metadata": {},
     "output_type": "execute_result"
    }
   ],
   "source": [
    "24 % 5"
   ]
  },
  {
   "cell_type": "code",
   "execution_count": 88,
   "id": "5b10b714",
   "metadata": {},
   "outputs": [],
   "source": [
    "estudiantes_a_la_potencia = estudiantes_por_grupo ** 3"
   ]
  },
  {
   "cell_type": "code",
   "execution_count": 95,
   "id": "28445083",
   "metadata": {},
   "outputs": [
    {
     "data": {
      "text/plain": [
       "1.2599210498948732"
      ]
     },
     "execution_count": 95,
     "metadata": {},
     "output_type": "execute_result"
    }
   ],
   "source": [
    "2 ** (1/3)"
   ]
  },
  {
   "cell_type": "code",
   "execution_count": 96,
   "id": "d2203a66",
   "metadata": {},
   "outputs": [],
   "source": [
    "distancia = 100 # metros"
   ]
  },
  {
   "cell_type": "code",
   "execution_count": 103,
   "id": "377d0745",
   "metadata": {},
   "outputs": [
    {
     "data": {
      "text/plain": [
       "True"
      ]
     },
     "execution_count": 103,
     "metadata": {},
     "output_type": "execute_result"
    }
   ],
   "source": [
    "distancia > 99 and distancia < 101"
   ]
  },
  {
   "cell_type": "code",
   "execution_count": 110,
   "id": "b526723f",
   "metadata": {},
   "outputs": [
    {
     "data": {
      "text/plain": [
       "False"
      ]
     },
     "execution_count": 110,
     "metadata": {},
     "output_type": "execute_result"
    }
   ],
   "source": [
    "not ((True or False) and (True or False))"
   ]
  },
  {
   "cell_type": "code",
   "execution_count": 111,
   "id": "75aa6924",
   "metadata": {},
   "outputs": [
    {
     "data": {
      "text/plain": [
       "'Fundamentos de Ciencias de Datos'"
      ]
     },
     "execution_count": 111,
     "metadata": {},
     "output_type": "execute_result"
    }
   ],
   "source": [
    "\"Fundamentos\" + \" de \" + \"Ciencias\" + \" de \" + \"Datos\"\n"
   ]
  },
  {
   "cell_type": "code",
   "execution_count": 113,
   "id": "24defd9b",
   "metadata": {},
   "outputs": [
    {
     "data": {
      "text/plain": [
       "'--------------------------------------------------'"
      ]
     },
     "execution_count": 113,
     "metadata": {},
     "output_type": "execute_result"
    }
   ],
   "source": [
    "\"-\"*50"
   ]
  },
  {
   "cell_type": "code",
   "execution_count": 115,
   "id": "f66b0ad9",
   "metadata": {},
   "outputs": [
    {
     "data": {
      "text/plain": [
       "'Repito la palabra Repito la palabra Repito la palabra Repito la palabra Repito la palabra '"
      ]
     },
     "execution_count": 115,
     "metadata": {},
     "output_type": "execute_result"
    }
   ],
   "source": [
    "\"Repito la palabra \" * 5"
   ]
  },
  {
   "cell_type": "code",
   "execution_count": 118,
   "id": "418ee916",
   "metadata": {},
   "outputs": [
    {
     "data": {
      "text/plain": [
       "[45, 45, 45, 45, 45, 45, 45]"
      ]
     },
     "execution_count": 118,
     "metadata": {},
     "output_type": "execute_result"
    }
   ],
   "source": [
    "[45] * 7"
   ]
  },
  {
   "cell_type": "code",
   "execution_count": 121,
   "id": "68cb1ade",
   "metadata": {},
   "outputs": [
    {
     "name": "stdout",
     "output_type": "stream",
     "text": [
      "La distancia es 100 metros.\n"
     ]
    }
   ],
   "source": [
    "distancia = 100 # metros\n",
    "print(f\"La distancia es {distancia} metros.\")"
   ]
  },
  {
   "cell_type": "code",
   "execution_count": 123,
   "id": "acb045c2",
   "metadata": {},
   "outputs": [
    {
     "name": "stdout",
     "output_type": "stream",
     "text": [
      "['una', 'lista']\n"
     ]
    }
   ],
   "source": [
    "print([\"una\", \"lista\"])"
   ]
  },
  {
   "cell_type": "markdown",
   "id": "f10df57f",
   "metadata": {},
   "source": [
    "## Estructuras de Datos\n",
    "\n",
    "#### Listas"
   ]
  },
  {
   "cell_type": "code",
   "execution_count": 176,
   "id": "bcca99ad",
   "metadata": {},
   "outputs": [
    {
     "name": "stdout",
     "output_type": "stream",
     "text": [
      "['daniel', 'kimberly', 'josue', 'andrea', 'daniel', 'manuel']\n"
     ]
    }
   ],
   "source": [
    "estudiantes_primera_fila = [\"daniel\",\"kimberly\", \"josue\", \"andrea\", \"daniel\", \"manuel\"]\n",
    "print(estudiantes_primera_fila)"
   ]
  },
  {
   "cell_type": "code",
   "execution_count": 133,
   "id": "19edf446",
   "metadata": {},
   "outputs": [
    {
     "data": {
      "text/plain": [
       "'kimberly'"
      ]
     },
     "execution_count": 133,
     "metadata": {},
     "output_type": "execute_result"
    }
   ],
   "source": [
    "estudiantes_primera_fila[0]"
   ]
  },
  {
   "cell_type": "code",
   "execution_count": 135,
   "id": "4d6e266f",
   "metadata": {},
   "outputs": [],
   "source": [
    "numeros_primos = [2, 3, 5, 7, 11, 13, 17]"
   ]
  },
  {
   "cell_type": "code",
   "execution_count": 136,
   "id": "8c4692be",
   "metadata": {},
   "outputs": [
    {
     "data": {
      "text/plain": [
       "7"
      ]
     },
     "execution_count": 136,
     "metadata": {},
     "output_type": "execute_result"
    }
   ],
   "source": [
    "numeros_primos[3]"
   ]
  },
  {
   "cell_type": "code",
   "execution_count": 137,
   "id": "280264a4",
   "metadata": {},
   "outputs": [],
   "source": [
    "mi_lista_variada = [\"kimberly\", 7, None, True, 3.14]"
   ]
  },
  {
   "cell_type": "code",
   "execution_count": 138,
   "id": "5bd490c1",
   "metadata": {},
   "outputs": [],
   "source": [
    "lista_vacia = []"
   ]
  },
  {
   "cell_type": "code",
   "execution_count": 142,
   "id": "7c98b958",
   "metadata": {},
   "outputs": [
    {
     "data": {
      "text/plain": [
       "2"
      ]
     },
     "execution_count": 142,
     "metadata": {},
     "output_type": "execute_result"
    }
   ],
   "source": [
    "estudiantes_primera_fila.count('daniel')"
   ]
  },
  {
   "cell_type": "code",
   "execution_count": 145,
   "id": "63a024db",
   "metadata": {},
   "outputs": [
    {
     "data": {
      "text/plain": [
       "4"
      ]
     },
     "execution_count": 145,
     "metadata": {},
     "output_type": "execute_result"
    }
   ],
   "source": [
    "estudiantes_primera_fila.index('daniel', 1)"
   ]
  },
  {
   "cell_type": "code",
   "execution_count": 161,
   "id": "199586d2",
   "metadata": {},
   "outputs": [
    {
     "data": {
      "text/plain": [
       "['manuel', 'daniel', 'andrea', 'josue', 'kimberly', 'daniel']"
      ]
     },
     "execution_count": 161,
     "metadata": {},
     "output_type": "execute_result"
    }
   ],
   "source": [
    "estudiantes_primera_fila.reverse()\n",
    "estudiantes_primera_fila"
   ]
  },
  {
   "cell_type": "code",
   "execution_count": null,
   "id": "cb0764d9",
   "metadata": {},
   "outputs": [],
   "source": [
    "estudiantes_primera_fila.append('juan pablo')"
   ]
  },
  {
   "cell_type": "code",
   "execution_count": null,
   "id": "58edc29b",
   "metadata": {},
   "outputs": [
    {
     "data": {
      "text/plain": [
       "['manuel', 'daniel', 'andrea', 'josue', 'kimberly', 'daniel', 'juan pablo']"
      ]
     },
     "execution_count": 164,
     "metadata": {},
     "output_type": "execute_result"
    }
   ],
   "source": [
    "estudiantes_primera_fila"
   ]
  },
  {
   "cell_type": "code",
   "execution_count": 165,
   "id": "7615fa86",
   "metadata": {},
   "outputs": [],
   "source": [
    "estudiantes_primera_fila.sort()"
   ]
  },
  {
   "cell_type": "code",
   "execution_count": 166,
   "id": "90eb24db",
   "metadata": {},
   "outputs": [
    {
     "data": {
      "text/plain": [
       "['andrea', 'daniel', 'daniel', 'josue', 'juan pablo', 'kimberly', 'manuel']"
      ]
     },
     "execution_count": 166,
     "metadata": {},
     "output_type": "execute_result"
    }
   ],
   "source": [
    "estudiantes_primera_fila"
   ]
  },
  {
   "cell_type": "code",
   "execution_count": 178,
   "id": "31f33d8d",
   "metadata": {},
   "outputs": [
    {
     "data": {
      "text/plain": [
       "'daniel'"
      ]
     },
     "execution_count": 178,
     "metadata": {},
     "output_type": "execute_result"
    }
   ],
   "source": [
    "estudiantes_primera_fila.pop()"
   ]
  },
  {
   "cell_type": "code",
   "execution_count": null,
   "id": "c311373c",
   "metadata": {},
   "outputs": [],
   "source": [
    "estudiantes_primera_fila.insert(3, \"amiga de andrea\")\n",
    "estudiantes_primera_fila.append(\"andrea\")"
   ]
  },
  {
   "cell_type": "code",
   "execution_count": 182,
   "id": "11c452d4",
   "metadata": {},
   "outputs": [
    {
     "data": {
      "text/plain": [
       "['daniel', 'kimberly', 'josue', 'amiga de andrea', 'andrea']"
      ]
     },
     "execution_count": 182,
     "metadata": {},
     "output_type": "execute_result"
    }
   ],
   "source": [
    "estudiantes_primera_fila"
   ]
  },
  {
   "cell_type": "code",
   "execution_count": 183,
   "id": "87be3298",
   "metadata": {},
   "outputs": [],
   "source": [
    "estudiantes_segunda_fila = [\"juan\", \"johan\", \"alejandro\", \"daissy\", \"brayan\"]"
   ]
  },
  {
   "cell_type": "code",
   "execution_count": 184,
   "id": "91e7acd3",
   "metadata": {},
   "outputs": [],
   "source": [
    "estudiantes_derecha = [estudiantes_primera_fila, estudiantes_segunda_fila]"
   ]
  },
  {
   "cell_type": "code",
   "execution_count": 190,
   "id": "c0d18a1d",
   "metadata": {},
   "outputs": [
    {
     "name": "stdout",
     "output_type": "stream",
     "text": [
      "alejandro amiga de andrea\n"
     ]
    }
   ],
   "source": [
    "print(estudiantes_derecha[1][2] + \" \" + estudiantes_derecha[0][3])"
   ]
  },
  {
   "cell_type": "markdown",
   "id": "8cdd625f",
   "metadata": {},
   "source": [
    "#### Tuple"
   ]
  },
  {
   "cell_type": "code",
   "execution_count": 197,
   "id": "66592bac",
   "metadata": {},
   "outputs": [],
   "source": [
    "estudiantes_izquierda = (\"juan pablo\", \"valentina\", \"ivan\", \"juan pablo\", \"paulo andres\")"
   ]
  },
  {
   "cell_type": "code",
   "execution_count": 198,
   "id": "cfa06c39",
   "metadata": {},
   "outputs": [
    {
     "data": {
      "text/plain": [
       "('juan pablo', 'valentina', 'ivan', 'juan pablo', 'paulo andres')"
      ]
     },
     "execution_count": 198,
     "metadata": {},
     "output_type": "execute_result"
    }
   ],
   "source": [
    "estudiantes_izquierda"
   ]
  },
  {
   "cell_type": "code",
   "execution_count": 200,
   "id": "137d01d7",
   "metadata": {},
   "outputs": [
    {
     "data": {
      "text/plain": [
       "True"
      ]
     },
     "execution_count": 200,
     "metadata": {},
     "output_type": "execute_result"
    }
   ],
   "source": [
    "'juan pablo' in estudiantes_izquierda"
   ]
  },
  {
   "cell_type": "code",
   "execution_count": 202,
   "id": "e83cb372",
   "metadata": {},
   "outputs": [],
   "source": [
    "estudiantes_izquierda_segunda_fila = {'estefania', 'alfonso', 'juan pablo', 'danilo', 'juan pablo'}"
   ]
  },
  {
   "cell_type": "code",
   "execution_count": 203,
   "id": "3709aac3",
   "metadata": {},
   "outputs": [
    {
     "data": {
      "text/plain": [
       "{'alfonso', 'danilo', 'estefania', 'juan pablo'}"
      ]
     },
     "execution_count": 203,
     "metadata": {},
     "output_type": "execute_result"
    }
   ],
   "source": [
    "estudiantes_izquierda_segunda_fila"
   ]
  },
  {
   "cell_type": "code",
   "execution_count": 207,
   "id": "068888f7",
   "metadata": {},
   "outputs": [
    {
     "data": {
      "text/plain": [
       "{'a', 'g', 'i', 'm'}"
      ]
     },
     "execution_count": 207,
     "metadata": {},
     "output_type": "execute_result"
    }
   ],
   "source": [
    "magia = set('magia')\n",
    "magia"
   ]
  },
  {
   "cell_type": "code",
   "execution_count": 208,
   "id": "77188e2e",
   "metadata": {},
   "outputs": [],
   "source": [
    "estudiantes_izquierda_segunda_fila.add('andres')"
   ]
  },
  {
   "cell_type": "code",
   "execution_count": 209,
   "id": "1d35b177",
   "metadata": {},
   "outputs": [
    {
     "data": {
      "text/plain": [
       "{'alfonso', 'andres', 'danilo', 'estefania', 'juan pablo'}"
      ]
     },
     "execution_count": 209,
     "metadata": {},
     "output_type": "execute_result"
    }
   ],
   "source": [
    "estudiantes_izquierda_segunda_fila"
   ]
  },
  {
   "cell_type": "code",
   "execution_count": 218,
   "id": "602ae69c",
   "metadata": {},
   "outputs": [],
   "source": [
    "frutas = {'manzana', 'pera', 'banano', 'kiwi'}\n",
    "lonchera = {'manzana', 'kiwi'}"
   ]
  },
  {
   "cell_type": "code",
   "execution_count": 213,
   "id": "e1f025e2",
   "metadata": {},
   "outputs": [
    {
     "data": {
      "text/plain": [
       "{'banano', 'manzana', 'naranja', 'pera'}"
      ]
     },
     "execution_count": 213,
     "metadata": {},
     "output_type": "execute_result"
    }
   ],
   "source": [
    "frutas.add('naranja')\n",
    "frutas"
   ]
  },
  {
   "cell_type": "code",
   "execution_count": 216,
   "id": "a2a8043a",
   "metadata": {},
   "outputs": [
    {
     "data": {
      "text/plain": [
       "False"
      ]
     },
     "execution_count": 216,
     "metadata": {},
     "output_type": "execute_result"
    }
   ],
   "source": [
    "frutas.isdisjoint(lonchera)"
   ]
  },
  {
   "cell_type": "code",
   "execution_count": 219,
   "id": "e4daebea",
   "metadata": {},
   "outputs": [
    {
     "data": {
      "text/plain": [
       "True"
      ]
     },
     "execution_count": 219,
     "metadata": {},
     "output_type": "execute_result"
    }
   ],
   "source": [
    "lonchera.issubset(frutas)"
   ]
  },
  {
   "cell_type": "code",
   "execution_count": 221,
   "id": "c6369074",
   "metadata": {},
   "outputs": [],
   "source": [
    "a = set('daniel')\n",
    "b = set('juan pablo')"
   ]
  },
  {
   "cell_type": "code",
   "execution_count": 222,
   "id": "decb8341",
   "metadata": {},
   "outputs": [
    {
     "data": {
      "text/plain": [
       "{' ', 'a', 'b', 'd', 'e', 'i', 'j', 'l', 'n', 'o', 'p', 'u'}"
      ]
     },
     "execution_count": 222,
     "metadata": {},
     "output_type": "execute_result"
    }
   ],
   "source": [
    "a.union(b)  "
   ]
  },
  {
   "cell_type": "code",
   "execution_count": 223,
   "id": "19bf8d7c",
   "metadata": {},
   "outputs": [
    {
     "data": {
      "text/plain": [
       "{'a', 'l', 'n'}"
      ]
     },
     "execution_count": 223,
     "metadata": {},
     "output_type": "execute_result"
    }
   ],
   "source": [
    "a.intersection(b)"
   ]
  },
  {
   "cell_type": "code",
   "execution_count": 224,
   "id": "38959f02",
   "metadata": {},
   "outputs": [
    {
     "data": {
      "text/plain": [
       "{'d', 'e', 'i'}"
      ]
     },
     "execution_count": 224,
     "metadata": {},
     "output_type": "execute_result"
    }
   ],
   "source": [
    "a.difference(b)"
   ]
  },
  {
   "cell_type": "code",
   "execution_count": 225,
   "id": "f29e37af",
   "metadata": {},
   "outputs": [],
   "source": [
    "bonos = {'kimberly': 50, 'alejandro': 75, 'estefania': 100}"
   ]
  },
  {
   "cell_type": "code",
   "execution_count": 231,
   "id": "876f721d",
   "metadata": {},
   "outputs": [],
   "source": [
    "del bonos['alejandro']"
   ]
  },
  {
   "cell_type": "code",
   "execution_count": 232,
   "id": "f7e47057",
   "metadata": {},
   "outputs": [
    {
     "ename": "KeyError",
     "evalue": "'alejandro'",
     "output_type": "error",
     "traceback": [
      "\u001b[1;31m---------------------------------------------------------------------------\u001b[0m",
      "\u001b[1;31mKeyError\u001b[0m                                  Traceback (most recent call last)",
      "Cell \u001b[1;32mIn[232], line 1\u001b[0m\n\u001b[1;32m----> 1\u001b[0m \u001b[43mbonos\u001b[49m\u001b[43m[\u001b[49m\u001b[38;5;124;43m'\u001b[39;49m\u001b[38;5;124;43malejandro\u001b[39;49m\u001b[38;5;124;43m'\u001b[39;49m\u001b[43m]\u001b[49m\n",
      "\u001b[1;31mKeyError\u001b[0m: 'alejandro'"
     ]
    }
   ],
   "source": [
    "bonos['alejandro']"
   ]
  },
  {
   "cell_type": "code",
   "execution_count": 234,
   "id": "52cdd19e",
   "metadata": {},
   "outputs": [
    {
     "data": {
      "text/plain": [
       "False"
      ]
     },
     "execution_count": 234,
     "metadata": {},
     "output_type": "execute_result"
    }
   ],
   "source": [
    "'alejandro' in bonos"
   ]
  }
 ],
 "metadata": {
  "kernelspec": {
   "display_name": "Python 3",
   "language": "python",
   "name": "python3"
  },
  "language_info": {
   "codemirror_mode": {
    "name": "ipython",
    "version": 3
   },
   "file_extension": ".py",
   "mimetype": "text/x-python",
   "name": "python",
   "nbconvert_exporter": "python",
   "pygments_lexer": "ipython3",
   "version": "3.11.9"
  }
 },
 "nbformat": 4,
 "nbformat_minor": 5
}
