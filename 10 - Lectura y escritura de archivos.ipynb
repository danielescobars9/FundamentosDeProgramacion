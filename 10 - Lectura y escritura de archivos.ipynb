{
 "cells": [
  {
   "cell_type": "code",
   "execution_count": 1,
   "metadata": {},
   "outputs": [
    {
     "name": "stderr",
     "output_type": "stream",
     "text": [
      "'wget' is not recognized as an internal or external command,\n",
      "operable program or batch file.\n"
     ]
    }
   ],
   "source": [
    "!wget --no-cache -O init.py -q https://raw.githubusercontent.com/UDEA-Esp-Analitica-y-Ciencia-de-Datos/EACD-01-FUNDAMENTOS/master/init.py\n",
    "import init; init.init(force_download=False);"
   ]
  },
  {
   "cell_type": "markdown",
   "metadata": {},
   "source": [
    "# Lectura y escritura de archivos\n",
    "\n",
    "Una de las tareas más comunes cuando se trabaja en ciencia de datos o Machine Learning es procesar archivos de datos o metadatos, los últimos se refieren a datos acerca de los datos.\n",
    "\n",
    "Debemos estar en la capacidad de procesar muchos tipos de archivos, archivos de texto, csv, json, xml, yaml, imágenes y videos son los tipos más comunes. Eventualmente necesitaremos escribir archivos también, como parte de un largo proceso de tratamiento de datos o para exportar alguna configuración de nuestros modelos para luego ser leídos por otros componentes de un sistema más grande."
   ]
  },
  {
   "cell_type": "markdown",
   "metadata": {},
   "source": [
    "## Texto sin formato\n",
    "\n",
    "Realmente estos archivos pueden venir con algun formato, simplemente que no encaja dentro de algún estándar. Empecemos considerando el archivo `files/abstract.txt`, el cual contiene el abstract de un famoso artículo."
   ]
  },
  {
   "cell_type": "code",
   "execution_count": 2,
   "metadata": {},
   "outputs": [
    {
     "data": {
      "text/plain": [
       "['Deeper neural networks are more difficult to train. We present a residual learning framework to ease the training of networks that are substantially deeper than those used previously. We explicitly reformulate the layers as learning residual functions with reference to the layer inputs, instead of learning unreferenced functions. We provide comprehensive empirical evidence showing that these residual networks are easier to optimize, and can gain accuracy from considerably increased depth. On the ImageNet dataset we evaluate residual nets with a depth of up to 152 layers---8x deeper than VGG nets but still having lower complexity. An ensemble of these residual nets achieves 3.57% error on the ImageNet test set. This result won the 1st place on the ILSVRC 2015 classification task. We also present analysis on CIFAR-10 with 100 and 1000 layers.\\n',\n",
       " 'The depth of representations is of central importance for many visual recognition tasks. Solely due to our extremely deep representations, we obtain a 28% relative improvement on the COCO object detection dataset. Deep residual nets are foundations of our submissions to ILSVRC & COCO 2015 competitions, where we also won the 1st places on the tasks of ImageNet detection, ImageNet localization, COCO detection, and COCO segmentation.']"
      ]
     },
     "execution_count": 2,
     "metadata": {},
     "output_type": "execute_result"
    }
   ],
   "source": [
    "f = open(\"local/files/abstract.txt\", \"r\")\n",
    "content = f.readlines()\n",
    "f.close()\n",
    "content"
   ]
  },
  {
   "cell_type": "markdown",
   "metadata": {},
   "source": [
    "**¿Qué pasó?** \n",
    "\n",
    "1. Usamos la función `open` para abrir un archivo (`\"local/files/abstract.txt\"`) en modo lectura (`\"r\"`).\n",
    "2. Leimos todas las líneas del archivo.\n",
    "3. Cerramos el archivo.\n",
    "\n",
    "Observa que el archivo se lee línea a línea, y por eso el resultado en `content` es una lista de strings. Básicamente lo pudimos haber leido de la siguiente manera"
   ]
  },
  {
   "cell_type": "code",
   "execution_count": 3,
   "metadata": {},
   "outputs": [
    {
     "data": {
      "text/plain": [
       "['Deeper neural networks are more difficult to train. We present a residual learning framework to ease the training of networks that are substantially deeper than those used previously. We explicitly reformulate the layers as learning residual functions with reference to the layer inputs, instead of learning unreferenced functions. We provide comprehensive empirical evidence showing that these residual networks are easier to optimize, and can gain accuracy from considerably increased depth. On the ImageNet dataset we evaluate residual nets with a depth of up to 152 layers---8x deeper than VGG nets but still having lower complexity. An ensemble of these residual nets achieves 3.57% error on the ImageNet test set. This result won the 1st place on the ILSVRC 2015 classification task. We also present analysis on CIFAR-10 with 100 and 1000 layers.\\n',\n",
       " 'The depth of representations is of central importance for many visual recognition tasks. Solely due to our extremely deep representations, we obtain a 28% relative improvement on the COCO object detection dataset. Deep residual nets are foundations of our submissions to ILSVRC & COCO 2015 competitions, where we also won the 1st places on the tasks of ImageNet detection, ImageNet localization, COCO detection, and COCO segmentation.']"
      ]
     },
     "execution_count": 3,
     "metadata": {},
     "output_type": "execute_result"
    }
   ],
   "source": [
    "f = open(\"local/files/abstract.txt\", \"r\")\n",
    "content = []\n",
    "line = \"some arbitrary string to enter the loop\"\n",
    "while line != \"\":\n",
    "    line = f.readline()\n",
    "    if line != \"\":\n",
    "        content.append(line)\n",
    "f.close()\n",
    "content"
   ]
  },
  {
   "cell_type": "markdown",
   "metadata": {},
   "source": [
    "Leerlo línea a línea nos permite cargar en memoria solo una línea a la vez, lo cual es bastante importante si el contenido de nuestro archivo no cabe en la memoria del computador. También es posible leerlo completo como un string, sin separarlo línea por línea,"
   ]
  },
  {
   "cell_type": "code",
   "execution_count": 4,
   "metadata": {},
   "outputs": [
    {
     "data": {
      "text/plain": [
       "'Deeper neural networks are more difficult to train. We present a residual learning framework to ease the training of networks that are substantially deeper than those used previously. We explicitly reformulate the layers as learning residual functions with reference to the layer inputs, instead of learning unreferenced functions. We provide comprehensive empirical evidence showing that these residual networks are easier to optimize, and can gain accuracy from considerably increased depth. On the ImageNet dataset we evaluate residual nets with a depth of up to 152 layers---8x deeper than VGG nets but still having lower complexity. An ensemble of these residual nets achieves 3.57% error on the ImageNet test set. This result won the 1st place on the ILSVRC 2015 classification task. We also present analysis on CIFAR-10 with 100 and 1000 layers.\\nThe depth of representations is of central importance for many visual recognition tasks. Solely due to our extremely deep representations, we obtain a 28% relative improvement on the COCO object detection dataset. Deep residual nets are foundations of our submissions to ILSVRC & COCO 2015 competitions, where we also won the 1st places on the tasks of ImageNet detection, ImageNet localization, COCO detection, and COCO segmentation.'"
      ]
     },
     "execution_count": 4,
     "metadata": {},
     "output_type": "execute_result"
    }
   ],
   "source": [
    "f = open(\"local/files/abstract.txt\", \"r\")\n",
    "content = f.read()\n",
    "f.close()\n",
    "content"
   ]
  },
  {
   "cell_type": "markdown",
   "metadata": {},
   "source": [
    "Observa que para convertir esto en una lista de líneas, solo debemos partir la lista cada vez que se encuentre un caracter que significa final de línea (`\"\\n\"`)"
   ]
  },
  {
   "cell_type": "code",
   "execution_count": 5,
   "metadata": {},
   "outputs": [
    {
     "data": {
      "text/plain": [
       "['Deeper neural networks are more difficult to train. We present a residual learning framework to ease the training of networks that are substantially deeper than those used previously. We explicitly reformulate the layers as learning residual functions with reference to the layer inputs, instead of learning unreferenced functions. We provide comprehensive empirical evidence showing that these residual networks are easier to optimize, and can gain accuracy from considerably increased depth. On the ImageNet dataset we evaluate residual nets with a depth of up to 152 layers---8x deeper than VGG nets but still having lower complexity. An ensemble of these residual nets achieves 3.57% error on the ImageNet test set. This result won the 1st place on the ILSVRC 2015 classification task. We also present analysis on CIFAR-10 with 100 and 1000 layers.',\n",
       " 'The depth of representations is of central importance for many visual recognition tasks. Solely due to our extremely deep representations, we obtain a 28% relative improvement on the COCO object detection dataset. Deep residual nets are foundations of our submissions to ILSVRC & COCO 2015 competitions, where we also won the 1st places on the tasks of ImageNet detection, ImageNet localization, COCO detection, and COCO segmentation.']"
      ]
     },
     "execution_count": 5,
     "metadata": {},
     "output_type": "execute_result"
    }
   ],
   "source": [
    "content.split(\"\\n\")"
   ]
  },
  {
   "cell_type": "markdown",
   "metadata": {},
   "source": [
    "Otra forma de leer los archivos es utilizando algo llamado [context manager](https://www.geeksforgeeks.org/context-manager-in-python/):"
   ]
  },
  {
   "cell_type": "code",
   "execution_count": 57,
   "metadata": {},
   "outputs": [
    {
     "data": {
      "text/plain": [
       "['Deeper neural networks are more difficult to train. We present a residual learning framework to ease the training of networks that are substantially deeper than those used previously. We explicitly reformulate the layers as learning residual functions with reference to the layer inputs, instead of learning unreferenced functions. We provide comprehensive empirical evidence showing that these residual networks are easier to optimize, and can gain accuracy from considerably increased depth. On the ImageNet dataset we evaluate residual nets with a depth of up to 152 layers---8x deeper than VGG nets but still having lower complexity. An ensemble of these residual nets achieves 3.57% error on the ImageNet test set. This result won the 1st place on the ILSVRC 2015 classification task. We also present analysis on CIFAR-10 with 100 and 1000 layers.\\n',\n",
       " 'The depth of representations is of central importance for many visual recognition tasks. Solely due to our extremely deep representations, we obtain a 28% relative improvement on the COCO object detection dataset. Deep residual nets are foundations of our submissions to ILSVRC & COCO 2015 competitions, where we also won the 1st places on the tasks of ImageNet detection, ImageNet localization, COCO detection, and COCO segmentation.']"
      ]
     },
     "execution_count": 57,
     "metadata": {},
     "output_type": "execute_result"
    }
   ],
   "source": [
    "with open(\"local/files/abstract.txt\", \"r\") as f:\n",
    "    content = f.readlines()\n",
    "content"
   ]
  },
  {
   "cell_type": "markdown",
   "metadata": {},
   "source": [
    "Lo anterior no es simplemente una forma más bonita de hacer lo mismo, nos proporciona la seguridad de que siempre nos estamos refiriendo al mismo archivo y lo cierra para que otros procesos lo utilicen de ser necesario.\n",
    "\n",
    "La función `open` admite más parámetros, que puedes leer en la [documentación oficial](https://docs.python.org/3/library/functions.html#open). Sin embargo, si mostraremos un par de formas más de abrir archivos.\n",
    "\n",
    "**Modo escritura**"
   ]
  },
  {
   "cell_type": "code",
   "execution_count": 6,
   "metadata": {},
   "outputs": [],
   "source": [
    "with open(\"temp_file_8-23\", \"w\") as f:\n",
    "    for i in range(10):\n",
    "        f.write(f\"writing line with number {i}\\n\")"
   ]
  },
  {
   "cell_type": "markdown",
   "metadata": {},
   "source": [
    "**Modo lectura y esritura de archivos binarios**\n",
    "\n",
    "Este último es especialmente importante, porque ciertos formatos solo permiten leer y escribir en formato binario."
   ]
  },
  {
   "cell_type": "code",
   "execution_count": 11,
   "metadata": {},
   "outputs": [
    {
     "data": {
      "text/plain": [
       "'{\\n \"cells\": [\\n  {\\n   \"cell_type\": \"code\",\\n   \"execution_count\": 1,\\n   \"metadata\": {},\\n   \"outputs\": [\\n    {\\n     \"name\": \"stderr\",\\n     \"output_type\": \"stream\",\\n     \"text\": [\\n      \"\\'wget\\' is not recognized as an internal or external command,\\\\n\",\\n      \"operable program or batch file.\\\\n\"\\n     ]\\n    }\\n   ],\\n   \"source\": [\\n    \"!wget --no-cache -O init.py -q https://raw.githubusercontent.com/UDEA-Esp-Analitica-y-Ciencia-de-Datos/EACD-01-FUNDAMENTOS/master/init.py\\\\n\",\\n    \"import init; init.init(force_download=False); \\\\n\",\\n    \"from IPython.display import Image\"\\n   ]\\n  },\\n  {\\n   \"cell_type\": \"markdown\",\\n   \"metadata\": {},\\n   \"source\": [\\n    \"# Concurrencia\\\\n\",\\n    \"\\\\n\",\\n    \"**Advertencia**: este notebook es prÃ¡cticamente un resumen de [Speed Up Your Python Program With Concurrency](https://realpython.com/python-concurrency/). Se recomienda bastante leer la fuente original.\\\\n\",\\n    \"\\\\n\",\\n    \"\\\\n\",\\n    \"**Â¿QuÃ© es concurrencia?**\\\\n\",\\n    \"\\\\n\",\\n    \"Tomado de [una respuesta en Quora](https://www.quora.com/What-is-concurrency-in-programming)\\\\n\",\\n    \"\\\\n\",\\n    \"> Concurrency is when two tasks overlap in execution.\\\\n\",\\n    \"\\\\n\",\\n    \">In programming, these situations are encountered:\\\\n\",\\n    \"\\\\n\",\\n    \"> - When two processes are assigned to different cores on a machine by the kernel, and both cores execute the process instructions at the same time.\\\\n\",\\n    \"- When more connections arrive before earlier connections are finished, and need to be handled immediately.\\\\n\",\\n    \"More generally, itâ€™s when we need to handle multiple tasks at about the same time.\\\\n\",\\n    \"\\\\n\",\\n    \">Thatâ€™s it. Thatâ€™s all concurrency is. Parallel execution is when two tasks start at the same time, making it a special case of concurrent execution.\\\\n\",\\n    \"\\\\n\",\\n    \"En resumen, es cuando tareas se sobrelapan. Una tarea puede ser cualquier serie de instrucciones de cÃ³digo. Es importante resaltar que el concepto de paralelismo es un subconjunto de concurrencia. \\\\n\",\\n    \"\\\\n\",\\n    \"Python ofrece 3 maneras diferentes de realizar esa concurrencia:\\\\n\",\\n    \"\\\\n\",\\n    \"| Concurrency Type                     | Switching Decision                                                    | Number of Processors |\\\\n\",\\n    \"|--------------------------------------|-----------------------------------------------------------------------|----------------------|\\\\n\",\\n    \"| Pre-emptive multitasking (threading) | The operating system decides when to switch tasks external to Python. | 1                    |\\\\n\",\\n    \"| Cooperative multitasking (asyncio)   | The tasks decide when to give up control.                             | 1                    |\\\\n\",\\n    \"| Multiprocessing (multiprocessing)    | The processes all run at the same time on different processors.       | Many                 |\\\\n\",\\n    \"\\\\n\",\\n    \"Ejecutaremos algunas tareas utilizando las distintas formas de concurrencia para entender su aplicabilidad en alguna situaciÃ³n, asÃ\\xad como para observar sus ventajas y desventajas.\"\\n   ]\\n  },\\n  {\\n   \"cell_type\": \"markdown\",\\n   \"metadata\": {},\\n   \"source\": [\\n    \"## IO Bound tasks\\\\n\",\\n    \"\\\\n\",\\n    \"Son tareas que retrasan la velocidad a la que nuestros cÃ³digo ejecuta porque frecuentemente estÃ¡n esperando respuesta de un recurso externo, como un archivo local, una conexiÃ³n a base de datos o una peticiÃ³n http.\"\\n   ]\\n  },\\n  {\\n   \"cell_type\": \"markdown\",\\n   \"metadata\": {},\\n   \"source\": [\\n    \"**Synchronously**\"\\n   ]\\n  },\\n  {\\n   \"cell_type\": \"code\",\\n   \"execution_count\": 2,\\n   \"metadata\": {},\\n   \"outputs\": [\\n    {\\n     \"data\": {\\n      \"image/png\": \"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\",\\n      \"text/plain\": [\\n       \"<IPython.core.display.Image object>\"\\n      ]\\n     },\\n     \"execution_count\": 2,\\n     \"metadata\": {},\\n     \"output_type\": \"execute_result\"\\n    }\\n   ],\\n   \"source\": [\\n    \"Image(\\\\\"local/imgs/IOBound.png\\\\\")\"\\n   ]\\n  },\\n  {\\n   \"cell_type\": \"code\",\\n   \"execution_count\": 3,\\n   \"metadata\": {},\\n   \"outputs\": [\\n    {\\n     \"name\": \"stdout\",\\n     \"output_type\": \"stream\",\\n     \"text\": [\\n      \"Read 10966 from https://www.jython.org\\\\n\",\\n      \"Read 275 from http://olympus.realpython.org/dice\\\\n\",\\n      \"Read 10966 from https://www.jython.org\\\\n\",\\n      \"Read 275 from http://olympus.realpython.org/dice\\\\n\",\\n      \"Read 10966 from https://www.jython.org\\\\n\",\\n      \"Read 275 from http://olympus.realpython.org/dice\\\\n\",\\n      \"Read 10966 from https://www.jython.org\\\\n\",\\n      \"Read 275 from http://olympus.realpython.org/dice\\\\n\",\\n      \"Read 10966 from https://www.jython.org\\\\n\",\\n      \"Read 275 from http://olympus.realpython.org/dice\\\\n\",\\n      \"Read 10966 from https://www.jython.org\\\\n\",\\n      \"Read 275 from http://olympus.realpython.org/dice\\\\n\",\\n      \"Read 10966 from https://www.jython.org\\\\n\",\\n      \"Read 275 from http://olympus.realpython.org/dice\\\\n\",\\n      \"Read 10966 from https://www.jython.org\\\\n\",\\n      \"Read 275 from http://olympus.realpython.org/dice\\\\n\",\\n      \"Read 10966 from https://www.jython.org\\\\n\",\\n      \"Read 275 from http://olympus.realpython.org/dice\\\\n\",\\n      \"Read 10966 from https://www.jython.org\\\\n\",\\n      \"Read 275 from http://olympus.realpython.org/dice\\\\n\",\\n      \"Read 10966 from https://www.jython.org\\\\n\",\\n      \"Read 275 from http://olympus.realpython.org/dice\\\\n\",\\n      \"Read 10966 from https://www.jython.org\\\\n\",\\n      \"Read 275 from http://olympus.realpython.org/dice\\\\n\",\\n      \"Read 10966 from https://www.jython.org\\\\n\",\\n      \"Read 275 from http://olympus.realpython.org/dice\\\\n\",\\n      \"Read 10966 from https://www.jython.org\\\\n\",\\n      \"Read 275 from http://olympus.realpython.org/dice\\\\n\",\\n      \"Read 10966 from https://www.jython.org\\\\n\",\\n      \"Read 275 from http://olympus.realpython.org/dice\\\\n\",\\n      \"Read 10966 from https://www.jython.org\\\\n\",\\n      \"Read 275 from http://olympus.realpython.org/dice\\\\n\",\\n      \"Read 10966 from https://www.jython.org\\\\n\",\\n      \"Read 275 from http://olympus.realpython.org/dice\\\\n\",\\n      \"Read 10966 from https://www.jython.org\\\\n\",\\n      \"Read 275 from http://olympus.realpython.org/dice\\\\n\",\\n      \"Read 10966 from https://www.jython.org\\\\n\",\\n      \"Read 275 from http://olympus.realpython.org/dice\\\\n\",\\n      \"Read 10966 from https://www.jython.org\\\\n\",\\n      \"Read 275 from http://olympus.realpython.org/dice\\\\n\",\\n      \"Read 10966 from https://www.jython.org\\\\n\",\\n      \"Read 275 from http://olympus.realpython.org/dice\\\\n\",\\n      \"Read 10966 from https://www.jython.org\\\\n\",\\n      \"Read 275 from http://olympus.realpython.org/dice\\\\n\",\\n      \"Read 10966 from https://www.jython.org\\\\n\",\\n      \"Read 275 from http://olympus.realpython.org/dice\\\\n\",\\n      \"Read 10966 from https://www.jython.org\\\\n\",\\n      \"Read 275 from http://olympus.realpython.org/dice\\\\n\",\\n      \"Read 10966 from https://www.jython.org\\\\n\",\\n      \"Read 275 from http://olympus.realpython.org/dice\\\\n\",\\n      \"Read 10966 from https://www.jython.org\\\\n\",\\n      \"Read 275 from http://olympus.realpython.org/dice\\\\n\",\\n      \"Read 10966 from https://www.jython.org\\\\n\",\\n      \"Read 275 from http://olympus.realpython.org/dice\\\\n\",\\n      \"Read 10966 from https://www.jython.org\\\\n\",\\n      \"Read 275 from http://olympus.realpython.org/dice\\\\n\",\\n      \"Read 10966 from https://www.jython.org\\\\n\",\\n      \"Read 275 from http://olympus.realpython.org/dice\\\\n\",\\n      \"Read 10966 from https://www.jython.org\\\\n\",\\n      \"Read 275 from http://olympus.realpython.org/dice\\\\n\",\\n      \"Read 10966 from https://www.jython.org\\\\n\",\\n      \"Read 275 from http://olympus.realpython.org/dice\\\\n\",\\n      \"Read 10966 from https://www.jython.org\\\\n\",\\n      \"Read 275 from http://olympus.realpython.org/dice\\\\n\",\\n      \"Read 10966 from https://www.jython.org\\\\n\",\\n      \"Read 275 from http://olympus.realpython.org/dice\\\\n\",\\n      \"Read 10966 from https://www.jython.org\\\\n\",\\n      \"Read 275 from http://olympus.realpython.org/dice\\\\n\",\\n      \"Read 10966 from https://www.jython.org\\\\n\",\\n      \"Read 275 from http://olympus.realpython.org/dice\\\\n\",\\n      \"Read 10966 from https://www.jython.org\\\\n\",\\n      \"Read 275 from http://olympus.realpython.org/dice\\\\n\",\\n      \"Read 10966 from https://www.jython.org\\\\n\",\\n      \"Read 275 from http://olympus.realpython.org/dice\\\\n\",\\n      \"Read 10966 from https://www.jython.org\\\\n\",\\n      \"Read 275 from http://olympus.realpython.org/dice\\\\n\",\\n      \"Read 10966 from https://www.jython.org\\\\n\",\\n      \"Read 275 from http://olympus.realpython.org/dice\\\\n\",\\n      \"Read 10966 from https://www.jython.org\\\\n\",\\n      \"Read 275 from http://olympus.realpython.org/dice\\\\n\",\\n      \"Read 10966 from https://www.jython.org\\\\n\",\\n      \"Read 275 from http://olympus.realpython.org/dice\\\\n\",\\n      \"Read 10966 from https://www.jython.org\\\\n\",\\n      \"Read 275 from http://olympus.realpython.org/dice\\\\n\",\\n      \"Read 10966 from https://www.jython.org\\\\n\",\\n      \"Read 275 from http://olympus.realpython.org/dice\\\\n\",\\n      \"Read 10966 from https://www.jython.org\\\\n\",\\n      \"Read 275 from http://olympus.realpython.org/dice\\\\n\",\\n      \"Read 10966 from https://www.jython.org\\\\n\",\\n      \"Read 275 from http://olympus.realpython.org/dice\\\\n\",\\n      \"Read 10966 from https://www.jython.org\\\\n\",\\n      \"Read 275 from http://olympus.realpython.org/dice\\\\n\",\\n      \"Read 10966 from https://www.jython.org\\\\n\",\\n      \"Read 275 from http://olympus.realpython.org/dice\\\\n\",\\n      \"Read 10966 from https://www.jython.org\\\\n\",\\n      \"Read 275 from http://olympus.realpython.org/dice\\\\n\",\\n      \"Read 10966 from https://www.jython.org\\\\n\",\\n      \"Read 275 from http://olympus.realpython.org/dice\\\\n\",\\n      \"Read 10966 from https://www.jython.org\\\\n\",\\n      \"Read 275 from http://olympus.realpython.org/dice\\\\n\",\\n      \"Read 10966 from https://www.jython.org\\\\n\",\\n      \"Read 275 from http://olympus.realpython.org/dice\\\\n\",\\n      \"Read 10966 from https://www.jython.org\\\\n\",\\n      \"Read 275 from http://olympus.realpython.org/dice\\\\n\",\\n      \"Read 10966 from https://www.jython.org\\\\n\",\\n      \"Read 275 from http://olympus.realpython.org/dice\\\\n\",\\n      \"Read 10966 from https://www.jython.org\\\\n\",\\n      \"Read 275 from http://olympus.realpython.org/dice\\\\n\",\\n      \"Read 10966 from https://www.jython.org\\\\n\",\\n      \"Read 275 from http://olympus.realpython.org/dice\\\\n\",\\n      \"Read 10966 from https://www.jython.org\\\\n\",\\n      \"Read 275 from http://olympus.realpython.org/dice\\\\n\",\\n      \"Read 10966 from https://www.jython.org\\\\n\",\\n      \"Read 275 from http://olympus.realpython.org/dice\\\\n\",\\n      \"Read 10966 from https://www.jython.org\\\\n\",\\n      \"Read 275 from http://olympus.realpython.org/dice\\\\n\",\\n      \"Read 10966 from https://www.jython.org\\\\n\",\\n      \"Read 275 from http://olympus.realpython.org/dice\\\\n\",\\n      \"Read 10966 from https://www.jython.org\\\\n\",\\n      \"Read 275 from http://olympus.realpython.org/dice\\\\n\",\\n      \"Read 10966 from https://www.jython.org\\\\n\",\\n      \"Read 275 from http://olympus.realpython.org/dice\\\\n\",\\n      \"Read 10966 from https://www.jython.org\\\\n\",\\n      \"Read 275 from http://olympus.realpython.org/dice\\\\n\",\\n      \"Read 10966 from https://www.jython.org\\\\n\",\\n      \"Read 275 from http://olympus.realpython.org/dice\\\\n\",\\n      \"Read 10966 from https://www.jython.org\\\\n\",\\n      \"Read 275 from http://olympus.realpython.org/dice\\\\n\",\\n      \"Read 10966 from https://www.jython.org\\\\n\",\\n      \"Read 275 from http://olympus.realpython.org/dice\\\\n\",\\n      \"Read 10966 from https://www.jython.org\\\\n\",\\n      \"Read 275 from http://olympus.realpython.org/dice\\\\n\",\\n      \"Read 10966 from https://www.jython.org\\\\n\",\\n      \"Read 275 from http://olympus.realpython.org/dice\\\\n\",\\n      \"Read 10966 from https://www.jython.org\\\\n\",\\n      \"Read 275 from http://olympus.realpython.org/dice\\\\n\",\\n      \"Read 10966 from https://www.jython.org\\\\n\",\\n      \"Read 275 from http://olympus.realpython.org/dice\\\\n\",\\n      \"Read 10966 from https://www.jython.org\\\\n\",\\n      \"Read 275 from http://olympus.realpython.org/dice\\\\n\",\\n      \"Read 10966 from https://www.jython.org\\\\n\",\\n      \"Read 275 from http://olympus.realpython.org/dice\\\\n\",\\n      \"Read 10966 from https://www.jython.org\\\\n\",\\n      \"Read 275 from http://olympus.realpython.org/dice\\\\n\",\\n      \"Read 10966 from https://www.jython.org\\\\n\",\\n      \"Read 275 from http://olympus.realpython.org/dice\\\\n\",\\n      \"Read 10966 from https://www.jython.org\\\\n\",\\n      \"Read 275 from http://olympus.realpython.org/dice\\\\n\",\\n      \"Read 10966 from https://www.jython.org\\\\n\",\\n      \"Read 275 from http://olympus.realpython.org/dice\\\\n\",\\n      \"Read 10966 from https://www.jython.org\\\\n\",\\n      \"Read 275 from http://olympus.realpython.org/dice\\\\n\",\\n      \"Read 10966 from https://www.jython.org\\\\n\",\\n      \"Read 275 from http://olympus.realpython.org/dice\\\\n\",\\n      \"Read 10966 from https://www.jython.org\\\\n\",\\n      \"Read 275 from http://olympus.realpython.org/dice\\\\n\",\\n      \"Read 10966 from https://www.jython.org\\\\n\",\\n      \"Read 275 from http://olympus.realpython.org/dice\\\\n\",\\n      \"Read 10966 from https://www.jython.org\\\\n\",\\n      \"Read 275 from http://olympus.realpython.org/dice\\\\n\",\\n      \"Downloaded 160 in 9.91091251373291 seconds\\\\n\"\\n     ]\\n    }\\n   ],\\n   \"source\": [\\n    \"%run \\\\\"local/lib/concurrency/io_synchronous.py\\\\\"\"\\n   ]\\n  },\\n  {\\n   \"cell_type\": \"markdown\",\\n   \"metadata\": {},\\n   \"source\": [\\n    \"**Threading**\"\\n   ]\\n  },\\n  {\\n   \"cell_type\": \"code\",\\n   \"execution_count\": 4,\\n   \"metadata\": {},\\n   \"outputs\": [\\n    {\\n     \"data\": {\\n      \"image/png\": \"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\",\\n      \"text/plain\": [\\n       \"<IPython.core.display.Image object>\"\\n      ]\\n     },\\n     \"execution_count\": 4,\\n     \"metadata\": {},\\n     \"output_type\": \"execute_result\"\\n    }\\n   ],\\n   \"source\": [\\n    \"Image(\\\\\"local/imgs/Threading.png\\\\\")\"\\n   ]\\n  },\\n  {\\n   \"cell_type\": \"code\",\\n   \"execution_count\": 5,\\n   \"metadata\": {},\\n   \"outputs\": [\\n    {\\n     \"name\": \"stdout\",\\n     \"output_type\": \"stream\",\\n     \"text\": [\\n      \"Read 275 from http://olympus.realpython.org/dice\\\\n\",\\n      \"Read 275 from http://olympus.realpython.org/dice\\\\n\",\\n      \"Read 10966 from https://www.jython.org\\\\n\",\\n      \"Read 10966 from https://www.jython.org\\\\n\",\\n      \"Read 10966 from https://www.jython.org\\\\n\",\\n      \"Read 275 from http://olympus.realpython.org/dice\\\\n\",\\n      \"Read 10966 from https://www.jython.org\\\\n\",\\n      \"Read 275 from http://olympus.realpython.org/dice\\\\n\",\\n      \"Read 275 from http://olympus.realpython.org/dice\\\\n\",\\n      \"Read 10966 from https://www.jython.org\\\\n\",\\n      \"Read 275 from http://olympus.realpython.org/dice\\\\n\",\\n      \"Read 10966 from https://www.jython.org\\\\n\",\\n      \"Read 10966 from https://www.jython.org\\\\n\",\\n      \"Read 275 from http://olympus.realpython.org/dice\\\\n\",\\n      \"Read 275 from http://olympus.realpython.org/dice\\\\n\",\\n      \"Read 10966 from https://www.jython.org\\\\n\",\\n      \"Read 10966 from https://www.jython.org\\\\n\",\\n      \"Read 275 from http://olympus.realpython.org/dice\\\\n\",\\n      \"Read 10966 from https://www.jython.org\\\\n\",\\n      \"Read 275 from http://olympus.realpython.org/dice\\\\n\",\\n      \"Read 10966 from https://www.jython.org\\\\n\",\\n      \"Read 275 from http://olympus.realpython.org/dice\\\\n\",\\n      \"Read 10966 from https://www.jython.org\\\\n\",\\n      \"Read 10966 from https://www.jython.org\\\\n\",\\n      \"Read 275 from http://olympus.realpython.org/dice\\\\n\",\\n      \"Read 10966 from https://www.jython.org\\\\n\",\\n      \"Read 275 from http://olympus.realpython.org/dice\\\\n\",\\n      \"Read 10966 from https://www.jython.org\\\\n\",\\n      \"Read 10966 from https://www.jython.org\\\\n\",\\n      \"Read 275 from http://olympus.realpython.org/dice\\\\n\",\\n      \"Read 10966 from https://www.jython.org\\\\n\",\\n      \"Read 275 from http://olympus.realpython.org/dice\\\\n\",\\n      \"Read 10966 from https://www.jython.org\\\\n\",\\n      \"Read 10966 from https://www.jython.org\\\\n\",\\n      \"Read 275 from http://olympus.realpython.org/dice\\\\n\",\\n      \"Read 10966 from https://www.jython.org\\\\n\",\\n      \"Read 275 from http://olympus.realpython.org/dice\\\\n\",\\n      \"Read 10966 from https://www.jython.org\\\\n\",\\n      \"Read 275 from http://olympus.realpython.org/dice\\\\n\",\\n      \"Read 10966 from https://www.jython.org\\\\n\",\\n      \"Read 275 from http://olympus.realpython.org/dice\\\\n\",\\n      \"Read 10966 from https://www.jython.org\\\\n\",\\n      \"Read 10966 from https://www.jython.org\\\\n\",\\n      \"Read 275 from http://olympus.realpython.org/dice\\\\n\",\\n      \"Read 275 from http://olympus.realpython.org/dice\\\\n\",\\n      \"Read 275 from http://olympus.realpython.org/dice\\\\n\",\\n      \"Read 10966 from https://www.jython.org\\\\n\",\\n      \"Read 275 from http://olympus.realpython.org/dice\\\\n\",\\n      \"Read 10966 from https://www.jython.org\\\\n\",\\n      \"Read 10966 from https://www.jython.org\\\\n\",\\n      \"Read 275 from http://olympus.realpython.org/dice\\\\n\",\\n      \"Read 275 from http://olympus.realpython.org/dice\\\\n\",\\n      \"Read 10966 from https://www.jython.org\\\\n\",\\n      \"Read 275 from http://olympus.realpython.org/dice\\\\n\",\\n      \"Read 10966 from https://www.jython.org\\\\n\",\\n      \"Read 275 from http://olympus.realpython.org/dice\\\\n\",\\n      \"Read 10966 from https://www.jython.org\\\\n\",\\n      \"Read 275 from http://olympus.realpython.org/dice\\\\n\",\\n      \"Read 10966 from https://www.jython.org\\\\n\",\\n      \"Read 10966 from https://www.jython.org\\\\n\",\\n      \"Read 275 from http://olympus.realpython.org/dice\\\\n\",\\n      \"Read 10966 from https://www.jython.org\\\\n\",\\n      \"Read 275 from http://olympus.realpython.org/dice\\\\n\",\\n      \"Read 10966 from https://www.jython.org\\\\n\",\\n      \"Read 275 from http://olympus.realpython.org/dice\\\\n\",\\n      \"Read 10966 from https://www.jython.org\\\\n\",\\n      \"Read 275 from http://olympus.realpython.org/dice\\\\n\",\\n      \"Read 10966 from https://www.jython.org\\\\n\",\\n      \"Read 275 from http://olympus.realpython.org/dice\\\\n\",\\n      \"Read 10966 from https://www.jython.org\\\\n\",\\n      \"Read 275 from http://olympus.realpython.org/dice\\\\n\",\\n      \"Read 10966 from https://www.jython.org\\\\n\",\\n      \"Read 275 from http://olympus.realpython.org/dice\\\\n\",\\n      \"Read 275 from http://olympus.realpython.org/dice\\\\n\",\\n      \"Read 10966 from https://www.jython.org\\\\n\",\\n      \"Read 10966 from https://www.jython.org\\\\n\",\\n      \"Read 275 from http://olympus.realpython.org/dice\\\\n\",\\n      \"Read 10966 from https://www.jython.org\\\\n\",\\n      \"Read 275 from http://olympus.realpython.org/dice\\\\n\",\\n      \"Read 10966 from https://www.jython.org\\\\n\",\\n      \"Read 275 from http://olympus.realpython.org/dice\\\\n\",\\n      \"Read 275 from http://olympus.realpython.org/dice\\\\n\",\\n      \"Read 10966 from https://www.jython.org\\\\n\",\\n      \"Read 10966 from https://www.jython.org\\\\n\",\\n      \"Read 275 from http://olympus.realpython.org/dice\\\\n\",\\n      \"Read 10966 from https://www.jython.org\\\\n\",\\n      \"Read 275 from http://olympus.realpython.org/dice\\\\n\",\\n      \"Read 10966 from https://www.jython.org\\\\n\",\\n      \"Read 275 from http://olympus.realpython.org/dice\\\\n\",\\n      \"Read 10966 from https://www.jython.org\\\\n\",\\n      \"Read 275 from http://olympus.realpython.org/dice\\\\n\",\\n      \"Read 10966 from https://www.jython.org\\\\n\",\\n      \"Read 275 from http://olympus.realpython.org/dice\\\\n\",\\n      \"Read 10966 from https://www.jython.org\\\\n\",\\n      \"Read 10966 from https://www.jython.org\\\\n\",\\n      \"Read 275 from http://olympus.realpython.org/dice\\\\n\",\\n      \"Read 275 from http://olympus.realpython.org/dice\\\\n\",\\n      \"Read 275 from http://olympus.realpython.org/dice\\\\n\",\\n      \"Read 10966 from https://www.jython.org\\\\n\",\\n      \"Read 275 from http://olympus.realpython.org/dice\\\\n\",\\n      \"Read 10966 from https://www.jython.org\\\\n\",\\n      \"Read 10966 from https://www.jython.org\\\\n\",\\n      \"Read 275 from http://olympus.realpython.org/dice\\\\n\",\\n      \"Read 10966 from https://www.jython.org\\\\n\",\\n      \"Read 275 from http://olympus.realpython.org/dice\\\\n\",\\n      \"Read 275 from http://olympus.realpython.org/dice\\\\n\",\\n      \"Read 10966 from https://www.jython.org\\\\n\",\\n      \"Read 275 from http://olympus.realpython.org/dice\\\\n\",\\n      \"Read 10966 from https://www.jython.org\\\\n\",\\n      \"Read 10966 from https://www.jython.org\\\\n\",\\n      \"Read 275 from http://olympus.realpython.org/dice\\\\n\",\\n      \"Read 275 from http://olympus.realpython.org/dice\\\\n\",\\n      \"Read 10966 from https://www.jython.org\\\\n\",\\n      \"Read 275 from http://olympus.realpython.org/dice\\\\n\",\\n      \"Read 10966 from https://www.jython.org\\\\n\",\\n      \"Read 275 from http://olympus.realpython.org/dice\\\\n\",\\n      \"Read 10966 from https://www.jython.org\\\\n\",\\n      \"Read 10966 from https://www.jython.org\\\\n\",\\n      \"Read 275 from http://olympus.realpython.org/dice\\\\n\",\\n      \"Read 275 from http://olympus.realpython.org/dice\\\\n\",\\n      \"Read 10966 from https://www.jython.org\\\\n\",\\n      \"Read 275 from http://olympus.realpython.org/dice\\\\n\",\\n      \"Read 10966 from https://www.jython.org\\\\n\",\\n      \"Read 275 from http://olympus.realpython.org/dice\\\\n\",\\n      \"Read 10966 from https://www.jython.org\\\\n\",\\n      \"Read 275 from http://olympus.realpython.org/dice\\\\n\",\\n      \"Read 10966 from https://www.jython.org\\\\n\",\\n      \"Read 10966 from https://www.jython.org\\\\n\",\\n      \"Read 275 from http://olympus.realpython.org/dice\\\\n\",\\n      \"Read 10966 from https://www.jython.org\\\\n\",\\n      \"Read 275 from http://olympus.realpython.org/dice\\\\n\",\\n      \"Read 10966 from https://www.jython.org\\\\n\",\\n      \"Read 275 from http://olympus.realpython.org/dice\\\\n\",\\n      \"Read 10966 from https://www.jython.org\\\\n\",\\n      \"Read 275 from http://olympus.realpython.org/dice\\\\n\",\\n      \"Read 10966 from https://www.jython.org\\\\n\",\\n      \"Read 275 from http://olympus.realpython.org/dice\\\\n\",\\n      \"Read 10966 from https://www.jython.org\\\\n\",\\n      \"Read 10966 from https://www.jython.org\\\\n\",\\n      \"Read 275 from http://olympus.realpython.org/dice\\\\n\",\\n      \"Read 275 from http://olympus.realpython.org/dice\\\\n\",\\n      \"Read 10966 from https://www.jython.org\\\\n\",\\n      \"Read 275 from http://olympus.realpython.org/dice\\\\n\",\\n      \"Read 10966 from https://www.jython.org\\\\n\",\\n      \"Read 275 from http://olympus.realpython.org/dice\\\\n\",\\n      \"Read 10966 from https://www.jython.org\\\\n\",\\n      \"Read 275 from http://olympus.realpython.org/dice\\\\n\",\\n      \"Read 10966 from https://www.jython.org\\\\n\",\\n      \"Read 275 from http://olympus.realpython.org/dice\\\\n\",\\n      \"Read 10966 from https://www.jython.org\\\\n\",\\n      \"Read 10966 from https://www.jython.org\\\\n\",\\n      \"Read 275 from http://olympus.realpython.org/dice\\\\n\",\\n      \"Read 275 from http://olympus.realpython.org/dice\\\\n\",\\n      \"Read 275 from http://olympus.realpython.org/diceRead 10966 from https://www.jython.org\\\\n\",\\n      \"\\\\n\",\\n      \"Read 275 from http://olympus.realpython.org/dice\\\\n\",\\n      \"Read 10966 from https://www.jython.org\\\\n\",\\n      \"Read 275 from http://olympus.realpython.org/dice\\\\n\",\\n      \"Read 275 from http://olympus.realpython.org/dice\\\\n\",\\n      \"Read 275 from http://olympus.realpython.org/dice\\\\n\",\\n      \"Downloaded 160 in 2.675794839859009 seconds\\\\n\"\\n     ]\\n    }\\n   ],\\n   \"source\": [\\n    \"%run \\\\\"local/lib/concurrency/io_threading.py\\\\\"\"\\n   ]\\n  },\\n  {\\n   \"cell_type\": \"markdown\",\\n   \"metadata\": {},\\n   \"source\": [\\n    \"**Asyncio**\"\\n   ]\\n  },\\n  {\\n   \"cell_type\": \"code\",\\n   \"execution_count\": 6,\\n   \"metadata\": {},\\n   \"outputs\": [\\n    {\\n     \"data\": {\\n      \"image/png\": \"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\",\\n      \"text/plain\": [\\n       \"<IPython.core.display.Image object>\"\\n      ]\\n     },\\n     \"execution_count\": 6,\\n     \"metadata\": {},\\n     \"output_type\": \"execute_result\"\\n    }\\n   ],\\n   \"source\": [\\n    \"Image(\\\\\"local/imgs/Asyncio.png\\\\\")\"\\n   ]\\n  },\\n  {\\n   \"cell_type\": \"code\",\\n   \"execution_count\": 8,\\n   \"metadata\": {},\\n   \"outputs\": [],\\n   \"source\": [\\n    \"import local.lib.concurrency.io_asyncio as executor\"\\n   ]\\n  },\\n  {\\n   \"cell_type\": \"code\",\\n   \"execution_count\": null,\\n   \"metadata\": {},\\n   \"outputs\": [\\n    {\\n     \"name\": \"stdout\",\\n     \"output_type\": \"stream\",\\n     \"text\": [\\n      \"Read 3769 from https://www.jython.org\\\\n\",\\n      \"Read 3769 from https://www.jython.org\\\\n\",\\n      \"Read 3769 from https://www.jython.org\\\\n\",\\n      \"Read 3769 from https://www.jython.org\\\\n\",\\n      \"Read 3769 from https://www.jython.org\\\\n\",\\n      \"Read 3769 from https://www.jython.org\\\\n\",\\n      \"Read 3769 from https://www.jython.org\\\\n\",\\n      \"Read 3769 from https://www.jython.org\\\\n\",\\n      \"Read 3769 from https://www.jython.org\\\\n\",\\n      \"Read 3769 from https://www.jython.org\\\\n\",\\n      \"Read 3769 from https://www.jython.org\\\\n\",\\n      \"Read 3769 from https://www.jython.org\\\\n\",\\n      \"Read 3769 from https://www.jython.org\\\\n\",\\n      \"Read 3769 from https://www.jython.org\\\\n\",\\n      \"Read 3769 from https://www.jython.org\\\\n\",\\n      \"Read 3769 from https://www.jython.org\\\\n\",\\n      \"Read 3769 from https://www.jython.org\\\\n\",\\n      \"Read 3769 from https://www.jython.org\\\\n\",\\n      \"Read 3769 from https://www.jython.org\\\\n\",\\n      \"Read 3769 from https://www.jython.org\\\\n\",\\n      \"Read 3769 from https://www.jython.org\\\\n\",\\n      \"Read 3769 from https://www.jython.org\\\\n\",\\n      \"Read 3769 from https://www.jython.org\\\\n\",\\n      \"Read 3769 from https://www.jython.org\\\\n\",\\n      \"Read 3769 from https://www.jython.org\\\\n\",\\n      \"Read 3769 from https://www.jython.org\\\\n\",\\n      \"Read 3769 from https://www.jython.org\\\\n\",\\n      \"Read 3769 from https://www.jython.org\\\\n\",\\n      \"Read 3769 from https://www.jython.org\\\\n\",\\n      \"Read 3769 from https://www.jython.org\\\\n\",\\n      \"Read 3769 from https://www.jython.org\\\\n\",\\n      \"Read 3769 from https://www.jython.org\\\\n\",\\n      \"Read 3769 from https://www.jython.org\\\\n\",\\n      \"Read 3769 from https://www.jython.org\\\\n\",\\n      \"Read 3769 from https://www.jython.org\\\\n\",\\n      \"Read 3769 from https://www.jython.org\\\\n\",\\n      \"Read 3769 from https://www.jython.org\\\\n\",\\n      \"Read 3769 from https://www.jython.org\\\\n\",\\n      \"Read 3769 from https://www.jython.org\\\\n\",\\n      \"Read 3769 from https://www.jython.org\\\\n\",\\n      \"Read 3769 from https://www.jython.org\\\\n\",\\n      \"Read 3769 from https://www.jython.org\\\\n\",\\n      \"Read 3769 from https://www.jython.org\\\\n\",\\n      \"Read 3769 from https://www.jython.org\\\\n\",\\n      \"Read 3769 from https://www.jython.org\\\\n\",\\n      \"Read 3769 from https://www.jython.org\\\\n\",\\n      \"Read 3769 from https://www.jython.org\\\\n\",\\n      \"Read 3769 from https://www.jython.org\\\\n\",\\n      \"Read 3769 from https://www.jython.org\\\\n\",\\n      \"Read 3769 from https://www.jython.org\\\\n\",\\n      \"Read 3769 from https://www.jython.org\\\\n\",\\n      \"Read 3769 from https://www.jython.org\\\\n\",\\n      \"Read 3769 from https://www.jython.org\\\\n\",\\n      \"Read 3769 from https://www.jython.org\\\\n\",\\n      \"Read 3769 from https://www.jython.org\\\\n\",\\n      \"Read 3769 from https://www.jython.org\\\\n\",\\n      \"Read 3769 from https://www.jython.org\\\\n\",\\n      \"Read 3769 from https://www.jython.org\\\\n\",\\n      \"Read 3769 from https://www.jython.org\\\\n\",\\n      \"Read 3769 from https://www.jython.org\\\\n\",\\n      \"Read 3769 from https://www.jython.org\\\\n\",\\n      \"Read 3769 from https://www.jython.org\\\\n\",\\n      \"Read 3769 from https://www.jython.org\\\\n\",\\n      \"Read 3769 from https://www.jython.org\\\\n\",\\n      \"Read 3769 from https://www.jython.org\\\\n\",\\n      \"Read 3769 from https://www.jython.org\\\\n\",\\n      \"Read 3769 from https://www.jython.org\\\\n\",\\n      \"Read 3769 from https://www.jython.org\\\\n\",\\n      \"Read 3769 from https://www.jython.org\\\\n\",\\n      \"Read 3769 from https://www.jython.org\\\\n\",\\n      \"Read 3769 from https://www.jython.org\\\\n\",\\n      \"Read 3769 from https://www.jython.org\\\\n\",\\n      \"Read 3769 from https://www.jython.org\\\\n\",\\n      \"Read 3769 from https://www.jython.org\\\\n\",\\n      \"Read 3769 from https://www.jython.org\\\\n\",\\n      \"Read 275 from http://olympus.realpython.org/dice\\\\n\",\\n      \"Read 275 from http://olympus.realpython.org/dice\\\\n\",\\n      \"Read 275 from http://olympus.realpython.org/dice\\\\n\",\\n      \"Read 275 from http://olympus.realpython.org/dice\\\\n\",\\n      \"Read 275 from http://olympus.realpython.org/dice\\\\n\",\\n      \"Read 275 from http://olympus.realpython.org/dice\\\\n\",\\n      \"Read 275 from http://olympus.realpython.org/dice\\\\n\",\\n      \"Read 275 from http://olympus.realpython.org/dice\\\\n\",\\n      \"Read 275 from http://olympus.realpython.org/dice\\\\n\",\\n      \"Read 275 from http://olympus.realpython.org/dice\\\\n\",\\n      \"Read 275 from http://olympus.realpython.org/dice\\\\n\",\\n      \"Read 275 from http://olympus.realpython.org/dice\\\\n\",\\n      \"Read 275 from http://olympus.realpython.org/dice\\\\n\",\\n      \"Read 275 from http://olympus.realpython.org/dice\\\\n\",\\n      \"Read 275 from http://olympus.realpython.org/dice\\\\n\",\\n      \"Read 275 from http://olympus.realpython.org/dice\\\\n\",\\n      \"Read 275 from http://olympus.realpython.org/dice\\\\n\",\\n      \"Read 275 from http://olympus.realpython.org/dice\\\\n\",\\n      \"Read 275 from http://olympus.realpython.org/dice\\\\n\",\\n      \"Read 275 from http://olympus.realpython.org/dice\\\\n\",\\n      \"Read 275 from http://olympus.realpython.org/dice\\\\n\",\\n      \"Read 275 from http://olympus.realpython.org/dice\\\\n\",\\n      \"Read 275 from http://olympus.realpython.org/dice\\\\n\",\\n      \"Read 275 from http://olympus.realpython.org/dice\\\\n\",\\n      \"Read 275 from http://olympus.realpython.org/dice\\\\n\",\\n      \"Read 275 from http://olympus.realpython.org/dice\\\\n\",\\n      \"Read 275 from http://olympus.realpython.org/dice\\\\n\",\\n      \"Read 275 from http://olympus.realpython.org/dice\\\\n\",\\n      \"Read 275 from http://olympus.realpython.org/dice\\\\n\",\\n      \"Read 275 from http://olympus.realpython.org/dice\\\\n\",\\n      \"Read 275 from http://olympus.realpython.org/dice\\\\n\",\\n      \"Read 275 from http://olympus.realpython.org/dice\\\\n\",\\n      \"Read 275 from http://olympus.realpython.org/dice\\\\n\",\\n      \"Read 275 from http://olympus.realpython.org/dice\\\\n\",\\n      \"Read 275 from http://olympus.realpython.org/dice\\\\n\",\\n      \"Read 275 from http://olympus.realpython.org/dice\\\\n\",\\n      \"Read 275 from http://olympus.realpython.org/dice\\\\n\",\\n      \"Read 275 from http://olympus.realpython.org/dice\\\\n\",\\n      \"Read 275 from http://olympus.realpython.org/dice\\\\n\",\\n      \"Read 275 from http://olympus.realpython.org/dice\\\\n\",\\n      \"Read 275 from http://olympus.realpython.org/dice\\\\n\",\\n      \"Read 275 from http://olympus.realpython.org/dice\\\\n\",\\n      \"Read 275 from http://olympus.realpython.org/dice\\\\n\",\\n      \"Read 275 from http://olympus.realpython.org/dice\\\\n\",\\n      \"Read 275 from http://olympus.realpython.org/dice\\\\n\",\\n      \"Read 275 from http://olympus.realpython.org/dice\\\\n\",\\n      \"Read 275 from http://olympus.realpython.org/dice\\\\n\",\\n      \"Read 275 from http://olympus.realpython.org/dice\\\\n\",\\n      \"Read 275 from http://olympus.realpython.org/dice\\\\n\",\\n      \"Read 3769 from https://www.jython.org\\\\n\",\\n      \"Read 275 from http://olympus.realpython.org/dice\\\\n\",\\n      \"Read 3769 from https://www.jython.org\\\\n\",\\n      \"Read 3769 from https://www.jython.org\\\\n\",\\n      \"Read 3769 from https://www.jython.org\\\\n\",\\n      \"Read 3769 from https://www.jython.org\\\\n\",\\n      \"Read 275 from http://olympus.realpython.org/dice\\\\n\",\\n      \"Read 275 from http://olympus.realpython.org/dice\\\\n\",\\n      \"Read 275 from http://olympus.realpython.org/dice\\\\n\",\\n      \"Read 275 from http://olympus.realpython.org/dice\\\\n\",\\n      \"Read 275 from http://olympus.realpython.org/dice\\\\n\",\\n      \"Read 275 from http://olympus.realpython.org/dice\\\\n\",\\n      \"Read 275 from http://olympus.realpython.org/dice\\\\n\",\\n      \"Read 275 from http://olympus.realpython.org/dice\\\\n\",\\n      \"Read 275 from http://olympus.realpython.org/dice\\\\n\",\\n      \"Read 275 from http://olympus.realpython.org/dice\\\\n\",\\n      \"Read 275 from http://olympus.realpython.org/dice\\\\n\",\\n      \"Read 275 from http://olympus.realpython.org/dice\\\\n\",\\n      \"Read 275 from http://olympus.realpython.org/dice\\\\n\",\\n      \"Read 275 from http://olympus.realpython.org/dice\\\\n\",\\n      \"Read 275 from http://olympus.realpython.org/dice\\\\n\",\\n      \"Read 275 from http://olympus.realpython.org/dice\\\\n\",\\n      \"Read 275 from http://olympus.realpython.org/dice\\\\n\",\\n      \"Read 275 from http://olympus.realpython.org/dice\\\\n\",\\n      \"Read 275 from http://olympus.realpython.org/dice\\\\n\",\\n      \"Read 275 from http://olympus.realpython.org/dice\\\\n\",\\n      \"Read 275 from http://olympus.realpython.org/dice\\\\n\",\\n      \"Read 275 from http://olympus.realpython.org/dice\\\\n\",\\n      \"Read 275 from http://olympus.realpython.org/dice\\\\n\",\\n      \"Read 275 from http://olympus.realpython.org/dice\\\\n\",\\n      \"Read 275 from http://olympus.realpython.org/dice\\\\n\",\\n      \"Read 275 from http://olympus.realpython.org/dice\\\\n\",\\n      \"Read 275 from http://olympus.realpython.org/dice\\\\n\",\\n      \"Read 275 from http://olympus.realpython.org/dice\\\\n\",\\n      \"Read 275 from http://olympus.realpython.org/dice\\\\n\",\\n      \"Read 275 from http://olympus.realpython.org/dice\\\\n\",\\n      \"Downloaded 160 sites in 0.4383876323699951 seconds\\\\n\"\\n     ]\\n    }\\n   ],\\n   \"source\": [\\n    \"await executor.main()\"\\n   ]\\n  },\\n  {\\n   \"cell_type\": \"markdown\",\\n   \"metadata\": {},\\n   \"source\": [\\n    \"**Multiprocessing**\"\\n   ]\\n  },\\n  {\\n   \"cell_type\": \"code\",\\n   \"execution_count\": null,\\n   \"metadata\": {},\\n   \"outputs\": [\\n    {\\n     \"data\": {\\n      \"image/png\": \"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\",\\n      \"text/plain\": [\\n       \"<IPython.core.display.Image object>\"\\n      ]\\n     },\\n     \"execution_count\": 11,\\n     \"metadata\": {},\\n     \"output_type\": \"execute_result\"\\n    }\\n   ],\\n   \"source\": [\\n    \"Image(\\\\\"local/imgs/MProc.png\\\\\")\"\\n   ]\\n  },\\n  {\\n   \"cell_type\": \"code\",\\n   \"execution_count\": null,\\n   \"metadata\": {},\\n   \"outputs\": [\\n    {\\n     \"name\": \"stdout\",\\n     \"output_type\": \"stream\",\\n     \"text\": [\\n      \"Downloaded 160 in 3.7105696201324463 seconds\\\\n\"\\n     ]\\n    }\\n   ],\\n   \"source\": [\\n    \"%run \\\\\"local/lib/concurrency/io_multiprocessing.py\\\\\"\"\\n   ]\\n  },\\n  {\\n   \"cell_type\": \"markdown\",\\n   \"metadata\": {},\\n   \"source\": [\\n    \"## CPU Bound Task\\\\n\",\\n    \"\\\\n\",\\n    \"Podemos pensar como una tarea en la que todos los datos para ejecutarse ya estÃ¡n en la memoria y no tengo que hacer operaciones de lectura o escritura.\\\\n\",\\n    \"\\\\n\",\\n    \"**Synchronous**\"\\n   ]\\n  },\\n  {\\n   \"cell_type\": \"code\",\\n   \"execution_count\": null,\\n   \"metadata\": {},\\n   \"outputs\": [\\n    {\\n     \"data\": {\\n      \"image/png\": \"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\",\\n      \"text/plain\": [\\n       \"<IPython.core.display.Image object>\"\\n      ]\\n     },\\n     \"execution_count\": 13,\\n     \"metadata\": {},\\n     \"output_type\": \"execute_result\"\\n    }\\n   ],\\n   \"source\": [\\n    \"Image(\\\\\"local/imgs/CPUBound.png\\\\\")\"\\n   ]\\n  },\\n  {\\n   \"cell_type\": \"code\",\\n   \"execution_count\": null,\\n   \"metadata\": {},\\n   \"outputs\": [\\n    {\\n     \"name\": \"stdout\",\\n     \"output_type\": \"stream\",\\n     \"text\": [\\n      \"Duration 6.198119878768921 seconds\\\\n\"\\n     ]\\n    }\\n   ],\\n   \"source\": [\\n    \"%run \\\\\"local/lib/concurrency/cpu_synchronous.py\\\\\"\"\\n   ]\\n  },\\n  {\\n   \"cell_type\": \"markdown\",\\n   \"metadata\": {},\\n   \"source\": [\\n    \"**Threading**\"\\n   ]\\n  },\\n  {\\n   \"cell_type\": \"code\",\\n   \"execution_count\": null,\\n   \"metadata\": {},\\n   \"outputs\": [\\n    {\\n     \"name\": \"stdout\",\\n     \"output_type\": \"stream\",\\n     \"text\": [\\n      \"Duration 6.300612449645996 seconds\\\\n\"\\n     ]\\n    }\\n   ],\\n   \"source\": [\\n    \"%run \\\\\"local/lib/concurrency/cpu_threading.py\\\\\"\"\\n   ]\\n  },\\n  {\\n   \"cell_type\": \"markdown\",\\n   \"metadata\": {},\\n   \"source\": [\\n    \"**Multiprocessing**\"\\n   ]\\n  },\\n  {\\n   \"cell_type\": \"code\",\\n   \"execution_count\": null,\\n   \"metadata\": {},\\n   \"outputs\": [\\n    {\\n     \"data\": {\\n      \"image/png\": \"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\",\\n      \"text/plain\": [\\n       \"<IPython.core.display.Image object>\"\\n      ]\\n     },\\n     \"execution_count\": 16,\\n     \"metadata\": {},\\n     \"output_type\": \"execute_result\"\\n    }\\n   ],\\n   \"source\": [\\n    \"Image(\\\\\"local/imgs/CPUMP.png\\\\\")\"\\n   ]\\n  },\\n  {\\n   \"cell_type\": \"code\",\\n   \"execution_count\": null,\\n   \"metadata\": {},\\n   \"outputs\": [\\n    {\\n     \"name\": \"stdout\",\\n     \"output_type\": \"stream\",\\n     \"text\": [\\n      \"Duration 1.7859385013580322 seconds\\\\n\"\\n     ]\\n    }\\n   ],\\n   \"source\": [\\n    \"%run \\\\\"local/lib/concurrency/cpu_multiprocessing.py\\\\\"\"\\n   ]\\n  }\\n ],\\n \"metadata\": {\\n  \"kernelspec\": {\\n   \"display_name\": \"venvfund\",\\n   \"language\": \"python\",\\n   \"name\": \"python3\"\\n  },\\n  \"language_info\": {\\n   \"codemirror_mode\": {\\n    \"name\": \"ipython\",\\n    \"version\": 3\\n   },\\n   \"file_extension\": \".py\",\\n   \"mimetype\": \"text/x-python\",\\n   \"name\": \"python\",\\n   \"nbconvert_exporter\": \"python\",\\n   \"pygments_lexer\": \"ipython3\",\\n   \"version\": \"3.11.9\"\\n  }\\n },\\n \"nbformat\": 4,\\n \"nbformat_minor\": 2\\n}\\n'"
      ]
     },
     "execution_count": 11,
     "metadata": {},
     "output_type": "execute_result"
    }
   ],
   "source": [
    "with open(\"11 - Concurrencia.ipynb\", \"r\") as f:\n",
    "    content = f.read()\n",
    "content"
   ]
  },
  {
   "cell_type": "code",
   "execution_count": 14,
   "metadata": {
    "scrolled": true
   },
   "outputs": [
    {
     "data": {
      "text/plain": [
       "b'\\x89PNG\\r\\n\\x1a\\n\\x00\\x00\\x00\\rIHDR\\x00\\x00\\x01/\\x00\\x00\\x00\\xea\\x08\\x06\\x00\\x00\\x00\\xf3\\x8c\\xc3k\\x00\\x00\\x00\\x04sBIT\\x08\\x08\\x08\\x08|\\x08d\\x88\\x00\\x00\\x00\\x19tEXtSoftware\\x00gnome-screenshot\\xef\\x03\\xbf>\\x00\\x00\\x00*tEXtCreation Time\\x00Tue 09 Jun 2020 06:38:38 -05Ng\\xdc\\x83\\x00\\x00 \\x00IDATx\\x9c\\xed\\xbd\\x7fTSW\\xba\\xff\\xff\\x0e\\x049Q\\xd4\\xa0X\\x93\\x8aJ\\xfcI\\xa8\\xb6\\x84\\xd1\\xb6\\xa1\\xda\\x19cmk\\x1c\\xef\\x8c\\xe1\\xda{\\x85q:\\x9a\\xda[\\x1b\\xda\\xfbi\\xb13\\xb7\\xc5vu\\xf9\\xa5\\x9du[\\xe8\\xcc\\xb5`\\xef\\xa7\\x85\\xf6~\\xda\\x01;\\xb5\\xe0\\x8c\\x96\\xd8\\xea\\x10\\xdbj\\x83\\xb7Zb\\x8b%\\xfe$\\xa8hRA\\x13\\x05\\xcc\\x01\\x02\\xfb\\xfbG\\xc2/\\x05r\\x0e$\\x84\\x03\\xfb\\xe5\\xcaZ\\x08\\xfb\\xec\\xf3d\\x9fs\\xdeg\\xefg?\\xfb\\xd9\"B\\x08\\x01\\x85B\\xa1\\x08\\x8c\\xb0P\\x1b@\\xa1P(\\x03\\x81\\x8a\\x17\\x85B\\x11$T\\xbc(\\x14\\x8a \\xa1\\xe2E\\xa1P\\x04\\t\\x15/\\n\\x85\"H\\xa8xQ(\\x14AB\\xc5\\x8bB\\xa1\\x08\\x12*^\\x14\\nE\\x90P\\xf1\\xa2P(\\x82\\x84\\x8a\\x17\\x85B\\x11$T\\xbc(\\x14\\x8a \\xa1\\xe2E\\xa1P\\x04\\t\\x15/\\n\\x85\"H\\xa8xQ(\\x14AB\\xc5\\x8bB\\xa1\\x08\\x12*^\\x14\\nE\\x90P\\xf1\\xa2P(\\x82\\x84\\x8a\\x17\\x85B\\x11$T\\xbc(\\x14\\x8a \\xa1\\xe2E\\xa1P\\x04\\t\\x15/\\n\\x85\"H\\xa8xQ(\\x14AB\\xc5\\x8bB\\xa1\\x08\\x12*^\\x14\\nE\\x90P\\xf1\\xa2P(\\x82\\x84\\x8a\\x17\\x85B\\x11$T\\xbc(\\x14\\x8a \\xa1\\xe2E\\xa1P\\x04\\t\\x15/\\n\\x85\"H\\xa8xQ(\\x14AB\\xc5\\x8bB\\xa1\\x08\\x12*^\\x14\\nE\\x90P\\xf1\\xa2P(\\x82\\x84\\x8a\\x17\\x85B\\x11$T\\xbc(\\x14\\x8a \\xa1\\xe2E\\xa1P\\x04\\t\\x15/\\n\\x85\"H\\xa8xQ(\\x14AB\\xc5\\x8bB\\xa1\\x08\\x12*^\\x14\\nE\\x90P\\xf1\\xa2P(\\x82\\x84\\x8a\\x17\\x85B\\x11$T\\xbc(\\x14\\x8a \\x11\\x87\\xda\\x00\\xca\\xf0\\xe4\\xf8\\xe9\\xe3p68\\x07U\\xc7\\xec\\xd8\\xd9\\x88\\x9d\\x12\\x8b\\xb00\\xfa\\x8e\\xa4\\x04\\x1e*^\\x94^y\\xefo\\xef\\xc1r\\xca2\\xa8:\\xd2\\x1fKG\\x8a&\\x05\\x91a\\x91\\x01\\xb2\\x8aB\\xe9\\x82\\xbe\\x12)\\x14\\x8a \\xa1\\xe2E\\xa1P\\x04\\xc9\\x88\\x1a6645\\xa0\\xf8\\xcb\\xe2\\xa0\\xd5\\x9f\\x14\\x9f\\x84\\xbbg\\xdf\\xed\\xb7\\x9c\\xbb\\xd9\\x8d\\xb2\\xa3e\\xa8\\xbf^\\x1f\\x14;\\x12\\xe2\\x94P\\xcdOB\\x848\"(\\xf5S\\x86\\x06\\xc7U\\x07\\xbe>\\xfe5n\\xb279\\x95\\x9f\\x1b;\\x07\\x8b\\x12\\x16#2\\x82\\x0e\\xc3\\x81\\x11&^7n6\\xe0\\xfd\\xbf\\xbf\\x1f\\xb4\\xfa\\xc3Da\\x9c\\xc5k\\xcf\\xd7{p\\xb2\\xe6dP\\xecX\\xfb\\xd0Z\\xdc5{\\x01\\x15/\\x81\\xf3\\x8fo\\xff\\x81\\x8f\\x8c\\x1f\\xc1\\xdd\\xec\\xe6T^\\x1e#C\\xf6\\xbf\\xe7`\\xfa\\xd4\\xe9A\\xb6L\\x18\\x8c(\\xf1\\x02\\x08<m\\x9e\\xa0\\xd5\\xde\\xde\\xde\\xce\\xabl\\xb0likk\\x03HP\\xaa\\xeeD$\\x12\\x05\\xf7\\x04\\xa3\\x1cO\\x9b\\x07\\x17\\x7f\\xba\\x88&\\xb6\\x89\\xf3}u\\xf1\\xa7Z\\\\\\xfc\\xe9\"\\x15/\\x1f#L\\xbc(\\x81B\\x19\\xa7D\\x98(\\x0cMl\\x13\\xae\\xba\\xae\\xe2z\\xd3u\\xb4zZy\\t8\\xa5o~8\\xf3\\x03N\\xd6\\x9c\\xe4\\xdd\\x9e\\x87,\\x87\\x90|wr\\x90\\xac\\x12\\x16T\\xbc(\\xbdbXk\\x00\\x00\\xd49\\xeb`\\xb5YQ}\\xb9\\x1a\\x8d\\xeeF\\xfc\\xe3\\xdb\\x7f\\xe0\\xca\\xb5+!\\xb6N\\xf8\\x9c:\\x7f\\n\\xb5Wjy\\x1fWv\\xac\\x0c\\x86\\xb5\\x06D\\x8d\\x8d\\n\\x82U\\xc2\\x82\\x8a\\x17\\xa5_\\xa6DO\\xc1\\x94\\xe8)x0\\xe9A\\x00\\x80\\xd5f\\xa5\\xe25H\\xae\\xdd\\xb8\\x86\\xd3\\x17Os\\xf6uu\\xa7\\xf1f#,\\xa7-X\\x9a\\xb84\\x08\\x96\\t\\x0b\\x1a*A\\xa1\\x0c1\\xb5?\\xd5\\xe2\\x873?\\x0c\\xf8\\xf8\\xff\\xd9\\xfb? $\\xc8NO\\x010\\xa2\\xc4kl\\xe4X,\\x9c\\xbd\\x10Qc\\xa3 \\x0e\\x17\\x07\\xc4\\xe9\\x1c\\x16\\x16\\x86\\xc8\\x88H(\\xeeT \\xee\\xce8N\\xc7\\x8c\\x89\\x18\\x83\\xb93\\xe6B:^\\x8a\\x08qD`\\xec\\x10\\x85!B\\x1c\\x01\\xd9d\\x19\\xa6O\\x8d\\x85XL;\\xcdB\\x84\\x10\\x82+\\xce+\\xf8\\xe9\\xdaO\\x03\\xae\\xe3\\xe4\\xf9\\x93\\xb0_\\xb5\\x07\\xd0*a2\\xa2\\x9e\\x80\\xe8\\t\\xd1\\xf8\\xbf/\\xfd_\\x00@sK3N]8\\x85\\xaf*\\xbe\\xc2\\x91\\xca#\\xb0]\\xb6q\\xaeg\\xd2\\x84I\\xb8g\\xee=x\\xe8\\xde\\xe5H\\x9c\\xafB\\xf4\\xf8h^vDI\\xa2\\xf0\\x87\\xdf\\xfe\\x01\\x7f\\xf8\\xed\\x1f@\\x08A\\xf5\\xa5j\\x94W\\x96\\xe3\\xeb\\x8a\\xafq\\xa6\\xf6\\x0c\\x9a[\\x9a9\\xd53a\\xdc\\x04(\\xe3\\x94X\\xb6h\\x19\\xee[p\\x1f\\xa6N\\x9a\\xca\\xcb\\x0e\\xca\\xf0\\xa3\\xa1\\xa9\\x01\\xfb\\xca\\xf7\\rj\\xe2\\x83\\x10\\x02\\xd3Q\\x13~\\xb3\\xf27\\x01\\xb4Lx\\x8c(\\xf1\\xeaN\\xe4\\x98H\\xdc=\\xe7n\\xdc=\\xe7n\\xfc\\xeb\\x8a\\x7f\\xc5\\xaf\\xb6\\xfc\\x8a\\xf3\\xb1\\x7fx\\xfc\\x0f\\x01\\xf3)\\x88D\"\\xcc\\x8e\\x9d\\x8d\\xd9\\xb1\\xb3\\xf1\\xcf\\x9a\\x7f\\xc6\\xbf\\xbf\\xf5\\xef\\xa8<[\\xc9\\xe9\\xd8\\xb5\\xcb\\xd7b\\xbdv=\\xc6D\\x8c\\t\\x88-\\x94\\xd0s\\xe3\\xe6\\r\\xfcx\\xee\\xc7A\\xd7\\xb3\\xf7\\xd0^\\xfc\\xb3\\xe6\\x9f\\xc1D2\\x01\\xb0J\\x98\\x8c\\xa8a#\\x852\\xdc9|\\xfc0n4\\xdd\\x18t=\\rM\\r8u\\xe1T\\x00,\\x12.T\\xbc(\\x94!d\\xef\\xd7{\\x02RO\\x13\\xdb\\x84\\xaf\\xbe\\xfbrT\\xc7\\xddQ\\xf1\\xa2P\\x86\\x88\\x0b\\x8e\\xf3\\xb8p\\xe5b@\\xeaj\\xf5\\xb4\\xe2l\\xed\\xb9\\x80\\xf4\\xe2\\x84\\n\\x15/\\ne\\x88\\xd8\\xfe\\xf1\\xdb\\xde\\xa5]~\\x10\\x8b\\xb9\\xcd\\x94_\\xaa\\xbb\\x84\\x1f\\xab\\x07\\xef?\\x13*#\\xd6aO\\xe9\\x9d\\xb6\\xf66\\xb0\\xcd,\\xd8\\x16\\x16\\xce\\x1bN\\\\\\xae\\xbf\\x8c\\x86\\xa6\\x06\\xb4\\xb7\\x13L\\x8e\\x9e\\x84\\xd8)\\xb1\\x988n\"$\\x8cd\\xd8N\\x14\\xb4\\xb7\\xb7\\xa3\\xb9\\xb5\\x19l\\x0b\\x8b\\xe6\\x96f\\xfct\\xf5\\'\\xd4\\xbb\\xeaq\\xb3\\xf9&\\xda\\xda\\xdb \\x8d\\x92B:^\\n\\xd9d\\x19\"#\"1&b\\x0c\\x981\\x0c\\xc2\\xc3\\xc3Cfs[{\\x1b~8\\xc7-\\xb6\\xeb7\\x8f\\xfe\\x06\\x07\\xbf;\\x88\\xf3\\xf6\\xf3\\xfd\\x96\\xb3\\xd7\\xdb\\xf1\\xc3\\xd9\\x1fp\\xdf\\x82{!\\x0e\\x1f}\\x8b\\xf4\\xa9x\\x8d\\x12\\x1an6\\xa0\\xfaR5N\\x9f?\\x8d\\xbf\\x1e\\xf8+.\\xd7_\\xee\\xb3\\xec\\xd8\\xc8\\xb1xD\\xfd\\x08\\x96-Z\\x86\\xf93\\xe7c\\xfc\\xd8\\xf1Chi\\xdf4\\xdel\\xc4\\xb9K\\xe7P\\xfbS-J\\xbf)E\\x95\\xad\\n-\\xad-\\xfd\\x1e\\x13&\\nC\\xdc\\x9d3\\xf1\\xd0\\xbd\\x0fa\\xc1\\xec\\x85\\x98)\\x9b\\x89\\x18i\\xcc\\x90/<?|\\xfc0\\x1ao6\\xfa-7u\\xd2T,\\x9c\\xb3\\x10\\xe7\\x1d\\xe7\\xfd\\x8a\\x17\\xe0\\xed}\\xd5\\xb9\\xea!\\x9f,\\x0f\\x84\\x99\\x82\\x82\\x8a\\xd7\\x08\\xa7\\xad\\xad\\r\\x95\\xe7*Qv\\xb4\\x0c{\\xbf\\xde\\x8b\\x16O\\xff\\x0f;\\x00\\xdcl\\xbe\\x89\\xdd_\\xee\\xc6\\xdf\\xbe\\xfa\\x1bR4)\\xf8y\\xd2\\xcf\\xf1\\xb3\\xf8\\x9f\\r\\x81\\xb5\\xbd\\xd3\\xdc\\xda\\x8c\\xf2\\x1f\\xcaQq\\xb2\\x02\\x9f\\x1d\\xfe\\x0cl\\x0b\\xcb\\xf9\\xd8v\\xd2\\x8e\\xeaK6\\xbc\\xbb\\xfb=D\\x88#\\xb0$q\\t\\x12\\xe7\\xde\\x83G\\xd4\\x8fb\\xc2\\xb8\\tA\\xb4\\xba\\'\\xa5\\x87K9\\x95\\xbbg\\xee\\xdd\\x98=m6\\x96&.\\xc5\\xc1c\\x07\\xfd\\x96?~\\xea8N\\xd5\\x9c\\x82l\\x92l\\xd4e\\x02\\xa1\\xe25\\x82ini\\x86\\xf9\\x073>4~\\x883\\x17\\xcf\\xf0\\x9e\\x99\"\\x84\\xa0\\xd8T\\x8c\\xefO\\x7f\\x8fM\\xbf\\xde\\x84%\\x89K\\x82di\\xdf\\\\\\xaa\\xbb\\x84\\xcf\\xcd\\xfb\\xf0\\xd9\\xe1\\xd2AE\\xa5\\x03^\\'\\xf7\\xc1c\\x07q\\xc8r\\x08\\xe7.U\\xe3Q\\xf5\\xa3H\\x9c\\x97\\x18 K\\xfb\\xc6q\\xd5\\x81\\xcbu}\\xf7t;\\x08\\x13\\x85\\xe1\\xce)\\xd3\\x10=!\\x1aK\\xeeY\\x82q\\x92qhr7\\xf5{\\xcc\\xb5\\x1b\\xd7Pc\\xaf\\x81\\xda\\xa3\\x1euI\\n\\xa9x\\x8dP\\xda\\xda\\xdb\\xf0U\\xc5W\\xc8\\xfb4\\x0fu\\xce\\xba\\x01\\xd7C\\x08\\xc1\\x99\\x8bg\\xf0\\xe7\\x9d\\x7fF;\\x19\\xdai\\xf9\\xf3\\x8e\\xf3\\xc8)\\xcc\\xc1\\x89\\xb3\\'x\\xf5\\xb6\\xfc\\xe1i\\xf3\\xe0\\xb3C\\x9f\\xe1\\xc7\\xea\\x1f\\x91\\xfaH*\\x1eU?\\x1a\\xd4^\\xcbW\\x15_\\xe1\\'\\xa7\\x7f\\xe1\\x9d:y*\\x12f% B\\x1c\\x81\\x08q\\x04\\xe6N\\x9f\\x8b\\xe3\\xa7\\x8f\\xfb=\\xee\\xdb\\x13\\xdfbe\\xf2\\xcaQ\\xb7\\x02\\x83\\xce6\\x8eP\\xaa/\\x9d\\xc3\\xeb\\xff\\xf3\\xfa\\xa0\\x84\\xab;\\x97\\xeb/#\\xfb/\\xd9A\\xcb\\x0e{+u\\xae:d\\xfc9\\x03\\xdfY\\xbf\\x0b\\xa8pu\\xd0N\\xdaq\\xae\\xf6\\x1c\\xb6\\x7f\\xbc\\x1d_U|\\x15\\xf0\\xfa\\xbbSc\\xaf\\xe1\\x94AB>Y\\x0e\\xe5Le\\xe7\\xff7\\xfcr\\x03\\xa7\\xfa\\x7f8\\xfb\\x03.\\xd7]\\x1a\\xa8y\\x82\\x85\\x8a\\xd7\\x08\\xe4z\\xd3u<\\xfe\\xea\\xef\\xfc:\\xb3\\xf9R\\xef\\xaa\\x1fP\\x1a\\x17\\xbe4\\xb74\\xe3\\xdf^\\x7f\\n\\x97\\xeb.\\x07={\\xc2\\xf5\\xa6\\xeb\\xd8\\xf1\\xe9\\x0e^k_\\xf9Py\\xb6\\x12\\xa7\\xcf\\x9f\\xf2;d\\x17\\x89D\\x88\\x9e\\x10\\x8dI\\x13\\'u\\xfen\\xf1]\\x8b11j\\xa2\\xdfs\\xb4\\x93\\xf6!{\\xa9\\x0c\\'\\xa8x\\x8d0\\xd8\\x16\\x16\\xe9o\\xa6\\x87\\xda\\x8c\\x01\\xc3\\xb6\\xb0x5\\xffU8\\x860kB\\xed\\x95Z\\x14}^\\xc4y#\\x0c>\\x9c\\xa8>\\x01\\xdb\\xe5\\x1a\\xbf\\xe5\\xc6\\x8f\\x1d\\x8f\\x15\\xf7\\xad\\xb8m\\xf8\\xaa\\x9a\\xa7\\xe2t\\x9eOM\\xc5hn\\xe5\\xb6\\xe0\\x7f\\xa4@\\xc5k\\x84\\xf1y\\xf9\\xe7\\xb8\\xe8\\x08L\\x14w(\\xd8\\x7fd?\\xca\\x7f(\\x1f\\xf2\\xf3\\x96~S\\x8a}\\xe6}\\x01\\xad\\xf3F\\xd3\\r\\xd4\\xd8k8\\x89\\x8a$R\\x82\\xbb\\xe7\\xdc\\xbe\\xb9\\x8bN\\xb3\\x86S|\\x9a\\xbd\\xde\\x1e\\x90\\x05\\xdfB\\x82:\\xecG\\x10\\xae\\x06\\x17\\x8c\\xdf\\x18y\\x0f\\x17E\"\\x11\\x1e\\xb8\\xe7\\x01,\\x98\\xb5\\x00\\x91c\\xbc3V-\\xad-\\xb0]\\xb6\\xc1t\\xcc\\x14\\xf0\\xe1g_\\x9c8w\\x02\\xbb\\xfe\\xb1\\x8b\\xd7\\xf9D\"\\x11\\x96&.\\xc5\\xdds\\xefFx\\x98\\xf7!o\\'\\xed\\xa8\\xfd\\xa9\\x16\\xfb\\xffw\\xbf\\xdf\\xd9\\xba\\xee|\\xb0\\xf7\\x03\\xacL^\\x89\\xb1\\xccX\\xde\\xb6\\xf7\\xc6\\x05\\xc7\\x05\\x1c?u\\x9c\\xd3\\xd0W\\x19\\xa7\\xec5tc\\xa6<\\x0e\\xd1\\xe3\\xa3Q\\xef\\xf2\\xbf\\x8d^\\xc9\\xc1\\x12$\\xc5\\'\\r\\xc8V!B\\xc5k\\x04\\xf1y\\xf9\\xe7\\xa8\\xbeT\\xcd\\xeb\\x989\\xb1s`x\\xcc\\x00\\xc5\\x9d\\nL\\x9e8\\xb9S\\x00\\xda\\xda\\xdbp\\xbd\\xf1:~\\xb9\\xf4\\x970\\x1d5\\xa1\\xe4`I0L\\xeeA\\xd9\\xd12\\\\\\xf8\\xe9\\x02\\xe7\\xf2wDO\\xc1S)O!i\\xfe\\xcf0%zJ\\x8f!\\xd7\\x8d\\xa6\\x1bx4\\xf9Q\\xbc\\xb7\\xfb=\\x1c\\xb3\\x1e\\xe3T\\xdf\\xb5\\x1b\\xd7Pr\\xb0$ y\\xb2:\\x92\\x0e\\xf6\\x17\\x0c\\xdc\\x9d5\\xcb~\\x8d\\xb0\\xb0\\xdb\\x07Bc#\\xc7\\xe2\\xde\\xbb\\xee\\x85\\xf1\\x1b\\xa3\\xdf:\\xbe\\xf9\\xfe\\x1b\\xd49\\xeb0%z\\no{\\x85\\x08\\x1d6\\x8e\\x10Z\\xdbZQ[W\\xcb\\xcbo3o\\xe6<d\\xea3q\\xdf]\\xf7\\xe1\\x8e\\xe8;:\\x85\\x0b\\x00\\xc2\\xc3\\xc21i\\xc2$$\\xcdO\\xc23\\xff\\xf2\\x0c\\xfem\\xcd\\xbf\\x05\\xc3\\xecN\\xbe;\\xf9\\x1d\\xca+\\xcb\\xd1\\xeai\\xe5T>jl\\x14\\x9e^k\\xc0\\xc3\\xf7=\\x82;&\\xddq\\x9b\\xafh\\xc2\\xb8\\tX8{!^\\xda\\xf0\\x12\\xe2\\x15\\xf1\\x9c\\xed\\xd8\\xf3\\xf5\\x9e\\x80\\xf44\\x1bn6\\xe0\\x8b\\xf2/8\\xade\\x04\\x80\\xbbf-\\xe8\\xf5\\xf7\\xe3$\\xe3\\xb0\\xe4\\x9e%\\x9c\\x86\\x8e\\xcd\\xad\\xcd(\\xaf\\x1c\\xfa!w\\xa8\\xa0\\xe25B\\xa8<\\xf3\\x03*y\\xe4E\\x1f\\xcb\\x8cE\\xca\\xb2\\x14\\xcc\\x9f1\\xdfo\\xd9\\xc8\\x88H\\xac\\xd7\\xae\\xc7\\xbaG\\xd6!L\\x14\\x9c[\\xe6\\xdcE\\xef\\xb2\\x1f.\\x84\\x85\\x85\\xe1\\x97K~\\x89\\x87\\xee}\\xa8\\xd7\\xdeJwd\\x93ex\\xf2WOB\\xc2H8\\xd5\\xcd\\xb6\\xb0\\x9c\\x86h\\xfe\\xb8\\xc9\\xde\\xc4\\xf7g\\xbe\\xe7T\\xf6\\xe1\\xfb\\x1e\\xeew\\xa8*\\x1d/\\xc5\\xe4\\t\\x939\\xd5Ul*\\x1e5ir\\xa8x\\x8d\\x00\\x08!8}\\xe1\\x0c\\xce\\\\<\\xcb\\xa9\\xbcH$\\xc2C\\xf7>\\x84\\xe5\\x8b\\x97s>GXX\\x18\\x1e{\\xe81\\xcc\\x9d1w\\xa0f\\xf6\\xc9\\xb5\\xebWa\\xad\\xa9\\xe2\\x1c\\x04\\x1b\\'\\x8f\\x83\\xf6\\x01-g!ULSp\\xce\\x8c\\xdbp\\xb3\\x01_\\x1c\\xf9\\x82S\\xd9\\xfe\\xf8\\xb1\\xfaG\\xce\\xe9j\\xfe\\xf5\\xe1\\x7f\\xed\\xf7\\xef\\xb1w\\xc4\\xe2\\xee\\xb9\\xfewj\\x07\\x80\\xab7\\xae\\xf2v\\x1d\\x08\\x15*^#\\x00O\\x9b\\x87\\x97cz\\xc2\\xb8\\tHP$\\xf0vLO\\x9d45`\\xce\\xec\\xee\\\\\\xae\\xb7\\xc3\\xccq\\xb8\\x13\\x1e\\x16\\x8e\\x19\\xb2\\x19\\x98u\\xe7,\\xce\\xf5O\\x9d4\\x15\\x0bf-\\xf0\\xdbK\\x03|{\\x1f\\x9c?\\x85\\xb6vn\\xc3\\xbd\\xbe\\xf8\\xcb\\xbe\\xbfp*7y\\xe2d\\xbf\\x1b\\xbb\\xc4Hc0\\x7f\\xe6|NY>\\x9a\\xdcM8t\\xfc\\x10\\xa7s\\x0b\\x1d*^#\\x00W\\xa3\\x8b\\xd7\\xdbv\\xda\\x94ix\\xe0\\x9e\\x07\\x82h\\x11?Z=\\xadh\\xba\\xc9M|\\xc7I\\xc6a\\xd9\\xa2e\\x9c\\x84\\xa8;\\x1dKn\\xb8\\xe0i\\xf3\\xc0\\xe3\\xf1\\xf0\\xaa\\xbf;u\\xce:\\xceA\\xaf\\x9aE\\x1a0c\\xfc\\xe7\\xa1\\x8f\\xbd#\\x96\\x93#\\xbe\\xb9\\xa5\\x19\\'\\xce\\x9d\\xe0\\x94\\xc1B\\xe8P\\xf1\\x1a\\x01\\xd49\\xeb8\\xfbW\\x00`\\xfc\\xb8\\xf1\\x98<\\x91\\x9b\\x0f%\\xd8\\xb4\\xb4\\xb6\\xe0l\\xedY\\xceCFf\\x0c\\x83\\xfb\\xee\\xba\\x8f\\xf7y\\xc2\\xc2\\xc28\\x0f3\\xdb\\xda\\xdb8O\\x1c\\xf4\\xc6\\xfb{\\xde\\xe7\\xec\\xf4\\xbf\\xf7\\xae{9\\x95K\\x9c\\x97\\x88\\xb9\\xd3\\xb9\\r\\xd9\\xedW\\xed8[\\xcb\\xcd\\x85 d\\xa8x\\x8d\\x00\\xdc\\xcdn\\\\\\xbbq\\x8dS\\xd9\\xf0\\xb0\\xf0a\\x95\\xfb\\xc9\\xdd\\xec\\xc6\\xb7?~\\xcb\\xb9|xx\\xf8\\x80\\x86\\xae|\\x16^7\\xb7\\xb4\\xa0a\\x10=\\x97\\xaf-_s*\\'\\x9b,C\\xec\\xd4XNe\\'FM\\xc4\\xf4\\xa9\\xd39\\r\\x1d/8.\\xa0\\xe2d\\xc5\\x88w\\xdc\\xd38\\xaf\\x11\\x00\\xd7\\xe9x\\x00\\x10\\x87\\x8b\\xa1\\x8a\\xe7\\xb6\\xe4d(him\\xe1\\xb5.\\xaf\\xdeU\\x8f\\xa7\\xfe\\xf8\\x14\\xef,\\x10\\xce\\x06\\'\\xe7\\xfd2[Z\\x9b\\xd1\\xe8n\\x00 \\xe3u\\x0e\\xc0\\x1bh\\xeblpr*\\xbb4q\\tb&\\xc6p\\xae{\\xfe\\x8c\\xf9\\x18\\'\\x19\\xe7\\xb7W\\xd7\\xde\\xde\\x8eKu\\x97\\xe0lp\\x0e\\x9b\\x1ev0\\xa0\\xe25\\x02\\xe0\\xf3\\x86\\x15\\x87\\x8b\\x91\\xa0H\\x08\\xa25\\xfchko\\xe35\\xd9\\xd0\\xeaiE\\x95\\xad*\\x88\\x16\\x01\\xc4\\xf7o \\xec<\\xb0\\x93s\\xd9vBp\\xea\\xfc)\\xce\\xe9\\xa9%\\x8c\\x84\\x93\\x7f\\x0c\\xf0.\\x08?W{\\x8e\\x8a\\x17ex\\xc3\\'\\xf3BXX\\xd8\\xb0\\x1a6\\x02\\x18\\xf2<a\\xc1\\xe2\\xda\\x8dk\\x9cc\\xd5\\x00\\xe0o_\\xfd\\r{xn\\x85\\xe6i\\xe36\\x91p\\xa9\\xee\\x12N_8\\r\\xd5|\\x15\\xe7\\x89\\n\\xa1A}^#\\x00>\\xbd\\x04\\x91H\\xc4{\\xa6.\\xd8\\x0c\\xb4\\x973\\xdc\\xf8\\xdf\\x13\\xff\\x8b+\\xd7\\xaep.\\xdf\\xd6\\xe6\\x9d\\x18\\xe0\\xf3\\xe1\\xfa\\xa2\"\\x84\\xe0\\xc4\\xb9\\x13h\\xb8\\xd90\\xd0\\xaf3\\xec\\x19^w1e@\\xf0\\xe9y\\x8d\\xb6<\\xe7C\\x89\\xb5\\xc6:\\xacB\\x14\\x8eY\\x8f\\xc1^?t\\xa9\\x85\\x86\\x1a*^#\\x01\\xaaG!\\xc7v\\xc9\\x863\\x17N\\x0f:\\xb85\\x90\\xdcdo\\xe2T\\xcd\\xa9P\\x9b\\x114\\xa8x\\r%<EF$\\x12q\\xea)\\x89\\x84\\xae^#`\\xd4XUS\\x85\\xb3\\xb5\\xe7Bm\\xc6m\\xec=\\xbc7\\xe8\\xd9hC\\xc5\\xa8p\\xd8\\xf3\\x1d*\\xf1\\x99\\xfd\\xe2C[{\\x1b\\xaf\\x07U\\xc2H89[\\xf9|\\xbf\\xf6\\xf6v\\x10B\\x86\\xd5\\xf0\\x91\\x8f-\\x11\\xe2\\x08\\xcc\\x9f\\xe9\\x7f1\\xf9`\\x98)\\x9f\\t\\xc9\\x18n\\x0b\\xb9\\x01\\x80mfa\\xaf\\xb7\\x07%\\x13\\xeb`9u\\xfe\\x14.8.`\\xa6|f\\xa8M\\t8\\xa3B\\xbc\\xf8\\xee\\xfc|\\xc1\\xc1=\\xa7\\x14\\x1fZZ[\\xd0F\\xb8\\r+D\"\\x11\\xc4\\xe1\\x81\\xbf<\\xed\\xed\\xedp681i\\xc2$\\xff\\x85\\x87\\x80\\x8e\\xef\\xc95\"}\\xd2\\x84Ix\\xf3\\xd97\\x83:\\xe9\\x10\\x1e\\x16\\xce9$\\x01\\xf0n\\xb0a\\xfe\\xc1<l{8\\x9f\\x1d\\xfe\\x0c\\x86\\xb5\\x86P\\x9b\\x11pF\\x85x\\x8d\\x8d\\x1c\\x0b\\x11D\\x9cg\\xb5\\xaa\\xaa\\x83\\x13Gt\\xa9\\xee2\\xe75|\\xe1a\\xe1\\x9c\\x97\\xb3t\\xcf\\xc3\\xe5\\x0fO\\xbb\\x07\\xa7\\xce\\x9f\\x82z\\xa1\\x9a\\xf31\\xc1D\\x1c.\\x86<F\\x8es\\x1c\\x87\\\\\"\\x91\\x08c\\x99\\xb1\\xc3j\\xfa\\xff\\xca\\xb5+\\xb0]\\n\\xce\\x06\\x1e\\x81`\\x9fy\\x1f~\\xf7\\xcb\\xdfa\\x9cd\\\\\\xa8M\\t(\\xa3B\\xbc\\xc4b1f\\xc8gp\\xda>\\x1d\\x00\\xaa/\\x07\\'\\xa5\\xc8\\xf1S\\x16\\xce\\x1b\\xa7\\x86\\x87\\x85s\\x0e^\\xe4\\x93c\\xcb\\xe3\\xf1\\xc0\\xfc\\x83y\\xd8\\x88\\x97$R\\x82{\\x13\\x16s\\x16/O\\x9b\\x07\\xf6z;f\\xc8f\\x04\\xd92n\\xdcd\\x9b\\xf0\\xcd\\x0f\\xdfp\\xde\\xfc\\xe2\\xd7\\xbf\\xf85~\\x91\\xf4\\x8bA\\x9f\\xf7\\xc6\\xcd\\x1bx\\xa7\\xf8\\x1d\\xd8\\xeb\\xfc\\xcf&^\\xbbq\\r\\xa7\\xce\\x9f\\x1aq)\\xa2G\\x85x\\x01\\xc0\\x03\\x0b\\x939\\x8b\\xd7\\xd5\\xebWQc\\xafA\\x9c<.`\\xe7o\\xf5\\xb4\\xc2^o\\xe7\\xbc\\x07\\xa1$R\\x82(I\\x14\\xa7\\xb2c\\x99\\xb1\\x90\\x8e\\x97\\xc2\\xd5\\xe0\\xf2[\\xb6\\xad\\xbd\\r\\x97\\x86\\xd1\\x1e\\x7fc\\x99\\xb1\\xb8\\x7f\\xa1\\x1a\\x1f\\x1f\\xf8+\\xa7a\\xd7\\xf5\\xc6\\xeb(\\xfa\\xbc\\x08\\xff\\xf1\\xbb\\xff\\x18\\x02\\xeb\\xfc\\xd3\\xe4\\xbe\\t\\xf3\\x0ff\\xce\\xe5S\\x1fIE\\xec\\x1d\\xdc\\xd63\\xf6\\x87\\xbb\\xd9\\x8dS5\\'Q\\xf8y\\x11\\xa7\\xf2\\xc5\\x07\\x8bG\\x9cx\\x8d\\x9a\\xd9F\\xf5\\xdd\\xc9\\x9c\\xcb\\x12B\\xf0\\x9f\\x1f\\xfeg@\\x17\\xb6\\x9e\\xb9p\\x06\\'\\xaaOp.\\xaf\\x98\\xa6\\xc0\\xbc\\x19\\xf38\\x95\\x8d\\x89\\x8e\\xc1\\xc2\\xd9\\xbd\\xa7\\x11\\xee\\x8d\\x86\\xa6\\x06\\\\o\\xbc\\xce\\xb9|\\xb0\\x19\\x131\\x86\\xb3\\x7f\\xaf\\xd5\\xd3\\n\\x9b\\xdd6$\\xfbGr\\xc1~\\xd5\\xceyQ<3\\x86\\x81l2\\xff\\xf5\\x92\\xbd!\\x89\\x94@5?\\xa9s\\xc3\\x14\\x7fT\\xd7V\\xe3\\xa7\\xab\\xdcz\\xfdBa\\xd4\\x88\\xd7\\x8c\\xa93\\x105\\x96[O\\x06\\x00N\\x9f?\\x8d#\\'\\x8e\\x04\\xc4\\t{\\xbd\\xf1:\\x0e|{\\x00g.\\x9c\\xe1T>L\\x14\\x86\\xe9S\\xa7s\\x1e\\x1aM\\x9a0\\tJ\\x1e\\xeb\\x15\\xab/U\\xf3^\\x96\\x02x7\\xb5\\x08\\xc6NB\\x93\\'L\\xe2\\xb5\\xde\\xf2\\\\\\xed9\\xfc\\xf5\\xc0_\\x07\\x95s+P\\xbc\\xbb\\xfb]\\xce\\xf7\\xc8\\x86\\xd5\\x1b\\x02:\\t#\\x1d/\\xe5\\xbc\\xd4\\xebF\\xd3\\r|w\\xf2\\xbb\\x80\\x9d{80j\\xc4k\\xe2\\xf8\\x89Xq\\xdf\\n\\xce\\xe5\\xdd\\xcdn\\xec\\xf8t\\x07\\x8eV\\x1d\\x1dT\\x0f\\x8cmaQ\\xf4y\\x11\\xaf\\xddw&\\x8e\\x9f\\xc8+\\x1c@\\x1c.\\xc6\\x84q\\x13\\x10\\x19\\xc1\\xed-\\xecnv\\xe3\\x98\\xf5(g?S\\xc71\\x9f\\x1d\\xfe\\x8c\\xd7\\xee>\\\\\\x91O\\xb9\\x13K\\x12\\x97p\\xf6\\xdd\\xdddo\\xe2\\xcb\\xef\\xbe\\xc4\\t\\xdb\\x89A\\xf7\\x8e]\\r.\\x98\\x8e\\x99p\\xf5\\xfaU\\xde\\xc7\\xdeh\\xba\\x01\\xab\\xcd\\xca\\xb9\\xfc#\\xf7?\\xc2\\xfb\\x1c\\xfd1}\\xeat$\\xceK\\xe4\\x14jr\\xbd\\xf1:\\xbe\\xf9\\xfe\\x1b\\xb0\\xc3\\xa4\\xc7\\x1a\\x08F\\x8dxE\\x88#\\xb0\\xecg\\xcb\\xc0D\\xf2\\x98\\x02\\xbf\\\\\\x83\\xbcO\\xf3p\\xe0\\xdb\\x03\\x03\\x1a\\xa6\\xd8\\xeb\\xed\\xd8\\xb1k\\x07\\x8aM\\xc5\\xbc\\x92\\xdb\\xc5\\xc9\\xe3\\xf0\\xa0\\xeaA^\\xe7\\x8a\\x8f\\x8b\\xe7<\\xcc\\x04\\x80\\xe3\\xa7\\xbf\\xc7_\\xf6}\\x84:g\\x9d\\xdf\\xb2M\\xeeF\\xec3\\xef\\xc3\\xdf\\xbf\\xfa;\\x1a\\x9a\\x02\\xbfV.<,\\x1c\\xf3g\\xcc\\xc7\\xb4;\\xa6q>\\xe6\\xf4\\x85\\xd3xo\\xf7{\\xf8\\xb1\\xfa\\xc7\\x01\\t\\x98\\xbb\\xd9\\x8d/\\xca\\xbf@\\xee\\xae\\\\\\xfc\\xd7\\xc7\\xff\\x85\\xa3?\\x1e\\xe5\\x1d\\x1d\\xbf\\xcf\\xbc\\x8f\\xf3}\\xa1\\xb83\\x0e\\x93\\xa5\\x81\\xcd\\xf00~\\xecx\\xc4\\xdd\\x19\\xc7)\\xac\\xa3\\x9d\\xb4\\xc3^o\\xc7\\xa5:n[\\xb1\\t\\x81\\xf0W_}\\xf5\\xd5P\\x1b1\\x14tL\\xb1_q^\\xc1Y\\x8e\\x1bU\\x10\\x10\\\\\\xbb~\\r\\'\\xce\\x9d\\xc0\\x8f\\xd5?b\\xfc\\xb8\\xf1\\x9c\\x9c\\xad\\x8e\\xab\\x0e\\x14}Q\\x84\\xc2\\xcf\\x0bq\\xc8r\\x08-\\x1e\\xeeC\\xad1\\xe21x\\xfc\\x97\\x8f#q^\"\\xe7c\\x00o\\xb2\\xba3\\xb5g8\\xe7\\xc6joo\\xc7\\xa5+\\x97p\\xae\\xf6\\x1c\\xe2g\\xc6C:^\\xdak\\xb9\\x8b?]\\xc4\\x9fv\\xfe\\x19\\xfb\\xcc\\xfb8\\xcf\\x94vp\\xef]\\xf7\"A\\x91\\xc0i\\xa84Y:\\x19g.\\x9eA\\xf5\\xa5j\\xce\\xc30\\xc7U\\x07N\\x9c;\\x81K\\xf5\\x97\\xb0`\\xd6\\x02N\\xf1|\\x97\\xae\\\\\\xc2\\xce/v\\xa2\\xe8\\x8b\"|q\\xe4\\x0bT\\x9e\\xabD\\x93\\xbb\\t5\\xf6\\x1a<\\x9a\\xfc(\\xe7\\xde+\\x00d\\xff%\\x9bs\\x8f\\xed\\xb7\\xda\\xf5\\xbd\\xee\\x88=Xn\\xbao\\xe2G\\xdb\\x8f\\x9cr\\x88\\xb9[\\xdc\\x88\\x9d\\x1a;\\xacR\"\\r\\x86Q3\\xdb\\x08x}\\x04\\x0f-~\\x08\\x15\\'+x=\\x88W\\xaf_\\xc5\\xe1\\xef\\x0f\\xe3\\xdb\\xaao1q\\xdcDL\\xbbc\\x1a\\xeeR\\xdc\\x8593\\xe6tn\\xa9e\\xaf\\xb3\\xe3\\xc7\\xea\\x1fQ}\\xa9\\x1a\\xf5\\xaez4\\xb9\\x9b8\\xa7/\\xe9\\xce\\x0c\\xd9t<\\xaa~\\x94\\xf7qc\"\\xc6@\\xbdP\\r\\xf3\\xf7f\\xce\\xdf\\x8dmaq\\xe4\\xc4\\x11T\\x9e\\xad\\xc4\\xe4\\x89\\x931o\\xe6<\\xc8c\\xe4h\\xf5\\xb4\\xe2r\\xdde\\x9c\\xab=\\x07W\\xa3\\x0b7\\xd9\\x9b\\x03\\xea\\xdd\\x9c\\xbdx\\x16\\xb5?\\xd5b\\xd6\\xb4Y~\\x876\\x91\\x11\\x91x|\\xd5\\xe38W{\\x0e\\xa7/\\x9c\\xe6|\\x8e\\x1a{\\rj\\xaf\\xd4b\\xff\\x91\\xfd\\x98~\\xc7t$\\xce\\xbb\\x07sf\\xcc\\xedtd\\xd79\\xebp\\xee\\xe29\\xd4\\xd8k\\xe0\\xb8\\xea\\xc0\\x8d\\xa6\\x1b`[\\xd8\\xdb\\x128\\x9ew\\x9cG\\xcd\\xe5\\x1a,\\x9c\\xb3\\x90\\xd3y\\xabk\\xabq\\xe9\\n\\xf7Y\\xdb\\xf88%\\xe7\\xb2|\\xb8g\\xde=\\x98?s>l\\x97m~E\\xbf\\xc9\\xdd\\x84\\xea\\xdaj4\\xb9\\x9bFD\\xcc\\x97\\x88\\x0c\\xd7\\xb0\\xe0 \\xd1\\xd2\\xda\\x82\\xff.\\xf9o\\xdeC\\xb9\\xa1`\\xc2\\xb8\\t\\xf8\\xf4??\\xe5\\x1c\"q+\\x9e6\\x0f\\xb6\\xfc\\xd7\\x16^i\\x95\\x83MxX8\\xc6D\\x8c\\x81l\\xd2T\\xdc\\xbb\\xe0><t\\xefC\\x98\\x1d;\\xbb\\xcf\\xa1N\\xfe\\xdf\\xf3\\xf1\\x91\\xf1\\xa3\\x90\\\\\\x1b\\xf9d9>\\xfd\\xcfO{\\x15\\xda\\x16O\\x8bWX\\xcf\\x9f\\xc6w\\'\\xbfC\\xe5\\xd9J\\\\q^\\xe1\\xdcK\\x9c2i\\n\\xe6M\\x9f\\x87\\x07\\xee~\\x00\\xaax\\x15\\xa6M\\x996`\\xe7}\\xa3\\xbb\\x11g.\\x9c\\x81\\xb9\\xd2\\x8c\\xef\\xac\\xdf\\xe1\\xbc\\xfd<\\xe7\\xe1\\xeb8\\xc98\\xcc\\x9a6\\x0b\\t\\x8a\\x04\\xdc{\\xd7\\xbd\\x98)\\x9b\\t\\xd9d\\xd9\\xb0K\\x93\\xc4\\x85Q\\'^\\x80\\xd7I\\xfb\\xdf%\\xff\\r\\xe37\\xc6\\x01\\xf5\\x8e\\x82\\xc1\\xb4;\\xa6\\xe1?\\x1e\\xff\\x0f\\xfc,\\xfeg\\x83\\xaa\\xc7j\\xb3\\xe2\\xf9???\\xacB!\\xba\\x13%\\x89\\xc2K\\x1b^\\xc2/~\\xf6\\x8b^\\xffN\\x08A\\xe6;\\x99\\xf8\\xaa\\xe2\\xab\\x90,\\xb7)\\xd8Z\\x00\\xa5\\xe2\\xf6^\\xd27\\xdf\\x7f\\x83?\\xbc\\xfd\\x87\\x80$NLP$ sc&\\x14w*\\x06t\\xfc\\xdb\\x9f\\xbc\\x8d\\x8f\\xf7\\x7f\\x1c\\x90\\xf6\\x89\\x93\\xc7\\xe1\\xcd\\x7f\\xcf\\xc6\\xb4)w\\x0e\\xba\\xae\\xa1Fxr\\x1b\\x00\\xa4\\xe3\\xa5x\\xe2WO`\\xd5\\x03\\xab\\x86\\xc5\\x02\\xe5\\xb93\\xe6\\xe2\\xff\\xac\\xfb?\\xb8g\\xee=\\x83\\xaeK\\xa9P\\xe2_\\x1e\\xfa\\x97\\x00X\\xd5;\\xf7\\xcc\\xbb\\x07b\\xf1\\xc0\\xbd\\r\\xed\\xa4\\xbd_\\x01\\x10\\x89Dx\\xe5\\x89W\\xf0\\xd0\\xe2\\x87Brm\\xde\\xfb\\xfb{\\xbd\\xbe\\xd0\\xfc\\xd9\\xcd\\x07B\\xc8\\xa0\\x84\\xa7cq} h\\'\\xed\\x82M\\xa94*\\xc5\\x0b\\xf0n\\xe4\\xf9\\xc4\\xaf\\x9f\\xc0o\\x1e\\xfd\\r$\\x91\\xdc3\\x08\\x04\\x920Q\\x18\\x12f%`s\\xcaf,V.\\x0eX\\x0cP\\xda\\xca4\\xbf\\xbb0\\x0f\\x04\\xd9d\\x19\\x1e_\\xf58/\\xa7\\xf6@`\\xc60H\\x7f,\\x9d\\xd7\\xae\\xd8\\x81\\xc2q\\xd51lz\\xe3\\x94\\xfe\\x19U\\x0e\\xfb[\\x99<q2~\\xb7\\xfawH\\x98\\x95\\x80\\x8f\\xf7\\x7f\\xcck\\xef\\xc3\\xc1\\x12!\\x8e\\xc0\\xea\\x07WC\\xf7\\x0b\\x1df\\xcag\\xf2Z\\\\\\xcd\\xa5\\xee\\x8d\\xab7B$\\x12a\\xe7\\x17\\xdc7\\x84\\xe8\\x8f\\x18i\\x0cR\\x1fI\\x85j\\x9ejH\\xf2\\x87M\\x89\\x9e\\x82\\xa7tOa\\xe2\\xb8\\x89\\xd8\\xfd\\xe5\\xee!\\x89\\xa8\\x7fT\\xfd(t\\xcbt\\x18#\\xe6\\x97\\x85\\x84\\x12\\x1aF\\xb5x\\x01\\xdee\\x16\\x0f\\xaa\\x1e\\xc4=s\\xefA\\xc9\\x97%\\xf8\\xf8\\x8b\\x8f\\xd1\\xe8\\x0en*\\xdf9\\xb1s\\xf0\\xea\\x93\\xaf\"\\xf6\\x8eX\\xde\\xe9z\\xb8\\x1256\\n\\x1bWoDdD$\\n?/\\x1c\\x94\\x03|\\xd2\\x84IxJ\\xf7\\x14\\x1e\\xbe\\xefa\\x88\\xc5\\xde\\x80\\xd8`\\xb7\\x11\\xe0}\\xb9<\\xb9\\xe6I\\xdc=\\xf7n\\xbc\\xfd\\xc9\\xdb\\xbcf\\xf7\\xf8\\xa0\\x8cS\\xe2\\x99\\x7fy\\x06\\xca8%\\xe7\\xe56\\x94\\xd03\\xea\\xc5\\x0b\\xf0\\xfaY\\xa4\\xe3\\xa5\\xd8\\xb8z#\\xd6\\xfc|\\r\\x8a\\xbe(\\xc2\\xdf\\xbf\\xfe;Z=\\xad\\xf0x<\\x83N\\xed\\x1b!\\x8e\\xc0\\x98\\x881\\x98=m66\\xfdz\\x93\\xd7o\\x14\\x84\\\\]\\xb72N2\\x0e\\xfa_\\xe9\\xa1\\x8cS\\xe2\\x9d\\xe2wp\\xb9\\xfe2\\xaf\\xe5=c\"\\xc6`b\\xd4D\\xbc\\x91\\xfe\\x06\\xe6\\xc7uE\\xfc\\xff\\xfcg?\\x0fX\\x8f\\x8e\\x8b\\r\\x0f\\xaa\\x1e\\xc4\\xe2\\x84\\xc5\\xf8\\x7f\\xa5\\xff\\x0f%\\x07K\\xd0\\xda\\xda\\x8a\\x16O\\xcb\\x80\\xfd>\\xdd\\xaf\\xc7z\\xedz,NX\\x1c\\xb4\\x97\\x08%xP\\xf1\\xba\\x85\\xe8\\t\\xd10\\xac5`\\xe3\\xea\\x8d\\xf8\\xfe\\xcc\\xf7\\xf8\\xb2\\xe2K\\\\p\\\\\\x80\\xbb\\xd9\\x8dFw#\\x1a\\x9a\\x1a\\xd0\\xdc\\xda\\x8c\\xb6\\xb66\\xb4\\xb5\\xb7u>@aaa\\x10\\x87\\x8b!\\x0e\\x17c\\x9cd\\x1c\\xc6\\x8f\\x1d\\x8fq\\x92q\\x90DJ\\xb0(a\\x11~\\x91\\xf4\\x0b\\xc8&\\xcb\\x86D\\xb4\\xba\\x13\\x1e\\x16\\x8e\\xa5\\xaa\\xa5X\\xa4\\\\\\x84\\x03G\\x0f\\xe0\\x8b\\xf2/p\\x93\\xbd\\tg\\x83\\x13\\rM\\rh\\xf1\\xb4t\\xc6<\\x89\\xc3\\xc5\\x18\\xcb\\x8cE\\xf4\\x84hL\\x8c\\x9a\\x88\\x95\\xea\\x95xT\\xfd\\xe8m\\xbd\\x91G\\xee\\x7fd\\xc09\\xcf\"\\xc7DB\\x1a\\xd5{@l\\x7fH\"%xJ\\xf7\\x14R\\x1fI\\xc57?\\x98a:Z\\x86k7\\xae\\xa1\\xa1\\xa9\\xa13v\\xcb\\xe3\\xf1t:\\xd5\\xc3Da\\x08\\x0f\\x0fG\\x848\\x02c\\x19\\t\\xc6\\x8f\\x9d\\x80\\xb1\\xccXL\\x187\\x01\\xaa\\xf9*<|\\xdf\\xc3\\x98,\\x9d\\xccy\\xb8>1jb@&T\\x00o\\xa6V>\\xc9\\x0eoe\\xda\\x94i\\x01\\xb3e\\xea\\xe4\\xa9\\x88\\x14\\xe80yT\\x86J\\xf0\\x81\\x10\\x82\\x16O\\x0b\\x9c7\\x9c\\xb0\\xd7\\xdbq\\xe1\\xa7\\x0bp\\xdep\\x82ma;E\\x0c\\xc4\\xfbPF\\x8e\\x89D\\x94$\\n\\xf2\\xc9rL\\x97M\\xc7\\x1d\\x93\\xee\\x80$R\\x12P\\x7f\\xd6`imk\\xc5U\\xd7U\\x9c:\\x7f\\n\\x17\\x7f\\xba\\x88\\x1bM7\\xd0\\xdc\\xda\\x0cB\\x08\\xc61\\xe30u\\xf2T\\xcc\\x9b1\\x0f\\x8a;\\x15\\xfdNd\\x0ct\\x18*\\x12\\x89\\x10&\\n\\x1bt\\\\\\x91\\xa7\\xcd\\x83\\xeb\\x8d\\xd7Q{\\xa5\\x16\\xb6K6\\\\\\xbdq\\x157\\xd9\\x9b\\xf0x<  \\x88\\x10G rL$\\xc61\\xe3 \\x9b,\\xc3\\x0c\\xd9\\x0c\\xdc\\x11}\\x07\\xc6I\\xc6\\r\\xe8\\x05B\\x08\\t\\x98#_$\\x12!<,|\\xc0\\xb3\\xa9m\\xedm\\x01\\xcdx2\\x9c\\x12;\\xf2\\x81\\x8a\\xd7\\x00\\xe8\\x9c\\xea\\x16\\xf9\\xb6\\x1d#]\\x9be\\x0c\\x87\\xd0\\x0b>\\xb4\\xb7\\xb7{3\\xcc\\x12o\\xefQh\\xf6w\\xd0qM:\\xb2\\xe5\\x8a \\xcc\\xebA\\xe1\\x0e\\x15/\\n\\x85\"HFm\\x9c\\x17\\x85B\\x116T\\xbc(\\x14\\x8a \\xa1\\xe2E\\xa1P\\x04\\t\\x15/\\n\\x85\"H\\xa8xQ(\\x14AB\\xc5\\x8bB\\xa1\\x08\\x12*^\\x14\\nE\\x90P\\xf1\\xa2P(\\x82\\x84\\x8a\\x17\\x85B\\x11$T\\xbc(\\x14\\x8a \\xa1\\xe2E\\xa1P\\x04\\t\\x15/\\n\\x85\"H\\xa8xQ(\\x14AB\\xc5\\x8bB\\xa1\\x08\\x12*^\\x14\\nE\\x90P\\xf1\\xa2P(\\x82\\x84\\x8a\\x17\\x05\\x80\\x15\\xaf\\xa9%\\xde\\xcc\\xa3\\xaa\\xd7`\\x11\\xca\\xb6\\x855%H_:\\x0b\\xd1Sfa\\xf9+&8Bm\\x0feH\\xa1\\xe2E\\x11,\\xa6\\xb7\\xb6 \\xef\\xb0\\r\\xaez\\x1bL\\x7f\\xdc\\x82\\x82\\x13\\xa1\\xb6\\x882\\x94\\x8cn\\xf1j4\\xe2\\x89\\xe9\\xbe\\\\\\xe7\\x11\\t\\xd8r$\\xd4\\x06Q\\xf8\\x10-\\xed\\xb6\\x03\\x0f\\x13\\riT\\xe8l\\t\\x05\\xae\\xe3%x\\xed\\xe9\\x14,W\\xcdBt\\xb4\\x04\\x12\\x89\\x04\\xd1\\x8a\\x04$\\xeb\\xd2\\x91\\xb3\\xdb\\nW\\xa8\\r\\x0c6d\\x14S\\xbdCC\\x18\\x80\\xc0\\xf7\\x91\\xad+&\\xceP\\x1b\\x15\\x12\\xaaH\\xd6\\xfd\\x8c\\xb7\\x1d\\x12\\xb3HE\\xeb\\xd0\\x9e\\xbdzO6\\xc9\\xda\\x96E\\xb2^/$\\x15n\\x1e\\x076T\\x90\\xfc\\xe7tD\\xb32\\x95d~RM\\xf8\\x1c*hZ\\xed\\xa4\\xf4\\x05\\r\\x91\\x89\\xbb\\xee\\xdd\\xdb?\\x0cQ\\xac\\xce&\\x15\\r\\xa166x\\x8c^\\xf1j5\\x93\\x8c\\x05\\xbe\\x0b\\xddq\\x130j\\x92m\\r\\xb5a\\xa1 \\xb4\\xe2U\\xb6Y\\xe6k\\x7f-)\\x1c\\x9do\\x0f\\x1e\\xb8I\\xc56\\xb5\\xef\\xa5\\xcb\\x10\\xc5\\xeaLRh\\xaa\"\\xf6\\x06BH\\xab\\x9b8\\xade\\xa4\\xf0\\x05\\rQ0\\xde{Z\\xb1\\xa9t\\xc4\\xbe\\x90G\\xed\\xb0\\xd1\\xb5;\\x17\\x85\\'\\x01\\x88eH}#\\x0b\\x9a(\\x00l9\\xf2v\\x98\\xc0\\x86\\xda8\\n\\xa5/\\xeaK\\x90\\xf5V9X\\x00\\xb2\\xb5\\x050\\xef\\xc9B\\xea2%dQ\\x00\\xc4\\x0c\\xa4\\xf1\\x1a\\xa4\\xbeQ\\x86\\xd2m\\x1a0\\x00l;\\xf3P<Bg2F\\xa9xYQ\\xb0\\xbd\\x04\\x0e\\x0f\\x80x=\\xb6<c@\\xc6Z\\x19\\x00\\xc0\\xf6Q\\x0e\\nG\\xe8\\xc5\\xa6\\x08\\x1f\\xb6\\xdc\\x04\\x93\\x0b\\x80X\\x89\\xb4\\xe7S!\\xeb\\xa3\\x9crC*4\\x0c\\x00\\xd6\\n\\x8bu\\x08\\r\\x1cBF\\xa5x\\xb1\\x07\\xf3\\x90w\\x84\\x05\\xc0@\\xfbl:Tb)\\xb4O\\xeb\\xa1\\x12\\x03p\\x99\\x90\\xf7\\x9e%\\xd4&R(\\xbd\\xc2\\xba\\x9c\\xde\\x91\\x81X\\x0eEl?\\x05\\x19\\t\\x18\\xfe\\x1b\\x83\\x0b\\x8aQ(^\\x0e\\x14\\xfe\\xa9\\x106\\x0f\\x80\\xd84\\x18\\xd6\\xf9\\xde]\\x8b\\xd2aX!\\x05\\xc0\\xc2\\xf2n\\x1e\\x8c\\x8d<\\xab\\xad/\\xc0*\\x89\\x08\"\\x91\\x04\\xc9\\x7f\\xec\\xf6\\xaasYa|{\\x0b\\xd2\\xb4\\xc9HPDC\"\\x11A$\\x89\\x86|n\\x12\\x96?\\x96\\x8e\\x9c]\\x16\\xb8x\\xc7U\\xb1p\\x1c)A\\xde\\xff\\x97\\x8e\\xb4\\x87\\x93\\x910W\\x8e\\xe8h\\tD\\x12\\t\\xa2\\xa7\\' \\xe9\\xe14\\xa4\\xff\\xb1\\x08\\x96\\x00\\xf4 \\xd9\\x83[0+\\xc2;#\\x9b\\xf4\\xca\\x00E\\xfdd\\x0e\\x92;\\xda\\xe6M\\x1bP\\x93\\x87\\xe5\\x92\\xae\\x1d\\xad\\x97\\xbf\\xe33\\x945\"-Z\\xd4c\\xf7q\\x91H\\x04\\xd1\\xf8\\x14\\x94\\xf46\\x96\\xefls\\x11\\xe4\\xcf\\x9a\\xb8\\xdb\\xe3q\\xc1\\xb2;\\x0f[6\\xaeB\\xf2\\xc2Y\\x90GK \\x8a\\x90 Z>\\x0b\\tKS\\xf0\\xc4+\\x050\\x9e\\xe5\\xe6<p\\x9d4\"\\xef\\xa5\\'\\xb0ji\\x12f\\xc9\\xa3!\\x89\\x10A2>\\x1arE\\x02\\x92\\xb5iH\\x7f)\\x07E\\x87m\\x01sEHc\\xa2!\\x15\\x03\\xf0\\xd8`\\xab\\xe9\\xc7\\xae\\x83&\\x98Y\\x00\\x8c\\x12*e\\x80N>\\xdc\\x08\\xb5\\xd3m\\xc8\\xb1d\\x11\\x15\\xe3uv\\xaa\\xb6U\\xf4\\xf8\\x93\\xdb\\xa8\\'\\n\\xb1\\xf7o\\x9a\\x1d\\xd5\\xfc\\xea\\xad\\xcb\\'Z_\\xbd\\xea\\xd7\\xab\\x08!NR\\xb1#\\x95\\xa8b\\xfa\\x9b\\x11\\xf2~\\xa4\\x8b\\xf4$\\xbf\\x92\\xcb\\\\\\x99\\x9bT\\xef\\xc9\"\\xa9\\x8b\\xa4~\\xeb\\x04@ U\\x92\\xd4w+8\\xcc\\xc2\\xf5\\xe7\\xb0\\xaf&\\xd9K|\\x7f\\x8b\\xd5\\x93R\\xde\\xb3WnR\\xf6\\x8c\\xc2{|L*)\\xac#\\x84\\xd8r\\x89\\x86\\xe1`\\x7f\\xc7\\'JG\\x8a{\\xfb\\x12\\x9dm\\x0e\"{\\xa6\\x8c\\x93-\\xd5{2\\x89v\\x0e\\xe3\\xff\\x9cb)Qo\\xca\\xef{\\xb6\\xce]E\\n7\\xab\\x89\\xb4\\xdf\\x19\\xbfn\\xd78^K2>\\xa9\\x1a\\xfc\\x8ch]!\\xd1\\xf9\\xee)\\xc5\\x86>\\x9c\\xf1\\xf6R\\xa2\\x8f\\xf7~G\\xd9\\xfa\\x91;\\x83>\\xc2;\\x96\\xb7\\xe2\\x82q{.,,\\x00\\xa9\\x06\\x86M\\xaa\\x1e\\x7feV\\x18\\xa0O,\\xc4\\xd6c,L;\\xf2P\\xbe!\\x1bj\\xa6\\xf7\\x9a\\xfa\\xc7\\x0e\\xe3\\xf3iH\\xf9\\x93\\x05,\\x18\\xc8\\x16i\\x91\\xf2O\\x1a\\xa8\\xe2\\xe5\\x90G1`]v\\xd8,&\\x14\\xef,Ay-\\x0b\\xd7\\xb1\\x02<\\xb1\\xc2\\x0e\\xf6@1\\x0c\\x0b\\xfa:\\xa1\\x0b\\xc6g5H{\\xdb\\xd2\\x19\\xbf\\xc3\\xc4\\xaa\\xa0Y\\xa1A\\xf2B\\x05d1\\xd1\\x90x\\x9c\\xb0\\x9f\\xb1\\xc0\\xb4\\xaf\\x14\\xc6\\xe3\\x0e\\xc0eE\\xd1\\xd3Z\\xb8X\\x13J\\x9f\\x19\\xe8\\xebW\\x01\\xfd\\xd3:d\\x1d)\\x82\\xab\\xb6\\x18y;\\xb3\\xa0\\xdd\\xd4\\x97\\xa7\\xa5\\x17\\xeaK\\x90\\xb7\\xd3\\x06\\x00P\\xaeO\\x87.\\x06@T\\n\\xb2\\x8dJ8}E,\\x7fJ\\xc1\\x96\\xbd.\\x80Q#\\xb3(\\x0b\\x1a\\xe9\\xad\\x95\\xc8\\x914\\xa0\\xeb\\xd0\\x1d\\x07\\x8c\\xbf\\xd7!\\xedO\\xe5\\x9d=]\\xe9\\x02\\rRVj\\xa0\\x9a\\xab@4\\xe3\\x86\\xd3a\\x83\\xb5\\xdc\\x88\\xe2}\\x168X\\x17\\xca\\xdf{\\x02\\x1a\\x8b\\x15\\xc5\\xfb\\xb2\\xa1\\x89\\xe9V\\x95\\xc7\\x86\\x82T\\r\\x9e\\xd8\\xed\\xeb1\\xc6(\\xa1]\\xa3\\x83F\\x95\\x00y\\x0c\\x03\\xc6\\xc3\\xc2Yo\\x83\\xb5\\xb2\\x02\\xe6\\x03F\\x94\\xd7\\xb0p\\x9d4\\xc1T\\xc9\\x02k\\x07\\xf95bt\\xd8\\xb2A\\x89\\x927\\xad\\xb0}\\x94\\x0e\\xc3J3\\n\\xd7v]\\x0f\\xd7\\xb1<\\x18\\xd6oA\\xd1I\\x16\\xcc\\x1c=\\xf2\\xde\\xd0\\xe1\\xb6\\xe6\\x1c)\\x84Z=\\x87\\x14[.\\xd1D\\xf9\\xdeZ\\x9b\\xcbz}\\x0b\\xda\\xdf\\xd7\\x12)@ \\x96\\x91\\xd4\"\\x1e\\xef\\xac\\xee\\xbd\\x80\\x05J\\xef\\x1b9FM\\x0cE\\xfd\\xbcm\\xddU\\xa4p\\x83\\xb23\\xd6\\x8c\\xb9?\\x8bT\\xf5\\x13\\xa6P\\xf5\\x967.M\\xbaHO\\xb2\\x8d\\xfd\\xbd\\xc5\\xdd\\xa4\\xea\\xfdT\\xa2\\x8c\\xea\\xe8\\x81iH\\xae\\xad?\\xe3\\xfd\\x84J\\xb8\\xcd$#\\xdeWWb&\\xafP\\x8a\\xaa7|\\xd3\\xfaQj\\x92}\\xa6\\xf72\\x03\\x0e\\x95\\xe0\\xdc\\xf3r\\x13\\xf3\\x8b\\xea\\xaev\\x8e\\xd3\\x92\\xcc\\x92~\\xda\\xcfn&\\xb9\\xeb\\xbb\\xae\\x8blu>\\xe9\\xde\\x0f\\xb7\\x7f\\xa8\\xeb\\xecq\\xc9Vf\\x11s]\\x7fF:I\\xd5\\x9e,\\x92\\xba\\xc2@J\\x03\\xd5\\x05j0\\x93\\x8cD\\xdf\\xf5\\x92\\xaaI\\xe6!\\'!\\xeejR\\xfa\\xb2\\xb63DB\\x9ah \\xc5\\x83\\x7f\\xce\\xc0\\x00\\x00\\x1cVIDAT\\xb6\\x00\\x9do\\x982\\x8a\\xc4\\xcbM\\xcc/(;\\xe3\\xb9\\xb2*\\xfb(\\xd6PF\\x0cq\\x1db\\x92M\\xaa\\xb8V\\xdf\\xedA\\x82\\xefa\\xcd,\\xe72H\\xa8&\\xf9k|\\x0f\\xafXFRK\\xfa9\\xc6]A\\xf2\\xdf*%v\\x8e\\xe2\\xd1!v\\x00\\x88\\xea\\xe5\\x8a\\xfeJ\\xfa\\x8d\\xf3\\xaa\\xee\\xa8K,#\\xfa=\\x1c\\x07?\\xee2b\\x98\\xe3?\\x008\\xd8\\xe2\\xe5\\xdco J\\x9f\\xd80\\xf1zR|\\x91K\\xe5NR\\xf6\\x9c\\x8aH\\xe7\\xe8H\\x96\\xc9\\xde\\xe3\\xf7\\x85k:\\x84CK\\xf2\\xed}V\\x10\\\\\\xce\\xe4\\x13]\\xac\\xef^\\x8bQ\\x12U\\xc7PX,%\\xaa\\xcd\\xf9\\xa4j\\x04\\x07\\xa7v0z\\xc4\\xab\\xae\\x90\\xa4\\xfa|\\x05\\xd25\\x85\\xa4\\xbf{\\xae\\xeau\\xdf[Z\\xac \\x86\\xfd\\x1c\\x1f\\xd4\\x1e\\xe2\\xc5\\x10\\xf5\\xb6\\xfe\\xc4\\xe2\\x16,\\x99D\\xd5\\xf1&\\xdfP\\x1a\\xb8H\\xf1\\x86b\\x92*\\xf3=\\xb4K\\xb2I\\xdf^<\\x0eA\\xaa\\xce\\xae\\xba\\xa4+\\xf3\\xfbm\\xbf\\xceC>\\xd4\\xf9z\\xb1J\\x92q\\xa8\\xefo\\x15\\\\\\xf1\\xaa\\xea\\xf2\\xd9E\\xa9H\\xd6Q\\x1e\\xad\\xdb\\xea&\\xce\\xdbD\\xa0{[\\xf1\\xeb\\x85\\x06\\x9a\\xea\\xed\\xbeQBG\\x8f2>\\x95d\\x9bB\\xa5\\xa6C\\xcf\\xa8\\x99m\\xb4~\\x90\\x8b\\x92z\\x00b\\x05\\xd2\\x9e\\xd1\\xf5\\x19\\x1f\\x03\\x00\\xca\\r\\xe9\\xd0\\xc6\\x00\\xf0\\xd8P\\xf8v!\\xffl\\x05Q\\x1a\\xe8o\\xf1\\xa7\\xf5\\xcb\\x82U\\xd0\\xce\\xf1\\xfe\\xe8\\xb0X`\\rTV\\x87\\xa8dhT^g\\x11[c\\xf3\\xce\\xb0\\x0e\\x14\\xa9\\x0e\\xe9\\xeb\\xbd~3\\xd7\\x81<\\xe4\\x1e\\xf7w\\x80\\x15\\x05;\\x8cp\\x01`\\x96\\xeaaX2h\\xa7\\xd5\\xc08V\\x88\\x82#\\xde\\xb9>\\xd9\\xba,d,\\xe2a\\x87\\x98\\xe9e\\xbdd4\\xa4\\xe3}?\\xd6\\xda`\\xe5;+\\x1d\\x08\\xea\\xcb\\x91\\xb71\\tI\\xcf\\x1b{\\xac_d]. z\\xc4z\\xb8nct\\x88W\\xa3\\ty\\xefz\\xa3\\x92\\x99\\xfb\\r0,\\xf3s\\x03\\xcbt0\\xacS\\x00\\xe0\\xfa\\xa0\\xf6\\x84I\\xd4@\\xc3\\xc3\\xa7\\r\\xb1\\x12\\tJ\\x9fM\\xb56\\xd8\\xf9\\x9d\\xae\\x1fd\\x88\\x8e\\xf1\\xd5\\xebr\\x0ez\\xa1\\xae\\xfai\\x83w%\\x82\\xc7\\x82\\x82\\x1d\\xc6~\\xa7\\xff\\xd9\\x83y\\xc8;\\xc6\\x02b\\x19t\\x9b\\xf5P\\x0c\\xf2\\xdc\\x03\\xc5z\\xc0\\xe8\\x15m\\xb1\\x02)\\xeb\\xbcQ\\xe7\\x83C\\x06\\xcdR\\xa5\\xb7\\x9e\\xfa\"l\\xdd\\x98\\x83\\xf2\\xfaAW\\xca\\x19\\xd7\\xc1\\xd7\\xb0j\\xb1\\x06\\xe9\\x1fX\\xe0\\x12+\\xa0}\\xb1\\x18fS\\xb6\\xf7~s\\x18\\xb1ee\\nr\\x8e\\x8f\\x8e5\"\\xa3B\\xbc\\x1c\\xbbrPx\\x16\\x80/\\x18\\xd5\\xff\\xbc\\x1b\\x03\\xcd\\xd3\\x06\\xefL#kA\\xc1v#\\xaf\\x07\\x9fQ(!\\xe7e\\xa1\\x14\\xd2(\\xdfc\\xc5\\xba\\x03\\xba<)\\xa0\\x81\\x8aqi0\\xac\\xf1\\xaa\\xb2cW\\x1e\\nk\\xfb*\\xe8B\\xc9\\xdb\\xbeX\\xba9iH_\\x13\\xaa\\xde\\x00\\x0bk\\xa5\\xd5\\xdb\\x9e\\x8c\\n\\xc9\\xaa\\xc0\\xf4\\xfe\\x94\\x9b\\xb3\\xa0\\xf7\\xcd\\n\\xdbvoA\\xb22\\x01\\xab\\x9e\\xdc\\x8a\\x9c\\x8f\\x8c(?\\xe9\\x00\\x1b\\xa4|h\\xb6\\x8f\\xd2\\x90\\xac\\xdd\\nc\\r\\x0b\\xe9\"=\\xf2\\x8fV\\xa1\\xf4u\\x1d\\xd4\\xcb2P\\xba\\x97\\x8b\\x80\\xb9`\\xfc}\\n\\x9ex%\\x0f\\xc6\\x93#@\\xe0B=n\\r:\\xad\\x15$3\\xd1\\xe7\\x17\\x88\\xcf f\\xce.\\x0f\\')\\\\\\xe7\\x8b\\xa7\\x8a\\xf27[Gz\\xfa_6s\\x899\\xeaI\\xe9\\x86\\x8es\\xa5\\x92b?~\\x14\\xa7\\xa5\\x98d\\xbf\\x90J\\xb4K\\x94D!\\x93\\x12\\x86K\\xacQ\\xbf\\xf5\\xf2X\\x98}4\\xb3\\xd3\\xf9\\xdd\\xe7$\\x805\\x8b\\xa8}1o\\x9a\\xed\\xfe\\xe3\\xe5\\x82\\xe7\\xf3\\xb2\\x93\\xdc\\x15\\x1d1j\\x06R\\x16H\\xff\\xd4\\xc5R\\x92\\xb9R\\xd1#+IW[\\xcb\\x88r\\x89\\x8e\\xe8_\\xc8&\\x85\\xfb+\\x88=\\x00NL\\xa7\\xd1@\\x94\\x1d\\x8b\\xad\\xd7\\xf6\\xee\\x90w\\x1f\\xcd&\\x1a\\x9f_\\x122-\\xc9\\xb5\\xdcrbw\\x191\\xc4z\\xaf\\x8b\\xf6}\\xe1G\\x7f\\x8d\\xf88/\\xd7\\xbe\\xbc\\xce$u\\n\\xb5\\x12\\xeer\\x13\\xb8\\xc6bK\\x17&C\\xba\\xcb\\x08W\\xa3\\ty;\\xca\\xa1\\x7fC\\xcdm\\xd8\\x11\\xacV\\xf5\\xd8P\\xf2|\\x1a\\xf4\\xef\\x94\\x0f *?@,J\\x87aE\\x0e\\xd2\\xf7\\xb1\\xb0|\\x90\\x07\\xe3\\xef\\xf3\\xa1\\xed\\xe1\\x17ba\\xdaQ\\x80r\\x16\\xde\\xe1\\xf7\\xfaP\\r\\x18\\x83L\\xac\\x16Y\\xc6*\\xa4\\x1f3\\xa2\\xb8\\xc4\\x08\\xd3!3L\\xc7\\xacp\\xb1\\x00\\x1a\\x1d\\xb0\\x1e.\\x81\\xf5p\\t\\n\\xde\\x04\\x18\\x99\\x1ai\\xaf\\xe4 {\\xb3z`1W\\x8d&l}6\\x0fV\\x16`\\xee\\xcfB\\xf1\\x87z({\\xb9\\x11\\x99E\\x19(\\xdd\\x0b\\xacZ\\xbd\\x05&\\x87\\x11\\xe9\\xabS\\x80\\xbd\\xc50$\\xfa\\n\\x1f3\\xc2\\xe8\\x00\\xc0\\xa8\\xa0Y:\\x02|c\\xa1V\\xcf\\xe0R\\xdd\\xf5\\xe6\\x1d\\xec\\'F\\xe7\\x8d\\x0e\\xef\\x0b\\xde\\xd1\\xde=\\xf1\\xdf\\xf3r\\x13\\xf3\\x0b\\xaa\\xce7\\xbdtQ*\\xc9z\\xbf\\x8cT\\x9cq\\x12w?ovn=:~)q\\xdc{\\xf4\\xbe\\\\RR\\xa2}\\xf7\\x96\\xd9\\xadn\\x11\\xe0\\xca\\x17\\xcd\\xfdW\\xe4#x=/7)\\xee\\xec=\\xeb\\x82\\x9fn\\xa7\\xd5I\\xaa-e\\xa4\\xf8\\xfdl\\x92\\xf9\\x8c\\x8eh\\xe2\\xbb\\xaf\\x84`\\x88\\xea\\xb9\\xb2\\x01E\\xbb;\\x8b:fm\\x15Do\\xf4\\xdf\\x8d\\xeb\\xd1\\x03\\x8b\\xd5\\x92\\xdcJ7!\\xc4MJ7)8\\xcc<\\x0b\\x87\\x11\\xed\\xf3b\\x0f\\xe7!\\xef`\\x80\\xc6\\xf6\\xf5F\\xe4~\\x10\\xc2\\xe5\\xf95\\x05\\xd8\\xfa\\x8e\\x05,\\x00\\xe9\\xb2l\\x98\\x0e\\x15\"s\\x83\\x06\\xaa9R0C<\\x91\\xc7\\xac4@\\xbf\\x00\\x00\\\\0\\xee\\xc8\\xed\\x91\\xf3\\xde\\xfa^.\\x8c\\xf5\\x00\\xa240<\\xa9\\x1eZ\\xc3n\\x83\\x81r\\xa1\\xc2\\xdb[f-0[\\x82\\xec\\xe7\\x11K\\xa1H\\xd4@\\xb7!\\x03Y\\xdb\\x8bQf\\xb5\\xa3zO&4\\xb1\\x00\\xc0\\xc2\\xf2\\xf6\\x16d\\xf3\\x9c\\xfc\\x01\\x80\\x8ar\\xdf\\xaa\\nF\\r\\xedR\\xff\\x17\\xdb\\xdb\\x03\\xf3\\xf9\\xc0j\\x8dH_\\x99\\x82\\xbc\\xbdy\\xc8\\xdbe\\x03 \\x85fcZ\\xc8&P\\x02\\xc9\\x08\\x16/\\x17J\\xb6\\x17x\\xc3\\x0e\\xa24\\xc8\\xb5\\x11\\x102\\x80O\\xab\\x19\\x19\\xf1\\x00\\xc0\\xa2|G\\x1eL\\xa1\\x98\\x1a\\x07\\xe0:d\\x82\\xb9\\x11\\xdeI\\x87\\xe7\\x0c\\x08\\x90\\xefy`\\x88UH\\x7fZ\\xeb\\x1d\\x02\\x9d(@\\xde>\\x9f(\\xb0&\\xe4\\xbd\\xef\\xcb5\\xb5\\xc6\\x80\\xb4\\xb8\\xd0\\x99\\xd8\\x81r\\x85\\x16\\n\\xdfB\\xe6\\xe2\\x8fLC\\x9c\\x1a\\x99\\x81bu\\x16\\x8aw\\xe8!\\x13\\x03\\xf0Xa:h\\xe3]\\x8b\\xcb\\xe5\\x9b\\x7ff$\\x9c_T\\xb7\\t\\xd8?m\\x81\\xd1\\x05 ^\\x8f\\x8cu|\\xa6\\xc2\\x87/#W\\xbcN\\xe6!w\\xaf\\xf7V\\x1d\\xd4\\x83$V\\xc3\\xf0\\xb4o\\x8a\\xbd\\xa6\\x109\\xbbB\\x93\\xec\\xcb\\xe9\\xeax\\xec\\xe4P\\xc89\\xde\\xc1\\x1e+,\\xd6\\xe0\\xf46d\\xeb\\x0cH\\x89\\x03\\xe0q\\xa0\\xf8\\x1do,\\x9ckW\\x9eoVW\\t\\xfd\\xb3\\x03[S\\xe7\\x0e\\xb4\\xb9\\x8b\\xd2\\xa0\\xbf\\xdf\\xdb^\\x8e\\x9d[\\x91}\\x8c\\xc7\\t<,\\\\\\x01xYI\\x17*\\xbd\\x02\\n\\x16\\xae:\\xfe\\xf2)\\x8f\\xf1\\xcd]7V\\xc1r\\x96\\xfbq^\\x01\\xcb\\xea\\xb6.\\xd3;\\x8b\\xae\\t\\xe5\\x8b/\\x80\\x8cP\\xf1ba\\xda\\xees\\x1a\\x8b\\x95\\xd0?=\\xb8\\xc5\\xa9\\x8a\\xf5\\x06\\xe8d@\\xe7\\xc2\\xee\\x108\\xcb\\xe52\\x99W@=v\\xd8l\\xdc\\x1e\\x00\\xdb\\x07[\\x90\\xcb\\xe7a\\xe5C\\x94\\x16\\x19\\x1bU`\\xe0\\x8b\\x85;fA^GP\\xea2\\x03\\xf4\\x8b\\xb8W\\x15\\xdd\\xf1pz\\x82\\x918O\\t\\xfd+z(\\xc5\\x00X\\x0br\\xd6\\xe9QT\\xc3\\xe58\\x17L\\xbfO\\x86bq\\n^;\\xd8\\xf3\\x85\\xe5:f\\x82\\x85\\x87\\x06\\xb1\\x95V_\\x800\\x03\\xf9t~A4\\x00\\xa0Z\\xa6\\xf1\\xf6\\xdc\\xd8r\\x14\\xbc^\\xc2#h\\x9a\\x85\\xad\\xb2\\n\\xf6\\xc6\\xae\\xff\\x9b\\xdeHG\\xde\\x89\\x11\\x10&\\x01\\x8cP\\x87\\xfd\\xc5|\\xa2\\x95\\xfa\\x96L\\xac\\xc8\\r\\x88s\\xb2s]\\xa4XFRKzq\\xbb\\x06\\xdbao\\xefr\\x843\\x8b2\\x88\\xb9_\\xcf\\xaf\\x9bT\\x7fb \\xaa\\xa8n\\x13\\x0e\\x01t\\xd8w\\xd9\\xd4\\xd5\\xce\\xb2D\\x95\\xd7\\x89/\\x96\\x11\\xfd\\x1e~ni\\xb7Q\\xdf\\xb9\\x99\\x84lu>\\xa9\\xbe\\xed\\xfcn\\xe2\\xecm\\xb2\\x84s\\x9b;\\x89\\xf9\\xc5\\xae\\xc9\\x0e\\xc4jHFQU\\xdf\\xce\\xf3\\xfe\\x16f7x\\xd7k2\\xb1jbx\\xab\\x94T\\xf9\\xf9\\xaank!I\\x8d\\xefX\\x9e\\xc4!\\xe4\\xa67Z\\xbb-q\\x82\\x94\\xa86\\xe5\\x93\\n\\x7f\\xe7\\xbdXFr7\\xa8\\xba\\x16\\x90/\\xd1\\x12uGz\\xa6X\\x9d\\xcf\\x89/lF\\xa4xU\\xbc\\xac\\xea_h\\x06B\\xb7\\x8c\\x14\\xcc\\xb2^\\x041\\xe8\\xb3\\x8d\\xde\\x85\\xd6\\x1d7\\xa3t\\x81\\x8ed\\x15\\x99I\\xb5\\xb3\\xdbM\\xd8`\\'U\\xfb\\xf3I\\xe6Z\\xdfM\\x1b\\xab#\\x86u\\xca\\xe0\\x89\\x17q\\x93\\xb2\\xcd\\x8a\\x9e\\xb3\\xb2\\x03Y\\xef\\xd7ZA2\\x13\\xbbf\\x85eK\\xf4$\\xeb\\xddBR\\xbc\\xa7\\x98\\x14n\\xcf$\\xa9K\\x14D\\xd6\\xdbzJ^mn\\'\\xa5\\xcf\\xf5\\xcc\\xbf%\\x9d\\xa3!\\xa9\\xcfd\\x92\\xec\\x1d\\xf9$\\xff\\xdd\\\\\\x92\\xfdz&\\xd1\\xafV\\x11Y\\xb7\\x05\\xf6\\xd2E\\x19\\xa4\\xac\\x9bp:\\xf7\\xe8{\\xee\\xda\\xc3\\xc8\\x88r\\x99\\x8e\\xe8_\\xc8\"\\xd9;\\xf2IaQ!)\\xfc0\\x9f\\xe4\\xbe\\x91I\\x0ck\\xd5]u\\x89\\xa5D\\xf3\\x06\\x97\\xdcj}`\\xeb&\\x82\\x00A\\x8c\\x8ah7g\\x91\\xdc\\x0f\\x8bI\\x99\\xc9L\\xcc\\xe5fRf,&\\xf9oe\\x12C\\x8f\\xef\\xc0\\x10\\xe5\\xfa|R\\xe5&\\xc4Y\\x9eE4\\x1d\\x02\\x16\\xa7#\\xf9Va\\x0b\\xd8\\xc8\\x13\\xafn\\x0b\\x88\\xb1 \\x90\\x0bg\\x9d\\xa4x}G\\xf6\\x87^\\x16\\x1a\\x0f\\x81x\\x11\\xe2$\\xe6\\xb7t]\\xa9n:\\x16\\xe4J\\xa5D*ez\\x04\\xabJ\\xef7\\x90B\\xab\\x9bT\\xbc\\x18L\\xf1\"\\x84Tv\\x04\\xa4\\xfa\\x82\\x1fo\\r\\x9d\\xe0\\x88\\xbb2\\x97\\xe8\\xe2\\xfa\\tk\\xe9\\xad\\xd72\\x80d\\x84U\\x9fpOF\\xa8\\xda\\xd0{\\x0f\\xc7n\\xca&\\xfa%}\\x04\\xa8\\xf6\\x1af\\xa3\"zNI!\\xfdPg&\\xb9\\xebU\\xbc\\x12 f\\xde\\x92\\x00\\xd1i\\xca$\\xea\\x00\\x8fJB\\xc5\\x88\\x13\\xaf\\xea\\xed\\x9a\\xcem\\xa1xgC\\xf5GyWt\\xb9tma\\xcfa\\xc7\\x90\\x88\\x97\\x17\\xf7E3\\xc9\\xdf\\xa6\\'\\xbae\\xaa\\xce\\x08{&JJd\\xf1*\\xa2]\\x9fA\\xb2K\\xba\\x86DA\\x17\\xafAgZ\\xedF]\\x05)|9\\x95h\\x16)\\x884\\x8a!\\x0c#%\\xb2x5\\xd1m\\xce&\\xc5\\x95\\x01\\x1c\\xaa\\xb7\\xdaI\\xc5\\'\\xd9$c\\xbd\\x96\\xa8\\x17x\\xcf\\x051C\\x98\\x18\\x05Q.\\xd1\\x12\\xfd\\x8b\\xb9\\xa4\\xd4\\xea\\xbf\\xc7\\xee\\xac,#\\x85oe\\x12\\xfdZ\\rQ\\xc5+\\x88,\\x86\\xe9\\xba\\x16sTD\\xb3FO2w\\xf8\\x1fZ\\xf2\\xc5}\\xa6\\x8c\\xe4o3\\x90\\xd4\\x15*\\xa2\\x8c\\x95\\x12\\x86\\x01\\x81\\x98!\\xd2\\x18\\x05Q\\xde\\xaf%\\xa9\\xcfd\\x91\\xfc\\xfdU\\xc4\\xd9\\xc7ut\\xee\\xcf \\xeax\\x1d\\xc9\\xef#\\xbf\\x9aP\\x10\\x11B\\x08\\x17\\xdf\\x18\\x85\\xd2+gs\\x90\\xac\\xda\\x82\\xf2F@\\xf5r\\x05*\\xb6\\xf1\\xc8\\xa6A\\t\\x19,\\x8b!\\x8f\\x0f\\x0c4#t\\xb6\\x9124\\xb00m\\xcfCy#\\x00\\xa9\\x16\\x86\\'\\xa9p\\t\\x05\\xa1\\x0b\\x17@\\xc5\\x8b2\\x18N\\xe6\\xe1\\xb5\\x0f\\xbcA\\x97\\x8au\\x19H\\xebo+.\\n%\\xc0P\\xf1\\xa2\\xf4\\x8bcw\\x0e\\xf2\\x8e\\xf4\\x12\\xd4\\xe4*\\xc7\\xd6\\rY\\xde\\x15\\x071Zd\\xfe>\\x10\\xb9\\xb2(\\x14\\xeeP\\x9f\\x17\\xa5o\\x1c%H[\\x9c\\x82\"\\x87\\x0c\\xaa\\xb5iH[\\x91\\x0cE\\x0c\\xe0<iF\\xc9\\xbby\\xde\\xbd\\r\\xc52h\\xb7\\x9bQ\\xbay$\\xac\\x96\\xa3\\x08\\x89\\x11\\x9f\\x12\\x872\\x08\\\\N \\x8a\\x01<\\x0eXv\\xe6\\xc0\\xb23\\xa7\\xe7\\xdf\\xc52h^)A!\\x15.J\\x08\\xa0=/J\\xff4\\xda`|/\\x07\\x05{M\\xb0T\\xda`o\\x04\\x18\\x99\\x12IK\\xb5H}:\\x1d\\xfa\\xfbG\\xc6\"_\\x8a\\xf0\\xa0\\xe2E\\xa1P\\x04\\tu\\xd8S(\\x14AB\\xc5\\x8bB\\xa1\\x08\\x12*^\\x14\\nE\\x90P\\xf1\\xa2P(\\x82\\x84\\x8a\\x17\\x85B\\x11$T\\xbc(\\x14\\x8a \\xa1\\xe2E\\xa1P\\x04\\t\\x15/\\n\\x85\"H\\xa8xQ\\x04\\x08\\x8b\\xf2?\\xa5 aJ4\\xe4\\x8b\\xd3P0R6\\x94\\xa0\\xf0\\x82F\\xd8S\\x84Gm\\x1e\\x96\\xcfM\\x87\\xc9\\xa7Y\\xd2u\\xc5\\xb0\\x17\\xe9hV\\x8bQ\\xc6\\xf0_\\x98\\xed)AZt\\n\\x8a8\\xee\\x9f\\xc7H\\xa5\\x90J\\xe5\\x90\\xcfUB\\xb9 \\t\\x9aeZ\\xacZ\\xa1\\x82\\x8c\\xde\\xd9\\xdcqXP\\xb2\\xbb\\x18\\xa6\\x83\\xe5\\xa8\\xb0\\xda`\\xab\\xb5{\\xf7/\\x8c\\x92B\\x1e#\\x87L\\xa9D\\xf2\\xe2d$/\\xd3B\\xbbD1\\xf4\\xa2\\xc1DC\\x1a\\x05\\xc0\\'^\\xd1\\xd2\\xc1llG\\x11,\\xa1\\xca?\\xcd\\x99\\xd6b\\x92\\x1a\\xc5q\\xa3\\x83~6@\\xd0\\xbd\\x98O\\xcc\\xbdm\\x9f\\x15\\n\\x9cf\\x92\\xffz\\x16\\xc9\\xda\\x96Er\\xf7\\x0fl\\xc3\\x8a\\xa0\\xd0PE\\n\\x9f\\xd3\\x10\\x05\\x8f\\xf6\\x96\\xc6k\\x88a{\\x19\\xb1\\x07l\\xa3\\x13n\\xd8\\x8dY$u\\xa5\\x86h7\\xe7\\x0e\\x9f\\xebJ\\x19R\\x86\\xff\\xb0\\xb1{\\xcf+>\\x15Y\\xcfk\\xd0w\\x1e\\x03\\x16l\\xa3\\x0b.\\xbb\\x1dU\\'+P~\\xa8\\x1c=\\xf6g\\x8dQ\\xc3\\xf0F\\x01\\xb27(C;\\xc4\\xa8\\xc9\\xc3r\\xa5w\\xd8\\xa3|\\xc1\\x8c\\xaa7\\xd4\\xa1\\xb4\\xc6Km\\t\\xd2W\\xa7!\\xef\\xb8\\xaf;#f\\xa0X\\xa4\\x85F\\xad\\x84b\\xba\\x1c\\xb2(\\xc6\\xdb\\xb6u6T\\x1d\\xaf@\\xf9Q\\x0bl\\xf5]\\xbe&\\xd9\\xfabX?\\x1c\\xdc\\xe6\\xbe\\x14\\n/B\\xad\\x9e~\\xe9\\xd6\\xf3bV\\xe4\\xde\\xbew_\\xbf\\xc7:IEI6\\xd1/\\x91u\\xdb\\xa6JJT\\xcf\\x94\\x0eyO\\xa1\\x07\\xb6\\\\\\xa2\\xf1\\xedz\\xa3|\\xc1\\x1cBC|\\xb4V\\x91\\xece\\xd2\\xae}\\x13Wd\\xf4\\xbe[O\\x8fc\\x9c\\xa4\\xa2$\\x97\\x18V*\\x08#\\x96\\x12]Q\\x80\\xb7\\xc8\\xa1P\\xfc0\\xb2g\\x1b\\xc5R\\xa8\\xd6d \\xff\\x90\\x15\\xe6\\xf7\\xf5PI\\x01\\xc0\\x05\\xcb\\xdb)\\xd0\\xfe\\xde\\x04\\x1e;\\xb6\\x8fh\\\\\\xbb\\xb3\\x90u\\xc8\\xdb\\x1a\\xb2\\x95\\xb90\\x19\\xb3\\xa1[\\xe0\\xa7\\x0f%\\x96B\\xb5\\xc6\\x80\\\\c\\x15\\xaa\\xf6\\x1b\\x91\\xb5\\x86\\xf6\\xb9(C\\xcb\\xc8\\x16\\xafN\\xa4Pm\\xc8\\x87\\xf9@6\\xb42\\x00`ay;\\r\\xfa\\x8f\\x1c\\xa16l\\x18\\xc0\\xc2\\xb4\\xdb\\x08\\x97\\x07\\x00\\xa3F\\xfa[\\x06(yM\\xe30P,SCI\\'D(C\\xcc(\\x11//\\xcc\\xa2\\x0c\\x14\\x16e@\\xc5\\x00\\xf08P\\xf2R\\x06J\\xea\\xfd\\x1f\\xc7\\x9e5\\xa1\\xe8\\xed\\xadH\\x7fl9\\x92\\x94\\xb3 \\x9f\"\\x81$B\\x02\\xc9\\x149\\x12\\xd4\\xab\\x90\\xf6\\xfb\\x1c\\x94\\x9c\\xe8\\xbf\\x1fgzZ\\x0e\\x91H\\xe4\\xfd(\\xba\\xa6\\xf9\\xado&w\\xfd\\xbe\\xdb\\'\\xe9\\x15K\\xd0m\\xf2b\\x83\\xf5\\x8c\\xcf\\x98\\xd8dh\\xe6p8dP\\xb0p\\x1c)B\\xce\\xf3iX\\xa5N\\x80|J4$\\x11\"H\\xa2\\xe5\\x98\\xa5Z\\x8e\\x94\\xa7_C\\xc1A\\x1b\\xfcEn\\x95??\\xcb\\xdbV\\x92\\xe5\\xc8\\xab\\xe5xj\\x8f\\x03\\x96]9\\xd8\\x92\\xba\\x1cIJ9\\xa2\\xc7K \\x19\\x1f\\r\\xb9\"\\t\\xcb\\x1fK\\xc7k\\x1f\\x95\\xc3\\xc19d\\xcc\\x8a\\xd7\\xd4\\x12\\x88D\"H\\xb4\\x05]\\xbd\\xf8^\\xce!\\x8a\\x90 Z\\x9e\\x80$m\\x1a\\xb6\\xbcm\\x84u\\xc0]\\xfe\\xc0\\xb4]\\x0f\\\\V\\x18\\xdf\\xde\\x824m2\\x12\\xa6GC\"\\x11A2>\\x1a\\xb3\\x16&c\\xd5\\x93[Qp\\x80g}CI\\xa8\\xc7\\xad~\\x19\\x8c\\xcf\\xabW\\xdc\\xc4\\xfc\\xa2\\xaasWm\\xd5\\xb6\\xaa\\xbeKV\\x16\\x92\\xcc\\xd5Jn\\xdb\\xab\\x8b\\xa5D\\xbd\\xb9\\x90T\\xf7\\xb1\\xa7{\\xd9f\\x19\\xaf\\x19R\\xd5\\xcb\\x15A\\xb7\\xc9K\\x15\\xc9Z\\xe4\\xdb\\xf1zN\\x061\\x07\\xd1\\x17\\xe8\\xae,$\\x19\\xcb\\x14\\xdd\\xfc\\x8f}}\\x18\"[\\x96A\\x8a\\xad}\\x1bn~N\\xe1-\\xcbhH\\xeeE\\xff\\xe7\\xb6\\xef\\xcf\"\\xbax\\xc6o\\x9b1qZ\\x92YRM\\xfam2BH\\xf7]\\xc6\\x99\\x95\\xf9\\xc4I\\x08\\xb1\\x9b\\xb8\\x9d\\x032\\r\\xc9(\\xe1\\xb7\\x9b{ \\xdb\\xce\\x8b\\x93\\x98\\xdfJ%\\xaa\\x18\\x0e\\xf5-1\\x90\\xc2J\\xff-2\\xd4\\x0c\\xff8\\xaf\\x80\\xc3@\\xfd\\xfcV\\xe8>HA\\x91\\x83\\x85\\xe5\\xc3\\x02\\x94\\xbf\\x98\\r\\xf5--a\\xdb\\x99\\x86\\xe5\\x1b\\x8b`\\xebx\\xedH\\x15P/\\xd3@\\xb3X\\t\\xb9L\\x8eh\\xb1\\x1b\\xceZ+,\\x87\\x8c(>`\\x85\\xcb\\xe3B\\xf9;iX\\xee\\x02\\xccE\\xa9\\xb7\\xcd\\x88&=[\\x82\\xb2\\xb5n\\xef\\x7f\\x1c%\\xd8\\xf2\\xdb<X<\\x80b].\\xf27)o\\xb3R\\xa2\\xb8\\xfdw\\x81\\xb6\\xc9\\x8b\\x1c\\n\\x05\\x80c\\x00jL0\\x9d\\x04\\xd4\\x0b\\xb8\\xb6%wl;\\x9f\\xc0\\xaa\\'\\x0b`\\xf5\\xc5\\xeb12\\x154\\xab\\xb5\\xd0\\xa8\\x14\\x90GI\\xe0v\\xd9`\\xab4\\xa3d\\xb7\\x11\\xd6z\\x16\\x8e\\x839HYjA\\xd6\\xdeRd\\xde?\\x981)\\x0b\\xcb\\x9b)\\xd0\\xbed\\x84\\xc3\\x03\\x00\\x0c\\x14Kt\\xd0j\\x93\\xa1\\x8a\\x93#\\x1aN8k\\xad(?`D\\xf1A+\\\\5F\\xbc\\xf6X2\\xca\\xb7\\x95\\xa0\\xf8E5\\xc7\\xd9S\\x16\\xd6\\x9diH\\xf3]\\x1b&N\\r\\xdd\\x9aUHV)\\xa1\\x88a\\x00\\xd6\\x05\\xdbI3L%\\xc5(9\\xe6\\x00\\x1c&\\xe4<\\xb6\\x1c\\xf6\\x0f\\xcbP\\xb8\\xce\\xff\\xe6%\\x01o;\\xd6\\x8a\\x82\\x8d\\xab\\x90\\xbe\\xd3\\xd7\\xabbdP\\xadL\\x81v\\xa9\\n\\t\\xb1\\xd1`X\\'lg\\xcaa\\xda[\\n\\xe3q\\x07\\x1c\\x87\\xf3\\x90\\xb6\\xb4\\x02\\x15E%\\xc8^9\\x8c\\xf6,\\x08\\xb5z\\xfa%\\xe0=/B\\x08q\\x93\\xd2M\\xbe\\x9e\\x90XI2\\x8f\\xf6R\\xa2<\\x93\\xa8\\x18\\x10\\xc4j\\x88aGY\\xbf\\xbd\\x17gy6\\xd1\\xc6u\\xf4vd$\\xd5\\xdf\\xcc\\xdb\\x00g\\x1b\\x83e\\x93\\xfdC\\x1d\\x91v\\xc4m\\xdd\\x9fI\\xca\\x02\\x1c7e\\xdfc J\\xdf\\xf7E\\x94\\x92\\xe8\\xde\\xe8\\xc7vw5)}]K\\x14\\x1d\\xe5\\xe3\\xf4\\xa4\\xb4\\x17{\\xb8\\xf6\\xbc\\xaa\\xdf\\xd7\\x11\\x99\\xb8\\xabW\\x95\\xb5\\xbf\\xef^\\x95\\xf3h>\\xd1\\'2\\x9dm\\xa6}\\xb7\\xbf\\xdeQW\\xcf\\x0bs\\x94D\\x19\\xe5=F\\xf3ri?\\xd7\\xc5I*\\xb6\\xeb\\xba\\xbe[\\x8c\\x96\\xe4\\xdb\\xfa9\\x05\\tF\\xdb\\xd9I\\xe9&eg\\x0fN\\xb6\\xa4\\xbf^\\x9a\\x9bT\\x15e\\x10uG\\xefL\\xaa&YG\\x87O\\x0fl\\x94\\x8a\\x17!\\xce\"]\\xe7\\xd0Q\\xfbno\\xb5:I\\xd9\\x0e\\xee\\x01\\x90\\x9d\\xc2\\x02\\x10fY.\\xe9wP0\\xe0P\\x89 \\xd9\\xd4ZE\\xb2Wt\\x85J0q\\x1a\\x92\\xf1n\\x19\\xa9n\\xe0aZ_\\xd8\\x0bIjl\\xc7\\xc3\\xa7\"\\x19\\xfb\\xb9\\x85T\\xd8?I%\\xca\\x18\\x15I\\xdda&\\xbd\\x1d\\xc1I\\xbcl\\xf9D\\xdb\\xf1\\xe0\\xcdI%\\xc56\\x0e\\'v\\x9aI\\xe6\\xfd\\xbe\\xb6\\x90jH\\xee\\x99\\xbe\\nv\\x13\\xaf\\x0e\\xb1\\xdb^\\xc5a\\xb8IH\\xd5\\x1b\\xeaN\\xf1P>\\xd7\\xcf\\xf5\\x0fB\\xdb9KR\\x89\\xc2\\'\\xe6\\xb2\\xd5\\xb9\\xa4\\x8a\\x83\\xc1\\xee\\xcal\\xa2\\x95\\xf9\\xee\\x8dEY\\xa4b\\x98\\xe8\\xd7\\xa8\\x15/b\\xc9$*q c\\xad\\xec$\\x7f\\xa5\\xeff\\x8e\\xd2\\x91\\xc2\\xfe\\xee\\xb3!\\x8b\\xf3\\xe2a\\x93\\xd3L\\xb2W\\xde\\xe2S\\x89R\\x10\\xf5j=\\xc9\\xdc^L\\xca\\xacNN\\x0ffO\\xdc\\xc4\\xfc\\x82\\xb23\\xbeN\\xb3\\x9d\\x8f\\x9f\\xc7M\\x9c\\xce\\xc1\\xf8\\xbc\\xdc\\xa4\\xec\\x19Eg\\xef:\\xe3\\x10\\x0f\\xeb\\xcf\\xe4\\x12\\x8d\\xd4\\xdb\\x06\\x8a\\xcde}|\\xef\\x9e\\xe2%]\\xe9\\xe7\\x85\\xd5\\xc3\\xb42b\\xe8\\xe8\\x15\\xc7\\xf7\\xe5g\\x0cB\\xdb\\xb5Vt\\xf97\\xe3RI1\\x8f\\x1e\\xb6\\xbd(\\xd5\\xdb\\x83\\x15K\\x89\\xee\\xc3\\xe1\\x11\\xd37\\xaaf\\x1b{ \\x95#\\xda\\xe7\\xe7r6\\xba\\x03P\\xa1\\x0c\\xc9K}\\x91\\xfb\\xac\\rU5\\x01\\xa8r\\xd0\\xf0\\xb0I\\xaaF\\x86\\xb1\\x02\\xe6\\xf73\\xbab\\xbc\\x1am(\\xdf[\\x80\\xd7\\x9eM\\xc1re4\\xa2\\xe5IX\\x9e\\xba\\x05\\xaf}`\\x84\\x85\\xcb\\xb4\\x1ckB\\xc1GV\\xef\\xcf\\x0b\\x0c\\xc8\\xe2\\xb59-\\x03\\xa9t\\x10\\xbe\\xaeF#\\nv\\xd9\\x00\\x00\\xd2\\xd5\\x19\\xd8\\xb2\\x84G]s\\xf4\\xc8\\xda\\xe0\\xb5\\xd5\\xb6\\xab\\x00F\\x7f\\xb3\\x83b\\x19R6\\xeb\\xc1\\xf9\\xdb1\\xc9\\xd0\\xae\\xf0\\xf9\\x8ej,\\xa8\\xe8-b\\'\\x18mw\\xa4\\x10\\x05\\xc7Y\\x00\\x0c\\xd4OgA\\x17\\xc3\\xbdF\\xd9\\xda\\xadHOd\\x00\\x8f\\x0b\\xc6\\x8f\\n1\\x1c\\x82\\x8cF\\xafx\\x05\\x01y\\x8c\\xdc\\xf7\\x93\\x0b,\\xc7\\x85\\xe4\\xc1\\x86\\x9fMR\\xa86d\\xa3\\xb8\\xd2\\x0e\\xbb\\xa5\\x14\\xf9\\xdb\\x0c\\xd0\\xdd\\xaf\\x80\\xd4\\'\\xf2\\xac\\xc3\\x02\\xd3\\xce\\x1cl\\xdd\\xb8\\nI\\xd3\\xe5Hx8\\x1d9{\\xfb\\x99J/7\\xc1\\xe4\\x0bEQ=\\x96r\\xdb\\xa4HP9jBy=\\x000\\xd0\\xacI\\xe9gIYo0P\\xebtP\\x88\\x01\\xb8L0\\x96\\xfb+\\x9e\\x0c\\xcdR>B\\xcb@\\xa9\\xf4-h\\xf7\\xd8a\\xefM\\t\\x82\\xd0v\\xd6\\x83&\\xd8<\\x00\\x18\\x15R\\xd6\\xf0\\xdc\\xe5\\\\\\xac\\x84N\\xa7\\x02\\x03\\x80-7\\xc14\\x0c\"\\xbcG\\xafx\\xb9\\xecpz\\xbc?FGI\\x02Sg\\xb7\\x1b\\x8cm\\rL\\x95\\x83f@61\\x90%j\\xa1\\x7f9\\x17\\xc5\\xe5\\xd5p\\xd6U\\xc3\\xbc\\'\\x1f\\xd9\\xcf\\xa5B\\x93(\\xf3=t.X\\x0f\\xe4a\\xcb?% \\xe9\\xb1<Xz\\x11F\\xc7I\\x0b\\xec\\x1e\\x00b\\x19\\x92\\x16\\xa9\\x06\\xfdU\\xf8\\xe08i\\xf5\\x9d[\\x89\\xa4\\x85\\x03\\x88\\xfe_\\x90\\xe4\\x8b\\x07t\\xa1\\xea\\xa4\\xad\\xff\\xb22\\x05\\x14Q\\xfc\\xaa\\x8f\\x96F\\xfb~b\\xc16\\xdc\\xfe\\xf7\\xc0\\xb7\\x1d\\x0b\\xab\\xd5\\xd7\\x93\\x93%A\\x15\\xc7\\xbf\\x06eb\\x82\\xf7E\\xc6ZQu6\\x00&\\r\\x92Q\\x18*\\xe1\\xc5e\\xb5\\xc2\\xda1u>\\xb7\\x9f\\xb7\\x90\\xa3\\x1cE\\x1f\\x14\\xa3\\xf4\\x90\\x19\\x16\\xab\\rv\\x87\\x03\\xaePG\\xed\\r\\xb5MR\\x05\\xd4\\xab\\xf5P\\xaf\\xd6#\\x03\\xde\\x00\\xd9\\xc2\\x0f\\xf3\\x90\\xf3v\\t\\xac.\\x16\\xd6]\\xe9\\xd0\\xb8X\\x98\\x8d\\x19=\\xa2\\xf3\\x9d\\xf5N_\\xafL\\x0e\\x99\\xbc\\xf7\\xaa\\x83E\\xe7\\xb9=\\x16lU\\x89\\xb0u\\xc05\\xb1p\\xd5\\xf9\\xe9fD1\\x83Z\\xe8\\xdf\\xdb\\xa5\\x0b|\\xdb\\xb9`\\xef\\x08\\xc8\\xae\\xc9\\xc3\\xf2\\x88\\xbcA\\xd4e\\x87\\xa3.\\x106\\r\\x8eQ*^,\\xcc\\x07\\xcd\\xde\\x9bC\\xac\\x80J\\xd5\\xdb\\xa0\\x82\\x85\\xf5\\x03=R\\x9e/\\x1aDDt\\xa0\\x19\\x1e61s4\\xd0o\\xd3 mc\\t\\xd2\\xd7\\xa4\\xa1\\xe08\\x0b\\xd7\\x81\\xad\\xd8\\xf2^\\x1aJ7\\x0f\\xa38\\xa0\\x00\\xc1z\\xfc\\xbd\\x19\\x02\\xd4s\\x17\\x12\\x9eP\\x1b0Z\\x87\\x8d.#\\n\\xf7\\xfa\\x1c\\rqZ\\xacJ\\xec\\xa5\\xc8\\xeet\\xacz\\xd2\\'\\x1225\\xf4o\\x14\\xa2\\xac\\xb2\\x1a\\xce\\x067\\x88w\\x96\\xf6\\xb6\\x8f\\xf3}mPS\\xed\\x0c7\\x9b\\x988\\x1d\\xf2?\\xda\\n\\xb5wF\\x00\\xa6\\xdd\\xc5=\\x1c\\xb9\\xd11\\xd1\\xbes\\xdb\\xe1\\xb0\\x07\\xc9\\x88>\\xe8<\\xb7X\\x85\\xac\\xca\\xde\\xdb\\x86\\xeb\\xa7:\\x04)\\x8b\\x02\\xdfvR\\xc8c|wB\\x9c\\x01e\\xad\\x83i\\x13\\'\\xf2W\\x07\\xc2\\xa6\\xc11\\n\\xc5\\x8b\\x85\\xe5\\xad,\\x948\\x00\\x80\\x81\\xea\\xb7i\\xb7;C=\\x16do+\\xf0:7e:\\xe4\\x97\\x9b\\x91\\xffB*4\\x0b\\x14\\x90F\\x85h\\x05\\xf2p\\xb4\\t\\x00\\xe2\\xb5\\xd0\\xc4{\\x7fdm6\\xaf}>d\\x0bU\\x90\\x8b\\x01x\\x1c\\xa88\\xd6\\xffZ\\xcd@\\xd3un+*,\\xc3\\xa6\\xeb\\xcc\\x99\\xc0\\xb7\\x1d\\x03\\xe5B\\xdf$\\x81\\xa3\\x02\\x96\\x9a\\x00T\\x19bF\\x9dx\\xb1\\x87\\xb7B\\xff\\xa6\\xc5;d\\x8c\\xd5a\\xeb\\xe6^\\x9c\\xa1\\xb5&\\x94\\x9f\\xf4\\xfe\\xa8X\\xb7\\x05\\xfa\\xb8!4\\xb0/\\x86\\xa3M\\x00 f a\\xfa\\x10\\xcfE\\x1ah|\\xa3H\\xcb\\'\\x85(\\x1fJ_a\\xe7\\xb9Y\\x98v\\x16\\x0f\\x8b\\xa9}^\\x04\\xa1\\xed\\x94+\\xb4\\xde\\x19T\\xd6\\x82\\xe2]\\xd6\\xc1W\\x18bF\\x95x\\xb1\\xc7r\\x90\\xb26\\x07\\x16\\x16\\x80X\\x06\\xdd\\xeb9\\xbd\\xc7\\xba\\xb8\\x9c\\xde\\x99\\x1e0P(\\xb8\\xfapXX+9\\xae\\xc0\\xef>\\x03\\xc8\\xd5w\\x10D\\x9b\\\\\\'\\xad\\x03\\xcfmVoA\\xc5I\\xef\\x19\\x18\\x85\\xc2\\xfbpt\\xc0h\\xa0_\\xe7[\\xa3y\\xa2\\x00[\\xdf\\xe3\\xf3\\xc0\\xb0p\\rf\\x16\\x82\\xd1B\\xbf\\xde{n\\xd7\\x81\\xd7\\xb0u\\xb7\\xc0z_\\xc1h\\xbbEz\\xe8\\xefg\\x00\\xb0(\\xdf\\xbe\\x05\\x055\\x01\\xb03\\x84\\x8c\\x12\\xf1r\\xc1\\xf2\\xc1\\x13H^\\xb1\\x05\\xc6\\x8e\\xe1\\xe2\\xe6\\x02\\x14\\xac\\xefC\\x04b\\xe4\\xde.;X\\xd8\\xcep\\x13$\\xf6x\\x0e2>\\xe0x\\x83I\\xe5\\x90\\xf9\\x1er\\xfb\\x89*n\\xbd\\x82`\\xd9\\xd4h\\xc2\\xd65IH\\xd6\\xe5\\xc0\\xc45\\xb5L\\'.\\x18_\\xc9B\\x89\\x0b\\x00\\x18$\\xaf\\xd6\\xde\\x12O\\xe5]\\x04\\x9f\\x1a\\xeb-kz)\\r[\\xf6q\\xeb\\x039v\\xa5#yn2\\xd2\\xde\\xb1\\x0cXX\\xd5\\xcfg!5\\x0e\\x80\\xc7\\x86\\x82\\'S\\xf0\\xdaa\\xae5\\xb9`\\xfac:r\\x8e\\x84rZ9\\x18m\\xa7\\x80a\\x9b\\xc1\\x9b{\\xcdaD\\xfa\\xda\\x8e\\xe7\\x81\\x03\\x8d\\x16\\xe4=\\xbb\\xb53\\xf6lX\\x10\\xb4\\xd8\\xfd@\\x11\\x924\\xd0\\xd5${\\t\\xd3\\xb9\\xbe-\\xdb\\xd2\\xff\\xd2\\x12we>I\\x9d\\xd3}\\x9d\\x9b\\x82\\x18L~\\xea_\\xe6+\\xcf\\xa8H\\x86\\xa9\\x97\\xe5\\x16u\\xce[\\xd6\\xa5\\x05\\xc7&wIj\\xe7\\xc2eD)\\x89\\xf6\\xb9\\\\RZ\\xe9\\x7f)\\x90\\xfbb\\x19\\xc9^\\xd7\\xb5\\xc0\\x97Y\\x90A\\xcc}\\xac\\x85\\xb4\\xef\\xd1w-.f\\x14D\\xbb\\xad\\xb4\\xefu\\x93\\xeejR\\xf6\\xba.`\\x0b\\xb3\\x9d\\xc6\\xee\\x0b\\x9b\\x15D\\xf7z)\\xa9\\xeag\\xcd\\xa6\\xdbZJ\\xb2V\\xfb\\x96I\\xc5\\xeaH\\xa1\\xad\\xaf\\x92\\xdd\\x96\\x07%f\\x91\\n\\x9e\\xa9\\x84\\x9c\\xefk\\xbd\\xe7\\xf0s\\xaf\\x04\\xbe\\xed\\xdc\\xc4\\xbcM\\xdd\\xb9\\x10\\x1f\\xb1\\x1a\\x92QTA\\x9c}\\xda\\xef&vS6I]\\xe0]\\xef)]\\x96M\\xaaB\\x99B\\xbd\\x1b\\x82\\n\\x95`/\\x9aQ\\xf0\\x0e\\xfaMS\\xc26\\xba\\xe0\\xb4\\xdb`;Y\\x85\\xf2\\xf2[7\\xe0PA\\xffF\\x01r7\\xa8\\xfc\\xcc\\xc0)`\\xf8c\\x06\\nW\\xbe\\x06\\x8b\\xcb\\x84-+\\x92a\\xfd\\xfdV\\xe8\\xd7j\\xa0\\x8e\\xf3\\x9d\\xdd\\xc3\\xc2q\\xc2\\x84\\xe2\\x0f\\xf3\\x90\\xf7\\x9e\\x11V\\x8f\\x12\\xfa\\xcdJ\\x14\\xbfW\\xc2\\xa1\\xa7\\xa0@\\xda&-\\xb2\\x0f\\x95\\xc0\\xc1Z\\x90\\xa3K\\x86m\\x93\\x01)j\\x05\\x18\\xd6\\x0eky\\t\\nw\\xda\\xa0\\xdd]\\x81\\xec\\xcee-\\xc1\\xb1\\x89Y\\x93\\x87\\x92\\xd7Y\\xa4m+\\x81\\xad\\xd1\\n\\xe3\\x9f\\xd2a\\xfcS:\\x98X\\x154\\xcb\\x92\\xa1\\x8c\\x93C>E\\xe6\\xdbj\\xcc\\x05\\xc7E\\x1b\\xaa\\x8e\\x99`<d\\xed\\x8c-c\\xe6\\xe8\\x90\\xbb+\\x0b\\xea>\\x025e\\xab\\xf3Q\\xfa.\\xb0\\xea\\xe9\\x02X\\x1bm0\\xbe\\xb2\\n\\xb3\\xb6+\\xa1Y\\xe9M\\xeb\"\\x932`\\xeb\\x1d\\xb0YM0\\xee5\\xc1\\xda\\xf1v\\x8f\\xd1 kg.\\xb4<\\x96\\xb1\\xdc\\x8ate.J\\x8b\\x80\\x94\\x8dy\\xb0\\xb8l(yi\\x15J\\xdeRB\\xb3L\\x03\\xb5J\\x01y\\x8c\\x14\\x0c\\xeb\\x82\\xc3nC\\xc5A#L\\xc7l\\xde\\xac\\xb2`\\xa0\\\\\\x91\\x02u\\xec\\xc0\\xcf\\x1d\\x08\\x02\\xdfv\\x0c\\xd4/\\x1bQ\\xec\\xd6\"\\xe5\\xcdr\\xb8jM\\xc8IMB\\xdeKjhW$#I\\xe9\\xab\\xd3\\xe5\\x80\\xddV\\x85\\xf2\\x03F\\x98N\\xfa\\xee\\x1eF\\x01\\xcdZmO\\xd7@(\\t\\xb5z\\xfa%\\x90[\\x9f\\xf1\\\\\\xd5m\\xdf\\x9fE\\xb4q\\xb7$\\x97\\x8b\\x92\\x12i\\x8c\\x940\\xdd\\x92\\x012\\xb1\\x1a\\x92\\xb9\\xc7N\\xdcF\\xbdo\\xf1\\xaa\\xbf\\x9e\\x17!\\x84\\xd8I\\xe9s\\xaa~\\x93\\n*\\x9e\\xb9}Qp\\xb0lr\\x9f)%\\xd9\\x9b\\xf8m{\\x06FF\\xd4\\x1b\\xb8g\\xb9pZ\\xf2\\x89\\xa1G/\\xb8\\xaf\\x8f7\\xa1^a\\x00\\x93\\x11\\xba\\xad\\x85$c\\x05\\x97d~ \\x90\\xa9\\x89~GE\\xaf\\xd9,\\xba\\x18\\x9a\\x9eWg\\xf9\\x00\\xb6\\x9d\\x177\\xa96f\\x11]\\xbc\\xd4\\x7f{\\x00D\\xba \\x95d\\x9b\\x86\\xd16}D`Y%\\xb8|\\x98()\\x91\\xc5*\\x89j\\x99\\x8e\\xa4>\\x93E\\xf2\\xf7T\\x10\\xfb`Rx4T\\x93\\xb2w3\\x89~\\xb5\\x9a(\\xe3\\xa4D\\xca\\x80\\x80a\\x884N\\xe9\\xcd\\xb8\\xb0\\xa3[\\xea\\x98\\xfd|\\xc4\\x8b\\x10\\xef\\r\\x94M\\x0ck\\xd4D\\x19+%\\x0c\\xc3\\x10&FAT+RI\\xe6\\xbb\\xe6\\xbe\\x87\\xb6\\xc1\\xb4\\xa9\\xa1\\x9aT\\xec\\xc9\\'\\xd9/\\xe8\\x89v\\x99\\x8a(\\xe3\\x15D&e\\x08\\xc4\\x0ca\\xa4R\\xa2X\\xa0\"\\x9a5z\\x92\\xf9V!1_\\x1cH\\xc3\\xba\\x89\\xfdP!\\xc9z&\\x95h\\xeeW\\x12Y\\x0cC\\x181\\x08#\\x95\\x11E\\xa2\\x86\\xe86g\\x91|\\x93\\xffL\\xa6|\\xc5\\xab\\x03\\xfb\\xd1b\\x92\\xfdB*\\xd1.Q\\x12E\\x87\\xe0GI\\x89l\\x8e\\x8ah\\xd6\\x1aH\\xd6\\xfb\\\\S\\x01\\r\\xadxy\\tL\\xdb\\xf5\\xa0\\xd5I\\xaa\\xf6\\xe4\\x92\\xccM:\\xa2I\\xf4^\\xeb\\x1eun\\xca$\\xb9\\xc6*?B\\x1e\\x1a\\x86\\xff\\xbe\\x8d\\x14\\n\\x85\\xd2\\x0b\\xa3d\\xb6\\x91B\\xa1\\x8c4\\xa8xQ(\\x14AB\\xc5\\x8bB\\xa1\\x08\\x12*^\\x14\\nE\\x90P\\xf1\\xa2P(\\x82\\x84\\x8a\\x17\\x85B\\x11$T\\xbc(\\x14\\x8a \\xa1\\xe2E\\xa1P\\x04\\t\\x15/\\n\\x85\"H\\xa8xQ(\\x14AB\\xc5\\x8bB\\xa1\\x08\\x12*^\\x14\\nE\\x90P\\xf1\\xa2P(\\x82\\x84\\x8a\\x17\\x85B\\x11$T\\xbc(\\x14\\x8a \\xa1\\xe2E\\xa1P\\x04\\t\\x15/\\n\\x85\"H\\xa8xQ(\\x14AB\\xc5\\x8bB\\xa1\\x08\\x12*^\\x14\\nE\\x90P\\xf1\\xa2P(\\x82\\x84\\x8a\\x17\\x85B\\x11$T\\xbc(\\x14\\x8a \\xa1\\xe2E\\xa1P\\x04\\t\\x15/\\n\\x85\"H\\xa8xQ(\\x14AB\\xc5\\x8bB\\xa1\\x08\\x12*^\\x14\\nE\\x90P\\xf1\\xa2P(\\x82\\x84\\x8a\\x17\\x85B\\x11$T\\xbc(\\x14\\x8a \\xa1\\xe2E\\xa1P\\x04\\t\\x15/\\n\\x85\"H\\xa8xQ(\\x14AB\\xc5\\x8bB\\xa1\\x08\\x12*^\\x14\\nE\\x90\\xfc\\xff\\xc0[\\xb4\\x07\\x1d\\xbaP!\\x00\\x00\\x00\\x00IEND\\xaeB`\\x82'"
      ]
     },
     "execution_count": 14,
     "metadata": {},
     "output_type": "execute_result"
    }
   ],
   "source": [
    "with open(\"local/imgs/udea-datascience.png\", \"rb\") as f:\n",
    "    content = f.read()\n",
    "content"
   ]
  },
  {
   "cell_type": "code",
   "execution_count": 16,
   "metadata": {},
   "outputs": [
    {
     "ename": "TypeError",
     "evalue": "write() argument must be str, not bytes",
     "output_type": "error",
     "traceback": [
      "\u001b[31m---------------------------------------------------------------------------\u001b[39m",
      "\u001b[31mTypeError\u001b[39m                                 Traceback (most recent call last)",
      "\u001b[36mCell\u001b[39m\u001b[36m \u001b[39m\u001b[32mIn[16]\u001b[39m\u001b[32m, line 2\u001b[39m\n\u001b[32m      1\u001b[39m \u001b[38;5;28;01mwith\u001b[39;00m \u001b[38;5;28mopen\u001b[39m(\u001b[33m\"\u001b[39m\u001b[33mtemp_file\u001b[39m\u001b[33m\"\u001b[39m, \u001b[33m\"\u001b[39m\u001b[33mw\u001b[39m\u001b[33m\"\u001b[39m) \u001b[38;5;28;01mas\u001b[39;00m f:\n\u001b[32m----> \u001b[39m\u001b[32m2\u001b[39m     \u001b[43mf\u001b[49m\u001b[43m.\u001b[49m\u001b[43mwrite\u001b[49m\u001b[43m(\u001b[49m\u001b[43mcontent\u001b[49m\u001b[43m)\u001b[49m\n",
      "\u001b[31mTypeError\u001b[39m: write() argument must be str, not bytes"
     ]
    }
   ],
   "source": [
    "with open(\"temp_file\", \"w\") as f:\n",
    "    f.write(content)"
   ]
  },
  {
   "cell_type": "code",
   "execution_count": 17,
   "metadata": {},
   "outputs": [],
   "source": [
    "with open(\"temp_file\", \"wb\") as f:\n",
    "    f.write(content)"
   ]
  },
  {
   "cell_type": "markdown",
   "metadata": {},
   "source": [
    "## CSV\n",
    "\n",
    "Usualmente, estos se pueden leer muy fácilmente utilizando la librería [Pandas](https://pandas.pydata.org/), que es especialmente útil para hacer análisis de datos. Sin embargo, acá mostraremos un ejemplo utilizando el módulo `csv`\n",
    "\n",
    "```\n",
    "col1,col2,col3,col4,col5\n",
    "57,20,65,2,20\n",
    "72,34,8,44,65\n",
    "60,35,98,49,7\n",
    "0,49,25,27,70\n",
    "```"
   ]
  },
  {
   "cell_type": "code",
   "execution_count": 18,
   "metadata": {},
   "outputs": [],
   "source": [
    "import csv"
   ]
  },
  {
   "cell_type": "code",
   "execution_count": 19,
   "metadata": {},
   "outputs": [
    {
     "name": "stdout",
     "output_type": "stream",
     "text": [
      "{'col1': '57', 'col2': '20', 'col3': '65', 'col4': '2', 'col5': '20'}\n",
      "{'col1': '72', 'col2': '34', 'col3': '8', 'col4': '44', 'col5': '65'}\n",
      "{'col1': '60', 'col2': '35', 'col3': '98', 'col4': '49', 'col5': '7'}\n",
      "{'col1': '0', 'col2': '49', 'col3': '25', 'col4': '27', 'col5': '70'}\n",
      "{'col1': '32', 'col2': '5', 'col3': '49', 'col4': '68', 'col5': '84'}\n",
      "{'col1': '18', 'col2': '78', 'col3': '60', 'col4': '50', 'col5': '95'}\n",
      "{'col1': '26', 'col2': '59', 'col3': '20', 'col4': '70', 'col5': '96'}\n",
      "{'col1': '30', 'col2': '18', 'col3': '33', 'col4': '98', 'col5': '97'}\n",
      "{'col1': '89', 'col2': '65', 'col3': '53', 'col4': '43', 'col5': '22'}\n",
      "{'col1': '46', 'col2': '6', 'col3': '65', 'col4': '66', 'col5': '91'}\n"
     ]
    }
   ],
   "source": [
    "with open(\"local/data/demodata.csv\", \"r\") as f:\n",
    "    reader = csv.DictReader(f)\n",
    "    for row in reader:\n",
    "        print(row)"
   ]
  },
  {
   "cell_type": "markdown",
   "metadata": {},
   "source": [
    "Podemos ver que cada fila del archivo csv se representa con un objeto de la clase `OrderedDict`, que es como un diccionario que preserva el orden en que se agregan los elementos. Cada llave de ese diccionario corresponde a los nombres de las columnas del csv."
   ]
  },
  {
   "cell_type": "code",
   "execution_count": 21,
   "metadata": {},
   "outputs": [],
   "source": [
    "data = [\n",
    "    {\"name\": \"julanito\", \"grade\": 3.7},\n",
    "    {\"name\": \"peranito\", \"grade\": 3.3}\n",
    "]\n",
    "with open(\"temp.csv\", mode=\"w\") as f:\n",
    "    writer = csv.DictWriter(f, fieldnames=[\"name\", \"grade\"])\n",
    "    writer.writeheader()\n",
    "    for row in data:\n",
    "        writer.writerow(row)"
   ]
  },
  {
   "cell_type": "markdown",
   "metadata": {},
   "source": [
    "Puedes leer más en [Reading and Writing CSV Files in Python](https://realpython.com/python-csv/)"
   ]
  },
  {
   "cell_type": "markdown",
   "metadata": {},
   "source": [
    "## JSON\n",
    "\n",
    "Un archivo en formato JSON es muy similar a un diccionario de Python o una lista de diccionarios, por lo que es muy normal escribirlos a partir de diccionarios y leerlos como diccionarios. \n",
    "\n",
    "```json\n",
    "[\n",
    "    {\n",
    "        \"name\": \"julanito\",\n",
    "        \"grade\": 3.7\n",
    "    },\n",
    "    {\n",
    "        \"name\": \"peranito\",\n",
    "        \"grade\": 3.3\n",
    "    }\n",
    "]\n",
    "```"
   ]
  },
  {
   "cell_type": "code",
   "execution_count": 22,
   "metadata": {},
   "outputs": [],
   "source": [
    "import json"
   ]
  },
  {
   "cell_type": "code",
   "execution_count": 23,
   "metadata": {
    "scrolled": true
   },
   "outputs": [
    {
     "data": {
      "text/plain": [
       "{'images': [{'height': 600, 'width': 800, 'id': 1, 'file_name': '1.jpg'}],\n",
       " 'categories': [{'supercategory': 'date', 'id': 1, 'name': 'date'},\n",
       "  {'supercategory': 'fig', 'id': 2, 'name': 'fig'},\n",
       "  {'supercategory': 'hazelnut', 'id': 3, 'name': 'hazelnut'}],\n",
       " 'annotations': [{'segmentation': [[307.37888198757764,\n",
       "     99.62111801242236,\n",
       "     345.2670807453416,\n",
       "     75.3975155279503,\n",
       "     348.3726708074534,\n",
       "     47.4472049689441,\n",
       "     352.7204968944099,\n",
       "     35.64596273291925,\n",
       "     340.91925465838506,\n",
       "     31.298136645962728,\n",
       "     330.9813664596273,\n",
       "     20.11801242236025,\n",
       "     311.1055900621118,\n",
       "     13.906832298136646,\n",
       "     277.5652173913043,\n",
       "     32.54037267080745,\n",
       "     266.3850931677018,\n",
       "     57.38509316770186,\n",
       "     267.0062111801242,\n",
       "     77.88198757763975,\n",
       "     282.53416149068323,\n",
       "     93.40993788819875]],\n",
       "   'iscrowd': 0,\n",
       "   'area': 5186.528297519399,\n",
       "   'image_id': 1,\n",
       "   'bbox': [266.0, 13.0, 86.0, 86.0],\n",
       "   'category_id': 3,\n",
       "   'id': 13},\n",
       "  {'segmentation': [[620.4223602484471,\n",
       "     124.46583850931677,\n",
       "     626.0124223602484,\n",
       "     161.73291925465838,\n",
       "     648.3726708074533,\n",
       "     189.06211180124222,\n",
       "     673.2173913043478,\n",
       "     195.27329192546583,\n",
       "     688.1242236024844,\n",
       "     201.48447204968943,\n",
       "     693.7142857142857,\n",
       "     184.7142857142857,\n",
       "     709.8633540372671,\n",
       "     158.0062111801242,\n",
       "     706.7577639751553,\n",
       "     133.78260869565216,\n",
       "     686.8819875776397,\n",
       "     100.86335403726707,\n",
       "     664.5217391304348,\n",
       "     95.27329192546583,\n",
       "     636.5714285714286,\n",
       "     107.69565217391303]],\n",
       "   'iscrowd': 0,\n",
       "   'area': 6611.241850237246,\n",
       "   'image_id': 1,\n",
       "   'bbox': [620.0, 95.0, 89.0, 106.0],\n",
       "   'category_id': 3,\n",
       "   'id': 14},\n",
       "  {'segmentation': [[79.42857142857142,\n",
       "     123.22360248447204,\n",
       "     91.22981366459626,\n",
       "     131.29813664596273,\n",
       "     106.75776397515526,\n",
       "     142.47826086956522,\n",
       "     114.83229813664596,\n",
       "     180.98757763975155,\n",
       "     101.16770186335401,\n",
       "     210.18012422360246,\n",
       "     68.24844720496893,\n",
       "     218.25465838509317,\n",
       "     45.88819875776397,\n",
       "     200.86335403726707,\n",
       "     37.19254658385091,\n",
       "     158.0062111801242,\n",
       "     60.79503105590061,\n",
       "     131.91925465838509]],\n",
       "   'iscrowd': 0,\n",
       "   'area': 5238.609621542382,\n",
       "   'image_id': 1,\n",
       "   'bbox': [37.0, 123.0, 77.0, 95.0],\n",
       "   'category_id': 3,\n",
       "   'id': 15},\n",
       "  {'segmentation': [[167.00621118012418,\n",
       "     343.7204968944099,\n",
       "     121.04347826086956,\n",
       "     378.5031055900621,\n",
       "     96.81987577639751,\n",
       "     477.88198757763973,\n",
       "     106.75776397515526,\n",
       "     503.3478260869565,\n",
       "     130.9813664596273,\n",
       "     513.9068322981366,\n",
       "     158.31055900621118,\n",
       "     513.9068322981366,\n",
       "     237.81366459627327,\n",
       "     446.8260869565217,\n",
       "     253.34161490683226,\n",
       "     399.0,\n",
       "     237.81366459627327,\n",
       "     358.62732919254654,\n",
       "     221.66459627329192,\n",
       "     357.3850931677018,\n",
       "     217.31677018633536,\n",
       "     348.06832298136646]],\n",
       "   'iscrowd': 0,\n",
       "   'area': 18429.265846225026,\n",
       "   'image_id': 1,\n",
       "   'bbox': [96.0, 343.0, 157.0, 170.0],\n",
       "   'category_id': 1,\n",
       "   'id': 16},\n",
       "  {'segmentation': [[379.4285714285714,\n",
       "     274.1552795031056,\n",
       "     275.0807453416149,\n",
       "     354.9006211180124,\n",
       "     264.52173913043475,\n",
       "     420.1180124223602,\n",
       "     289.36645962732916,\n",
       "     446.8260869565217,\n",
       "     341.5403726708074,\n",
       "     462.35403726708074,\n",
       "     380.6708074534161,\n",
       "     445.583850931677,\n",
       "     410.48447204968943,\n",
       "     389.0621118012422,\n",
       "     416.07453416149065,\n",
       "     377.88198757763973,\n",
       "     448.37267080745335,\n",
       "     305.83229813664593,\n",
       "     439.055900621118,\n",
       "     290.9254658385093,\n",
       "     407.99999999999994,\n",
       "     267.94409937888196]],\n",
       "   'iscrowd': 0,\n",
       "   'area': 21763.820840245346,\n",
       "   'image_id': 1,\n",
       "   'bbox': [264.0, 267.0, 184.0, 195.0],\n",
       "   'category_id': 1,\n",
       "   'id': 17},\n",
       "  {'segmentation': [[501.16770186335395,\n",
       "     207.69565217391303,\n",
       "     591.8509316770186,\n",
       "     194.65217391304347,\n",
       "     617.9378881987577,\n",
       "     200.86335403726707,\n",
       "     634.0869565217391,\n",
       "     198.3788819875776,\n",
       "     645.2670807453416,\n",
       "     217.6335403726708,\n",
       "     648.9937888198757,\n",
       "     215.14906832298135,\n",
       "     650.8571428571428,\n",
       "     241.85714285714283,\n",
       "     646.5093167701863,\n",
       "     259.8695652173913,\n",
       "     606.1366459627329,\n",
       "     280.36645962732916,\n",
       "     547.751552795031,\n",
       "     321.3602484472049,\n",
       "     506.1366459627329,\n",
       "     323.22360248447205,\n",
       "     462.0372670807453,\n",
       "     312.6645962732919,\n",
       "     448.37267080745335,\n",
       "     272.2919254658385,\n",
       "     465.1428571428571,\n",
       "     221.9813664596273]],\n",
       "   'iscrowd': 0,\n",
       "   'area': 18924.424212028738,\n",
       "   'image_id': 1,\n",
       "   'bbox': [448.0, 194.0, 202.0, 129.0],\n",
       "   'category_id': 1,\n",
       "   'id': 18},\n",
       "  {'segmentation': [[696.8198757763975,\n",
       "     317.0124223602484,\n",
       "     607.3788819875776,\n",
       "     407.695652173913,\n",
       "     603.6521739130434,\n",
       "     456.1428571428571,\n",
       "     627.2546583850931,\n",
       "     492.167701863354,\n",
       "     660.1739130434783,\n",
       "     505.2111801242236,\n",
       "     704.2732919254657,\n",
       "     495.2732919254658,\n",
       "     736.5714285714286,\n",
       "     451.17391304347825,\n",
       "     737.8136645962733,\n",
       "     430.67701863354034,\n",
       "     774.4596273291925,\n",
       "     362.35403726708074,\n",
       "     769.4906832298136,\n",
       "     326.9503105590062,\n",
       "     735.3291925465838,\n",
       "     308.9378881987577]],\n",
       "   'iscrowd': 0,\n",
       "   'area': 21385.363219011575,\n",
       "   'image_id': 1,\n",
       "   'bbox': [603.0, 308.0, 171.0, 197.0],\n",
       "   'category_id': 1,\n",
       "   'id': 19},\n",
       "  {'segmentation': [[412.3478260869565,\n",
       "     428.1925465838509,\n",
       "     353.9627329192546,\n",
       "     505.83229813664593,\n",
       "     355.20496894409933,\n",
       "     543.0993788819875,\n",
       "     391.22981366459624,\n",
       "     559.2484472049689,\n",
       "     430.98136645962734,\n",
       "     552.416149068323,\n",
       "     485.01863354037266,\n",
       "     546.8260869565217,\n",
       "     524.1490683229813,\n",
       "     504.5900621118012,\n",
       "     523.5279503105589,\n",
       "     468.5652173913043,\n",
       "     513.5900621118012,\n",
       "     459.2484472049689,\n",
       "     512.9689440993789,\n",
       "     439.3726708074534,\n",
       "     483.77639751552795,\n",
       "     412.04347826086956,\n",
       "     461.41614906832297,\n",
       "     407.07453416149065,\n",
       "     428.4968944099379,\n",
       "     419.49689440993785]],\n",
       "   'iscrowd': 0,\n",
       "   'area': 18380.656610470265,\n",
       "   'image_id': 1,\n",
       "   'bbox': [353.0, 407.0, 171.0, 152.0],\n",
       "   'category_id': 1,\n",
       "   'id': 20},\n",
       "  {'segmentation': [[391.8509316770186,\n",
       "     126.32919254658384,\n",
       "     389.36645962732916,\n",
       "     167.32298136645963,\n",
       "     404.2732919254658,\n",
       "     181.6086956521739,\n",
       "     444.02484472049684,\n",
       "     196.51552795031054,\n",
       "     469.4906832298136,\n",
       "     182.22981366459626,\n",
       "     504.8944099378882,\n",
       "     121.36024844720497,\n",
       "     506.1366459627329,\n",
       "     78.5031055900621,\n",
       "     512.3478260869565,\n",
       "     60.49068322981366,\n",
       "     499.3043478260869,\n",
       "     59.8695652173913,\n",
       "     483.77639751552795,\n",
       "     71.04968944099379,\n",
       "     440.2981366459627,\n",
       "     78.5031055900621,\n",
       "     408.62111801242236,\n",
       "     92.16770186335403]],\n",
       "   'iscrowd': 0,\n",
       "   'area': 10916.052621426643,\n",
       "   'image_id': 1,\n",
       "   'bbox': [389.0, 59.0, 123.0, 137.0],\n",
       "   'category_id': 2,\n",
       "   'id': 21}]}"
      ]
     },
     "execution_count": 23,
     "metadata": {},
     "output_type": "execute_result"
    }
   ],
   "source": [
    "with open(\"local/files/coco_example.json\", \"r\") as f:\n",
    "    data = json.load(f)\n",
    "data"
   ]
  },
  {
   "cell_type": "code",
   "execution_count": 25,
   "metadata": {},
   "outputs": [],
   "source": [
    "data = [\n",
    "    {\"name\": \"julanito\", \"grade\": 3.7},\n",
    "    {\"name\": \"peranito\", \"grade\": 3.3}\n",
    "]\n",
    "with open(\"temp.json\", \"w\") as f:\n",
    "    data = json.dump(data, f)"
   ]
  },
  {
   "cell_type": "markdown",
   "metadata": {},
   "source": [
    "Esto es lo más importante a recordar cuando trabajas con archivos JSON. Si quieres saber más te sugiero leer [Working With JSON Data in Python](https://realpython.com/python-json/)"
   ]
  },
  {
   "cell_type": "markdown",
   "metadata": {},
   "source": [
    "## XML\n",
    "\n",
    "Otra estructura, un poco más compleja en mi opinión...\n",
    "\n",
    "```xml\n",
    "<annotation>\n",
    "\t<folder>GeneratedData_Train</folder>\n",
    "\t<filename>000001.png</filename>\n",
    "\t<path>/my/path/GeneratedData_Train/000001.png</path>\n",
    "\t<source>\n",
    "\t\t<database>Unknown</database>\n",
    "\t</source>\n",
    "\t<size>\n",
    "\t\t<width>224</width>\n",
    "\t\t<height>224</height>\n",
    "\t\t<depth>3</depth>\n",
    "\t</size>\n",
    "\t<segmented>0</segmented>\n",
    "\t<object>\n",
    "\t\t<name>21</name>\n",
    "\t\t<pose>Frontal</pose>\n",
    "\t\t<truncated>0</truncated>\n",
    "\t\t<difficult>0</difficult>\n",
    "\t\t<occluded>0</occluded>\n",
    "\t\t<bndbox>\n",
    "\t\t\t<xmin>82</xmin>\n",
    "\t\t\t<xmax>172</xmax>\n",
    "\t\t\t<ymin>88</ymin>\n",
    "\t\t\t<ymax>146</ymax>\n",
    "\t\t</bndbox>\n",
    "\t</object>\n",
    "</annotation>\n",
    "```"
   ]
  },
  {
   "cell_type": "code",
   "execution_count": 26,
   "metadata": {},
   "outputs": [],
   "source": [
    "import xml.etree.ElementTree as ET"
   ]
  },
  {
   "cell_type": "code",
   "execution_count": 27,
   "metadata": {},
   "outputs": [
    {
     "data": {
      "text/plain": [
       "<xml.etree.ElementTree.ElementTree at 0x2183153fcd0>"
      ]
     },
     "execution_count": 27,
     "metadata": {},
     "output_type": "execute_result"
    }
   ],
   "source": [
    "tree = ET.parse('local/files/pascalvoc_example.xml')\n",
    "tree"
   ]
  },
  {
   "cell_type": "markdown",
   "metadata": {},
   "source": [
    "Este formato se puede representar como un árbol y podemos acceder recursivamente a cada uno de los elementos del árbol. Cada elemento del árbol tiene un `tag` y un `attrib` (atributo)"
   ]
  },
  {
   "cell_type": "code",
   "execution_count": 28,
   "metadata": {},
   "outputs": [],
   "source": [
    "root = tree.getroot()"
   ]
  },
  {
   "cell_type": "code",
   "execution_count": 29,
   "metadata": {},
   "outputs": [
    {
     "data": {
      "text/plain": [
       "[('folder', {}),\n",
       " ('filename', {}),\n",
       " ('path', {}),\n",
       " ('source', {}),\n",
       " ('size', {}),\n",
       " ('segmented', {}),\n",
       " ('object', {})]"
      ]
     },
     "execution_count": 29,
     "metadata": {},
     "output_type": "execute_result"
    }
   ],
   "source": [
    "[(c.tag, c.attrib) for c in root]"
   ]
  },
  {
   "cell_type": "code",
   "execution_count": 70,
   "metadata": {},
   "outputs": [
    {
     "data": {
      "text/plain": [
       "'82'"
      ]
     },
     "execution_count": 70,
     "metadata": {},
     "output_type": "execute_result"
    }
   ],
   "source": [
    "root.find(\"object\").find(\"bndbox\").find(\"xmin\").text"
   ]
  },
  {
   "cell_type": "markdown",
   "metadata": {},
   "source": [
    "otra opción es usar [xmltodict](https://pypi.org/project/xmltodict/)"
   ]
  },
  {
   "cell_type": "code",
   "execution_count": 31,
   "metadata": {},
   "outputs": [],
   "source": [
    "import xmltodict"
   ]
  },
  {
   "cell_type": "code",
   "execution_count": 39,
   "metadata": {},
   "outputs": [
    {
     "data": {
      "text/plain": [
       "{'annotation': {'folder': 'GeneratedData_Train',\n",
       "  'filename': '000001.png',\n",
       "  'path': '/my/path/GeneratedData_Train/000001.png',\n",
       "  'source': {'database': 'Unknown'},\n",
       "  'size': {'width': '224', 'height': '224', 'depth': '3'},\n",
       "  'segmented': '0',\n",
       "  'object': {'name': '21',\n",
       "   'pose': 'Frontal',\n",
       "   'truncated': '0',\n",
       "   'difficult': '0',\n",
       "   'occluded': '0',\n",
       "   'bndbox': {'xmin': '82', 'xmax': '172', 'ymin': '88', 'ymax': '146'}}}}"
      ]
     },
     "execution_count": 39,
     "metadata": {},
     "output_type": "execute_result"
    }
   ],
   "source": [
    "xmltodict.parse(open(\"local/files/pascalvoc_example.xml\", \"r\").read())"
   ]
  },
  {
   "cell_type": "markdown",
   "metadata": {},
   "source": [
    "## YAML\n",
    "\n",
    "Este formato es bastante parecido a JSON, pero un poco más legible\n",
    "\n",
    "```yaml\n",
    "name: Tests on PRs\n",
    "\n",
    "on:\n",
    "  pull_request:\n",
    "\n",
    "jobs:\n",
    "  test:\n",
    "    runs-on: ubuntu-latest\n",
    "    strategy:\n",
    "      matrix:\n",
    "        python-version: [3.7, 3.8]\n",
    "    steps:\n",
    "    - uses: actions/checkout@v2\n",
    "    - name: Set up Python ${{ matrix.python-version }}\n",
    "      uses: actions/setup-python@v2\n",
    "      with:\n",
    "        python-version: ${{ matrix.python-version }}\n",
    "    - name: Install dependencies\n",
    "      run: python -m pip install \".[dev]\"\n",
    "    - name: Test with pytest\n",
    "      run: pytest --cov=lac --cov-report=term-missing\n",
    "```"
   ]
  },
  {
   "cell_type": "code",
   "execution_count": 33,
   "metadata": {},
   "outputs": [],
   "source": [
    "import yaml"
   ]
  },
  {
   "cell_type": "code",
   "execution_count": 34,
   "metadata": {},
   "outputs": [],
   "source": [
    "with open(\"local/files/config_example.yml\") as f:\n",
    "    data = yaml.safe_load(f)"
   ]
  },
  {
   "cell_type": "code",
   "execution_count": 35,
   "metadata": {},
   "outputs": [
    {
     "data": {
      "text/plain": [
       "{'name': 'Tests on PRs',\n",
       " True: {'pull_request': None},\n",
       " 'jobs': {'test': {'runs-on': 'ubuntu-latest',\n",
       "   'strategy': {'matrix': {'python-version': [3.7, 3.8]}},\n",
       "   'steps': [{'uses': 'actions/checkout@v2'},\n",
       "    {'name': 'Set up Python ${{ matrix.python-version }}',\n",
       "     'uses': 'actions/setup-python@v2',\n",
       "     'with': {'python-version': '${{ matrix.python-version }}'}},\n",
       "    {'name': 'Install dependencies', 'run': 'python -m pip install \".[dev]\"'},\n",
       "    {'name': 'Test with pytest',\n",
       "     'run': 'pytest --cov=lac --cov-report=term-missing'}]}}}"
      ]
     },
     "execution_count": 35,
     "metadata": {},
     "output_type": "execute_result"
    }
   ],
   "source": [
    "data"
   ]
  },
  {
   "cell_type": "code",
   "execution_count": 37,
   "metadata": {},
   "outputs": [],
   "source": [
    "data = [\n",
    "    {\"name\": \"julanito\", \"grade\": 3.7},\n",
    "    {\"name\": \"peranito\", \"grade\": 3.3}\n",
    "]\n",
    "with open(\"temp.yml\", \"w\") as f:\n",
    "    data = yaml.dump(data, f)"
   ]
  },
  {
   "cell_type": "markdown",
   "metadata": {},
   "source": [
    "### Resumen de cuando usar cada uno!"
   ]
  },
  {
   "cell_type": "code",
   "execution_count": 77,
   "metadata": {},
   "outputs": [
    {
     "ename": "FileNotFoundError",
     "evalue": "[Errno 2] No such file or directory: 'documento.txt'",
     "output_type": "error",
     "traceback": [
      "\u001b[31m---------------------------------------------------------------------------\u001b[39m",
      "\u001b[31mFileNotFoundError\u001b[39m                         Traceback (most recent call last)",
      "\u001b[36mCell\u001b[39m\u001b[36m \u001b[39m\u001b[32mIn[77]\u001b[39m\u001b[32m, line 2\u001b[39m\n\u001b[32m      1\u001b[39m \u001b[38;5;66;03m# Archivos de texto\u001b[39;00m\n\u001b[32m----> \u001b[39m\u001b[32m2\u001b[39m \u001b[38;5;28;01mwith\u001b[39;00m \u001b[38;5;28;43mopen\u001b[39;49m\u001b[43m(\u001b[49m\u001b[33;43m\"\u001b[39;49m\u001b[33;43mdocumento.txt\u001b[39;49m\u001b[33;43m\"\u001b[39;49m\u001b[43m,\u001b[49m\u001b[43m \u001b[49m\u001b[33;43m\"\u001b[39;49m\u001b[33;43mr\u001b[39;49m\u001b[33;43m\"\u001b[39;49m\u001b[43m)\u001b[49m \u001b[38;5;28;01mas\u001b[39;00m f:\n\u001b[32m      3\u001b[39m     texto = f.read()\n\u001b[32m      5\u001b[39m \u001b[38;5;66;03m# CSV\u001b[39;00m\n",
      "\u001b[36mFile \u001b[39m\u001b[32mc:\\Users\\escob\\Desktop\\ClasesUdeA\\FundamentosCode\\FundamentosDeProgramacion\\venvfund\\Lib\\site-packages\\IPython\\core\\interactiveshell.py:343\u001b[39m, in \u001b[36m_modified_open\u001b[39m\u001b[34m(file, *args, **kwargs)\u001b[39m\n\u001b[32m    336\u001b[39m \u001b[38;5;28;01mif\u001b[39;00m file \u001b[38;5;129;01min\u001b[39;00m {\u001b[32m0\u001b[39m, \u001b[32m1\u001b[39m, \u001b[32m2\u001b[39m}:\n\u001b[32m    337\u001b[39m     \u001b[38;5;28;01mraise\u001b[39;00m \u001b[38;5;167;01mValueError\u001b[39;00m(\n\u001b[32m    338\u001b[39m         \u001b[33mf\u001b[39m\u001b[33m\"\u001b[39m\u001b[33mIPython won\u001b[39m\u001b[33m'\u001b[39m\u001b[33mt let you open fd=\u001b[39m\u001b[38;5;132;01m{\u001b[39;00mfile\u001b[38;5;132;01m}\u001b[39;00m\u001b[33m by default \u001b[39m\u001b[33m\"\u001b[39m\n\u001b[32m    339\u001b[39m         \u001b[33m\"\u001b[39m\u001b[33mas it is likely to crash IPython. If you know what you are doing, \u001b[39m\u001b[33m\"\u001b[39m\n\u001b[32m    340\u001b[39m         \u001b[33m\"\u001b[39m\u001b[33myou can use builtins\u001b[39m\u001b[33m'\u001b[39m\u001b[33m open.\u001b[39m\u001b[33m\"\u001b[39m\n\u001b[32m    341\u001b[39m     )\n\u001b[32m--> \u001b[39m\u001b[32m343\u001b[39m \u001b[38;5;28;01mreturn\u001b[39;00m \u001b[43mio_open\u001b[49m\u001b[43m(\u001b[49m\u001b[43mfile\u001b[49m\u001b[43m,\u001b[49m\u001b[43m \u001b[49m\u001b[43m*\u001b[49m\u001b[43margs\u001b[49m\u001b[43m,\u001b[49m\u001b[43m \u001b[49m\u001b[43m*\u001b[49m\u001b[43m*\u001b[49m\u001b[43mkwargs\u001b[49m\u001b[43m)\u001b[49m\n",
      "\u001b[31mFileNotFoundError\u001b[39m: [Errno 2] No such file or directory: 'documento.txt'"
     ]
    }
   ],
   "source": [
    "# Archivos de texto\n",
    "with open(\"documento.txt\", \"r\") as f:\n",
    "    texto = f.read()\n",
    "\n",
    "# CSV\n",
    "with open(\"datos.csv\", \"r\") as f:\n",
    "    contenido = f.read()\n",
    "\n",
    "# JSON\n",
    "with open(\"config.json\", \"r\") as f:\n",
    "    data = json.load(f)\n",
    "\n",
    "# Imágenes\n",
    "with open(\"foto.jpg\", \"rb\") as f:\n",
    "    imagen_bytes = f.read()\n",
    "\n",
    "# Videos\n",
    "with open(\"video.mp4\", \"rb\") as f:\n",
    "    video_data = f.read()\n",
    "\n",
    "# Archivos ZIP\n",
    "with open(\"archivo.zip\", \"rb\") as f:\n",
    "    zip_data = f.read()"
   ]
  },
  {
   "cell_type": "markdown",
   "metadata": {},
   "source": [
    "## Usando blob\n",
    "- ¿Qué es un Blob?\n",
    "BLOB significa Binary Large Object (Objeto Binario Grande). Es una forma de manejar datos binarios como una secuencia de bytes.\n",
    "\n",
    "- Conceptos Clave:\n",
    "  - Todo archivo es bytes: Internamente, todos los archivos (texto, imagen, video) son secuencias de bytes\n",
    "  - Sin interpretación: Un blob no interpreta los datos, solo los almacena como bytes\n",
    "  - Flexibilidad: Puedes procesar cualquier tipo de archivo de forma uniforme"
   ]
  },
  {
   "cell_type": "code",
   "execution_count": 41,
   "metadata": {},
   "outputs": [
    {
     "name": "stdout",
     "output_type": "stream",
     "text": [
      "Tamaño del blob de imagen: 15622 bytes\n",
      "Primeros 20 bytes: b'\\x89PNG\\r\\n\\x1a\\n\\x00\\x00\\x00\\rIHDR\\x00\\x00\\x01/'\n",
      "Tamaño del blob de texto: 1288 bytes\n",
      "filename: abstract.txt\n",
      "Contenido como string: Deeper neural networks are more difficult to train. We present a residual learning framework to ease...\n"
     ]
    }
   ],
   "source": [
    "import io\n",
    "from pathlib import Path\n",
    "\n",
    "def read_file_as_blob(filepath):\n",
    "    \"\"\"Lee un archivo y lo retorna como blob (bytes)\"\"\"\n",
    "    with open(filepath, \"rb\") as f:\n",
    "        blob_data = f.read()\n",
    "    return blob_data\n",
    "\n",
    "# Ejemplo con imagen\n",
    "image_blob = read_file_as_blob(\"local/imgs/udea-datascience.png\")\n",
    "print(f\"Tamaño del blob de imagen: {len(image_blob)} bytes\")\n",
    "print(f\"Primeros 20 bytes: {image_blob[:20]}\")\n",
    "\n",
    "# Ejemplo con archivo de texto como blob\n",
    "text_blob = read_file_as_blob(\"local/files/abstract.txt\")\n",
    "print(f\"Tamaño del blob de texto: {len(text_blob)} bytes\")\n",
    "print(f\"filename: abstract.txt\")\n",
    "print(f\"Contenido como string: {text_blob.decode('utf-8')[:100]}...\")"
   ]
  },
  {
   "cell_type": "code",
   "execution_count": 42,
   "metadata": {},
   "outputs": [
    {
     "name": "stdout",
     "output_type": "stream",
     "text": [
      "Blob JSON size: 239 bytes\n",
      "Datos cargados desde blob:\n",
      "  Ana: 4.5\n",
      "  Carlos: 3.8\n",
      "  María: 4.2\n"
     ]
    }
   ],
   "source": [
    "import io\n",
    "import json\n",
    "\n",
    "def create_json_blob(data):\n",
    "    \"\"\"Crea un blob JSON en memoria\"\"\"\n",
    "    # Convertir datos a JSON string\n",
    "    json_string = json.dumps(data, indent=2)\n",
    "    \n",
    "    # Convertir a bytes\n",
    "    json_bytes = json_string.encode('utf-8')\n",
    "    \n",
    "    # Crear blob en memoria\n",
    "    blob = io.BytesIO(json_bytes)\n",
    "    return blob\n",
    "\n",
    "# Ejemplo de uso\n",
    "data = [\n",
    "    {\"name\": \"Ana\", \"grade\": 4.5, \"course\": \"Data Science\"},\n",
    "    {\"name\": \"Carlos\", \"grade\": 3.8, \"course\": \"Machine Learning\"},\n",
    "    {\"name\": \"María\", \"grade\": 4.2, \"course\": \"Statistics\"}\n",
    "]\n",
    "\n",
    "json_blob = create_json_blob(data)\n",
    "\n",
    "# Leer desde el blob\n",
    "json_blob.seek(0)  # Volver al inicio\n",
    "content = json_blob.read()\n",
    "print(f\"Blob JSON size: {len(content)} bytes\")\n",
    "\n",
    "# Convertir de vuelta a datos\n",
    "json_blob.seek(0)\n",
    "loaded_data = json.loads(json_blob.read().decode('utf-8'))\n",
    "print(\"Datos cargados desde blob:\")\n",
    "for item in loaded_data:\n",
    "    print(f\"  {item['name']}: {item['grade']}\")"
   ]
  },
  {
   "cell_type": "code",
   "execution_count": 44,
   "metadata": {},
   "outputs": [
    {
     "name": "stdout",
     "output_type": "stream",
     "text": [
      "✅ Cargado: udea-datascience.png\n",
      "   Tamaño: 15,622 bytes\n",
      "   Tipo: image/png\n",
      "   Extensión: .png\n",
      "\n",
      "✅ Cargado: abstract.txt\n",
      "   Tamaño: 1,288 bytes\n",
      "   Tipo: text/plain\n",
      "   Extensión: .txt\n",
      "\n",
      "✅ Cargado: demodata.csv\n",
      "   Tamaño: 180 bytes\n",
      "   Tipo: application/vnd.ms-excel\n",
      "   Extensión: .csv\n",
      "\n",
      "✅ Cargado: coco_example.json\n",
      "   Tamaño: 12,348 bytes\n",
      "   Tipo: application/json\n",
      "   Extensión: .json\n",
      "\n"
     ]
    }
   ],
   "source": [
    "import os\n",
    "from pathlib import Path\n",
    "import mimetypes\n",
    "\n",
    "class BlobManager:\n",
    "    def __init__(self):\n",
    "        self.blobs = {}\n",
    "    \n",
    "    def load_file_as_blob(self, filepath):\n",
    "        \"\"\"Carga un archivo como blob y guarda metadatos\"\"\"\n",
    "        path = Path(filepath)\n",
    "        \n",
    "        if not path.exists():\n",
    "            raise FileNotFoundError(f\"Archivo no encontrado: {filepath}\")\n",
    "        \n",
    "        # Leer archivo como blob\n",
    "        with open(filepath, \"rb\") as f:\n",
    "            blob_data = f.read()\n",
    "        \n",
    "        # Detectar tipo MIME\n",
    "        mime_type, _ = mimetypes.guess_type(filepath)\n",
    "        \n",
    "        # Guardar blob con metadatos\n",
    "        blob_info = {\n",
    "            'data': blob_data,\n",
    "            'size': len(blob_data),\n",
    "            'mime_type': mime_type or 'application/octet-stream',\n",
    "            'filename': path.name,\n",
    "            'extension': path.suffix\n",
    "        }\n",
    "        \n",
    "        self.blobs[path.name] = blob_info\n",
    "        return blob_info\n",
    "    \n",
    "    def get_blob_info(self, filename):\n",
    "        \"\"\"Obtiene información de un blob\"\"\"\n",
    "        return self.blobs.get(filename)\n",
    "    \n",
    "    def save_blob_to_file(self, filename, output_path):\n",
    "        \"\"\"Guarda un blob a un archivo\"\"\"\n",
    "        if filename not in self.blobs:\n",
    "            raise KeyError(f\"Blob no encontrado: {filename}\")\n",
    "        \n",
    "        blob_info = self.blobs[filename]\n",
    "        with open(output_path, \"wb\") as f:\n",
    "            f.write(blob_info['data'])\n",
    "        \n",
    "        print(f\"Blob guardado en: {output_path}\")\n",
    "\n",
    "# Ejemplo de uso\n",
    "blob_manager = BlobManager()\n",
    "\n",
    "# Cargar diferentes tipos de archivos\n",
    "files_to_load = [\n",
    "    \"local/imgs/udea-datascience.png\",\n",
    "    \"local/files/abstract.txt\",\n",
    "    \"local/data/demodata.csv\",\n",
    "    \"local/files/coco_example.json\"\n",
    "]\n",
    "\n",
    "for filepath in files_to_load:\n",
    "    try:\n",
    "        blob_info = blob_manager.load_file_as_blob(filepath)\n",
    "        print(f\"✅ Cargado: {blob_info['filename']}\")\n",
    "        print(f\"   Tamaño: {blob_info['size']:,} bytes\")\n",
    "        print(f\"   Tipo: {blob_info['mime_type']}\")\n",
    "        print(f\"   Extensión: {blob_info['extension']}\")\n",
    "        print()\n",
    "    except FileNotFoundError as e:\n",
    "        print(f\"❌ {e}\")"
   ]
  },
  {
   "cell_type": "code",
   "execution_count": 45,
   "metadata": {},
   "outputs": [
    {
     "name": "stdout",
     "output_type": "stream",
     "text": [
      "Leído chunk de 100 bytes (Total: 100)\n",
      "Leído chunk de 100 bytes (Total: 200)\n",
      "Leído chunk de 100 bytes (Total: 300)\n",
      "Leído chunk de 100 bytes (Total: 400)\n",
      "Leído chunk de 100 bytes (Total: 500)\n",
      "Leído chunk de 100 bytes (Total: 600)\n",
      "Leído chunk de 100 bytes (Total: 700)\n",
      "Leído chunk de 100 bytes (Total: 800)\n",
      "Leído chunk de 100 bytes (Total: 900)\n",
      "Leído chunk de 100 bytes (Total: 1000)\n",
      "Leído chunk de 100 bytes (Total: 1100)\n",
      "Leído chunk de 100 bytes (Total: 1200)\n",
      "Leído chunk de 88 bytes (Total: 1288)\n",
      "Información del blob de texto:\n",
      "  Líneas: 2\n",
      "  Caracteres: 1288\n",
      "  Preview: Deeper neural networks are more difficult to train. We present a residual learning framework to ease...\n"
     ]
    }
   ],
   "source": [
    "def read_large_file_as_blob_chunks(filepath, chunk_size=8192):\n",
    "    \"\"\"Lee archivos grandes en chunks como blobs\"\"\"\n",
    "    chunks = []\n",
    "    total_size = 0\n",
    "    \n",
    "    with open(filepath, \"rb\") as f:\n",
    "        while True:\n",
    "            chunk = f.read(chunk_size)\n",
    "            if not chunk:\n",
    "                break\n",
    "            chunks.append(chunk)\n",
    "            total_size += len(chunk)\n",
    "            print(f\"Leído chunk de {len(chunk)} bytes (Total: {total_size})\")\n",
    "    \n",
    "    # Combinar todos los chunks en un solo blob\n",
    "    complete_blob = b''.join(chunks)\n",
    "    return complete_blob\n",
    "\n",
    "def process_blob_in_memory(blob_data, file_type=\"unknown\"):\n",
    "    \"\"\"Procesa un blob según su tipo\"\"\"\n",
    "    if file_type == \"text\":\n",
    "        # Procesar como texto\n",
    "        text_content = blob_data.decode('utf-8')\n",
    "        return {\n",
    "            'type': 'text',\n",
    "            'lines': len(text_content.splitlines()),\n",
    "            'characters': len(text_content),\n",
    "            'preview': text_content[:100] + \"...\" if len(text_content) > 100 else text_content\n",
    "        }\n",
    "    \n",
    "    elif file_type == \"image\":\n",
    "        # Información básica de imagen (sin librerías especiales)\n",
    "        return {\n",
    "            'type': 'image',\n",
    "            'size_bytes': len(blob_data),\n",
    "            'header': blob_data[:16].hex(),  # Primeros 16 bytes como hex\n",
    "        }\n",
    "    \n",
    "    else:\n",
    "        return {\n",
    "            'type': 'binary',\n",
    "            'size_bytes': len(blob_data),\n",
    "            'header': blob_data[:16].hex() if len(blob_data) >= 16 else blob_data.hex()\n",
    "        }\n",
    "\n",
    "# Ejemplo de uso\n",
    "try:\n",
    "    # Leer archivo de texto como blob\n",
    "    text_blob = read_large_file_as_blob_chunks(\"local/files/abstract.txt\", chunk_size=100)\n",
    "    text_info = process_blob_in_memory(text_blob, \"text\")\n",
    "    print(\"Información del blob de texto:\")\n",
    "    print(f\"  Líneas: {text_info['lines']}\")\n",
    "    print(f\"  Caracteres: {text_info['characters']}\")\n",
    "    print(f\"  Preview: {text_info['preview']}\")\n",
    "    \n",
    "except FileNotFoundError:\n",
    "    print(\"Archivo de ejemplo no encontrado\")"
   ]
  },
  {
   "cell_type": "code",
   "execution_count": 46,
   "metadata": {},
   "outputs": [
    {
     "name": "stdout",
     "output_type": "stream",
     "text": [
      "Comparando métodos de lectura para: local/files/abstract.txt\n",
      "==================================================\n",
      "1. Lectura completa como blob:\n",
      "   Tiempo: 0.0000 segundos\n",
      "   Tamaño en memoria: 1321 bytes\n",
      "2. Lectura por chunks:\n",
      "   Tiempo: 0.0000 segundos\n",
      "   Número de chunks: 2\n",
      "3. Con io.BytesIO:\n",
      "   Tiempo: 0.0007 segundos\n",
      "   Posición actual: 0\n",
      "   Muestra (50 bytes): b'Deeper neural networ'...\n"
     ]
    }
   ],
   "source": [
    "import time\n",
    "import sys\n",
    "\n",
    "def compare_reading_methods(filepath):\n",
    "    \"\"\"Compara diferentes métodos de lectura de archivos\"\"\"\n",
    "    if not Path(filepath).exists():\n",
    "        print(f\"Archivo no encontrado: {filepath}\")\n",
    "        return\n",
    "    \n",
    "    print(f\"Comparando métodos de lectura para: {filepath}\")\n",
    "    print(\"=\" * 50)\n",
    "    \n",
    "    # Método 1: Lectura completa como blob\n",
    "    start_time = time.time()\n",
    "    with open(filepath, \"rb\") as f:\n",
    "        blob_data = f.read()\n",
    "    blob_time = time.time() - start_time\n",
    "    \n",
    "    print(f\"1. Lectura completa como blob:\")\n",
    "    print(f\"   Tiempo: {blob_time:.4f} segundos\")\n",
    "    print(f\"   Tamaño en memoria: {sys.getsizeof(blob_data)} bytes\")\n",
    "    \n",
    "    # Método 2: Lectura por chunks\n",
    "    start_time = time.time()\n",
    "    chunks = []\n",
    "    with open(filepath, \"rb\") as f:\n",
    "        while True:\n",
    "            chunk = f.read(1024)\n",
    "            if not chunk:\n",
    "                break\n",
    "            chunks.append(chunk)\n",
    "    chunks_time = time.time() - start_time\n",
    "    \n",
    "    print(f\"2. Lectura por chunks:\")\n",
    "    print(f\"   Tiempo: {chunks_time:.4f} segundos\")\n",
    "    print(f\"   Número de chunks: {len(chunks)}\")\n",
    "    \n",
    "    # Método 3: Con io.BytesIO\n",
    "    start_time = time.time()\n",
    "    with open(filepath, \"rb\") as f:\n",
    "        bio = io.BytesIO(f.read())\n",
    "    bio_time = time.time() - start_time\n",
    "    \n",
    "    print(f\"3. Con io.BytesIO:\")\n",
    "    print(f\"   Tiempo: {bio_time:.4f} segundos\")\n",
    "    print(f\"   Posición actual: {bio.tell()}\")\n",
    "    \n",
    "    bio.seek(0)\n",
    "    sample = bio.read(50)\n",
    "    print(f\"   Muestra (50 bytes): {sample[:20]}...\")\n",
    "\n",
    "# Ejecutar comparación\n",
    "try:\n",
    "    compare_reading_methods(\"local/files/abstract.txt\")\n",
    "except Exception as e:\n",
    "    print(f\"Error: {e}\")"
   ]
  },
  {
   "cell_type": "code",
   "execution_count": 47,
   "metadata": {},
   "outputs": [
    {
     "name": "stdout",
     "output_type": "stream",
     "text": [
      "✅ Cargado: Asyncio.png from local/imgs\n",
      "   Tamaño: 7,766 bytes\n",
      "   Tipo: image/png\n",
      "   Extensión: .png\n",
      "\n",
      "✅ Cargado: colibri.jpg from local/imgs\n",
      "   Tamaño: 147,325 bytes\n",
      "   Tipo: image/jpeg\n",
      "   Extensión: .jpg\n",
      "\n",
      "✅ Cargado: ComputerBoard.png from local/imgs\n",
      "   Tamaño: 10,786,182 bytes\n",
      "   Tipo: image/png\n",
      "   Extensión: .png\n",
      "\n",
      "✅ Cargado: CPUBound.png from local/imgs\n",
      "   Tamaño: 7,168 bytes\n",
      "   Tipo: image/png\n",
      "   Extensión: .png\n",
      "\n",
      "✅ Cargado: CPUMP.png from local/imgs\n",
      "   Tamaño: 19,894 bytes\n",
      "   Tipo: image/png\n",
      "   Extensión: .png\n",
      "\n",
      "✅ Cargado: IOBound.png from local/imgs\n",
      "   Tamaño: 7,276 bytes\n",
      "   Tipo: image/png\n",
      "   Extensión: .png\n",
      "\n",
      "✅ Cargado: MProc.png from local/imgs\n",
      "   Tamaño: 29,784 bytes\n",
      "   Tipo: image/png\n",
      "   Extensión: .png\n",
      "\n",
      "✅ Cargado: Threading.png from local/imgs\n",
      "   Tamaño: 10,752 bytes\n",
      "   Tipo: image/png\n",
      "   Extensión: .png\n",
      "\n",
      "✅ Cargado: udea-datascience.png from local/imgs\n",
      "   Tamaño: 15,622 bytes\n",
      "   Tipo: image/png\n",
      "   Extensión: .png\n",
      "\n",
      "Processing folder: local/imgs\n"
     ]
    },
    {
     "ename": "FileNotFoundError",
     "evalue": "[WinError 3] The system cannot find the path specified: 'local/photos'",
     "output_type": "error",
     "traceback": [
      "\u001b[31m---------------------------------------------------------------------------\u001b[39m",
      "\u001b[31mFileNotFoundError\u001b[39m                         Traceback (most recent call last)",
      "\u001b[36mCell\u001b[39m\u001b[36m \u001b[39m\u001b[32mIn[47]\u001b[39m\u001b[32m, line 4\u001b[39m\n\u001b[32m      1\u001b[39m folders = [\u001b[33m\"\u001b[39m\u001b[33mlocal/imgs\u001b[39m\u001b[33m\"\u001b[39m, \u001b[33m\"\u001b[39m\u001b[33mlocal/photos\u001b[39m\u001b[33m\"\u001b[39m]  \u001b[38;5;66;03m# Ejemplo de carpetas, ajusta según tus rutas\u001b[39;00m\n\u001b[32m      3\u001b[39m \u001b[38;5;28;01mfor\u001b[39;00m folder \u001b[38;5;129;01min\u001b[39;00m folders:\n\u001b[32m----> \u001b[39m\u001b[32m4\u001b[39m     \u001b[38;5;28;01mfor\u001b[39;00m file \u001b[38;5;129;01min\u001b[39;00m os.listdir(folder):\n\u001b[32m      5\u001b[39m         \u001b[38;5;28;01mif\u001b[39;00m file.endswith((\u001b[33m'\u001b[39m\u001b[33m.png\u001b[39m\u001b[33m'\u001b[39m, \u001b[33m'\u001b[39m\u001b[33m.jpg\u001b[39m\u001b[33m'\u001b[39m, \u001b[33m'\u001b[39m\u001b[33m.jpeg\u001b[39m\u001b[33m'\u001b[39m, \u001b[33m'\u001b[39m\u001b[33m.gif\u001b[39m\u001b[33m'\u001b[39m)):\n\u001b[32m      6\u001b[39m             filepath = os.path.join(folder, file)\n",
      "\u001b[31mFileNotFoundError\u001b[39m: [WinError 3] The system cannot find the path specified: 'local/photos'"
     ]
    }
   ],
   "source": [
    "folders = [\"local/imgs\", \"local/photos\"]  # Ejemplo de carpetas, ajusta según tus rutas\n",
    "\n",
    "for folder in folders:\n",
    "    for file in os.listdir(folder):\n",
    "        if file.endswith(('.png', '.jpg', '.jpeg', '.gif')):\n",
    "            filepath = os.path.join(folder, file)\n",
    "            try:\n",
    "                blob_info = blob_manager.load_file_as_blob(filepath)\n",
    "                print(f\"✅ Cargado: {blob_info['filename']} from {folder}\")\n",
    "                print(f\"   Tamaño: {blob_info['size']:,} bytes\")\n",
    "                print(f\"   Tipo: {blob_info['mime_type']}\")\n",
    "                print(f\"   Extensión: {blob_info['extension']}\")\n",
    "                print()\n",
    "            except Exception as e:\n",
    "                print(f\"❌ Error cargando {file} from {folder}: {e}\")\n",
    "    print(f\"Processing folder: {folder}\")"
   ]
  },
  {
   "cell_type": "markdown",
   "metadata": {},
   "source": [
    "### ¿Existe algun paquete que ya me permita abrir solo cierta extensión de un conjunto de carpetas?"
   ]
  }
 ],
 "metadata": {
  "kernelspec": {
   "display_name": "venvfund",
   "language": "python",
   "name": "python3"
  },
  "language_info": {
   "codemirror_mode": {
    "name": "ipython",
    "version": 3
   },
   "file_extension": ".py",
   "mimetype": "text/x-python",
   "name": "python",
   "nbconvert_exporter": "python",
   "pygments_lexer": "ipython3",
   "version": "3.11.9"
  }
 },
 "nbformat": 4,
 "nbformat_minor": 2
}
