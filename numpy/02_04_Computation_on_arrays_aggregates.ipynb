{
  "cells": [
    {
      "cell_type": "markdown",
      "metadata": {
        "id": "b5Tl-Pcs1qRz"
      },
      "source": [
        "# Aggregations: min, max, and Everything in Between"
      ]
    },
    {
      "cell_type": "markdown",
      "metadata": {
        "id": "zQIdApAJ1qR1"
      },
      "source": [
        "A first step in exploring any dataset is often to compute various summary statistics.\n",
        "Perhaps the most common summary statistics are the mean and standard deviation, which allow you to summarize the \"typical\" values in a dataset, but other aggregations are useful as well (the sum, product, median, minimum and maximum, quantiles, etc.).\n",
        "\n",
        "NumPy has fast built-in aggregation functions for working on arrays; we'll discuss and try out some of them here."
      ]
    },
    {
      "cell_type": "markdown",
      "metadata": {
        "id": "vK-eyEXB1qR2"
      },
      "source": [
        "## Summing the Values in an Array\n",
        "\n",
        "As a quick example, consider computing the sum of all values in an array.\n",
        "Python itself can do this using the built-in `sum` function:"
      ]
    },
    {
      "cell_type": "code",
      "execution_count": 1,
      "metadata": {
        "id": "E8twj6tB1qR2",
        "jupyter": {
          "outputs_hidden": false
        }
      },
      "outputs": [],
      "source": [
        "import numpy as np\n",
        "rng = np.random.default_rng()"
      ]
    },
    {
      "cell_type": "code",
      "execution_count": 2,
      "metadata": {
        "id": "JGOoQUvn1qR3",
        "jupyter": {
          "outputs_hidden": false
        },
        "outputId": "40a39602-0981-4797-9af7-b522ca80448e"
      },
      "outputs": [
        {
          "data": {
            "text/plain": [
              "np.float64(46.31979187368431)"
            ]
          },
          "execution_count": 2,
          "metadata": {},
          "output_type": "execute_result"
        }
      ],
      "source": [
        "L = rng.random(100)\n",
        "sum(L)"
      ]
    },
    {
      "cell_type": "code",
      "execution_count": 3,
      "metadata": {},
      "outputs": [
        {
          "data": {
            "text/plain": [
              "array([0.86345336, 0.77200793, 0.5189212 , 0.07460669, 0.76551759,\n",
              "       0.87087476, 0.73298897, 0.80695896, 0.34193662, 0.87550451,\n",
              "       0.54902249, 0.67630729, 0.10207259, 0.99161003, 0.31920844,\n",
              "       0.36861628, 0.64081586, 0.93564918, 0.71868493, 0.44092909,\n",
              "       0.52572279, 0.07506378, 0.87294924, 0.7052674 , 0.77688636,\n",
              "       0.31865038, 0.59827537, 0.57565006, 0.61637342, 0.81592656,\n",
              "       0.77433737, 0.14282014, 0.22340775, 0.16508728, 0.0216251 ,\n",
              "       0.11046248, 0.44105477, 0.43881696, 0.39881711, 0.28658098,\n",
              "       0.49702438, 0.24114428, 0.45528396, 0.66080528, 0.12306452,\n",
              "       0.80382343, 0.23343922, 0.80469582, 0.56182349, 0.55066953,\n",
              "       0.02295871, 0.20177632, 0.08863676, 0.01093731, 0.7972002 ,\n",
              "       0.86751733, 0.83777263, 0.32575099, 0.41418251, 0.80500829,\n",
              "       0.28585284, 0.47922788, 0.32480306, 0.1249006 , 0.34642174,\n",
              "       0.1006944 , 0.15327412, 0.3378983 , 0.18688003, 0.34423572,\n",
              "       0.5743162 , 0.45076316, 0.00922768, 0.74397902, 0.13610673,\n",
              "       0.75643777, 0.26827837, 0.58975771, 0.10854124, 0.03887891,\n",
              "       0.19065741, 0.40594433, 0.49591445, 0.78733935, 0.03248017,\n",
              "       0.6702747 , 0.54537789, 0.5198081 , 0.35971567, 0.82365532,\n",
              "       0.37807611, 0.82010858, 0.69194057, 0.14868405, 0.06643763,\n",
              "       0.33699392, 0.17388642, 0.78183087, 0.25630839, 0.92090539])"
            ]
          },
          "execution_count": 3,
          "metadata": {},
          "output_type": "execute_result"
        }
      ],
      "source": [
        "L"
      ]
    },
    {
      "cell_type": "markdown",
      "metadata": {
        "id": "7ljpIJd-1qR4"
      },
      "source": [
        "The syntax is quite similar to that of NumPy's `sum` function, and the result is the same in the simplest case:"
      ]
    },
    {
      "cell_type": "code",
      "execution_count": 5,
      "metadata": {
        "id": "zuEQkNpC1qR5",
        "jupyter": {
          "outputs_hidden": false
        },
        "outputId": "d14ccfc1-ecdb-4de8-d3bd-7cce8607340a"
      },
      "outputs": [
        {
          "data": {
            "text/plain": [
              "np.float64(46.31979187368429)"
            ]
          },
          "execution_count": 5,
          "metadata": {},
          "output_type": "execute_result"
        }
      ],
      "source": [
        "np.sum(L)"
      ]
    },
    {
      "cell_type": "markdown",
      "metadata": {
        "id": "J4BP7br61qR5"
      },
      "source": [
        "However, because it executes the operation in compiled code, NumPy's version of the operation is computed much more quickly:"
      ]
    },
    {
      "cell_type": "code",
      "execution_count": 7,
      "metadata": {
        "id": "5VWcmQxe1qR6",
        "jupyter": {
          "outputs_hidden": false
        },
        "outputId": "99d926a2-5fa7-4416-f535-5876c36349c1"
      },
      "outputs": [
        {
          "name": "stdout",
          "output_type": "stream",
          "text": [
            "527 ms ± 6.79 ms per loop (mean ± std. dev. of 7 runs, 1 loop each)\n",
            "10.7 ms ± 565 μs per loop (mean ± std. dev. of 7 runs, 100 loops each)\n"
          ]
        }
      ],
      "source": [
        "big_array = rng.random(10000000)\n",
        "%timeit sum(big_array)\n",
        "%timeit np.sum(big_array)"
      ]
    },
    {
      "cell_type": "markdown",
      "metadata": {
        "id": "cVixkDIt1qR7"
      },
      "source": [
        "Be careful, though: the `sum` function and the `np.sum` function are not identical, which can sometimes lead to confusion!\n",
        "In particular, their optional arguments have different meanings (`sum(x, 1)` initializes the sum at `1`, while `np.sum(x, 1)` sums along axis `1`), and `np.sum` is aware of multiple array dimensions, as we will see in the following section."
      ]
    },
    {
      "cell_type": "markdown",
      "metadata": {
        "id": "8Tdu0mZS1qR7"
      },
      "source": [
        "## Minimum and Maximum\n",
        "\n",
        "Similarly, Python has built-in `min` and `max` functions, used to find the minimum value and maximum value of any given array:"
      ]
    },
    {
      "cell_type": "code",
      "execution_count": 8,
      "metadata": {
        "id": "0pkXIWBd1qR7",
        "jupyter": {
          "outputs_hidden": false
        },
        "outputId": "929ea18b-8931-48c3-c891-1d2c5c56733d"
      },
      "outputs": [
        {
          "data": {
            "text/plain": [
              "(np.float64(1.0023532370784238e-07), np.float64(0.9999998136530365))"
            ]
          },
          "execution_count": 8,
          "metadata": {},
          "output_type": "execute_result"
        }
      ],
      "source": [
        "min(big_array), max(big_array)"
      ]
    },
    {
      "cell_type": "markdown",
      "metadata": {
        "id": "inyzSXkx1qR8"
      },
      "source": [
        "NumPy's corresponding functions have similar syntax, and again operate much more quickly:"
      ]
    },
    {
      "cell_type": "code",
      "execution_count": 9,
      "metadata": {
        "id": "7U-f2bN01qR8",
        "jupyter": {
          "outputs_hidden": false
        },
        "outputId": "51cabed1-cf3c-4221-b28c-bb482f3b8c80"
      },
      "outputs": [
        {
          "data": {
            "text/plain": [
              "(np.float64(1.0023532370784238e-07), np.float64(0.9999998136530365))"
            ]
          },
          "execution_count": 9,
          "metadata": {},
          "output_type": "execute_result"
        }
      ],
      "source": [
        "np.min(big_array), np.max(big_array)"
      ]
    },
    {
      "cell_type": "code",
      "execution_count": 10,
      "metadata": {
        "id": "l5CQkJn31qR8",
        "jupyter": {
          "outputs_hidden": false
        },
        "outputId": "f17f0051-c991-46f0-90c8-914bab284651"
      },
      "outputs": [
        {
          "name": "stdout",
          "output_type": "stream",
          "text": [
            "316 ms ± 9.74 ms per loop (mean ± std. dev. of 7 runs, 1 loop each)\n",
            "4.52 ms ± 111 μs per loop (mean ± std. dev. of 7 runs, 100 loops each)\n"
          ]
        }
      ],
      "source": [
        "%timeit min(big_array)\n",
        "%timeit np.min(big_array)"
      ]
    },
    {
      "cell_type": "markdown",
      "metadata": {
        "id": "41hPO4451qR8"
      },
      "source": [
        "For `min`, `max`, `sum`, and several other NumPy aggregates, a shorter syntax is to use methods of the array object itself:"
      ]
    },
    {
      "cell_type": "code",
      "execution_count": 11,
      "metadata": {
        "id": "guZiUFvf1qR9",
        "jupyter": {
          "outputs_hidden": false
        },
        "outputId": "bb7f86ff-1170-465c-bcca-6718c36625a5"
      },
      "outputs": [
        {
          "name": "stdout",
          "output_type": "stream",
          "text": [
            "1.0023532370784238e-07 0.9999998136530365 4999675.619210301\n"
          ]
        }
      ],
      "source": [
        "print(big_array.min(), big_array.max(), big_array.sum())"
      ]
    },
    {
      "cell_type": "markdown",
      "metadata": {
        "id": "cBH1cPw21qR9"
      },
      "source": [
        "Whenever possible, make sure that you are using the NumPy version of these aggregates when operating on NumPy arrays!"
      ]
    },
    {
      "cell_type": "markdown",
      "metadata": {
        "id": "dXfids671qR9"
      },
      "source": [
        "### Multidimensional Aggregates\n",
        "\n",
        "One common type of aggregation operation is an aggregate along a row or column.\n",
        "Say you have some data stored in a two-dimensional array:"
      ]
    },
    {
      "cell_type": "code",
      "execution_count": 12,
      "metadata": {
        "id": "XHGD3nnT1qR-",
        "jupyter": {
          "outputs_hidden": false
        },
        "outputId": "6773d475-63d4-4eff-c82d-7b677756d4b4"
      },
      "outputs": [
        {
          "name": "stdout",
          "output_type": "stream",
          "text": [
            "[[0 5 1 7]\n",
            " [7 6 1 3]\n",
            " [6 3 1 4]]\n"
          ]
        }
      ],
      "source": [
        "M = rng.integers(0, 10, (3, 4))\n",
        "print(M)"
      ]
    },
    {
      "cell_type": "markdown",
      "metadata": {
        "id": "eNv9dpXj1qR-"
      },
      "source": [
        "NumPy aggregations will apply across all elements of a multidimensional array:"
      ]
    },
    {
      "cell_type": "code",
      "execution_count": 13,
      "metadata": {
        "id": "Q7hD1ev81qR-",
        "jupyter": {
          "outputs_hidden": false
        },
        "outputId": "3ee0a4c7-9df7-4902-a6be-51fccab0692f"
      },
      "outputs": [
        {
          "data": {
            "text/plain": [
              "np.int64(44)"
            ]
          },
          "execution_count": 13,
          "metadata": {},
          "output_type": "execute_result"
        }
      ],
      "source": [
        "M.sum()"
      ]
    },
    {
      "cell_type": "markdown",
      "metadata": {
        "id": "o4tfkVbB1qR_"
      },
      "source": [
        "Aggregation functions take an additional argument specifying the *axis* along which the aggregate is computed. For example, we can find the minimum value within each column by specifying `axis=0`:"
      ]
    },
    {
      "cell_type": "code",
      "execution_count": 14,
      "metadata": {
        "id": "SKVKvfXR1qR_",
        "jupyter": {
          "outputs_hidden": false
        },
        "outputId": "ab1eab68-5bab-45f5-ead4-a3374f8f8b4c"
      },
      "outputs": [
        {
          "data": {
            "text/plain": [
              "array([0, 3, 1, 3])"
            ]
          },
          "execution_count": 14,
          "metadata": {},
          "output_type": "execute_result"
        }
      ],
      "source": [
        "M.min(axis=0)"
      ]
    },
    {
      "cell_type": "markdown",
      "metadata": {
        "id": "Cv-EV7wl1qR_"
      },
      "source": [
        "The function returns four values, corresponding to the four columns of numbers.\n",
        "\n",
        "Similarly, we can find the maximum value within each row:"
      ]
    },
    {
      "cell_type": "code",
      "execution_count": 15,
      "metadata": {
        "id": "RWNqUpEz1qR_",
        "jupyter": {
          "outputs_hidden": false
        },
        "outputId": "6e31db2a-b977-4ba5-9258-17ad7f71a4ba"
      },
      "outputs": [
        {
          "data": {
            "text/plain": [
              "array([7, 7, 6])"
            ]
          },
          "execution_count": 15,
          "metadata": {},
          "output_type": "execute_result"
        }
      ],
      "source": [
        "M.max(axis=1)"
      ]
    },
    {
      "cell_type": "markdown",
      "metadata": {
        "id": "t6JsOkJk1qR_"
      },
      "source": [
        "The way the axis is specified here can be confusing to users coming from other languages.\n",
        "The `axis` keyword specifies the dimension of the array that will be *collapsed*, rather than the dimension that will be returned.\n",
        "So, specifying `axis=0` means that axis 0 will be collapsed: for two-dimensional arrays, values within each column will be aggregated."
      ]
    },
    {
      "cell_type": "markdown",
      "metadata": {
        "id": "bjEOy3Dd1qSA"
      },
      "source": [
        "### Other Aggregation Functions\n",
        "\n",
        "NumPy provides several other aggregation functions with a similar API, and additionally most have a `NaN`-safe counterpart that computes the result while ignoring missing values, which are marked by the special IEEE floating-point `NaN` value (see [Handling Missing Data](03.04-Missing-Values.ipynb)).\n",
        "\n",
        "The following table provides a list of useful aggregation functions available in NumPy:\n",
        "\n",
        "|Function name    |   NaN-safe version| Description                                   |\n",
        "|-----------------|-------------------|-----------------------------------------------|\n",
        "| `np.sum`        | `np.nansum`       | Compute sum of elements                       |\n",
        "| `np.prod`       | `np.nanprod`      | Compute product of elements                   |\n",
        "| `np.mean`       | `np.nanmean`      | Compute mean of elements                      |\n",
        "| `np.std`        | `np.nanstd`       | Compute standard deviation                    |\n",
        "| `np.var`        | `np.nanvar`       | Compute variance                              |\n",
        "| `np.min`        | `np.nanmin`       | Find minimum value                            |\n",
        "| `np.max`        | `np.nanmax`       | Find maximum value                            |\n",
        "| `np.argmin`     | `np.nanargmin`    | Find index of minimum value                   |\n",
        "| `np.argmax`     | `np.nanargmax`    | Find index of maximum value                   |\n",
        "| `np.median`     | `np.nanmedian`    | Compute median of elements                    |\n",
        "| `np.percentile` | `np.nanpercentile`| Compute rank-based statistics of elements     |\n",
        "| `np.any`        | N/A               | Evaluate whether any elements are true        |\n",
        "| `np.all`        | N/A               | Evaluate whether all elements are true        |\n",
        "\n",
        "You will see these aggregates often throughout the rest of the book."
      ]
    },
    {
      "cell_type": "markdown",
      "metadata": {
        "id": "Bm_6r1dy1qSA"
      },
      "source": [
        "## Example: What Is the Average Height of US Presidents?"
      ]
    },
    {
      "cell_type": "markdown",
      "metadata": {
        "id": "HfSJOzPD1qSA"
      },
      "source": [
        "Aggregates available in NumPy can act as summary statistics for a set of values.\n",
        "As a small example, let's consider the heights of all US presidents.\n",
        "This data is available in the file *president_heights.csv*, which is a comma-separated list of labels and values:"
      ]
    },
    {
      "cell_type": "code",
      "execution_count": 16,
      "metadata": {
        "id": "bDQI_ezK1qSA",
        "jupyter": {
          "outputs_hidden": false
        },
        "outputId": "06a020b7-62f5-44b1-ed96-02e144b957c0"
      },
      "outputs": [
        {
          "name": "stderr",
          "output_type": "stream",
          "text": [
            "'head' is not recognized as an internal or external command,\n",
            "operable program or batch file.\n"
          ]
        }
      ],
      "source": [
        "!head -4 data/president_heights.csv"
      ]
    },
    {
      "cell_type": "markdown",
      "metadata": {
        "id": "0s0r0qBk1qSA"
      },
      "source": [
        "We'll use the Pandas package, which we'll explore more fully in [Part 3](03.00-Introduction-to-Pandas.ipynb), to read the file and extract this information (note that the heights are measured in centimeters):"
      ]
    },
    {
      "cell_type": "code",
      "execution_count": null,
      "metadata": {
        "id": "W1sNIcSp1qSB",
        "jupyter": {
          "outputs_hidden": false
        },
        "outputId": "d42ab956-8b37-49db-83f2-de6fcd861456"
      },
      "outputs": [
        {
          "name": "stdout",
          "output_type": "stream",
          "text": [
            "[189 170 189 163 183 171 185 168 173 183 173 173 175 178 183 193 178 173\n",
            " 174 183 183 168 170 178 182 180 183 178 182 188 175 179 183 193 182 183\n",
            " 177 185 188 188 182 185 191 182]\n"
          ]
        }
      ],
      "source": [
        "import pandas as pd\n",
        "data = pd.read_csv('data/president_heights.csv')\n",
        "heights = np.array(data['height(cm)'])\n",
        "print(heights)"
      ]
    },
    {
      "cell_type": "markdown",
      "metadata": {
        "id": "KjPVuhE21qSB"
      },
      "source": [
        "Now that we have this data array, we can compute a variety of summary statistics:"
      ]
    },
    {
      "cell_type": "code",
      "execution_count": null,
      "metadata": {
        "id": "1OJf6azq1qSB",
        "jupyter": {
          "outputs_hidden": false
        },
        "outputId": "df420f0c-fb58-4df8-ffb3-ad493a14f05d"
      },
      "outputs": [
        {
          "name": "stdout",
          "output_type": "stream",
          "text": [
            "Mean height:        180.04545454545453\n",
            "Standard deviation: 6.983599441335736\n",
            "Minimum height:     163\n",
            "Maximum height:     193\n"
          ]
        }
      ],
      "source": [
        "print(\"Mean height:       \", heights.mean())\n",
        "print(\"Standard deviation:\", heights.std())\n",
        "print(\"Minimum height:    \", heights.min())\n",
        "print(\"Maximum height:    \", heights.max())"
      ]
    },
    {
      "cell_type": "markdown",
      "metadata": {
        "id": "3l-W0ISU1qSB"
      },
      "source": [
        "Note that in each case, the aggregation operation reduced the entire array to a single summarizing value, which gives us information about the distribution of values.\n",
        "We may also wish to compute quantiles:"
      ]
    },
    {
      "cell_type": "code",
      "execution_count": null,
      "metadata": {
        "id": "hX36wCQd1qSC",
        "jupyter": {
          "outputs_hidden": false
        },
        "outputId": "cd9b801d-0067-4d32-96e1-62a32db228ec"
      },
      "outputs": [
        {
          "name": "stdout",
          "output_type": "stream",
          "text": [
            "25th percentile:    174.75\n",
            "Median:             182.0\n",
            "75th percentile:    183.5\n"
          ]
        }
      ],
      "source": [
        "print(\"25th percentile:   \", np.percentile(heights, 25))\n",
        "print(\"Median:            \", np.median(heights))\n",
        "print(\"75th percentile:   \", np.percentile(heights, 75))"
      ]
    },
    {
      "cell_type": "markdown",
      "metadata": {
        "id": "38ojFl431qSC"
      },
      "source": [
        "We see that the median height of US presidents is 182 cm, or just shy of six feet.\n",
        "\n",
        "Of course, sometimes it's more useful to see a visual representation of this data, which we can accomplish using tools in Matplotlib (we'll discuss Matplotlib more fully in [Part 4](04.00-Introduction-To-Matplotlib.ipynb)). For example, this code generates the following chart:"
      ]
    },
    {
      "cell_type": "code",
      "execution_count": 17,
      "metadata": {
        "id": "V3LR_-c01qSC",
        "jupyter": {
          "outputs_hidden": false
        }
      },
      "outputs": [
        {
          "ename": "OSError",
          "evalue": "'seaborn-whitegrid' is not a valid package style, path of style file, URL of style file, or library style name (library styles are listed in `style.available`)",
          "output_type": "error",
          "traceback": [
            "\u001b[31m---------------------------------------------------------------------------\u001b[39m",
            "\u001b[31mFileNotFoundError\u001b[39m                         Traceback (most recent call last)",
            "\u001b[36mFile \u001b[39m\u001b[32mc:\\Users\\escob\\Desktop\\ClasesUdeA\\FundamentosCode\\FundamentosDeProgramacion\\venvfund\\Lib\\site-packages\\matplotlib\\style\\core.py:129\u001b[39m, in \u001b[36muse\u001b[39m\u001b[34m(style)\u001b[39m\n\u001b[32m    128\u001b[39m \u001b[38;5;28;01mtry\u001b[39;00m:\n\u001b[32m--> \u001b[39m\u001b[32m129\u001b[39m     style = \u001b[43m_rc_params_in_file\u001b[49m\u001b[43m(\u001b[49m\u001b[43mstyle\u001b[49m\u001b[43m)\u001b[49m\n\u001b[32m    130\u001b[39m \u001b[38;5;28;01mexcept\u001b[39;00m \u001b[38;5;167;01mOSError\u001b[39;00m \u001b[38;5;28;01mas\u001b[39;00m err:\n",
            "\u001b[36mFile \u001b[39m\u001b[32mc:\\Users\\escob\\Desktop\\ClasesUdeA\\FundamentosCode\\FundamentosDeProgramacion\\venvfund\\Lib\\site-packages\\matplotlib\\__init__.py:906\u001b[39m, in \u001b[36m_rc_params_in_file\u001b[39m\u001b[34m(fname, transform, fail_on_error)\u001b[39m\n\u001b[32m    905\u001b[39m rc_temp = {}\n\u001b[32m--> \u001b[39m\u001b[32m906\u001b[39m \u001b[43m\u001b[49m\u001b[38;5;28;43;01mwith\u001b[39;49;00m\u001b[43m \u001b[49m\u001b[43m_open_file_or_url\u001b[49m\u001b[43m(\u001b[49m\u001b[43mfname\u001b[49m\u001b[43m)\u001b[49m\u001b[43m \u001b[49m\u001b[38;5;28;43;01mas\u001b[39;49;00m\u001b[43m \u001b[49m\u001b[43mfd\u001b[49m\u001b[43m:\u001b[49m\n\u001b[32m    907\u001b[39m \u001b[43m    \u001b[49m\u001b[38;5;28;43;01mtry\u001b[39;49;00m\u001b[43m:\u001b[49m\n",
            "\u001b[36mFile \u001b[39m\u001b[32mC:\\Program Files\\WindowsApps\\PythonSoftwareFoundation.Python.3.11_3.11.2544.0_x64__qbz5n2kfra8p0\\Lib\\contextlib.py:137\u001b[39m, in \u001b[36m_GeneratorContextManager.__enter__\u001b[39m\u001b[34m(self)\u001b[39m\n\u001b[32m    136\u001b[39m \u001b[38;5;28;01mtry\u001b[39;00m:\n\u001b[32m--> \u001b[39m\u001b[32m137\u001b[39m     \u001b[38;5;28;01mreturn\u001b[39;00m \u001b[38;5;28mnext\u001b[39m(\u001b[38;5;28mself\u001b[39m.gen)\n\u001b[32m    138\u001b[39m \u001b[38;5;28;01mexcept\u001b[39;00m \u001b[38;5;167;01mStopIteration\u001b[39;00m:\n",
            "\u001b[36mFile \u001b[39m\u001b[32mc:\\Users\\escob\\Desktop\\ClasesUdeA\\FundamentosCode\\FundamentosDeProgramacion\\venvfund\\Lib\\site-packages\\matplotlib\\__init__.py:883\u001b[39m, in \u001b[36m_open_file_or_url\u001b[39m\u001b[34m(fname)\u001b[39m\n\u001b[32m    882\u001b[39m fname = os.path.expanduser(fname)\n\u001b[32m--> \u001b[39m\u001b[32m883\u001b[39m \u001b[38;5;28;01mwith\u001b[39;00m \u001b[38;5;28mopen\u001b[39m(fname, encoding=\u001b[33m'\u001b[39m\u001b[33mutf-8\u001b[39m\u001b[33m'\u001b[39m) \u001b[38;5;28;01mas\u001b[39;00m f:\n\u001b[32m    884\u001b[39m     \u001b[38;5;28;01myield\u001b[39;00m f\n",
            "\u001b[31mFileNotFoundError\u001b[39m: [Errno 2] No such file or directory: 'seaborn-whitegrid'",
            "\nThe above exception was the direct cause of the following exception:\n",
            "\u001b[31mOSError\u001b[39m                                   Traceback (most recent call last)",
            "\u001b[36mCell\u001b[39m\u001b[36m \u001b[39m\u001b[32mIn[17]\u001b[39m\u001b[32m, line 3\u001b[39m\n\u001b[32m      1\u001b[39m get_ipython().run_line_magic(\u001b[33m'\u001b[39m\u001b[33mmatplotlib\u001b[39m\u001b[33m'\u001b[39m, \u001b[33m'\u001b[39m\u001b[33minline\u001b[39m\u001b[33m'\u001b[39m)\n\u001b[32m      2\u001b[39m \u001b[38;5;28;01mimport\u001b[39;00m\u001b[38;5;250m \u001b[39m\u001b[34;01mmatplotlib\u001b[39;00m\u001b[34;01m.\u001b[39;00m\u001b[34;01mpyplot\u001b[39;00m\u001b[38;5;250m \u001b[39m\u001b[38;5;28;01mas\u001b[39;00m\u001b[38;5;250m \u001b[39m\u001b[34;01mplt\u001b[39;00m\n\u001b[32m----> \u001b[39m\u001b[32m3\u001b[39m \u001b[43mplt\u001b[49m\u001b[43m.\u001b[49m\u001b[43mstyle\u001b[49m\u001b[43m.\u001b[49m\u001b[43muse\u001b[49m\u001b[43m(\u001b[49m\u001b[33;43m'\u001b[39;49m\u001b[33;43mseaborn-whitegrid\u001b[39;49m\u001b[33;43m'\u001b[39;49m\u001b[43m)\u001b[49m\n",
            "\u001b[36mFile \u001b[39m\u001b[32mc:\\Users\\escob\\Desktop\\ClasesUdeA\\FundamentosCode\\FundamentosDeProgramacion\\venvfund\\Lib\\site-packages\\matplotlib\\style\\core.py:131\u001b[39m, in \u001b[36muse\u001b[39m\u001b[34m(style)\u001b[39m\n\u001b[32m    129\u001b[39m         style = _rc_params_in_file(style)\n\u001b[32m    130\u001b[39m     \u001b[38;5;28;01mexcept\u001b[39;00m \u001b[38;5;167;01mOSError\u001b[39;00m \u001b[38;5;28;01mas\u001b[39;00m err:\n\u001b[32m--> \u001b[39m\u001b[32m131\u001b[39m         \u001b[38;5;28;01mraise\u001b[39;00m \u001b[38;5;167;01mOSError\u001b[39;00m(\n\u001b[32m    132\u001b[39m             \u001b[33mf\u001b[39m\u001b[33m\"\u001b[39m\u001b[38;5;132;01m{\u001b[39;00mstyle\u001b[38;5;132;01m!r}\u001b[39;00m\u001b[33m is not a valid package style, path of style \u001b[39m\u001b[33m\"\u001b[39m\n\u001b[32m    133\u001b[39m             \u001b[33mf\u001b[39m\u001b[33m\"\u001b[39m\u001b[33mfile, URL of style file, or library style name (library \u001b[39m\u001b[33m\"\u001b[39m\n\u001b[32m    134\u001b[39m             \u001b[33mf\u001b[39m\u001b[33m\"\u001b[39m\u001b[33mstyles are listed in `style.available`)\u001b[39m\u001b[33m\"\u001b[39m) \u001b[38;5;28;01mfrom\u001b[39;00m\u001b[38;5;250m \u001b[39m\u001b[34;01merr\u001b[39;00m\n\u001b[32m    135\u001b[39m filtered = {}\n\u001b[32m    136\u001b[39m \u001b[38;5;28;01mfor\u001b[39;00m k \u001b[38;5;129;01min\u001b[39;00m style:  \u001b[38;5;66;03m# don't trigger RcParams.__getitem__('backend')\u001b[39;00m\n",
            "\u001b[31mOSError\u001b[39m: 'seaborn-whitegrid' is not a valid package style, path of style file, URL of style file, or library style name (library styles are listed in `style.available`)"
          ]
        }
      ],
      "source": [
        "%matplotlib inline\n",
        "import matplotlib.pyplot as plt\n",
        "plt.style.use('seaborn-whitegrid')"
      ]
    },
    {
      "cell_type": "code",
      "execution_count": null,
      "metadata": {
        "id": "lQrCiVgC1qSQ",
        "jupyter": {
          "outputs_hidden": false
        },
        "outputId": "52e0fcb3-df0b-435c-f791-6eadf21abda8"
      },
      "outputs": [
        {
          "data": {
            "image/png": "[encoded data removed]",
            "text/plain": [
              "<Figure size 432x288 with 1 Axes>"
            ]
          },
          "metadata": {},
          "output_type": "display_data"
        }
      ],
      "source": [
        "plt.hist(heights)\n",
        "plt.title('Height Distribution of US Presidents')\n",
        "plt.xlabel('height (cm)')\n",
        "plt.ylabel('number')"
      ]
    }
  ],
  "metadata": {
    "anaconda-cloud": {},
    "colab": {
      "provenance": []
    },
    "jupytext": {
      "formats": "ipynb,md"
    },
    "kernelspec": {
      "display_name": "venvfund",
      "language": "python",
      "name": "python3"
    },
    "language_info": {
      "codemirror_mode": {
        "name": "ipython",
        "version": 3
      },
      "file_extension": ".py",
      "mimetype": "text/x-python",
      "name": "python",
      "nbconvert_exporter": "python",
      "pygments_lexer": "ipython3",
      "version": "3.11.9"
    }
  },
  "nbformat": 4,
  "nbformat_minor": 0
}
