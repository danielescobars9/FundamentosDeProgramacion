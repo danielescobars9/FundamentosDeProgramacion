{
  "cells": [
    {
      "cell_type": "markdown",
      "metadata": {
        "id": "MH0dvYvvwdr9"
      },
      "source": [
        "# The Basics of NumPy Arrays"
      ]
    },
    {
      "cell_type": "markdown",
      "metadata": {
        "id": "npeJt8ISwdr_"
      },
      "source": [
        "Data manipulation in Python is nearly synonymous with NumPy array manipulation: even newer tools like Pandas ([Part 3](03.00-Introduction-to-Pandas.ipynb)) are built around the NumPy array.\n",
        "This chapter will present several examples of using NumPy array manipulation to access data and subarrays, and to split, reshape, and join the arrays.\n",
        "While the types of operations shown here may seem a bit dry and pedantic, they comprise the building blocks of many other examples used throughout the book.\n",
        "Get to know them well!\n",
        "\n",
        "We'll cover a few categories of basic array manipulations here:\n",
        "\n",
        "- *Attributes of arrays*: Determining the size, shape, memory consumption, and data types of arrays\n",
        "- *Indexing of arrays*: Getting and setting the values of individual array elements\n",
        "- *Slicing of arrays*: Getting and setting smaller subarrays within a larger array\n",
        "- *Reshaping of arrays*: Changing the shape of a given array\n",
        "- *Joining and splitting of arrays*: Combining multiple arrays into one, and splitting one array into many"
      ]
    },
    {
      "cell_type": "markdown",
      "metadata": {
        "id": "mVEF7zFJwdsA"
      },
      "source": [
        "## NumPy Array Attributes"
      ]
    },
    {
      "cell_type": "markdown",
      "metadata": {
        "id": "E-0Bi9uewdsB"
      },
      "source": [
        "First let's discuss some useful array attributes.\n",
        "We'll start by defining random arrays of one, two, and three dimensions.\n",
        "We'll use NumPy's random number generator, which we will *seed* with a set value in order to ensure that the same random arrays are generated each time this code is run:"
      ]
    },
    {
      "cell_type": "code",
      "execution_count": 1,
      "metadata": {
        "id": "PqCNgHevwdsB",
        "jupyter": {
          "outputs_hidden": false
        }
      },
      "outputs": [
        {
          "data": {
            "text/plain": [
              "array([7, 8, 1, 5, 0, 2])"
            ]
          },
          "execution_count": 1,
          "metadata": {},
          "output_type": "execute_result"
        }
      ],
      "source": [
        "import numpy as np\n",
        "rng = np.random.default_rng(seed=100)  # seed for reproducibility\n",
        "\n",
        "x1 = rng.integers(10, size=6)  # one-dimensional array\n",
        "x2 = rng.integers(10, size=(3, 4))  # two-dimensional array\n",
        "x3 = rng.integers(10, size=(3, 4, 5))  # three-dimensional array\n",
        "x1"
      ]
    },
    {
      "cell_type": "code",
      "execution_count": 2,
      "metadata": {},
      "outputs": [
        {
          "data": {
            "text/plain": [
              "array([[4, 0, 5, 9],\n",
              "       [9, 5, 4, 7],\n",
              "       [9, 9, 0, 6]])"
            ]
          },
          "execution_count": 2,
          "metadata": {},
          "output_type": "execute_result"
        }
      ],
      "source": [
        "x2"
      ]
    },
    {
      "cell_type": "markdown",
      "metadata": {
        "id": "ltSKVYXFwdsC"
      },
      "source": [
        "Each array has attributes including `ndim` (the number of dimensions), `shape` (the size of each dimension), `size` (the total size of the array), and `dtype` (the type of each element):"
      ]
    },
    {
      "cell_type": "code",
      "execution_count": 3,
      "metadata": {
        "id": "zs-0pPo1wdsD",
        "jupyter": {
          "outputs_hidden": false
        },
        "outputId": "a6601c3c-a986-4d50-ce4f-c574699404fc"
      },
      "outputs": [
        {
          "name": "stdout",
          "output_type": "stream",
          "text": [
            "x3 ndim:  3\n",
            "x3 shape: (3, 4, 5)\n",
            "x3 size:  60\n",
            "dtype:    int64\n"
          ]
        },
        {
          "data": {
            "text/plain": [
              "array([[[7, 1, 5, 9, 6],\n",
              "        [2, 3, 6, 1, 5],\n",
              "        [5, 5, 7, 5, 7],\n",
              "        [9, 1, 5, 1, 7]],\n",
              "\n",
              "       [[1, 4, 2, 9, 4],\n",
              "        [9, 8, 3, 4, 3],\n",
              "        [8, 8, 4, 7, 9],\n",
              "        [6, 7, 4, 9, 3]],\n",
              "\n",
              "       [[6, 1, 6, 6, 1],\n",
              "        [0, 8, 2, 8, 6],\n",
              "        [1, 0, 1, 8, 4],\n",
              "        [0, 2, 5, 8, 5]]])"
            ]
          },
          "execution_count": 3,
          "metadata": {},
          "output_type": "execute_result"
        }
      ],
      "source": [
        "print(\"x3 ndim: \", x3.ndim)\n",
        "print(\"x3 shape:\", x3.shape)\n",
        "print(\"x3 size: \", x3.size)\n",
        "print(\"dtype:   \", x3.dtype)\n",
        "x3"
      ]
    },
    {
      "cell_type": "markdown",
      "metadata": {
        "id": "q47Izl9fwdsD"
      },
      "source": [
        "For more discussion of data types, see [Understanding Data Types in Python](02.01-Understanding-Data-Types.ipynb)."
      ]
    },
    {
      "cell_type": "markdown",
      "metadata": {
        "id": "pk5v_fimwdsE"
      },
      "source": [
        "## Array Indexing: Accessing Single Elements"
      ]
    },
    {
      "cell_type": "markdown",
      "metadata": {
        "id": "sSbTLeugwdsE"
      },
      "source": [
        "If you are familiar with Python's standard list indexing, indexing in NumPy will feel quite familiar.\n",
        "In a one-dimensional array, the $i^{th}$ value (counting from zero) can be accessed by specifying the desired index in square brackets, just as with Python lists:"
      ]
    },
    {
      "cell_type": "code",
      "execution_count": 4,
      "metadata": {
        "id": "ZxdDz2UQwdsF",
        "jupyter": {
          "outputs_hidden": false
        },
        "outputId": "f84da61f-f557-4f4e-aff0-66a99bba9c00"
      },
      "outputs": [
        {
          "data": {
            "text/plain": [
              "array([7, 8, 1, 5, 0, 2])"
            ]
          },
          "execution_count": 4,
          "metadata": {},
          "output_type": "execute_result"
        }
      ],
      "source": [
        "x1"
      ]
    },
    {
      "cell_type": "code",
      "execution_count": 5,
      "metadata": {
        "id": "7bmE4Mj_wdsF",
        "jupyter": {
          "outputs_hidden": false
        },
        "outputId": "9177d652-f08d-4c82-dab7-834241e497f7"
      },
      "outputs": [
        {
          "data": {
            "text/plain": [
              "np.int64(7)"
            ]
          },
          "execution_count": 5,
          "metadata": {},
          "output_type": "execute_result"
        }
      ],
      "source": [
        "x1[0]"
      ]
    },
    {
      "cell_type": "code",
      "execution_count": 6,
      "metadata": {
        "id": "DiaGANEVwdsF",
        "jupyter": {
          "outputs_hidden": false
        },
        "outputId": "3ef9fd16-bf43-494b-f3c6-3deabc05fd3b"
      },
      "outputs": [
        {
          "data": {
            "text/plain": [
              "np.int64(0)"
            ]
          },
          "execution_count": 6,
          "metadata": {},
          "output_type": "execute_result"
        }
      ],
      "source": [
        "x1[4]"
      ]
    },
    {
      "cell_type": "markdown",
      "metadata": {
        "id": "5xyNxXAMwdsG"
      },
      "source": [
        "To index from the end of the array, you can use negative indices:"
      ]
    },
    {
      "cell_type": "code",
      "execution_count": 7,
      "metadata": {
        "id": "XodG3A2rwdsG",
        "jupyter": {
          "outputs_hidden": false
        },
        "outputId": "7ca124a2-859f-4571-b421-e5d9d3d27fa0"
      },
      "outputs": [
        {
          "data": {
            "text/plain": [
              "np.int64(2)"
            ]
          },
          "execution_count": 7,
          "metadata": {},
          "output_type": "execute_result"
        }
      ],
      "source": [
        "x1[-1]"
      ]
    },
    {
      "cell_type": "code",
      "execution_count": 8,
      "metadata": {
        "id": "tzNZ05pSwdsG",
        "jupyter": {
          "outputs_hidden": false
        },
        "outputId": "3ab4aa21-ab2f-4fe4-edfd-55621c7bc5cf"
      },
      "outputs": [
        {
          "data": {
            "text/plain": [
              "np.int64(0)"
            ]
          },
          "execution_count": 8,
          "metadata": {},
          "output_type": "execute_result"
        }
      ],
      "source": [
        "x1[-2]"
      ]
    },
    {
      "cell_type": "code",
      "execution_count": 9,
      "metadata": {},
      "outputs": [
        {
          "data": {
            "text/plain": [
              "18446744073709551616"
            ]
          },
          "execution_count": 9,
          "metadata": {},
          "output_type": "execute_result"
        }
      ],
      "source": [
        "2 ** 64"
      ]
    },
    {
      "cell_type": "markdown",
      "metadata": {
        "id": "AXg9kJbCwdsH"
      },
      "source": [
        "In a multidimensional array, items can be accessed using a comma-separated `(row, column)` tuple:"
      ]
    },
    {
      "cell_type": "code",
      "execution_count": 10,
      "metadata": {
        "id": "4Ns860ZGwdsH",
        "jupyter": {
          "outputs_hidden": false
        },
        "outputId": "c49fea96-c5ce-4b4e-9b2f-993537bce625"
      },
      "outputs": [
        {
          "data": {
            "text/plain": [
              "array([[4, 0, 5, 9],\n",
              "       [9, 5, 4, 7],\n",
              "       [9, 9, 0, 6]])"
            ]
          },
          "execution_count": 10,
          "metadata": {},
          "output_type": "execute_result"
        }
      ],
      "source": [
        "x2"
      ]
    },
    {
      "cell_type": "code",
      "execution_count": 11,
      "metadata": {
        "id": "cS7LUPLTwdsH",
        "jupyter": {
          "outputs_hidden": false
        },
        "outputId": "67762bcc-1599-44be-e78c-ef4de655edf5"
      },
      "outputs": [
        {
          "data": {
            "text/plain": [
              "np.int64(4)"
            ]
          },
          "execution_count": 11,
          "metadata": {},
          "output_type": "execute_result"
        }
      ],
      "source": [
        "x2[0, 0]"
      ]
    },
    {
      "cell_type": "code",
      "execution_count": 12,
      "metadata": {
        "id": "SdPJJnYwwdsI",
        "jupyter": {
          "outputs_hidden": false
        },
        "outputId": "a10514f9-62ce-4a7f-f698-3cb65e4fb965"
      },
      "outputs": [
        {
          "data": {
            "text/plain": [
              "np.int64(9)"
            ]
          },
          "execution_count": 12,
          "metadata": {},
          "output_type": "execute_result"
        }
      ],
      "source": [
        "x2[2, 0]"
      ]
    },
    {
      "cell_type": "code",
      "execution_count": 13,
      "metadata": {
        "id": "jRX9wjarwdsI",
        "jupyter": {
          "outputs_hidden": false
        },
        "outputId": "45ebd749-e9be-4ff0-ddbf-9f3036246c41"
      },
      "outputs": [
        {
          "data": {
            "text/plain": [
              "np.int64(6)"
            ]
          },
          "execution_count": 13,
          "metadata": {},
          "output_type": "execute_result"
        }
      ],
      "source": [
        "x2[2, -1]"
      ]
    },
    {
      "cell_type": "markdown",
      "metadata": {
        "id": "c3CY4t02wdsI"
      },
      "source": [
        "Values can also be modified using any of the preceding index notation:"
      ]
    },
    {
      "cell_type": "code",
      "execution_count": 14,
      "metadata": {
        "id": "z5GHP-h1wdsI",
        "jupyter": {
          "outputs_hidden": false
        },
        "outputId": "750f4184-f751-4fcd-b62d-c7642806d360"
      },
      "outputs": [
        {
          "data": {
            "text/plain": [
              "array([[12,  0,  5,  9],\n",
              "       [ 9,  5,  4,  7],\n",
              "       [ 9,  9,  0,  6]])"
            ]
          },
          "execution_count": 14,
          "metadata": {},
          "output_type": "execute_result"
        }
      ],
      "source": [
        "x2[0, 0] = 12\n",
        "x2"
      ]
    },
    {
      "cell_type": "markdown",
      "metadata": {
        "id": "Fko2Mh0iwdsJ"
      },
      "source": [
        "Keep in mind that, unlike Python lists, NumPy arrays have a fixed type.\n",
        "This means, for example, that if you attempt to insert a floating-point value into an integer array, the value will be silently truncated. Don't be caught unaware by this behavior!"
      ]
    },
    {
      "cell_type": "code",
      "execution_count": 15,
      "metadata": {
        "id": "tEmn7h03wdsJ",
        "jupyter": {
          "outputs_hidden": false
        },
        "outputId": "b469827d-bbe1-4af4-c17b-d70ec9950ff7"
      },
      "outputs": [
        {
          "data": {
            "text/plain": [
              "array([3, 8, 1, 5, 0, 2])"
            ]
          },
          "execution_count": 15,
          "metadata": {},
          "output_type": "execute_result"
        }
      ],
      "source": [
        "x1[0] = 3.14159  # this will be truncated!\n",
        "x1"
      ]
    },
    {
      "cell_type": "markdown",
      "metadata": {
        "id": "n8N2h-oowdsJ"
      },
      "source": [
        "## Array Slicing: Accessing Subarrays"
      ]
    },
    {
      "cell_type": "markdown",
      "metadata": {
        "id": "RLLLKGRlwdsJ"
      },
      "source": [
        "Just as we can use square brackets to access individual array elements, we can also use them to access subarrays with the *slice* notation, marked by the colon (`:`) character.\n",
        "The NumPy slicing syntax follows that of the standard Python list; to access a slice of an array `x`, use this:\n",
        "``` python\n",
        "x[start:stop:step]\n",
        "```\n",
        "If any of these are unspecified, they default to the values `start=0`, `stop=<size of dimension>`, `step=1`.\n",
        "Let's look at some examples of accessing subarrays in one dimension and in multiple dimensions."
      ]
    },
    {
      "cell_type": "markdown",
      "metadata": {
        "id": "pDoj8pIUwdsJ"
      },
      "source": [
        "### One-Dimensional Subarrays\n",
        "\n",
        "Here are some examples of accessing elements in one-dimensional subarrays:"
      ]
    },
    {
      "cell_type": "code",
      "execution_count": 16,
      "metadata": {
        "id": "66t8c6E_wdsK",
        "jupyter": {
          "outputs_hidden": false
        },
        "outputId": "d09d34fc-a46b-49fd-d386-6ebf2452e022"
      },
      "outputs": [
        {
          "data": {
            "text/plain": [
              "array([3, 8, 1, 5, 0, 2])"
            ]
          },
          "execution_count": 16,
          "metadata": {},
          "output_type": "execute_result"
        }
      ],
      "source": [
        "x1"
      ]
    },
    {
      "cell_type": "code",
      "execution_count": 17,
      "metadata": {
        "id": "VKmgoVkzwdsK",
        "jupyter": {
          "outputs_hidden": false
        },
        "outputId": "805da1a3-0dc6-4456-b847-0a6d076129cc"
      },
      "outputs": [
        {
          "data": {
            "text/plain": [
              "array([3, 8, 1])"
            ]
          },
          "execution_count": 17,
          "metadata": {},
          "output_type": "execute_result"
        }
      ],
      "source": [
        "x1[:3]  # first three elements"
      ]
    },
    {
      "cell_type": "code",
      "execution_count": 18,
      "metadata": {
        "id": "k_5TOD4lwdsK",
        "jupyter": {
          "outputs_hidden": false
        },
        "outputId": "0cdf04ac-5b18-4f73-bcb4-aaed5a8f30da"
      },
      "outputs": [
        {
          "data": {
            "text/plain": [
              "array([5, 0, 2])"
            ]
          },
          "execution_count": 18,
          "metadata": {},
          "output_type": "execute_result"
        }
      ],
      "source": [
        "x1[3:]  # elements after index 3"
      ]
    },
    {
      "cell_type": "code",
      "execution_count": 19,
      "metadata": {
        "id": "uK4Mxv5bwdsK",
        "jupyter": {
          "outputs_hidden": false
        },
        "outputId": "f7e503b1-7f83-4b56-8fcf-d5134e3e79c2"
      },
      "outputs": [
        {
          "data": {
            "text/plain": [
              "array([8, 1, 5])"
            ]
          },
          "execution_count": 19,
          "metadata": {},
          "output_type": "execute_result"
        }
      ],
      "source": [
        "x1[1:4]  # middle subarray"
      ]
    },
    {
      "cell_type": "markdown",
      "metadata": {},
      "source": [
        "# ([3, 8, 1, 5, 0, 2])"
      ]
    },
    {
      "cell_type": "code",
      "execution_count": 20,
      "metadata": {
        "id": "5p8v1rULwdsL",
        "jupyter": {
          "outputs_hidden": false
        },
        "outputId": "f6940fae-864b-4d1a-ac19-a9e6f3d4025e"
      },
      "outputs": [
        {
          "data": {
            "text/plain": [
              "array([3, 1, 0])"
            ]
          },
          "execution_count": 20,
          "metadata": {},
          "output_type": "execute_result"
        }
      ],
      "source": [
        "x1[::2]  # every second element"
      ]
    },
    {
      "cell_type": "code",
      "execution_count": 21,
      "metadata": {
        "id": "8HeyHJDdwdsL",
        "jupyter": {
          "outputs_hidden": false
        },
        "outputId": "5e705a48-93a7-4406-e8ff-ae5ea9d31f3d"
      },
      "outputs": [
        {
          "data": {
            "text/plain": [
              "array([8, 5, 2])"
            ]
          },
          "execution_count": 21,
          "metadata": {},
          "output_type": "execute_result"
        }
      ],
      "source": [
        "x1[1::2]  # every second element, starting at index 1"
      ]
    },
    {
      "cell_type": "markdown",
      "metadata": {
        "id": "j-L0DSg8wdsL"
      },
      "source": [
        "A potentially confusing case is when the `step` value is negative.\n",
        "In this case, the defaults for `start` and `stop` are swapped.\n",
        "This becomes a convenient way to reverse an array:"
      ]
    },
    {
      "cell_type": "markdown",
      "metadata": {},
      "source": [
        "([3, 8, 1, 5, 0, 2])"
      ]
    },
    {
      "cell_type": "code",
      "execution_count": 22,
      "metadata": {
        "id": "8UGnKZrBwdsL",
        "jupyter": {
          "outputs_hidden": false
        },
        "outputId": "93f27117-1d01-4bec-f901-045cb0e74343"
      },
      "outputs": [
        {
          "data": {
            "text/plain": [
              "array([2, 0, 5, 1, 8, 3])"
            ]
          },
          "execution_count": 22,
          "metadata": {},
          "output_type": "execute_result"
        }
      ],
      "source": [
        "x1[::-1]  # all elements, reversed"
      ]
    },
    {
      "cell_type": "code",
      "execution_count": 23,
      "metadata": {
        "id": "Q9cjLU7QwdsM",
        "jupyter": {
          "outputs_hidden": false
        },
        "outputId": "72499e06-42d6-4b01-d5a5-b239c6198957"
      },
      "outputs": [
        {
          "data": {
            "text/plain": [
              "array([0, 1, 3])"
            ]
          },
          "execution_count": 23,
          "metadata": {},
          "output_type": "execute_result"
        }
      ],
      "source": [
        "x1[4::-2]  # every second element from index 4, reversed"
      ]
    },
    {
      "cell_type": "markdown",
      "metadata": {
        "id": "RdrWWMVVwdsM"
      },
      "source": [
        "### Multidimensional Subarrays\n",
        "\n",
        "Multidimensional slices work in the same way, with multiple slices separated by commas.\n",
        "For example:"
      ]
    },
    {
      "cell_type": "code",
      "execution_count": 24,
      "metadata": {
        "id": "uvi-XqFHwdsM",
        "jupyter": {
          "outputs_hidden": false
        },
        "outputId": "82835bb0-9c36-4090-b3f8-586c54df9ffb"
      },
      "outputs": [
        {
          "data": {
            "text/plain": [
              "array([[12,  0,  5,  9],\n",
              "       [ 9,  5,  4,  7],\n",
              "       [ 9,  9,  0,  6]])"
            ]
          },
          "execution_count": 24,
          "metadata": {},
          "output_type": "execute_result"
        }
      ],
      "source": [
        "x2"
      ]
    },
    {
      "cell_type": "code",
      "execution_count": 25,
      "metadata": {
        "id": "IrjSqN7HwdsS",
        "jupyter": {
          "outputs_hidden": false
        },
        "outputId": "b6f262de-a552-4c8e-8119-7cbd6e1e3f22"
      },
      "outputs": [
        {
          "data": {
            "text/plain": [
              "array([[12,  0,  5],\n",
              "       [ 9,  5,  4]])"
            ]
          },
          "execution_count": 25,
          "metadata": {},
          "output_type": "execute_result"
        }
      ],
      "source": [
        "x2[:2, :3]  # first two rows & three columns"
      ]
    },
    {
      "cell_type": "code",
      "execution_count": 26,
      "metadata": {
        "id": "nuiuR80vwdsS",
        "jupyter": {
          "outputs_hidden": false
        },
        "outputId": "034621f2-8e4f-4044-a87f-f3a90e54130d"
      },
      "outputs": [
        {
          "data": {
            "text/plain": [
              "array([[12,  5],\n",
              "       [ 9,  4],\n",
              "       [ 9,  0]])"
            ]
          },
          "execution_count": 26,
          "metadata": {},
          "output_type": "execute_result"
        }
      ],
      "source": [
        "x2[:3, ::2]  # three rows, every second column"
      ]
    },
    {
      "cell_type": "code",
      "execution_count": 27,
      "metadata": {
        "id": "YNOhwjtLwdsS",
        "jupyter": {
          "outputs_hidden": false
        },
        "outputId": "06a3ae28-0eb8-41a0-bace-80dc610ae519"
      },
      "outputs": [
        {
          "data": {
            "text/plain": [
              "array([[ 6,  0,  9,  9],\n",
              "       [ 7,  4,  5,  9],\n",
              "       [ 9,  5,  0, 12]])"
            ]
          },
          "execution_count": 27,
          "metadata": {},
          "output_type": "execute_result"
        }
      ],
      "source": [
        "x2[::-1, ::-1]  # all rows & columns, reversed"
      ]
    },
    {
      "cell_type": "markdown",
      "metadata": {
        "id": "E-_T6Z6CwdsS"
      },
      "source": [
        "#### Accessing array rows and columns\n",
        "\n",
        "One commonly needed routine is accessing single rows or columns of an array.\n",
        "This can be done by combining indexing and slicing, using an empty slice marked by a single colon (`:`):"
      ]
    },
    {
      "cell_type": "code",
      "execution_count": 28,
      "metadata": {
        "id": "tzKytybKwdsT",
        "jupyter": {
          "outputs_hidden": false
        },
        "outputId": "ab488383-462a-41d3-dd6e-72723b617844"
      },
      "outputs": [
        {
          "data": {
            "text/plain": [
              "array([12,  9,  9])"
            ]
          },
          "execution_count": 28,
          "metadata": {},
          "output_type": "execute_result"
        }
      ],
      "source": [
        "x2[:, 0]  # first column of x2"
      ]
    },
    {
      "cell_type": "code",
      "execution_count": 29,
      "metadata": {
        "id": "VcWOV8-bwdsT",
        "jupyter": {
          "outputs_hidden": false
        },
        "outputId": "bfe22121-73ca-4f89-b2e6-6795c7c0a32b"
      },
      "outputs": [
        {
          "data": {
            "text/plain": [
              "array([12,  0,  5,  9])"
            ]
          },
          "execution_count": 29,
          "metadata": {},
          "output_type": "execute_result"
        }
      ],
      "source": [
        "x2[0, :]  # first row of x2"
      ]
    },
    {
      "cell_type": "markdown",
      "metadata": {
        "id": "DVEsCbowwdsT"
      },
      "source": [
        "In the case of row access, the empty slice can be omitted for a more compact syntax:"
      ]
    },
    {
      "cell_type": "code",
      "execution_count": 30,
      "metadata": {
        "id": "5c2h_qFqwdsT",
        "jupyter": {
          "outputs_hidden": false
        },
        "outputId": "337c6ef0-4ce5-4d22-f399-789b8dfbe8d6"
      },
      "outputs": [
        {
          "data": {
            "text/plain": [
              "array([12,  0,  5,  9])"
            ]
          },
          "execution_count": 30,
          "metadata": {},
          "output_type": "execute_result"
        }
      ],
      "source": [
        "x2[0]  # equivalent to x2[0, :]"
      ]
    },
    {
      "cell_type": "markdown",
      "metadata": {
        "id": "6Y0M_mB0wdsU"
      },
      "source": [
        "### Subarrays as No-Copy Views\n",
        "\n",
        "Unlike Python list slices, NumPy array slices are returned as *views* rather than *copies* of the array data.\n",
        "Consider our two-dimensional array from before:"
      ]
    },
    {
      "cell_type": "code",
      "execution_count": 31,
      "metadata": {
        "id": "B1-vb8FkwdsU",
        "jupyter": {
          "outputs_hidden": false
        },
        "outputId": "945df31e-1f1a-410a-8c26-9cc474f708b4"
      },
      "outputs": [
        {
          "name": "stdout",
          "output_type": "stream",
          "text": [
            "[[12  0  5  9]\n",
            " [ 9  5  4  7]\n",
            " [ 9  9  0  6]]\n"
          ]
        }
      ],
      "source": [
        "print(x2)"
      ]
    },
    {
      "cell_type": "markdown",
      "metadata": {
        "id": "B5Zdq2q_wdsU"
      },
      "source": [
        "Let's extract a $2 \\times 2$ subarray from this:"
      ]
    },
    {
      "cell_type": "code",
      "execution_count": 32,
      "metadata": {
        "id": "BXfDokwhwdsU",
        "jupyter": {
          "outputs_hidden": false
        },
        "outputId": "299552dc-e6eb-4262-8aca-326f095ef4ee"
      },
      "outputs": [
        {
          "name": "stdout",
          "output_type": "stream",
          "text": [
            "[[12  0]\n",
            " [ 9  5]]\n"
          ]
        }
      ],
      "source": [
        "x2_sub = x2[:2, :2]\n",
        "print(x2_sub)"
      ]
    },
    {
      "cell_type": "markdown",
      "metadata": {
        "id": "buqu67e6wdsU"
      },
      "source": [
        "Now if we modify this subarray, we'll see that the original array is changed! Observe:"
      ]
    },
    {
      "cell_type": "code",
      "execution_count": 33,
      "metadata": {
        "id": "5GGAzOomwdsV",
        "jupyter": {
          "outputs_hidden": false
        },
        "outputId": "9053e7d7-0053-4c5a-bab7-538888436f14"
      },
      "outputs": [
        {
          "name": "stdout",
          "output_type": "stream",
          "text": [
            "[[99  0]\n",
            " [ 9  5]]\n"
          ]
        }
      ],
      "source": [
        "x2_sub[0, 0] = 99\n",
        "print(x2_sub)"
      ]
    },
    {
      "cell_type": "code",
      "execution_count": 34,
      "metadata": {
        "id": "zhrUbZoiwdsV",
        "jupyter": {
          "outputs_hidden": false
        },
        "outputId": "db200cc1-460b-409d-c8ff-75b50e9c2ccc"
      },
      "outputs": [
        {
          "name": "stdout",
          "output_type": "stream",
          "text": [
            "[[99  0  5  9]\n",
            " [ 9  5  4  7]\n",
            " [ 9  9  0  6]]\n"
          ]
        }
      ],
      "source": [
        "print(x2)"
      ]
    },
    {
      "cell_type": "markdown",
      "metadata": {
        "id": "ulzYmhXUwdsV"
      },
      "source": [
        "Some users may find this surprising, but it can be advantageous: for example, when working with large datasets, we can access and process pieces of these datasets without the need to copy the underlying data buffer."
      ]
    },
    {
      "cell_type": "markdown",
      "metadata": {
        "id": "_CYD4HfJwdsV"
      },
      "source": [
        "### Creating Copies of Arrays\n",
        "\n",
        "Despite the nice features of array views, it is sometimes useful to instead explicitly copy the data within an array or a subarray. This can be most easily done with the `copy` method:"
      ]
    },
    {
      "cell_type": "code",
      "execution_count": 35,
      "metadata": {
        "id": "3kIEaPiswdsW",
        "jupyter": {
          "outputs_hidden": false
        },
        "outputId": "314d6d01-d3e8-4f18-f356-1c0083181c60"
      },
      "outputs": [
        {
          "name": "stdout",
          "output_type": "stream",
          "text": [
            "[[99  0]\n",
            " [ 9  5]]\n"
          ]
        }
      ],
      "source": [
        "x2_sub_copy = x2[:2, :2].copy()\n",
        "print(x2_sub_copy)"
      ]
    },
    {
      "cell_type": "markdown",
      "metadata": {
        "id": "9oGrGGhNwdsW"
      },
      "source": [
        "If we now modify this subarray, the original array is not touched:"
      ]
    },
    {
      "cell_type": "code",
      "execution_count": 36,
      "metadata": {
        "id": "0DRfxOxKwdsW",
        "jupyter": {
          "outputs_hidden": false
        },
        "outputId": "7091bd2d-4cb9-4a8d-d36d-424deca968a3"
      },
      "outputs": [
        {
          "name": "stdout",
          "output_type": "stream",
          "text": [
            "[[42  0]\n",
            " [ 9  5]]\n"
          ]
        }
      ],
      "source": [
        "x2_sub_copy[0, 0] = 42\n",
        "print(x2_sub_copy)"
      ]
    },
    {
      "cell_type": "code",
      "execution_count": 37,
      "metadata": {
        "id": "apKUvf3hwdsW",
        "jupyter": {
          "outputs_hidden": false
        },
        "outputId": "ea342c49-22e5-478c-acae-0f3d98f61ff9"
      },
      "outputs": [
        {
          "name": "stdout",
          "output_type": "stream",
          "text": [
            "[[99  0  5  9]\n",
            " [ 9  5  4  7]\n",
            " [ 9  9  0  6]]\n"
          ]
        }
      ],
      "source": [
        "print(x2)"
      ]
    },
    {
      "cell_type": "markdown",
      "metadata": {
        "id": "90gAkkLdwdsX"
      },
      "source": [
        "## Reshaping of Arrays\n",
        "\n",
        "Another useful type of operation is reshaping of arrays, which can be done with the `reshape` method.\n",
        "For example, if you want to put the numbers 1 through 9 in a $3 \\times 3$ grid, you can do the following:"
      ]
    },
    {
      "cell_type": "code",
      "execution_count": 38,
      "metadata": {
        "id": "uaIAmODQwdsX",
        "jupyter": {
          "outputs_hidden": false
        },
        "outputId": "cd3fc2f6-939b-429b-d7d2-5c224f427d12"
      },
      "outputs": [
        {
          "name": "stdout",
          "output_type": "stream",
          "text": [
            "[[ 0  1  2]\n",
            " [ 3  4  5]\n",
            " [ 6  7  8]\n",
            " [ 9 10 11]]\n"
          ]
        }
      ],
      "source": [
        "grid = np.arange(0, 12).reshape(4, 3)\n",
        "print(grid)"
      ]
    },
    {
      "cell_type": "markdown",
      "metadata": {
        "id": "4kvPZZoTwdsX"
      },
      "source": [
        "Note that for this to work, the size of the initial array must match the size of the reshaped array, and in most cases the `reshape` method will return a no-copy view of the initial array."
      ]
    },
    {
      "cell_type": "markdown",
      "metadata": {
        "id": "-p9BUj6-wdsX"
      },
      "source": [
        "A common reshaping operation is converting a one-dimensional array into a two-dimensional row or column matrix:"
      ]
    },
    {
      "cell_type": "code",
      "execution_count": 39,
      "metadata": {
        "id": "_Rf1ifnUwdsY",
        "jupyter": {
          "outputs_hidden": false
        },
        "outputId": "ad37e440-c5b3-4260-b55c-7378bb486241"
      },
      "outputs": [
        {
          "data": {
            "text/plain": [
              "array([[1, 2, 3]])"
            ]
          },
          "execution_count": 39,
          "metadata": {},
          "output_type": "execute_result"
        }
      ],
      "source": [
        "x = np.array([1, 2, 3])\n",
        "x.reshape((1, 3))  # row vector via reshape"
      ]
    },
    {
      "cell_type": "code",
      "execution_count": 40,
      "metadata": {
        "id": "S_b2xC2pwdsY",
        "outputId": "bb20812f-3e0b-4b28-eeaf-c738cdaefac2"
      },
      "outputs": [
        {
          "data": {
            "text/plain": [
              "array([[1],\n",
              "       [2],\n",
              "       [3]])"
            ]
          },
          "execution_count": 40,
          "metadata": {},
          "output_type": "execute_result"
        }
      ],
      "source": [
        "x.reshape((3, 1))  # column vector via reshape"
      ]
    },
    {
      "cell_type": "markdown",
      "metadata": {
        "id": "Q-trEbx0wdsY"
      },
      "source": [
        "A convenient shorthand for this is to use `np.newaxis` in the slicing syntax:"
      ]
    },
    {
      "cell_type": "code",
      "execution_count": 41,
      "metadata": {
        "id": "my1vKDatwdsY",
        "jupyter": {
          "outputs_hidden": false
        },
        "outputId": "5a90b000-6a29-4545-feaf-69e0e2af5c4e"
      },
      "outputs": [
        {
          "data": {
            "text/plain": [
              "array([[1, 2, 3]])"
            ]
          },
          "execution_count": 41,
          "metadata": {},
          "output_type": "execute_result"
        }
      ],
      "source": [
        "x[np.newaxis, :]  # row vector via newaxis"
      ]
    },
    {
      "cell_type": "code",
      "execution_count": 42,
      "metadata": {
        "id": "6RGyjgZTwdsZ",
        "jupyter": {
          "outputs_hidden": false
        },
        "outputId": "6b4a5cec-2d03-496c-ff6b-1b72e79873f9"
      },
      "outputs": [
        {
          "data": {
            "text/plain": [
              "array([[1],\n",
              "       [2],\n",
              "       [3]])"
            ]
          },
          "execution_count": 42,
          "metadata": {},
          "output_type": "execute_result"
        }
      ],
      "source": [
        "x[:, np.newaxis]  # column vector via newaxis"
      ]
    },
    {
      "cell_type": "markdown",
      "metadata": {
        "id": "bLJO4D6uwdsZ"
      },
      "source": [
        "This is a pattern that we will utilize often throughout the remainder of the book."
      ]
    },
    {
      "cell_type": "markdown",
      "metadata": {
        "id": "oj8aKgj-wdsZ"
      },
      "source": [
        "## Array Concatenation and Splitting\n",
        "\n",
        "All of the preceding routines worked on single arrays. NumPy also provides tools to combine multiple arrays into one, and to conversely split a single array into multiple arrays."
      ]
    },
    {
      "cell_type": "markdown",
      "metadata": {
        "id": "VMHbkvaWwdsZ"
      },
      "source": [
        "### Concatenation of Arrays\n",
        "\n",
        "Concatenation, or joining of two arrays in NumPy, is primarily accomplished using the routines `np.concatenate`, `np.vstack`, and `np.hstack`.\n",
        "`np.concatenate` takes a tuple or list of arrays as its first argument, as you can see here:"
      ]
    },
    {
      "cell_type": "code",
      "execution_count": 43,
      "metadata": {
        "id": "qt58rnu0wdsZ",
        "jupyter": {
          "outputs_hidden": false
        },
        "outputId": "35397c9d-e4d1-4d23-f293-04a3d0facc7b"
      },
      "outputs": [
        {
          "data": {
            "text/plain": [
              "array([1, 2, 3, 3, 2, 1])"
            ]
          },
          "execution_count": 43,
          "metadata": {},
          "output_type": "execute_result"
        }
      ],
      "source": [
        "x = np.array([1, 2, 3])\n",
        "y = np.array([3, 2, 1])\n",
        "np.concatenate([x, y])"
      ]
    },
    {
      "cell_type": "code",
      "execution_count": 44,
      "metadata": {},
      "outputs": [
        {
          "data": {
            "text/plain": [
              "array([3, 2, 1, 1, 2, 3])"
            ]
          },
          "execution_count": 44,
          "metadata": {},
          "output_type": "execute_result"
        }
      ],
      "source": [
        "np.concatenate([y, x])"
      ]
    },
    {
      "cell_type": "markdown",
      "metadata": {
        "id": "QF2s_Kr9wdsa"
      },
      "source": [
        "You can also concatenate more than two arrays at once:"
      ]
    },
    {
      "cell_type": "code",
      "execution_count": 45,
      "metadata": {
        "id": "-0TfZiaQwdsa",
        "jupyter": {
          "outputs_hidden": false
        },
        "outputId": "42fe4236-63bf-4504-99fd-42dceca113fa"
      },
      "outputs": [
        {
          "name": "stdout",
          "output_type": "stream",
          "text": [
            "[ 1  2  3  3  2  1 99 99 99]\n"
          ]
        }
      ],
      "source": [
        "z = np.array([99, 99, 99])\n",
        "print(np.concatenate([x, y, z]))"
      ]
    },
    {
      "cell_type": "markdown",
      "metadata": {
        "id": "HwOJqRmCwdsa"
      },
      "source": [
        "And it can be used for two-dimensional arrays:"
      ]
    },
    {
      "cell_type": "code",
      "execution_count": 46,
      "metadata": {
        "id": "PhawV3gSwdsa",
        "jupyter": {
          "outputs_hidden": false
        }
      },
      "outputs": [],
      "source": [
        "grid = np.array([[1, 2, 3],\n",
        "                 [4, 5, 6]])"
      ]
    },
    {
      "cell_type": "code",
      "execution_count": 47,
      "metadata": {
        "id": "WwjVLvPJwdsb",
        "jupyter": {
          "outputs_hidden": false
        },
        "outputId": "ba8cefc7-3409-4fb1-94c8-c0ee3015b7db"
      },
      "outputs": [
        {
          "data": {
            "text/plain": [
              "array([[1, 2, 3],\n",
              "       [4, 5, 6],\n",
              "       [1, 2, 3],\n",
              "       [4, 5, 6]])"
            ]
          },
          "execution_count": 47,
          "metadata": {},
          "output_type": "execute_result"
        }
      ],
      "source": [
        "# concatenate along the first axis\n",
        "np.concatenate([grid, grid])"
      ]
    },
    {
      "cell_type": "code",
      "execution_count": 48,
      "metadata": {
        "id": "K1VaYJg3wdsb",
        "jupyter": {
          "outputs_hidden": false
        },
        "outputId": "977e6b9b-3926-428a-fac5-d4d685edb400"
      },
      "outputs": [
        {
          "data": {
            "text/plain": [
              "array([[1, 2, 3, 1, 2, 3],\n",
              "       [4, 5, 6, 4, 5, 6]])"
            ]
          },
          "execution_count": 48,
          "metadata": {},
          "output_type": "execute_result"
        }
      ],
      "source": [
        "# concatenate along the second axis (zero-indexed)\n",
        "np.concatenate([grid, grid], axis=1)"
      ]
    },
    {
      "cell_type": "markdown",
      "metadata": {
        "id": "9qDyQb4Qwdsb"
      },
      "source": [
        "For working with arrays of mixed dimensions, it can be clearer to use the `np.vstack` (vertical stack) and `np.hstack` (horizontal stack) functions:"
      ]
    },
    {
      "cell_type": "code",
      "execution_count": 49,
      "metadata": {
        "id": "RcJdynMiwdsb",
        "jupyter": {
          "outputs_hidden": false
        },
        "outputId": "82856b10-4353-40c2-82b0-6fec73b8bf9c"
      },
      "outputs": [
        {
          "data": {
            "text/plain": [
              "array([[1, 2, 3],\n",
              "       [1, 2, 3],\n",
              "       [4, 5, 6]])"
            ]
          },
          "execution_count": 49,
          "metadata": {},
          "output_type": "execute_result"
        }
      ],
      "source": [
        "# vertically stack the arrays\n",
        "np.vstack([x, grid])"
      ]
    },
    {
      "cell_type": "code",
      "execution_count": 50,
      "metadata": {
        "id": "eDZubyBGwdsc",
        "jupyter": {
          "outputs_hidden": false
        },
        "outputId": "e7c75589-707a-4d3b-8be4-f4fd34d8117f"
      },
      "outputs": [
        {
          "data": {
            "text/plain": [
              "array([[ 1,  2,  3, 99],\n",
              "       [ 4,  5,  6, 99]])"
            ]
          },
          "execution_count": 50,
          "metadata": {},
          "output_type": "execute_result"
        }
      ],
      "source": [
        "# horizontally stack the arrays\n",
        "y = np.array([[99],\n",
        "              [99]])\n",
        "np.hstack([grid, y])"
      ]
    },
    {
      "cell_type": "markdown",
      "metadata": {
        "id": "phYeH5Guwdsc"
      },
      "source": [
        "Similarly, for higher-dimensional arrays, `np.dstack` will stack arrays along the third axis."
      ]
    },
    {
      "cell_type": "markdown",
      "metadata": {
        "id": "GwPTB8Bqwdsc"
      },
      "source": [
        "### Splitting of Arrays\n",
        "\n",
        "The opposite of concatenation is splitting, which is implemented by the functions `np.split`, `np.hsplit`, and `np.vsplit`.  For each of these, we can pass a list of indices giving the split points:"
      ]
    },
    {
      "cell_type": "code",
      "execution_count": 51,
      "metadata": {
        "id": "CogVBMQvwdsc",
        "jupyter": {
          "outputs_hidden": false
        },
        "outputId": "a8bacd76-771d-4fe5-dd33-c1cbefb520f9"
      },
      "outputs": [
        {
          "name": "stdout",
          "output_type": "stream",
          "text": [
            "[1 2 3] [99 99] [3 2 1]\n"
          ]
        }
      ],
      "source": [
        "x = [1, 2, 3, 99, 99, 3, 2, 1]\n",
        "x1, x2, x3 = np.split(x, [3, 5])\n",
        "print(x1, x2, x3)"
      ]
    },
    {
      "cell_type": "markdown",
      "metadata": {
        "id": "iAlllY0Cwdsd"
      },
      "source": [
        "Notice that *N* split points leads to *N* + 1 subarrays.\n",
        "The related functions `np.hsplit` and `np.vsplit` are similar:"
      ]
    },
    {
      "cell_type": "code",
      "execution_count": 55,
      "metadata": {
        "id": "UoXMpu4mwdsd",
        "jupyter": {
          "outputs_hidden": false
        },
        "outputId": "190d43c0-e196-4a71-cf2f-c88bde61db49"
      },
      "outputs": [
        {
          "data": {
            "text/plain": [
              "array([[ 0,  1,  2,  3],\n",
              "       [ 4,  5,  6,  7],\n",
              "       [ 8,  9, 10, 11],\n",
              "       [12, 13, 14, 15]])"
            ]
          },
          "execution_count": 55,
          "metadata": {},
          "output_type": "execute_result"
        }
      ],
      "source": [
        "grid = np.arange(16).reshape((4, 4))\n",
        "grid"
      ]
    },
    {
      "cell_type": "code",
      "execution_count": 53,
      "metadata": {
        "id": "QP4RkEl7wdsd",
        "jupyter": {
          "outputs_hidden": false
        },
        "outputId": "a8af84c4-da00-480f-acc7-6ce9d0f290cb"
      },
      "outputs": [
        {
          "name": "stdout",
          "output_type": "stream",
          "text": [
            "[[0 1 2 3]\n",
            " [4 5 6 7]]\n",
            "[[ 8  9 10 11]\n",
            " [12 13 14 15]]\n"
          ]
        }
      ],
      "source": [
        "upper, lower = np.vsplit(grid, [2])\n",
        "print(upper)\n",
        "print(lower)"
      ]
    },
    {
      "cell_type": "code",
      "execution_count": 54,
      "metadata": {
        "id": "_0JfK4sjwdsd",
        "jupyter": {
          "outputs_hidden": false
        },
        "outputId": "40a10e99-ff59-4f99-aeb4-4074d0dc9850"
      },
      "outputs": [
        {
          "name": "stdout",
          "output_type": "stream",
          "text": [
            "[[ 0  1]\n",
            " [ 4  5]\n",
            " [ 8  9]\n",
            " [12 13]]\n",
            "[[ 2  3]\n",
            " [ 6  7]\n",
            " [10 11]\n",
            " [14 15]]\n"
          ]
        }
      ],
      "source": [
        "left, right = np.hsplit(grid, [2])\n",
        "print(left)\n",
        "print(right)"
      ]
    },
    {
      "cell_type": "markdown",
      "metadata": {
        "id": "zKUWysthwdse"
      },
      "source": [
        "Similarly, for higher-dimensional arrays, `np.dsplit` will split arrays along the third axis."
      ]
    }
  ],
  "metadata": {
    "anaconda-cloud": {},
    "colab": {
      "provenance": []
    },
    "jupytext": {
      "formats": "ipynb,md"
    },
    "kernelspec": {
      "display_name": "venvfund",
      "language": "python",
      "name": "python3"
    },
    "language_info": {
      "codemirror_mode": {
        "name": "ipython",
        "version": 3
      },
      "file_extension": ".py",
      "mimetype": "text/x-python",
      "name": "python",
      "nbconvert_exporter": "python",
      "pygments_lexer": "ipython3",
      "version": "3.11.9"
    }
  },
  "nbformat": 4,
  "nbformat_minor": 0
}
