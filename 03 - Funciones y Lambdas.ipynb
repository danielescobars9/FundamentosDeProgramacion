{
 "cells": [
  {
   "cell_type": "markdown",
   "metadata": {},
   "source": [
    "# Funciones\n",
    "\n",
    "Acá una definición tomada de [Webopedia](https://www.webopedia.com/TERM/F/function.html):\n",
    "\n",
    ">In programming, a named section of a program that performs a specific task. In this sense, a function is a type of procedure or routine. Some programming languages make a distinction between a function, which returns a value, and a procedure, which performs some operation but does not return a value.\n",
    "\n",
    "Y acá otra tomada de la [Universidad de UTAH](https://www.cs.utah.edu/~germain/PPS/Topics/functions.html):\n",
    "\n",
    ">Functions \"Encapsulate\" a task (they combine many instructions into a single line of code). Most programming languages provide many built in functions that would otherwise require many steps to accomplish, for example computing the square root of a number. In general, we don't care how a function does what it does, only that it \"does it\"!\n",
    "\n",
    "Y finalmente una tomada de una [respuesta de Quora](https://www.quora.com/What-is-a-function-in-a-programming-language):\n",
    "\n",
    ">A function is a block of organized, reusable code that is used to perform a single, related action. Functions provide better modularity for your application and a high degree of code reusing.\n",
    "\n",
    "Una función es como una caja negra que ejecuta un poco de código, posiblemente permitiendo ser parametrizada y posiblemente entregando un valor. El pedazo de código puede estar a su vez compuesto de más funciones. Las funciones permiten organizar el código en procedimientos con un objetivo en particular, aislando la ejecución de la función y todos los valores involucrados del resto del código.\n",
    "\n",
    "---\n",
    "Empecemos viendo ejemplos de funciones que no reciben ningún valor y tampoco entregan ningún valor."
   ]
  },
  {
   "cell_type": "code",
   "execution_count": 3,
   "metadata": {},
   "outputs": [],
   "source": [
    "def say_hello():\n",
    "    print(\"Hello!\")"
   ]
  },
  {
   "cell_type": "code",
   "execution_count": 4,
   "metadata": {},
   "outputs": [
    {
     "name": "stdout",
     "output_type": "stream",
     "text": [
      "Hello!\n"
     ]
    }
   ],
   "source": [
    "say_hello()"
   ]
  },
  {
   "cell_type": "markdown",
   "metadata": {},
   "source": [
    "---\n",
    "Ahora funciones que reciben valores y no entregan nada"
   ]
  },
  {
   "cell_type": "code",
   "execution_count": null,
   "metadata": {},
   "outputs": [],
   "source": [
    "def say_hello_to_someone(name):\n",
    "    print(f\"Hello {name}!\")"
   ]
  },
  {
   "cell_type": "code",
   "execution_count": 19,
   "metadata": {},
   "outputs": [
    {
     "name": "stdout",
     "output_type": "stream",
     "text": [
      "Hello {name}!\n"
     ]
    }
   ],
   "source": [
    "say_hello_to_someone(\"daniel\")"
   ]
  },
  {
   "cell_type": "code",
   "execution_count": 8,
   "metadata": {},
   "outputs": [
    {
     "name": "stdout",
     "output_type": "stream",
     "text": [
      "Hello students!\n"
     ]
    }
   ],
   "source": [
    "say_hello_to_someone(\"students\")"
   ]
  },
  {
   "cell_type": "code",
   "execution_count": 9,
   "metadata": {},
   "outputs": [],
   "source": [
    "def suma(a, b):\n",
    "    print(a + b)"
   ]
  },
  {
   "cell_type": "code",
   "execution_count": 10,
   "metadata": {},
   "outputs": [
    {
     "name": "stdout",
     "output_type": "stream",
     "text": [
      "3\n"
     ]
    }
   ],
   "source": [
    "suma(1, 2)"
   ]
  },
  {
   "cell_type": "markdown",
   "metadata": {},
   "source": [
    "También puedes asignar el valor del parámetro mientras llamas la función, esto algunas veces ayuda a que tu código sea más claro"
   ]
  },
  {
   "cell_type": "code",
   "execution_count": 12,
   "metadata": {},
   "outputs": [
    {
     "name": "stdout",
     "output_type": "stream",
     "text": [
      "Hello students!\n"
     ]
    }
   ],
   "source": [
    "say_hello_to_someone(name=\"students\")"
   ]
  },
  {
   "cell_type": "code",
   "execution_count": 13,
   "metadata": {},
   "outputs": [
    {
     "name": "stdout",
     "output_type": "stream",
     "text": [
      "3\n"
     ]
    }
   ],
   "source": [
    "suma(a = 1, b = 2)"
   ]
  },
  {
   "cell_type": "code",
   "execution_count": 14,
   "metadata": {},
   "outputs": [],
   "source": [
    "def powers_of_two(p):\n",
    "    b = 2\n",
    "    print(f\"{b}**{p}: {b**p}\")"
   ]
  },
  {
   "cell_type": "code",
   "execution_count": 15,
   "metadata": {},
   "outputs": [
    {
     "name": "stdout",
     "output_type": "stream",
     "text": [
      "2**3: 8\n"
     ]
    }
   ],
   "source": [
    "powers_of_two(3)"
   ]
  },
  {
   "cell_type": "markdown",
   "metadata": {},
   "source": [
    "observa que la variable `b` no está definida por fuera de la función"
   ]
  },
  {
   "cell_type": "code",
   "execution_count": 16,
   "metadata": {},
   "outputs": [
    {
     "ename": "NameError",
     "evalue": "name 'b' is not defined",
     "output_type": "error",
     "traceback": [
      "\u001b[1;31m---------------------------------------------------------------------------\u001b[0m",
      "\u001b[1;31mNameError\u001b[0m                                 Traceback (most recent call last)",
      "Cell \u001b[1;32mIn[16], line 1\u001b[0m\n\u001b[1;32m----> 1\u001b[0m \u001b[43mb\u001b[49m\n",
      "\u001b[1;31mNameError\u001b[0m: name 'b' is not defined"
     ]
    }
   ],
   "source": [
    "b"
   ]
  },
  {
   "cell_type": "markdown",
   "metadata": {},
   "source": [
    "---\n",
    "También podemos crear funciones que opcionalmente reciben algunos valores"
   ]
  },
  {
   "cell_type": "code",
   "execution_count": 20,
   "metadata": {},
   "outputs": [],
   "source": [
    "def say_hello_to_someone(someone=\"everyone\"):\n",
    "    print(f\"Hello {someone}!\")"
   ]
  },
  {
   "cell_type": "code",
   "execution_count": 21,
   "metadata": {},
   "outputs": [
    {
     "name": "stdout",
     "output_type": "stream",
     "text": [
      "Hello everyone!\n"
     ]
    }
   ],
   "source": [
    "say_hello_to_someone()"
   ]
  },
  {
   "cell_type": "code",
   "execution_count": 22,
   "metadata": {},
   "outputs": [
    {
     "name": "stdout",
     "output_type": "stream",
     "text": [
      "Hello Richard Feynman!\n"
     ]
    }
   ],
   "source": [
    "say_hello_to_someone(\"Richard Feynman\")"
   ]
  },
  {
   "cell_type": "code",
   "execution_count": 23,
   "metadata": {},
   "outputs": [
    {
     "name": "stdout",
     "output_type": "stream",
     "text": [
      "Hello Richard Feynman!\n"
     ]
    }
   ],
   "source": [
    "say_hello_to_someone(someone=\"Richard Feynman\")"
   ]
  },
  {
   "cell_type": "markdown",
   "metadata": {},
   "source": [
    "---\n",
    "Y funciones que reciben valores obligatorios y opcionales."
   ]
  },
  {
   "cell_type": "code",
   "execution_count": 30,
   "metadata": {},
   "outputs": [],
   "source": [
    "def say_something_to_someone(something, someone=\"anyone\"):\n",
    "    print(f\"Message to {someone}:\\n\\n  {something}\\n\\nBye\")"
   ]
  },
  {
   "cell_type": "code",
   "execution_count": 31,
   "metadata": {},
   "outputs": [
    {
     "name": "stdout",
     "output_type": "stream",
     "text": [
      "Message to anyone:\n",
      "\n",
      "  I love you\n",
      "\n",
      "Bye\n"
     ]
    }
   ],
   "source": [
    "say_something_to_someone(\"I love you\")"
   ]
  },
  {
   "cell_type": "code",
   "execution_count": 32,
   "metadata": {},
   "outputs": [
    {
     "name": "stdout",
     "output_type": "stream",
     "text": [
      "Message to Richard Feynman:\n",
      "\n",
      "  you are the best\n",
      "\n",
      "Bye\n"
     ]
    }
   ],
   "source": [
    "say_something_to_someone(\"you are the best\", \"Richard Feynman\")"
   ]
  },
  {
   "cell_type": "code",
   "execution_count": 33,
   "metadata": {},
   "outputs": [
    {
     "name": "stdout",
     "output_type": "stream",
     "text": [
      "Message to Richard Feynman:\n",
      "\n",
      "  you are the best\n",
      "\n",
      "Bye\n"
     ]
    }
   ],
   "source": [
    "say_something_to_someone(\"you are the best\", someone=\"Richard Feynman\")"
   ]
  },
  {
   "cell_type": "code",
   "execution_count": 34,
   "metadata": {},
   "outputs": [
    {
     "name": "stdout",
     "output_type": "stream",
     "text": [
      "Message to Richard Feynman:\n",
      "\n",
      "  you are the best\n",
      "\n",
      "Bye\n"
     ]
    }
   ],
   "source": [
    "say_something_to_someone(something=\"you are the best\", someone=\"Richard Feynman\")"
   ]
  },
  {
   "cell_type": "code",
   "execution_count": 35,
   "metadata": {},
   "outputs": [
    {
     "ename": "SyntaxError",
     "evalue": "positional argument follows keyword argument (2913630061.py, line 1)",
     "output_type": "error",
     "traceback": [
      "\u001b[1;36m  Cell \u001b[1;32mIn[35], line 1\u001b[1;36m\u001b[0m\n\u001b[1;33m    say_something_to_someone(someone=\"Richard Feynman\", \"you are the best\")\u001b[0m\n\u001b[1;37m                                                                          ^\u001b[0m\n\u001b[1;31mSyntaxError\u001b[0m\u001b[1;31m:\u001b[0m positional argument follows keyword argument\n"
     ]
    }
   ],
   "source": [
    "say_something_to_someone(someone=\"Richard Feynman\", \"you are the best\")"
   ]
  },
  {
   "cell_type": "code",
   "execution_count": 37,
   "metadata": {},
   "outputs": [
    {
     "name": "stdout",
     "output_type": "stream",
     "text": [
      "Message to Richard Feynman:\n",
      "\n",
      "  you are the best\n",
      "\n",
      "Bye\n"
     ]
    }
   ],
   "source": [
    "say_something_to_someone(someone=\"Richard Feynman\", something=\"you are the best\")"
   ]
  },
  {
   "cell_type": "code",
   "execution_count": 38,
   "metadata": {},
   "outputs": [
    {
     "name": "stdout",
     "output_type": "stream",
     "text": [
      "Message to you are the best:\n",
      "\n",
      "  Richard Feynman\n",
      "\n",
      "Bye\n"
     ]
    }
   ],
   "source": [
    "say_something_to_someone(\"Richard Feynman\", \"you are the best\")"
   ]
  },
  {
   "cell_type": "markdown",
   "metadata": {},
   "source": [
    "---\n",
    "Ahora veamos funciones que retornan un valor, lo que sigue aplica para cualquier tipo de formato que tenga a la entrada.\n",
    "\n",
    "Primero observa que si tratamos de sacar un valor de una de las funciones anteriores, no obtenemos un resultado esperado"
   ]
  },
  {
   "cell_type": "code",
   "execution_count": 39,
   "metadata": {},
   "outputs": [
    {
     "name": "stdout",
     "output_type": "stream",
     "text": [
      "Hello students!\n"
     ]
    }
   ],
   "source": [
    "text = say_hello_to_someone(\"students\")"
   ]
  },
  {
   "cell_type": "code",
   "execution_count": 40,
   "metadata": {},
   "outputs": [
    {
     "name": "stdout",
     "output_type": "stream",
     "text": [
      "None\n"
     ]
    }
   ],
   "source": [
    "print(text)"
   ]
  },
  {
   "cell_type": "code",
   "execution_count": 41,
   "metadata": {},
   "outputs": [],
   "source": [
    "def give_back_string_saying_hello_to_someone(name):\n",
    "    return f\"Hello {name}!\""
   ]
  },
  {
   "cell_type": "code",
   "execution_count": 42,
   "metadata": {},
   "outputs": [
    {
     "data": {
      "text/plain": [
       "'Hello students!'"
      ]
     },
     "execution_count": 42,
     "metadata": {},
     "output_type": "execute_result"
    }
   ],
   "source": [
    "give_back_string_saying_hello_to_someone(\"students\")"
   ]
  },
  {
   "cell_type": "code",
   "execution_count": 43,
   "metadata": {},
   "outputs": [],
   "source": [
    "text = give_back_string_saying_hello_to_someone(\"students\")"
   ]
  },
  {
   "cell_type": "code",
   "execution_count": 49,
   "metadata": {},
   "outputs": [
    {
     "name": "stdout",
     "output_type": "stream",
     "text": [
      "['Hello students!', ' have a good day']\n"
     ]
    }
   ],
   "source": [
    "print([text,\" have a good day\"])"
   ]
  },
  {
   "cell_type": "markdown",
   "metadata": {},
   "source": [
    "---\n",
    "Python tiene la posibilidad de recibir un número indeterminado de parámetros, estos pueden ser posicionales:"
   ]
  },
  {
   "cell_type": "code",
   "execution_count": null,
   "metadata": {},
   "outputs": [],
   "source": [
    "def say_hello_to_students(*names):\n",
    "    for n in names:\n",
    "        print(f\"Hello: {n}\")"
   ]
  },
  {
   "cell_type": "code",
   "execution_count": 48,
   "metadata": {},
   "outputs": [
    {
     "name": "stdout",
     "output_type": "stream",
     "text": [
      "Hello: Santiago\n",
      "Hello: Danilo\n",
      "Hello: Julian\n"
     ]
    }
   ],
   "source": [
    "say_hello_to_students(\"Santiago\", \"Danilo\", \"Julian\")"
   ]
  },
  {
   "cell_type": "markdown",
   "metadata": {},
   "source": [
    "lo cual es diferente de pasar una lista"
   ]
  },
  {
   "cell_type": "code",
   "execution_count": 50,
   "metadata": {},
   "outputs": [
    {
     "name": "stdout",
     "output_type": "stream",
     "text": [
      "Hello: ['Santiago', 'Danilo', 'Julian']\n"
     ]
    }
   ],
   "source": [
    "say_hello_to_students([\"Santiago\", \"Danilo\", \"Julian\"])"
   ]
  },
  {
   "cell_type": "markdown",
   "metadata": {},
   "source": [
    "También es válido con argumentos por nombre"
   ]
  },
  {
   "cell_type": "code",
   "execution_count": null,
   "metadata": {},
   "outputs": [],
   "source": [
    "def publish_grade_by_student(**grades):\n",
    "\n",
    "    for name, g in grades.items():\n",
    "        print(f\"{name}: {g}\")"
   ]
  },
  {
   "cell_type": "code",
   "execution_count": 55,
   "metadata": {},
   "outputs": [
    {
     "name": "stdout",
     "output_type": "stream",
     "text": [
      "Santiago\n",
      "Julian\n",
      "Danilo\n"
     ]
    }
   ],
   "source": [
    "grades = {\"Santiago\": 3.3, \"Julian\": 3.4, \"Danilo\": 4.1}\n",
    "publish_grade_by_student(**grades)"
   ]
  },
  {
   "cell_type": "markdown",
   "metadata": {},
   "source": [
    "y eso sería diferente de pasar un diccionario"
   ]
  },
  {
   "cell_type": "code",
   "execution_count": 53,
   "metadata": {},
   "outputs": [
    {
     "ename": "TypeError",
     "evalue": "publish_grade_by_student() takes 0 positional arguments but 1 was given",
     "output_type": "error",
     "traceback": [
      "\u001b[1;31m---------------------------------------------------------------------------\u001b[0m",
      "\u001b[1;31mTypeError\u001b[0m                                 Traceback (most recent call last)",
      "Cell \u001b[1;32mIn[53], line 1\u001b[0m\n\u001b[1;32m----> 1\u001b[0m \u001b[43mpublish_grade_by_student\u001b[49m\u001b[43m(\u001b[49m\u001b[43mgrades\u001b[49m\u001b[43m)\u001b[49m\n",
      "\u001b[1;31mTypeError\u001b[0m: publish_grade_by_student() takes 0 positional arguments but 1 was given"
     ]
    }
   ],
   "source": [
    "publish_grade_by_student(grades)"
   ]
  },
  {
   "cell_type": "markdown",
   "metadata": {},
   "source": [
    "se puede combinar indeterminados elementos posicionales con indeterminados elementos por nombre y combinarse con todo lo otro"
   ]
  },
  {
   "cell_type": "code",
   "execution_count": null,
   "metadata": {},
   "outputs": [],
   "source": [
    "def print_everything_you_got(a, b, *c, d=\"z\", e=\"y\", **f):\n",
    "    msg = f\"a: {a}\\nb: {b}\\nc: {c}\\nd: {d}\\ne: {e}\\nf: {f}\"\n",
    "    print(msg)"
   ]
  },
  {
   "cell_type": "code",
   "execution_count": 176,
   "metadata": {},
   "outputs": [
    {
     "name": "stdout",
     "output_type": "stream",
     "text": [
      "a: 1\n",
      "b: 2\n",
      "c: (3, 5, 7, 9)\n",
      "d: 15\n",
      "e: y\n",
      "f: {'g': 20, 'h': 30, 'i': 40, 'j': 50, 'k': 60}\n"
     ]
    }
   ],
   "source": [
    "print_everything_you_got(1,2,3,5,7,9, g = 20, h = 30, i = 40, j = 50, k = 60, d=15)"
   ]
  },
  {
   "cell_type": "code",
   "execution_count": 64,
   "metadata": {},
   "outputs": [
    {
     "name": "stdout",
     "output_type": "stream",
     "text": [
      "a: 1\n",
      "b: 2\n",
      "c: ()\n",
      "d: 3\n",
      "e: y\n",
      "f: {}\n"
     ]
    }
   ],
   "source": [
    "print_everything_you_got(1,2,d=3)"
   ]
  },
  {
   "cell_type": "code",
   "execution_count": 66,
   "metadata": {},
   "outputs": [
    {
     "name": "stdout",
     "output_type": "stream",
     "text": [
      "a: 1\n",
      "b: 2\n",
      "c: (3,)\n",
      "d: 3\n",
      "e: y\n",
      "f: {'z': 45, 'j': 99}\n"
     ]
    }
   ],
   "source": [
    "print_everything_you_got(1,2,d=3, z=45, j=99)"
   ]
  },
  {
   "cell_type": "code",
   "execution_count": 175,
   "metadata": {},
   "outputs": [
    {
     "name": "stdout",
     "output_type": "stream",
     "text": [
      "a: 1\n",
      "b: 2\n",
      "c: (3, 4, 5)\n",
      "d: seis\n",
      "e: 100\n",
      "f: {'z': 45, 'j': 99, 'i': 200}\n"
     ]
    }
   ],
   "source": [
    "print_everything_you_got(1,2,3,4,5,d=\"seis\", z=45, j=99, e=100, i=200)"
   ]
  },
  {
   "cell_type": "markdown",
   "metadata": {},
   "source": [
    "## Detalles adicionales"
   ]
  },
  {
   "cell_type": "markdown",
   "metadata": {},
   "source": [
    "se puede acceder a valores por fuera de la función (aunque no es lo más recomendado)"
   ]
  },
  {
   "cell_type": "code",
   "execution_count": 78,
   "metadata": {},
   "outputs": [],
   "source": [
    "variable_outside_function = \"I love Python\""
   ]
  },
  {
   "cell_type": "code",
   "execution_count": 74,
   "metadata": {},
   "outputs": [],
   "source": [
    "def bad_function(arg):\n",
    "    print(variable_outside_function)"
   ]
  },
  {
   "cell_type": "code",
   "execution_count": 110,
   "metadata": {},
   "outputs": [],
   "source": [
    "def good_function(arg):\n",
    "    print(arg)"
   ]
  },
  {
   "cell_type": "code",
   "execution_count": 112,
   "metadata": {},
   "outputs": [
    {
     "name": "stdout",
     "output_type": "stream",
     "text": [
      "3\n"
     ]
    }
   ],
   "source": [
    "good_function(3)"
   ]
  },
  {
   "cell_type": "code",
   "execution_count": 120,
   "metadata": {},
   "outputs": [
    {
     "name": "stdout",
     "output_type": "stream",
     "text": [
      "Verbose mode is on\n"
     ]
    },
    {
     "data": {
      "text/plain": [
       "'Hello 2 I love Python'"
      ]
     },
     "execution_count": 120,
     "metadata": {},
     "output_type": "execute_result"
    }
   ],
   "source": [
    "variable_outside_function = \"I love Python\"\n",
    "\n",
    "def ok_function(variable_outside_function,message,arg, verbose = False):\n",
    "    message += str(arg)\n",
    "    message += \" \"\n",
    "    message += variable_outside_function\n",
    "    if verbose:\n",
    "        print(\"Verbose mode is on\")\n",
    "    return message\n",
    "\n",
    "ok_function(variable_outside_function,\"Hello \", 2, True)"
   ]
  },
  {
   "cell_type": "markdown",
   "metadata": {},
   "source": [
    "---\n",
    "se pueden modificar valores por fuera de la función (esto es una terrible práctica, por favor evítalo siempre que sea posible)"
   ]
  },
  {
   "cell_type": "code",
   "execution_count": 122,
   "metadata": {},
   "outputs": [],
   "source": [
    "def terrible_function(arg):\n",
    "    global variable_outside_function\n",
    "    variable_outside_function += str(arg)\n",
    "    print(variable_outside_function)"
   ]
  },
  {
   "cell_type": "code",
   "execution_count": 105,
   "metadata": {},
   "outputs": [
    {
     "name": "stdout",
     "output_type": "stream",
     "text": [
      "I love Python3333333333333333333333\n"
     ]
    }
   ],
   "source": [
    "terrible_function(3)"
   ]
  },
  {
   "cell_type": "code",
   "execution_count": 106,
   "metadata": {},
   "outputs": [
    {
     "data": {
      "text/plain": [
       "'I love Python3333333333333333333333'"
      ]
     },
     "execution_count": 106,
     "metadata": {},
     "output_type": "execute_result"
    }
   ],
   "source": [
    "variable_outside_function"
   ]
  },
  {
   "cell_type": "markdown",
   "metadata": {},
   "source": [
    "Es peligroso usar funciones de esta manera porque múltiples funciones pueden modificar la variable de formas diferentes, volviéndola inutilizable para las otras. Además, es más ineficiente trabajar con variables globales que con variables locales"
   ]
  },
  {
   "cell_type": "markdown",
   "metadata": {},
   "source": [
    "---\n",
    "Puedes exigir que ciertos parámetros sean dados por el nombre, en lugar de ser posicionales y aún así hacerlos obligatorios. Esto podría lograr que los usuarios de tu función se confundan menos, los argumentos posicionales deben ser para muy pocos argumentos y solo cuando sean bastante obvios.   "
   ]
  },
  {
   "cell_type": "code",
   "execution_count": null,
   "metadata": {},
   "outputs": [],
   "source": [
    "def function_with_named_mandatory_arguments(arg, *,arg1=\"something\", arg2=3):\n",
    "    print(arg, arg1, arg2)"
   ]
  },
  {
   "cell_type": "code",
   "execution_count": 128,
   "metadata": {},
   "outputs": [
    {
     "name": "stdout",
     "output_type": "stream",
     "text": [
      "1 2 3\n"
     ]
    }
   ],
   "source": [
    "function_with_named_mandatory_arguments(1, 2, 3)"
   ]
  },
  {
   "cell_type": "code",
   "execution_count": 132,
   "metadata": {},
   "outputs": [
    {
     "name": "stdout",
     "output_type": "stream",
     "text": [
      "1 something 3\n"
     ]
    }
   ],
   "source": [
    "function_with_named_mandatory_arguments(1)"
   ]
  },
  {
   "cell_type": "markdown",
   "metadata": {},
   "source": [
    "## Funciones importantes de Python"
   ]
  },
  {
   "cell_type": "markdown",
   "metadata": {},
   "source": [
    "`help` -> se usa para obtener la documentación de una functión, clase o método"
   ]
  },
  {
   "cell_type": "code",
   "execution_count": 134,
   "metadata": {},
   "outputs": [
    {
     "name": "stdout",
     "output_type": "stream",
     "text": [
      "Help on function function_with_named_mandatory_arguments in module __main__:\n",
      "\n",
      "function_with_named_mandatory_arguments(arg, arg1='something', arg2=3)\n",
      "\n"
     ]
    }
   ],
   "source": [
    "help(function_with_named_mandatory_arguments)"
   ]
  },
  {
   "cell_type": "markdown",
   "metadata": {},
   "source": [
    "esa documentación no es para nada útil, pero es porque nosotros no la definimos. Vamos a mirar cómo funciona con una función que sí tenga una documentación definida:"
   ]
  },
  {
   "cell_type": "code",
   "execution_count": 137,
   "metadata": {},
   "outputs": [
    {
     "name": "stdout",
     "output_type": "stream",
     "text": [
      "Help on method sample in module random:\n",
      "\n",
      "sample(population, k, *, counts=None) method of random.Random instance\n",
      "    Chooses k unique random elements from a population sequence.\n",
      "    \n",
      "    Returns a new list containing elements from the population while\n",
      "    leaving the original population unchanged.  The resulting list is\n",
      "    in selection order so that all sub-slices will also be valid random\n",
      "    samples.  This allows raffle winners (the sample) to be partitioned\n",
      "    into grand prize and second place winners (the subslices).\n",
      "    \n",
      "    Members of the population need not be hashable or unique.  If the\n",
      "    population contains repeats, then each occurrence is a possible\n",
      "    selection in the sample.\n",
      "    \n",
      "    Repeated elements can be specified one at a time or with the optional\n",
      "    counts parameter.  For example:\n",
      "    \n",
      "        sample(['red', 'blue'], counts=[4, 2], k=5)\n",
      "    \n",
      "    is equivalent to:\n",
      "    \n",
      "        sample(['red', 'red', 'red', 'red', 'blue', 'blue'], k=5)\n",
      "    \n",
      "    To choose a sample from a range of integers, use range() for the\n",
      "    population argument.  This is especially fast and space efficient\n",
      "    for sampling from a large population:\n",
      "    \n",
      "        sample(range(10000000), 60)\n",
      "\n"
     ]
    }
   ],
   "source": [
    "import random\n",
    "help(random.sample)"
   ]
  },
  {
   "cell_type": "markdown",
   "metadata": {},
   "source": [
    "---\n",
    "Si quieres que tus funciones tengan una documentación (esto casi siempre es requerido, excepto en el caso en que la funcionalidad sea demasiado evidente), solo debes agregar un [*docstring*](https://www.python.org/dev/peps/pep-0257/) a ellas."
   ]
  },
  {
   "cell_type": "code",
   "execution_count": 138,
   "metadata": {},
   "outputs": [
    {
     "name": "stdout",
     "output_type": "stream",
     "text": [
      "Help on function say_something_to_someone in module __main__:\n",
      "\n",
      "say_something_to_someone(something, someone='anyone')\n",
      "\n"
     ]
    }
   ],
   "source": [
    "help(say_something_to_someone)"
   ]
  },
  {
   "cell_type": "code",
   "execution_count": 140,
   "metadata": {},
   "outputs": [],
   "source": [
    "def say_something_to_someone(something, someone=\"anyone\"):\n",
    "    \"\"\"Prints a nice message for someone.\n",
    "    \n",
    "    Arguments:\n",
    "        something (str): whathever you want to say\n",
    "        someone (str): to whom the message is intended    \n",
    "        \n",
    "    \"\"\"\n",
    "    print(f\"Message to {someone}:\\n\\n  {something}\\n\\nBye\")"
   ]
  },
  {
   "cell_type": "code",
   "execution_count": 141,
   "metadata": {},
   "outputs": [
    {
     "name": "stdout",
     "output_type": "stream",
     "text": [
      "Help on function say_something_to_someone in module __main__:\n",
      "\n",
      "say_something_to_someone(something, someone='anyone')\n",
      "    Prints a nice message for someone.\n",
      "    \n",
      "    Arguments:\n",
      "        something (str): whathever you want to say\n",
      "        someone (str): to whom the message is intended\n",
      "\n"
     ]
    }
   ],
   "source": [
    "help(say_something_to_someone)"
   ]
  },
  {
   "cell_type": "markdown",
   "metadata": {},
   "source": [
    "La documentación es un aspecto muy importante y cada función tiene su propia forma de hacerlo. Además, hay varios estilos para escribirlo, [acá unos ejemplos](https://sphinxcontrib-napoleon.readthedocs.io/en/latest/example_google.html)."
   ]
  },
  {
   "cell_type": "markdown",
   "metadata": {},
   "source": [
    "---\n",
    "También puedes poner indicaciones del tipo de dato o estructura que espera tu función. "
   ]
  },
  {
   "cell_type": "code",
   "execution_count": 142,
   "metadata": {},
   "outputs": [],
   "source": [
    "def say_something_to_someone(something: str, someone: str = \"anyone\"):\n",
    "    \"\"\"Prints a nice message for someone.\n",
    "    \n",
    "    Arguments:\n",
    "        something (str): whathever you want to say\n",
    "        someone (str): to whom the message is intended    \n",
    "        \n",
    "    \"\"\"\n",
    "    print(f\"Message to {someone}:\\n\\n  {something}\\n\\nBye\")"
   ]
  },
  {
   "cell_type": "code",
   "execution_count": 143,
   "metadata": {},
   "outputs": [
    {
     "name": "stdout",
     "output_type": "stream",
     "text": [
      "Help on function say_something_to_someone in module __main__:\n",
      "\n",
      "say_something_to_someone(something: str, someone: str = 'anyone')\n",
      "    Prints a nice message for someone.\n",
      "    \n",
      "    Arguments:\n",
      "        something (str): whathever you want to say\n",
      "        someone (str): to whom the message is intended\n",
      "\n"
     ]
    }
   ],
   "source": [
    "help(say_something_to_someone)"
   ]
  },
  {
   "cell_type": "code",
   "execution_count": 147,
   "metadata": {},
   "outputs": [
    {
     "name": "stdout",
     "output_type": "stream",
     "text": [
      "Message to anyone:\n",
      "\n",
      "  hello\n",
      "\n",
      "Bye\n"
     ]
    }
   ],
   "source": [
    "say_something_to_someone(\"hello\")"
   ]
  },
  {
   "cell_type": "markdown",
   "metadata": {},
   "source": [
    "Esto es una característica relativamente nueva de Python, que permite que ciertas herramientas nos ayuden a trabajar más efectivamente, por ejemplo, señalando cuando a una función le estamos pasando un tipo de dato para el que no fue señalado. Lecturas sugeridas:\n",
    "\n",
    "- [PEP 0480](https://www.python.org/dev/peps/pep-0484/)\n",
    "- [Support for type hints](https://docs.python.org/3/library/typing.html)"
   ]
  },
  {
   "cell_type": "markdown",
   "metadata": {},
   "source": [
    "---\n",
    "`print` -> se usa para imprimir mensajes en el entorno de ejecución  "
   ]
  },
  {
   "cell_type": "code",
   "execution_count": 148,
   "metadata": {},
   "outputs": [
    {
     "name": "stdout",
     "output_type": "stream",
     "text": [
      "Help on built-in function print in module builtins:\n",
      "\n",
      "print(*args, sep=' ', end='\\n', file=None, flush=False)\n",
      "    Prints the values to a stream, or to sys.stdout by default.\n",
      "    \n",
      "    sep\n",
      "      string inserted between values, default a space.\n",
      "    end\n",
      "      string appended after the last value, default a newline.\n",
      "    file\n",
      "      a file-like object (stream); defaults to the current sys.stdout.\n",
      "    flush\n",
      "      whether to forcibly flush the stream.\n",
      "\n"
     ]
    }
   ],
   "source": [
    "help(print)"
   ]
  },
  {
   "cell_type": "code",
   "execution_count": 149,
   "metadata": {},
   "outputs": [
    {
     "name": "stdout",
     "output_type": "stream",
     "text": [
      "Hola!\n"
     ]
    }
   ],
   "source": [
    "print(\"Hola!\")"
   ]
  },
  {
   "cell_type": "code",
   "execution_count": 150,
   "metadata": {},
   "outputs": [
    {
     "name": "stdout",
     "output_type": "stream",
     "text": [
      "Hola a todos !\n"
     ]
    }
   ],
   "source": [
    "print(\"Hola\", \"a todos\", \"!\")"
   ]
  },
  {
   "cell_type": "code",
   "execution_count": 155,
   "metadata": {},
   "outputs": [
    {
     "name": "stdout",
     "output_type": "stream",
     "text": [
      "Hola! los quiero mucho\n",
      "\n",
      "Hola! los quiero mucho\n"
     ]
    }
   ],
   "source": [
    "print(\"Hola\", \"los quiero mucho\", sep=\"! \", end=\"\\n\\n\")\n",
    "print(\"Hola\", \"los quiero mucho\", sep=\"! \")"
   ]
  },
  {
   "cell_type": "code",
   "execution_count": 156,
   "metadata": {},
   "outputs": [
    {
     "name": "stdout",
     "output_type": "stream",
     "text": [
      "Este es el primero de 2 prints seguidos\n",
      "Esto es el segundo de 2 prints seguidos\n"
     ]
    }
   ],
   "source": [
    "print(\"Este es el primero de 2 prints seguidos\")\n",
    "print(\"Esto es el segundo de 2 prints seguidos\")"
   ]
  },
  {
   "cell_type": "code",
   "execution_count": 157,
   "metadata": {},
   "outputs": [
    {
     "name": "stdout",
     "output_type": "stream",
     "text": [
      "Este es el primero de 2 prints seguidos--->Esto es el segundo de 2 prints seguidos\n"
     ]
    }
   ],
   "source": [
    "print(\"Este es el primero de 2 prints seguidos\", end=\"--->\")\n",
    "print(\"Esto es el segundo de 2 prints seguidos\")"
   ]
  },
  {
   "cell_type": "markdown",
   "metadata": {},
   "source": [
    "## Lambdas"
   ]
  },
  {
   "cell_type": "markdown",
   "metadata": {},
   "source": [
    "se usan para definir rápidamente funciones que reciben un valor, hacen algo con él y entregan otro. Como buena práctica se recomienda no usar lambdas muy complejas.\n",
    "\n",
    "Como ejemplo, tomaremos la función `sorted` de python, ya sabes qué tienes que hacer para saber cómo funciona, pero acá va la pista de nuevo:"
   ]
  },
  {
   "cell_type": "code",
   "execution_count": 158,
   "metadata": {},
   "outputs": [
    {
     "name": "stdout",
     "output_type": "stream",
     "text": [
      "Help on built-in function sorted in module builtins:\n",
      "\n",
      "sorted(iterable, /, *, key=None, reverse=False)\n",
      "    Return a new list containing all items from the iterable in ascending order.\n",
      "    \n",
      "    A custom key function can be supplied to customize the sort order, and the\n",
      "    reverse flag can be set to request the result in descending order.\n",
      "\n"
     ]
    }
   ],
   "source": [
    "help(sorted)"
   ]
  },
  {
   "cell_type": "code",
   "execution_count": 159,
   "metadata": {},
   "outputs": [],
   "source": [
    "student_tuples = [\n",
    "    ('john', 'A', 15),\n",
    "    ('jane', 'B', 12),\n",
    "    ('dave', 'B', 10),\n",
    "]"
   ]
  },
  {
   "cell_type": "code",
   "execution_count": 160,
   "metadata": {},
   "outputs": [
    {
     "data": {
      "text/plain": [
       "[('dave', 'B', 10), ('jane', 'B', 12), ('john', 'A', 15)]"
      ]
     },
     "execution_count": 160,
     "metadata": {},
     "output_type": "execute_result"
    }
   ],
   "source": [
    "sorted(student_tuples)"
   ]
  },
  {
   "cell_type": "code",
   "execution_count": 161,
   "metadata": {},
   "outputs": [
    {
     "data": {
      "text/plain": [
       "[('john', 'A', 15), ('jane', 'B', 12), ('dave', 'B', 10)]"
      ]
     },
     "execution_count": 161,
     "metadata": {},
     "output_type": "execute_result"
    }
   ],
   "source": [
    "sorted(student_tuples, key=lambda student: student[1])   # sort by grade"
   ]
  },
  {
   "cell_type": "code",
   "execution_count": 162,
   "metadata": {},
   "outputs": [
    {
     "data": {
      "text/plain": [
       "[('dave', 'B', 10), ('jane', 'B', 12), ('john', 'A', 15)]"
      ]
     },
     "execution_count": 162,
     "metadata": {},
     "output_type": "execute_result"
    }
   ],
   "source": [
    "sorted(student_tuples, key=lambda student: student[2])   # sort by grade"
   ]
  }
 ],
 "metadata": {
  "kernelspec": {
   "display_name": "Python 3",
   "language": "python",
   "name": "python3"
  },
  "language_info": {
   "codemirror_mode": {
    "name": "ipython",
    "version": 3
   },
   "file_extension": ".py",
   "mimetype": "text/x-python",
   "name": "python",
   "nbconvert_exporter": "python",
   "pygments_lexer": "ipython3",
   "version": "3.11.9"
  }
 },
 "nbformat": 4,
 "nbformat_minor": 2
}
