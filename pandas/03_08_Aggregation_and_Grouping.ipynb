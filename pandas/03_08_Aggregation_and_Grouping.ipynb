{
  "cells": [
    {
      "cell_type": "markdown",
      "metadata": {
        "id": "jXKSvTpcoToC"
      },
      "source": [
        "# Aggregation and Grouping"
      ]
    },
    {
      "cell_type": "markdown",
      "metadata": {
        "id": "C-cUUYg4oToE"
      },
      "source": [
        "A fundamental piece of many data analysis tasks is efficient summarization: computing aggregations like `sum`, `mean`, `median`, `min`, and `max`, in which a single number summarizes aspects of a potentially large dataset.\n",
        "In this chapter, we'll explore aggregations in Pandas, from simple operations akin to what we've seen on NumPy arrays to more sophisticated operations based on the concept of a `groupby`."
      ]
    },
    {
      "cell_type": "markdown",
      "metadata": {
        "id": "xtbJMzPhoToE"
      },
      "source": [
        "For convenience, we'll use the same `display` magic function that we used in the previous chapters:"
      ]
    },
    {
      "cell_type": "code",
      "execution_count": 1,
      "metadata": {
        "id": "fg1Kqmh_oToF",
        "tags": []
      },
      "outputs": [],
      "source": [
        "import numpy as np\n",
        "import pandas as pd\n",
        "\n",
        "class display(object):\n",
        "    \"\"\"Display HTML representation of multiple objects\"\"\"\n",
        "    template = \"\"\"<div style=\"float: left; padding: 10px;\">\n",
        "    <p style='font-family:\"Courier New\", Courier, monospace'>{0}</p>{1}\n",
        "    </div>\"\"\"\n",
        "    def __init__(self, *args):\n",
        "        self.args = args\n",
        "\n",
        "    def _repr_html_(self):\n",
        "        return '\\n'.join(self.template.format(a, eval(a)._repr_html_())\n",
        "                         for a in self.args)\n",
        "\n",
        "    def __repr__(self):\n",
        "        return '\\n\\n'.join(a + '\\n' + repr(eval(a))\n",
        "                           for a in self.args)"
      ]
    },
    {
      "cell_type": "markdown",
      "metadata": {
        "id": "gAn5A1ZToToG"
      },
      "source": [
        "## Planets Data\n",
        "\n",
        "Here we will use the Planets dataset, available via the [Seaborn package](http://seaborn.pydata.org/) (see [Visualization With Seaborn](04.14-Visualization-With-Seaborn.ipynb)).\n",
        "It gives information on planets that astronomers have discovered around other stars (known as *extrasolar planets*, or *exoplanets* for short). It can be downloaded with a simple Seaborn command:"
      ]
    },
    {
      "cell_type": "code",
      "execution_count": 2,
      "metadata": {
        "id": "BFqAcDUOoToG",
        "jupyter": {
          "outputs_hidden": false
        },
        "outputId": "03a62fae-5ba6-4761-a94e-f31ed0091cdc"
      },
      "outputs": [
        {
          "data": {
            "text/plain": [
              "(1035, 6)"
            ]
          },
          "execution_count": 2,
          "metadata": {},
          "output_type": "execute_result"
        }
      ],
      "source": [
        "import seaborn as sns\n",
        "planets = sns.load_dataset('planets')\n",
        "planets.shape"
      ]
    },
    {
      "cell_type": "code",
      "execution_count": 33,
      "metadata": {
        "id": "xS4VhdC2oToH",
        "jupyter": {
          "outputs_hidden": false
        },
        "outputId": "487649c8-5083-4e2c-f8e3-00738ed758ae"
      },
      "outputs": [
        {
          "data": {
            "application/vnd.microsoft.datawrangler.viewer.v0+json": {
              "columns": [
                {
                  "name": "index",
                  "rawType": "int64",
                  "type": "integer"
                },
                {
                  "name": "method",
                  "rawType": "object",
                  "type": "string"
                },
                {
                  "name": "number",
                  "rawType": "int64",
                  "type": "integer"
                },
                {
                  "name": "orbital_period",
                  "rawType": "float64",
                  "type": "float"
                },
                {
                  "name": "mass",
                  "rawType": "float64",
                  "type": "float"
                },
                {
                  "name": "distance",
                  "rawType": "float64",
                  "type": "float"
                },
                {
                  "name": "year",
                  "rawType": "int64",
                  "type": "integer"
                }
              ],
              "ref": "ea2ec155-e3dc-407f-9e97-4cd2a2950641",
              "rows": [
                [
                  "0",
                  "Radial Velocity",
                  "1",
                  "269.3",
                  "7.1",
                  "77.4",
                  "2006"
                ],
                [
                  "1",
                  "Radial Velocity",
                  "1",
                  "874.774",
                  "2.21",
                  "56.95",
                  "2008"
                ],
                [
                  "2",
                  "Radial Velocity",
                  "1",
                  "763.0",
                  "2.6",
                  "19.84",
                  "2011"
                ],
                [
                  "3",
                  "Radial Velocity",
                  "1",
                  "326.03",
                  "19.4",
                  "110.62",
                  "2007"
                ],
                [
                  "4",
                  "Radial Velocity",
                  "1",
                  "516.22",
                  "10.5",
                  "119.47",
                  "2009"
                ],
                [
                  "5",
                  "Radial Velocity",
                  "1",
                  "185.84",
                  "4.8",
                  "76.39",
                  "2008"
                ],
                [
                  "6",
                  "Radial Velocity",
                  "1",
                  "1773.4",
                  "4.64",
                  "18.15",
                  "2002"
                ],
                [
                  "7",
                  "Radial Velocity",
                  "1",
                  "798.5",
                  null,
                  "21.41",
                  "1996"
                ],
                [
                  "8",
                  "Radial Velocity",
                  "1",
                  "993.3",
                  "10.3",
                  "73.1",
                  "2008"
                ],
                [
                  "9",
                  "Radial Velocity",
                  "2",
                  "452.8",
                  "1.99",
                  "74.79",
                  "2010"
                ]
              ],
              "shape": {
                "columns": 6,
                "rows": 10
              }
            },
            "text/html": [
              "<div>\n",
              "<style scoped>\n",
              "    .dataframe tbody tr th:only-of-type {\n",
              "        vertical-align: middle;\n",
              "    }\n",
              "\n",
              "    .dataframe tbody tr th {\n",
              "        vertical-align: top;\n",
              "    }\n",
              "\n",
              "    .dataframe thead th {\n",
              "        text-align: right;\n",
              "    }\n",
              "</style>\n",
              "<table border=\"1\" class=\"dataframe\">\n",
              "  <thead>\n",
              "    <tr style=\"text-align: right;\">\n",
              "      <th></th>\n",
              "      <th>method</th>\n",
              "      <th>number</th>\n",
              "      <th>orbital_period</th>\n",
              "      <th>mass</th>\n",
              "      <th>distance</th>\n",
              "      <th>year</th>\n",
              "    </tr>\n",
              "  </thead>\n",
              "  <tbody>\n",
              "    <tr>\n",
              "      <th>0</th>\n",
              "      <td>Radial Velocity</td>\n",
              "      <td>1</td>\n",
              "      <td>269.300</td>\n",
              "      <td>7.10</td>\n",
              "      <td>77.40</td>\n",
              "      <td>2006</td>\n",
              "    </tr>\n",
              "    <tr>\n",
              "      <th>1</th>\n",
              "      <td>Radial Velocity</td>\n",
              "      <td>1</td>\n",
              "      <td>874.774</td>\n",
              "      <td>2.21</td>\n",
              "      <td>56.95</td>\n",
              "      <td>2008</td>\n",
              "    </tr>\n",
              "    <tr>\n",
              "      <th>2</th>\n",
              "      <td>Radial Velocity</td>\n",
              "      <td>1</td>\n",
              "      <td>763.000</td>\n",
              "      <td>2.60</td>\n",
              "      <td>19.84</td>\n",
              "      <td>2011</td>\n",
              "    </tr>\n",
              "    <tr>\n",
              "      <th>3</th>\n",
              "      <td>Radial Velocity</td>\n",
              "      <td>1</td>\n",
              "      <td>326.030</td>\n",
              "      <td>19.40</td>\n",
              "      <td>110.62</td>\n",
              "      <td>2007</td>\n",
              "    </tr>\n",
              "    <tr>\n",
              "      <th>4</th>\n",
              "      <td>Radial Velocity</td>\n",
              "      <td>1</td>\n",
              "      <td>516.220</td>\n",
              "      <td>10.50</td>\n",
              "      <td>119.47</td>\n",
              "      <td>2009</td>\n",
              "    </tr>\n",
              "    <tr>\n",
              "      <th>5</th>\n",
              "      <td>Radial Velocity</td>\n",
              "      <td>1</td>\n",
              "      <td>185.840</td>\n",
              "      <td>4.80</td>\n",
              "      <td>76.39</td>\n",
              "      <td>2008</td>\n",
              "    </tr>\n",
              "    <tr>\n",
              "      <th>6</th>\n",
              "      <td>Radial Velocity</td>\n",
              "      <td>1</td>\n",
              "      <td>1773.400</td>\n",
              "      <td>4.64</td>\n",
              "      <td>18.15</td>\n",
              "      <td>2002</td>\n",
              "    </tr>\n",
              "    <tr>\n",
              "      <th>7</th>\n",
              "      <td>Radial Velocity</td>\n",
              "      <td>1</td>\n",
              "      <td>798.500</td>\n",
              "      <td>NaN</td>\n",
              "      <td>21.41</td>\n",
              "      <td>1996</td>\n",
              "    </tr>\n",
              "    <tr>\n",
              "      <th>8</th>\n",
              "      <td>Radial Velocity</td>\n",
              "      <td>1</td>\n",
              "      <td>993.300</td>\n",
              "      <td>10.30</td>\n",
              "      <td>73.10</td>\n",
              "      <td>2008</td>\n",
              "    </tr>\n",
              "    <tr>\n",
              "      <th>9</th>\n",
              "      <td>Radial Velocity</td>\n",
              "      <td>2</td>\n",
              "      <td>452.800</td>\n",
              "      <td>1.99</td>\n",
              "      <td>74.79</td>\n",
              "      <td>2010</td>\n",
              "    </tr>\n",
              "  </tbody>\n",
              "</table>\n",
              "</div>"
            ],
            "text/plain": [
              "            method  number  orbital_period   mass  distance  year\n",
              "0  Radial Velocity       1         269.300   7.10     77.40  2006\n",
              "1  Radial Velocity       1         874.774   2.21     56.95  2008\n",
              "2  Radial Velocity       1         763.000   2.60     19.84  2011\n",
              "3  Radial Velocity       1         326.030  19.40    110.62  2007\n",
              "4  Radial Velocity       1         516.220  10.50    119.47  2009\n",
              "5  Radial Velocity       1         185.840   4.80     76.39  2008\n",
              "6  Radial Velocity       1        1773.400   4.64     18.15  2002\n",
              "7  Radial Velocity       1         798.500    NaN     21.41  1996\n",
              "8  Radial Velocity       1         993.300  10.30     73.10  2008\n",
              "9  Radial Velocity       2         452.800   1.99     74.79  2010"
            ]
          },
          "execution_count": 33,
          "metadata": {},
          "output_type": "execute_result"
        }
      ],
      "source": [
        "planets.head(10)"
      ]
    },
    {
      "cell_type": "markdown",
      "metadata": {
        "id": "IepFHRKPoToI"
      },
      "source": [
        "This has some details on the 1,000+ extrasolar planets discovered up to 2014."
      ]
    },
    {
      "cell_type": "markdown",
      "metadata": {
        "id": "Ll2A3byFoToI"
      },
      "source": [
        "## Simple Aggregation in Pandas"
      ]
    },
    {
      "cell_type": "markdown",
      "metadata": {
        "id": "h4sphybDoToJ"
      },
      "source": [
        "In [\"Aggregations: Min, Max, and Everything In Between\"](02.04-Computation-on-arrays-aggregates.ipynb), we explored some of the data aggregations available for NumPy arrays.\n",
        "As with a one-dimensional NumPy array, for a Pandas ``Series`` the aggregates return a single value:"
      ]
    },
    {
      "cell_type": "code",
      "execution_count": 34,
      "metadata": {
        "id": "4yDX1_4soToJ",
        "jupyter": {
          "outputs_hidden": false
        },
        "outputId": "9d4fd425-47f7-4c47-cc64-51699cd8adb5"
      },
      "outputs": [
        {
          "data": {
            "application/vnd.microsoft.datawrangler.viewer.v0+json": {
              "columns": [
                {
                  "name": "index",
                  "rawType": "int64",
                  "type": "integer"
                },
                {
                  "name": "0",
                  "rawType": "float64",
                  "type": "float"
                }
              ],
              "ref": "3ebb1833-f63c-48fa-9bc1-8a47c5231d6b",
              "rows": [
                [
                  "0",
                  "0.3745401188473625"
                ],
                [
                  "1",
                  "0.9507143064099162"
                ],
                [
                  "2",
                  "0.7319939418114051"
                ],
                [
                  "3",
                  "0.5986584841970366"
                ],
                [
                  "4",
                  "0.15601864044243652"
                ]
              ],
              "shape": {
                "columns": 1,
                "rows": 5
              }
            },
            "text/plain": [
              "0    0.374540\n",
              "1    0.950714\n",
              "2    0.731994\n",
              "3    0.598658\n",
              "4    0.156019\n",
              "dtype: float64"
            ]
          },
          "execution_count": 34,
          "metadata": {},
          "output_type": "execute_result"
        }
      ],
      "source": [
        "rng = np.random.RandomState(42)\n",
        "ser = pd.Series(rng.rand(5))\n",
        "ser"
      ]
    },
    {
      "cell_type": "code",
      "execution_count": 35,
      "metadata": {
        "id": "WP3WH5bxoToK",
        "jupyter": {
          "outputs_hidden": false
        },
        "outputId": "3065a57b-bdbe-43a8-c83a-852ccb8a5fed"
      },
      "outputs": [
        {
          "data": {
            "text/plain": [
              "np.float64(2.811925491708157)"
            ]
          },
          "execution_count": 35,
          "metadata": {},
          "output_type": "execute_result"
        }
      ],
      "source": [
        "ser.sum()"
      ]
    },
    {
      "cell_type": "code",
      "execution_count": 36,
      "metadata": {
        "id": "XiBO-nXEoToK",
        "jupyter": {
          "outputs_hidden": false
        },
        "outputId": "d7061156-1930-4e8d-cd93-a1185f97b5c8"
      },
      "outputs": [
        {
          "data": {
            "text/plain": [
              "np.float64(0.5623850983416314)"
            ]
          },
          "execution_count": 36,
          "metadata": {},
          "output_type": "execute_result"
        }
      ],
      "source": [
        "ser.mean()"
      ]
    },
    {
      "cell_type": "markdown",
      "metadata": {
        "id": "0eNUatWHoToK"
      },
      "source": [
        "For a `DataFrame`, by default the aggregates return results within each column:"
      ]
    },
    {
      "cell_type": "code",
      "execution_count": 37,
      "metadata": {
        "id": "pJlz1uSSoToL",
        "jupyter": {
          "outputs_hidden": false
        },
        "outputId": "1b807ba5-9bc3-44e9-82ca-325bffb2f8fa"
      },
      "outputs": [
        {
          "data": {
            "application/vnd.microsoft.datawrangler.viewer.v0+json": {
              "columns": [
                {
                  "name": "index",
                  "rawType": "int64",
                  "type": "integer"
                },
                {
                  "name": "A",
                  "rawType": "float64",
                  "type": "float"
                },
                {
                  "name": "B",
                  "rawType": "float64",
                  "type": "float"
                }
              ],
              "ref": "faca38f1-4477-446d-8e43-057cb5f585b5",
              "rows": [
                [
                  "0",
                  "0.15599452033620265",
                  "0.020584494295802447"
                ],
                [
                  "1",
                  "0.05808361216819946",
                  "0.9699098521619943"
                ],
                [
                  "2",
                  "0.8661761457749352",
                  "0.8324426408004217"
                ],
                [
                  "3",
                  "0.6011150117432088",
                  "0.21233911067827616"
                ],
                [
                  "4",
                  "0.7080725777960455",
                  "0.18182496720710062"
                ]
              ],
              "shape": {
                "columns": 2,
                "rows": 5
              }
            },
            "text/html": [
              "<div>\n",
              "<style scoped>\n",
              "    .dataframe tbody tr th:only-of-type {\n",
              "        vertical-align: middle;\n",
              "    }\n",
              "\n",
              "    .dataframe tbody tr th {\n",
              "        vertical-align: top;\n",
              "    }\n",
              "\n",
              "    .dataframe thead th {\n",
              "        text-align: right;\n",
              "    }\n",
              "</style>\n",
              "<table border=\"1\" class=\"dataframe\">\n",
              "  <thead>\n",
              "    <tr style=\"text-align: right;\">\n",
              "      <th></th>\n",
              "      <th>A</th>\n",
              "      <th>B</th>\n",
              "    </tr>\n",
              "  </thead>\n",
              "  <tbody>\n",
              "    <tr>\n",
              "      <th>0</th>\n",
              "      <td>0.155995</td>\n",
              "      <td>0.020584</td>\n",
              "    </tr>\n",
              "    <tr>\n",
              "      <th>1</th>\n",
              "      <td>0.058084</td>\n",
              "      <td>0.969910</td>\n",
              "    </tr>\n",
              "    <tr>\n",
              "      <th>2</th>\n",
              "      <td>0.866176</td>\n",
              "      <td>0.832443</td>\n",
              "    </tr>\n",
              "    <tr>\n",
              "      <th>3</th>\n",
              "      <td>0.601115</td>\n",
              "      <td>0.212339</td>\n",
              "    </tr>\n",
              "    <tr>\n",
              "      <th>4</th>\n",
              "      <td>0.708073</td>\n",
              "      <td>0.181825</td>\n",
              "    </tr>\n",
              "  </tbody>\n",
              "</table>\n",
              "</div>"
            ],
            "text/plain": [
              "          A         B\n",
              "0  0.155995  0.020584\n",
              "1  0.058084  0.969910\n",
              "2  0.866176  0.832443\n",
              "3  0.601115  0.212339\n",
              "4  0.708073  0.181825"
            ]
          },
          "execution_count": 37,
          "metadata": {},
          "output_type": "execute_result"
        }
      ],
      "source": [
        "df = pd.DataFrame({'A': rng.rand(5),\n",
        "                   'B': rng.rand(5)})\n",
        "df"
      ]
    },
    {
      "cell_type": "code",
      "execution_count": 38,
      "metadata": {
        "id": "nFSWUAhioToL",
        "jupyter": {
          "outputs_hidden": false
        },
        "outputId": "7e52ffb4-57b3-4b21-d60b-35b5bec223f7"
      },
      "outputs": [
        {
          "data": {
            "application/vnd.microsoft.datawrangler.viewer.v0+json": {
              "columns": [
                {
                  "name": "index",
                  "rawType": "object",
                  "type": "string"
                },
                {
                  "name": "0",
                  "rawType": "float64",
                  "type": "float"
                }
              ],
              "ref": "d2d072ee-97e8-4e8f-90fd-5ba535585e2c",
              "rows": [
                [
                  "A",
                  "0.4778883735637184"
                ],
                [
                  "B",
                  "0.44342021302871915"
                ]
              ],
              "shape": {
                "columns": 1,
                "rows": 2
              }
            },
            "text/plain": [
              "A    0.477888\n",
              "B    0.443420\n",
              "dtype: float64"
            ]
          },
          "execution_count": 38,
          "metadata": {},
          "output_type": "execute_result"
        }
      ],
      "source": [
        "df.mean()"
      ]
    },
    {
      "cell_type": "markdown",
      "metadata": {
        "id": "obA9l6NhoToL"
      },
      "source": [
        "By specifying the `axis` argument, you can instead aggregate within each row:"
      ]
    },
    {
      "cell_type": "code",
      "execution_count": 39,
      "metadata": {
        "id": "aKpfdsqGoToM",
        "jupyter": {
          "outputs_hidden": false
        },
        "outputId": "5cf6f04b-2b5c-45af-90d9-2cc68b26653c"
      },
      "outputs": [
        {
          "data": {
            "application/vnd.microsoft.datawrangler.viewer.v0+json": {
              "columns": [
                {
                  "name": "index",
                  "rawType": "int64",
                  "type": "integer"
                },
                {
                  "name": "0",
                  "rawType": "float64",
                  "type": "float"
                }
              ],
              "ref": "0b0da759-1153-4e51-b52e-4230224a0867",
              "rows": [
                [
                  "0",
                  "0.08828950731600255"
                ],
                [
                  "1",
                  "0.5139967321650969"
                ],
                [
                  "2",
                  "0.8493093932876785"
                ],
                [
                  "3",
                  "0.4067270612107425"
                ],
                [
                  "4",
                  "0.44494877250157305"
                ]
              ],
              "shape": {
                "columns": 1,
                "rows": 5
              }
            },
            "text/plain": [
              "0    0.088290\n",
              "1    0.513997\n",
              "2    0.849309\n",
              "3    0.406727\n",
              "4    0.444949\n",
              "dtype: float64"
            ]
          },
          "execution_count": 39,
          "metadata": {},
          "output_type": "execute_result"
        }
      ],
      "source": [
        "df.mean(axis='columns')"
      ]
    },
    {
      "cell_type": "markdown",
      "metadata": {
        "id": "G5QqYmN5oToM"
      },
      "source": [
        "Pandas `Series` and `DataFrame` objects include all of the common aggregates mentioned in [Aggregations: Min, Max, and Everything In Between](02.04-Computation-on-arrays-aggregates.ipynb); in addition, there is a convenience method, `describe`, that computes several common aggregates for each column and returns the result.\n",
        "Let's use this on the Planets data, for now dropping rows with missing values:"
      ]
    },
    {
      "cell_type": "code",
      "execution_count": 42,
      "metadata": {
        "id": "Zr8HvG0GoToM",
        "jupyter": {
          "outputs_hidden": false
        },
        "outputId": "841e30ef-988f-476a-db9c-14f7a97f948a"
      },
      "outputs": [
        {
          "data": {
            "application/vnd.microsoft.datawrangler.viewer.v0+json": {
              "columns": [
                {
                  "name": "index",
                  "rawType": "object",
                  "type": "string"
                },
                {
                  "name": "number",
                  "rawType": "float64",
                  "type": "float"
                },
                {
                  "name": "orbital_period",
                  "rawType": "float64",
                  "type": "float"
                },
                {
                  "name": "mass",
                  "rawType": "float64",
                  "type": "float"
                },
                {
                  "name": "distance",
                  "rawType": "float64",
                  "type": "float"
                },
                {
                  "name": "year",
                  "rawType": "float64",
                  "type": "float"
                }
              ],
              "ref": "14dad0a0-6d9e-4331-8c98-7fc75e3d108f",
              "rows": [
                [
                  "count",
                  "498.0",
                  "498.0",
                  "498.0",
                  "498.0",
                  "498.0"
                ],
                [
                  "mean",
                  "1.7349397590361446",
                  "835.778670671486",
                  "2.5093200401606426",
                  "52.068212851405626",
                  "2007.3775100401606"
                ],
                [
                  "std",
                  "1.175720206686954",
                  "1469.128258538889",
                  "3.636274322194173",
                  "46.59604096941084",
                  "4.167283737326258"
                ],
                [
                  "min",
                  "1.0",
                  "1.3283",
                  "0.0036",
                  "1.35",
                  "1989.0"
                ],
                [
                  "25%",
                  "1.0",
                  "38.27225",
                  "0.2125",
                  "24.4975",
                  "2005.0"
                ],
                [
                  "50%",
                  "1.0",
                  "357.0",
                  "1.245",
                  "39.94",
                  "2009.0"
                ],
                [
                  "75%",
                  "2.0",
                  "999.6",
                  "2.8674999999999997",
                  "59.3325",
                  "2011.0"
                ],
                [
                  "max",
                  "6.0",
                  "17337.5",
                  "25.0",
                  "354.0",
                  "2014.0"
                ]
              ],
              "shape": {
                "columns": 5,
                "rows": 8
              }
            },
            "text/html": [
              "<div>\n",
              "<style scoped>\n",
              "    .dataframe tbody tr th:only-of-type {\n",
              "        vertical-align: middle;\n",
              "    }\n",
              "\n",
              "    .dataframe tbody tr th {\n",
              "        vertical-align: top;\n",
              "    }\n",
              "\n",
              "    .dataframe thead th {\n",
              "        text-align: right;\n",
              "    }\n",
              "</style>\n",
              "<table border=\"1\" class=\"dataframe\">\n",
              "  <thead>\n",
              "    <tr style=\"text-align: right;\">\n",
              "      <th></th>\n",
              "      <th>number</th>\n",
              "      <th>orbital_period</th>\n",
              "      <th>mass</th>\n",
              "      <th>distance</th>\n",
              "      <th>year</th>\n",
              "    </tr>\n",
              "  </thead>\n",
              "  <tbody>\n",
              "    <tr>\n",
              "      <th>count</th>\n",
              "      <td>498.00000</td>\n",
              "      <td>498.000000</td>\n",
              "      <td>498.000000</td>\n",
              "      <td>498.000000</td>\n",
              "      <td>498.000000</td>\n",
              "    </tr>\n",
              "    <tr>\n",
              "      <th>mean</th>\n",
              "      <td>1.73494</td>\n",
              "      <td>835.778671</td>\n",
              "      <td>2.509320</td>\n",
              "      <td>52.068213</td>\n",
              "      <td>2007.377510</td>\n",
              "    </tr>\n",
              "    <tr>\n",
              "      <th>std</th>\n",
              "      <td>1.17572</td>\n",
              "      <td>1469.128259</td>\n",
              "      <td>3.636274</td>\n",
              "      <td>46.596041</td>\n",
              "      <td>4.167284</td>\n",
              "    </tr>\n",
              "    <tr>\n",
              "      <th>min</th>\n",
              "      <td>1.00000</td>\n",
              "      <td>1.328300</td>\n",
              "      <td>0.003600</td>\n",
              "      <td>1.350000</td>\n",
              "      <td>1989.000000</td>\n",
              "    </tr>\n",
              "    <tr>\n",
              "      <th>25%</th>\n",
              "      <td>1.00000</td>\n",
              "      <td>38.272250</td>\n",
              "      <td>0.212500</td>\n",
              "      <td>24.497500</td>\n",
              "      <td>2005.000000</td>\n",
              "    </tr>\n",
              "    <tr>\n",
              "      <th>50%</th>\n",
              "      <td>1.00000</td>\n",
              "      <td>357.000000</td>\n",
              "      <td>1.245000</td>\n",
              "      <td>39.940000</td>\n",
              "      <td>2009.000000</td>\n",
              "    </tr>\n",
              "    <tr>\n",
              "      <th>75%</th>\n",
              "      <td>2.00000</td>\n",
              "      <td>999.600000</td>\n",
              "      <td>2.867500</td>\n",
              "      <td>59.332500</td>\n",
              "      <td>2011.000000</td>\n",
              "    </tr>\n",
              "    <tr>\n",
              "      <th>max</th>\n",
              "      <td>6.00000</td>\n",
              "      <td>17337.500000</td>\n",
              "      <td>25.000000</td>\n",
              "      <td>354.000000</td>\n",
              "      <td>2014.000000</td>\n",
              "    </tr>\n",
              "  </tbody>\n",
              "</table>\n",
              "</div>"
            ],
            "text/plain": [
              "          number  orbital_period        mass    distance         year\n",
              "count  498.00000      498.000000  498.000000  498.000000   498.000000\n",
              "mean     1.73494      835.778671    2.509320   52.068213  2007.377510\n",
              "std      1.17572     1469.128259    3.636274   46.596041     4.167284\n",
              "min      1.00000        1.328300    0.003600    1.350000  1989.000000\n",
              "25%      1.00000       38.272250    0.212500   24.497500  2005.000000\n",
              "50%      1.00000      357.000000    1.245000   39.940000  2009.000000\n",
              "75%      2.00000      999.600000    2.867500   59.332500  2011.000000\n",
              "max      6.00000    17337.500000   25.000000  354.000000  2014.000000"
            ]
          },
          "execution_count": 42,
          "metadata": {},
          "output_type": "execute_result"
        }
      ],
      "source": [
        "planets.dropna().describe()"
      ]
    },
    {
      "cell_type": "markdown",
      "metadata": {
        "id": "pYfUWDzqoToM"
      },
      "source": [
        "This method helps us understand the overall properties of a dataset.\n",
        "For example, we see in the `year` column that although exoplanets were discovered as far back as 1989, half of all planets in the dataset were not discovered until 2010 or after.\n",
        "This is largely thanks to the *Kepler* mission, which aimed to find eclipsing planets around other stars using a specially designed space telescope."
      ]
    },
    {
      "cell_type": "markdown",
      "metadata": {
        "id": "4E_mzy6DoToN"
      },
      "source": [
        "The following table summarizes some other built-in Pandas aggregations:\n",
        "\n",
        "| Aggregation              | Returns                         |\n",
        "|--------------------------|---------------------------------|\n",
        "| ``count``                | Total number of items           |\n",
        "| ``first``, ``last``      | First and last item             |\n",
        "| ``mean``, ``median``     | Mean and median                 |\n",
        "| ``min``, ``max``         | Minimum and maximum             |\n",
        "| ``std``, ``var``         | Standard deviation and variance |\n",
        "| ``mad``                  | Mean absolute deviation         |\n",
        "| ``prod``                 | Product of all items            |\n",
        "| ``sum``                  | Sum of all items                |\n",
        "\n",
        "These are all methods of `DataFrame` and `Series` objects."
      ]
    },
    {
      "cell_type": "markdown",
      "metadata": {
        "id": "6qfQQVv0oToN"
      },
      "source": [
        "To go deeper into the data, however, simple aggregates are often not enough.\n",
        "The next level of data summarization is the `groupby` operation, which allows you to quickly and efficiently compute aggregates on subsets of data."
      ]
    },
    {
      "cell_type": "markdown",
      "metadata": {
        "id": "mFUGi_LWoToN"
      },
      "source": [
        "## groupby: Split, Apply, Combine\n",
        "\n",
        "Simple aggregations can give you a flavor of your dataset, but often we would prefer to aggregate conditionally on some label or index: this is implemented in the so-called `groupby` operation.\n",
        "The name \"group by\" comes from a command in the SQL database language, but it is perhaps more illuminative to think of it in the terms first coined by Hadley Wickham of Rstats fame: *split, apply, combine*."
      ]
    },
    {
      "cell_type": "markdown",
      "metadata": {
        "id": "1ILjE63VoToN"
      },
      "source": [
        "### Split, Apply, Combine\n",
        "\n",
        "A canonical example of this split-apply-combine operation, where the \"apply\" is a summation aggregation, is illustrated in this figure:"
      ]
    },
    {
      "cell_type": "markdown",
      "metadata": {
        "id": "ovLLM8XUoToN"
      },
      "source": [
        "![](https://github.com/jakevdp/PythonDataScienceHandbook/blob/master/notebooks/images/03.08-split-apply-combine.png?raw=1)\n",
        "\n",
        "([figure source in Appendix](https://github.com/jakevdp/PythonDataScienceHandbook/blob/master/notebooks/06.00-Figure-Code.ipynb#Split-Apply-Combine))"
      ]
    },
    {
      "cell_type": "markdown",
      "metadata": {
        "id": "hEdBBGPQoToO"
      },
      "source": [
        "This illustrates what the `groupby` operation accomplishes:\n",
        "\n",
        "- The *split* step involves breaking up and grouping a `DataFrame` depending on the value of the specified key.\n",
        "- The *apply* step involves computing some function, usually an aggregate, transformation, or filtering, within the individual groups.\n",
        "- The *combine* step merges the results of these operations into an output array.\n",
        "\n",
        "While this could certainly be done manually using some combination of the masking, aggregation, and merging commands covered earlier, an important realization is that *the intermediate splits do not need to be explicitly instantiated*. Rather, the `groupby` can (often) do this in a single pass over the data, updating the sum, mean, count, min, or other aggregate for each group along the way.\n",
        "The power of the `groupby` is that it abstracts away these steps: the user need not think about *how* the computation is done under the hood, but rather can think about the *operation as a whole*.\n",
        "\n",
        "As a concrete example, let's take a look at using Pandas for the computation shown in the following figure.\n",
        "We'll start by creating the input `DataFrame`:"
      ]
    },
    {
      "cell_type": "code",
      "execution_count": 43,
      "metadata": {
        "id": "wlYfQ87BoToO",
        "jupyter": {
          "outputs_hidden": false
        },
        "outputId": "5b3796d1-1df4-4e6a-8df9-1b4438b7bec7"
      },
      "outputs": [
        {
          "data": {
            "application/vnd.microsoft.datawrangler.viewer.v0+json": {
              "columns": [
                {
                  "name": "index",
                  "rawType": "int64",
                  "type": "integer"
                },
                {
                  "name": "key",
                  "rawType": "object",
                  "type": "string"
                },
                {
                  "name": "data",
                  "rawType": "int64",
                  "type": "integer"
                }
              ],
              "ref": "a517f0cc-7541-4e4a-a233-74585ca1a7ca",
              "rows": [
                [
                  "0",
                  "A",
                  "0"
                ],
                [
                  "1",
                  "B",
                  "1"
                ],
                [
                  "2",
                  "C",
                  "2"
                ],
                [
                  "3",
                  "A",
                  "3"
                ],
                [
                  "4",
                  "B",
                  "4"
                ],
                [
                  "5",
                  "C",
                  "5"
                ]
              ],
              "shape": {
                "columns": 2,
                "rows": 6
              }
            },
            "text/html": [
              "<div>\n",
              "<style scoped>\n",
              "    .dataframe tbody tr th:only-of-type {\n",
              "        vertical-align: middle;\n",
              "    }\n",
              "\n",
              "    .dataframe tbody tr th {\n",
              "        vertical-align: top;\n",
              "    }\n",
              "\n",
              "    .dataframe thead th {\n",
              "        text-align: right;\n",
              "    }\n",
              "</style>\n",
              "<table border=\"1\" class=\"dataframe\">\n",
              "  <thead>\n",
              "    <tr style=\"text-align: right;\">\n",
              "      <th></th>\n",
              "      <th>key</th>\n",
              "      <th>data</th>\n",
              "    </tr>\n",
              "  </thead>\n",
              "  <tbody>\n",
              "    <tr>\n",
              "      <th>0</th>\n",
              "      <td>A</td>\n",
              "      <td>0</td>\n",
              "    </tr>\n",
              "    <tr>\n",
              "      <th>1</th>\n",
              "      <td>B</td>\n",
              "      <td>1</td>\n",
              "    </tr>\n",
              "    <tr>\n",
              "      <th>2</th>\n",
              "      <td>C</td>\n",
              "      <td>2</td>\n",
              "    </tr>\n",
              "    <tr>\n",
              "      <th>3</th>\n",
              "      <td>A</td>\n",
              "      <td>3</td>\n",
              "    </tr>\n",
              "    <tr>\n",
              "      <th>4</th>\n",
              "      <td>B</td>\n",
              "      <td>4</td>\n",
              "    </tr>\n",
              "    <tr>\n",
              "      <th>5</th>\n",
              "      <td>C</td>\n",
              "      <td>5</td>\n",
              "    </tr>\n",
              "  </tbody>\n",
              "</table>\n",
              "</div>"
            ],
            "text/plain": [
              "  key  data\n",
              "0   A     0\n",
              "1   B     1\n",
              "2   C     2\n",
              "3   A     3\n",
              "4   B     4\n",
              "5   C     5"
            ]
          },
          "execution_count": 43,
          "metadata": {},
          "output_type": "execute_result"
        }
      ],
      "source": [
        "df = pd.DataFrame({'key': ['A', 'B', 'C', 'A', 'B', 'C'],\n",
        "                   'data': range(6)}, columns=['key', 'data'])\n",
        "df"
      ]
    },
    {
      "cell_type": "markdown",
      "metadata": {
        "id": "86v7kzZCoToO"
      },
      "source": [
        "The most basic split-apply-combine operation can be computed with the `groupby` method of the `DataFrame`, passing the name of the desired key column:"
      ]
    },
    {
      "cell_type": "code",
      "execution_count": 44,
      "metadata": {
        "id": "Mn9cWiJFoToO",
        "jupyter": {
          "outputs_hidden": false
        },
        "outputId": "7fc44e56-91ae-42ce-9ecb-e0c848a41705"
      },
      "outputs": [
        {
          "data": {
            "text/plain": [
              "<pandas.core.groupby.generic.DataFrameGroupBy object at 0x000001CD9FA17250>"
            ]
          },
          "execution_count": 44,
          "metadata": {},
          "output_type": "execute_result"
        }
      ],
      "source": [
        "df.groupby('key')"
      ]
    },
    {
      "cell_type": "markdown",
      "metadata": {
        "id": "q70f6H1AoToP"
      },
      "source": [
        "Notice that what is returned is a `DataFrameGroupBy` object, not a set of `DataFrame` objects.\n",
        "This object is where the magic is: you can think of it as a special view of the `DataFrame`, which is poised to dig into the groups but does no actual computation until the aggregation is applied.\n",
        "This \"lazy evaluation\" approach means that common aggregates can be implemented efficiently in a way that is almost transparent to the user.\n",
        "\n",
        "To produce a result, we can apply an aggregate to this `DataFrameGroupBy` object, which will perform the appropriate apply/combine steps to produce the desired result:"
      ]
    },
    {
      "cell_type": "code",
      "execution_count": 46,
      "metadata": {
        "id": "MZO__lxroToP",
        "jupyter": {
          "outputs_hidden": false
        },
        "outputId": "c332e9f3-a0ab-44b2-ee74-13a1621c8400"
      },
      "outputs": [
        {
          "data": {
            "application/vnd.microsoft.datawrangler.viewer.v0+json": {
              "columns": [
                {
                  "name": "key",
                  "rawType": "object",
                  "type": "string"
                },
                {
                  "name": "data",
                  "rawType": "float64",
                  "type": "float"
                }
              ],
              "ref": "3d475ba1-41c7-4e72-953d-2658e9a703b6",
              "rows": [
                [
                  "A",
                  "1.5"
                ],
                [
                  "B",
                  "2.5"
                ],
                [
                  "C",
                  "3.5"
                ]
              ],
              "shape": {
                "columns": 1,
                "rows": 3
              }
            },
            "text/html": [
              "<div>\n",
              "<style scoped>\n",
              "    .dataframe tbody tr th:only-of-type {\n",
              "        vertical-align: middle;\n",
              "    }\n",
              "\n",
              "    .dataframe tbody tr th {\n",
              "        vertical-align: top;\n",
              "    }\n",
              "\n",
              "    .dataframe thead th {\n",
              "        text-align: right;\n",
              "    }\n",
              "</style>\n",
              "<table border=\"1\" class=\"dataframe\">\n",
              "  <thead>\n",
              "    <tr style=\"text-align: right;\">\n",
              "      <th></th>\n",
              "      <th>data</th>\n",
              "    </tr>\n",
              "    <tr>\n",
              "      <th>key</th>\n",
              "      <th></th>\n",
              "    </tr>\n",
              "  </thead>\n",
              "  <tbody>\n",
              "    <tr>\n",
              "      <th>A</th>\n",
              "      <td>1.5</td>\n",
              "    </tr>\n",
              "    <tr>\n",
              "      <th>B</th>\n",
              "      <td>2.5</td>\n",
              "    </tr>\n",
              "    <tr>\n",
              "      <th>C</th>\n",
              "      <td>3.5</td>\n",
              "    </tr>\n",
              "  </tbody>\n",
              "</table>\n",
              "</div>"
            ],
            "text/plain": [
              "     data\n",
              "key      \n",
              "A     1.5\n",
              "B     2.5\n",
              "C     3.5"
            ]
          },
          "execution_count": 46,
          "metadata": {},
          "output_type": "execute_result"
        }
      ],
      "source": [
        "df.groupby('key').mean()"
      ]
    },
    {
      "cell_type": "markdown",
      "metadata": {
        "id": "2BlTmaHjoToP"
      },
      "source": [
        "The `sum` method is just one possibility here; you can apply most Pandas or NumPy aggregation functions, as well as most `DataFrame` operations, as you will see in the following discussion."
      ]
    },
    {
      "cell_type": "markdown",
      "metadata": {
        "id": "Q5xWwm7KoToP"
      },
      "source": [
        "### The GroupBy Object\n",
        "\n",
        "The `GroupBy` object is a flexible abstraction: in many ways, it can be treated as simply a collection of ``DataFrame``s, though it is doing more sophisticated things under the hood. Let's see some examples using the Planets data.\n",
        "\n",
        "Perhaps the most important operations made available by a `GroupBy` are *aggregate*, *filter*, *transform*, and *apply*.\n",
        "We'll discuss each of these more fully in the next section, but before that let's take a look at some of the other functionality that can be used with the basic `GroupBy` operation."
      ]
    },
    {
      "cell_type": "markdown",
      "metadata": {
        "id": "_o8Rb5jRoToQ"
      },
      "source": [
        "#### Column indexing\n",
        "\n",
        "The `GroupBy` object supports column indexing in the same way as the `DataFrame`, and returns a modified `GroupBy` object.\n",
        "For example:"
      ]
    },
    {
      "cell_type": "code",
      "execution_count": 47,
      "metadata": {
        "id": "a5-BrNhaoToQ",
        "jupyter": {
          "outputs_hidden": false
        },
        "outputId": "23ff4194-88c8-416f-8a4e-283463e29287"
      },
      "outputs": [
        {
          "data": {
            "text/plain": [
              "<pandas.core.groupby.generic.DataFrameGroupBy object at 0x000001CDE223BD90>"
            ]
          },
          "execution_count": 47,
          "metadata": {},
          "output_type": "execute_result"
        }
      ],
      "source": [
        "planets.groupby('method')"
      ]
    },
    {
      "cell_type": "code",
      "execution_count": 48,
      "metadata": {
        "id": "M5WXzAwroToQ",
        "jupyter": {
          "outputs_hidden": false
        },
        "outputId": "5d9a304c-2b81-4631-d4ef-65180b349717"
      },
      "outputs": [
        {
          "data": {
            "text/plain": [
              "<pandas.core.groupby.generic.SeriesGroupBy object at 0x000001CDE207C890>"
            ]
          },
          "execution_count": 48,
          "metadata": {},
          "output_type": "execute_result"
        }
      ],
      "source": [
        "planets.groupby('method')['orbital_period']"
      ]
    },
    {
      "cell_type": "markdown",
      "metadata": {
        "id": "ekhNm6rxoToQ"
      },
      "source": [
        "Here we've selected a particular `Series` group from the original `DataFrame` group by reference to its column name.\n",
        "As with the `GroupBy` object, no computation is done until we call some aggregate on the object:"
      ]
    },
    {
      "cell_type": "code",
      "execution_count": 49,
      "metadata": {
        "id": "3IhpkdyToToR",
        "jupyter": {
          "outputs_hidden": false
        },
        "outputId": "d6ca98a0-eb68-4f72-9180-62e4e9950ac3"
      },
      "outputs": [
        {
          "data": {
            "application/vnd.microsoft.datawrangler.viewer.v0+json": {
              "columns": [
                {
                  "name": "method",
                  "rawType": "object",
                  "type": "string"
                },
                {
                  "name": "orbital_period",
                  "rawType": "float64",
                  "type": "float"
                }
              ],
              "ref": "e6c7ea2a-89bd-435d-b584-359a6146573b",
              "rows": [
                [
                  "Astrometry",
                  "631.1800000000001"
                ],
                [
                  "Eclipse Timing Variations",
                  "4343.5"
                ],
                [
                  "Imaging",
                  "27500.0"
                ],
                [
                  "Microlensing",
                  "3300.0"
                ],
                [
                  "Orbital Brightness Modulation",
                  "0.342887"
                ],
                [
                  "Pulsar Timing",
                  "66.5419"
                ],
                [
                  "Pulsation Timing Variations",
                  "1170.0"
                ],
                [
                  "Radial Velocity",
                  "360.2"
                ],
                [
                  "Transit",
                  "5.714932"
                ],
                [
                  "Transit Timing Variations",
                  "57.011"
                ]
              ],
              "shape": {
                "columns": 1,
                "rows": 10
              }
            },
            "text/plain": [
              "method\n",
              "Astrometry                         631.180000\n",
              "Eclipse Timing Variations         4343.500000\n",
              "Imaging                          27500.000000\n",
              "Microlensing                      3300.000000\n",
              "Orbital Brightness Modulation        0.342887\n",
              "Pulsar Timing                       66.541900\n",
              "Pulsation Timing Variations       1170.000000\n",
              "Radial Velocity                    360.200000\n",
              "Transit                              5.714932\n",
              "Transit Timing Variations           57.011000\n",
              "Name: orbital_period, dtype: float64"
            ]
          },
          "execution_count": 49,
          "metadata": {},
          "output_type": "execute_result"
        }
      ],
      "source": [
        "planets.groupby('method')['orbital_period'].median()"
      ]
    },
    {
      "cell_type": "markdown",
      "metadata": {
        "id": "U4-xH7iyoToW"
      },
      "source": [
        "This gives an idea of the general scale of orbital periods (in days) that each method is sensitive to."
      ]
    },
    {
      "cell_type": "markdown",
      "metadata": {
        "id": "0A_jqfd_oToW"
      },
      "source": [
        "#### Iteration over groups\n",
        "\n",
        "The `GroupBy` object supports direct iteration over the groups, returning each group as a `Series` or `DataFrame`:"
      ]
    },
    {
      "cell_type": "code",
      "execution_count": 50,
      "metadata": {
        "id": "7zrbMFN7oToX",
        "jupyter": {
          "outputs_hidden": false
        },
        "outputId": "6b296cfe-3098-49b5-9e6e-dae2d0302faa"
      },
      "outputs": [
        {
          "name": "stdout",
          "output_type": "stream",
          "text": [
            "Astrometry                     shape=(2, 6)\n",
            "Eclipse Timing Variations      shape=(9, 6)\n",
            "Imaging                        shape=(38, 6)\n",
            "Microlensing                   shape=(23, 6)\n",
            "Orbital Brightness Modulation  shape=(3, 6)\n",
            "Pulsar Timing                  shape=(5, 6)\n",
            "Pulsation Timing Variations    shape=(1, 6)\n",
            "Radial Velocity                shape=(553, 6)\n",
            "Transit                        shape=(397, 6)\n",
            "Transit Timing Variations      shape=(4, 6)\n"
          ]
        }
      ],
      "source": [
        "for (method, group) in planets.groupby('method'):\n",
        "    print(\"{0:30s} shape={1}\".format(method, group.shape))"
      ]
    },
    {
      "cell_type": "markdown",
      "metadata": {
        "id": "uZh1mGp3oToX"
      },
      "source": [
        "This can be useful for manual inspection of groups for the sake of debugging, but it is often much faster to use the built-in `apply` functionality, which we will discuss momentarily."
      ]
    },
    {
      "cell_type": "markdown",
      "metadata": {
        "id": "YGSPzEeVoToX"
      },
      "source": [
        "#### Dispatch methods\n",
        "\n",
        "Through some Python class magic, any method not explicitly implemented by the `GroupBy` object will be passed through and called on the groups, whether they are `DataFrame` or `Series` objects.\n",
        "For example, using the `describe` method is equivalent to calling `describe` on the `DataFrame` representing each group:"
      ]
    },
    {
      "cell_type": "code",
      "execution_count": 51,
      "metadata": {
        "id": "Uztq5PI0oToX",
        "jupyter": {
          "outputs_hidden": false
        },
        "outputId": "88241fa2-1f72-4433-a5a8-a8734d5ae3e2"
      },
      "outputs": [
        {
          "data": {
            "application/vnd.microsoft.datawrangler.viewer.v0+json": {
              "columns": [
                {
                  "name": "(None, 'method')",
                  "rawType": "object",
                  "type": "unknown"
                },
                {
                  "name": "0",
                  "rawType": "float64",
                  "type": "float"
                }
              ],
              "ref": "67f2f018-e875-4028-b050-be411baea4a8",
              "rows": [
                [
                  "('count', 'Astrometry')",
                  "2.0"
                ],
                [
                  "('count', 'Eclipse Timing Variations')",
                  "9.0"
                ],
                [
                  "('count', 'Imaging')",
                  "38.0"
                ],
                [
                  "('count', 'Microlensing')",
                  "23.0"
                ],
                [
                  "('count', 'Orbital Brightness Modulation')",
                  "3.0"
                ],
                [
                  "('count', 'Pulsar Timing')",
                  "5.0"
                ],
                [
                  "('count', 'Pulsation Timing Variations')",
                  "1.0"
                ],
                [
                  "('count', 'Radial Velocity')",
                  "553.0"
                ],
                [
                  "('count', 'Transit')",
                  "397.0"
                ],
                [
                  "('count', 'Transit Timing Variations')",
                  "4.0"
                ],
                [
                  "('mean', 'Astrometry')",
                  "2011.5"
                ],
                [
                  "('mean', 'Eclipse Timing Variations')",
                  "2010.0"
                ],
                [
                  "('mean', 'Imaging')",
                  "2009.1315789473683"
                ],
                [
                  "('mean', 'Microlensing')",
                  "2009.7826086956522"
                ],
                [
                  "('mean', 'Orbital Brightness Modulation')",
                  "2011.6666666666667"
                ],
                [
                  "('mean', 'Pulsar Timing')",
                  "1998.4"
                ],
                [
                  "('mean', 'Pulsation Timing Variations')",
                  "2007.0"
                ],
                [
                  "('mean', 'Radial Velocity')",
                  "2007.5189873417721"
                ],
                [
                  "('mean', 'Transit')",
                  "2011.23677581864"
                ],
                [
                  "('mean', 'Transit Timing Variations')",
                  "2012.5"
                ],
                [
                  "('std', 'Astrometry')",
                  "2.1213203435596424"
                ],
                [
                  "('std', 'Eclipse Timing Variations')",
                  "1.4142135623730951"
                ],
                [
                  "('std', 'Imaging')",
                  "2.7819014752365305"
                ],
                [
                  "('std', 'Microlensing')",
                  "2.8596967693530413"
                ],
                [
                  "('std', 'Orbital Brightness Modulation')",
                  "1.1547005383792515"
                ],
                [
                  "('std', 'Pulsar Timing')",
                  "8.384509526501834"
                ],
                [
                  "('std', 'Pulsation Timing Variations')",
                  null
                ],
                [
                  "('std', 'Radial Velocity')",
                  "4.249051606226466"
                ],
                [
                  "('std', 'Transit')",
                  "2.077867419434435"
                ],
                [
                  "('std', 'Transit Timing Variations')",
                  "1.2909944487358056"
                ],
                [
                  "('min', 'Astrometry')",
                  "2010.0"
                ],
                [
                  "('min', 'Eclipse Timing Variations')",
                  "2008.0"
                ],
                [
                  "('min', 'Imaging')",
                  "2004.0"
                ],
                [
                  "('min', 'Microlensing')",
                  "2004.0"
                ],
                [
                  "('min', 'Orbital Brightness Modulation')",
                  "2011.0"
                ],
                [
                  "('min', 'Pulsar Timing')",
                  "1992.0"
                ],
                [
                  "('min', 'Pulsation Timing Variations')",
                  "2007.0"
                ],
                [
                  "('min', 'Radial Velocity')",
                  "1989.0"
                ],
                [
                  "('min', 'Transit')",
                  "2002.0"
                ],
                [
                  "('min', 'Transit Timing Variations')",
                  "2011.0"
                ],
                [
                  "('25%', 'Astrometry')",
                  "2010.75"
                ],
                [
                  "('25%', 'Eclipse Timing Variations')",
                  "2009.0"
                ],
                [
                  "('25%', 'Imaging')",
                  "2008.0"
                ],
                [
                  "('25%', 'Microlensing')",
                  "2008.0"
                ],
                [
                  "('25%', 'Orbital Brightness Modulation')",
                  "2011.0"
                ],
                [
                  "('25%', 'Pulsar Timing')",
                  "1992.0"
                ],
                [
                  "('25%', 'Pulsation Timing Variations')",
                  "2007.0"
                ],
                [
                  "('25%', 'Radial Velocity')",
                  "2005.0"
                ],
                [
                  "('25%', 'Transit')",
                  "2010.0"
                ],
                [
                  "('25%', 'Transit Timing Variations')",
                  "2011.75"
                ]
              ],
              "shape": {
                "columns": 1,
                "rows": 80
              }
            },
            "text/plain": [
              "       method                       \n",
              "count  Astrometry                          2.0\n",
              "       Eclipse Timing Variations           9.0\n",
              "       Imaging                            38.0\n",
              "       Microlensing                       23.0\n",
              "       Orbital Brightness Modulation       3.0\n",
              "                                         ...  \n",
              "max    Pulsar Timing                    2011.0\n",
              "       Pulsation Timing Variations      2007.0\n",
              "       Radial Velocity                  2014.0\n",
              "       Transit                          2014.0\n",
              "       Transit Timing Variations        2014.0\n",
              "Length: 80, dtype: float64"
            ]
          },
          "execution_count": 51,
          "metadata": {},
          "output_type": "execute_result"
        }
      ],
      "source": [
        "planets.groupby('method')['year'].describe().unstack()"
      ]
    },
    {
      "cell_type": "markdown",
      "metadata": {
        "id": "5wpdW6xyoToY"
      },
      "source": [
        "Looking at this table helps us to better understand the data: for example, the vast majority of planets until 2014 were discovered by the Radial Velocity and Transit methods, though the latter method became common more recently.\n",
        "The newest methods seem to be Transit Timing Variation and Orbital Brightness Modulation, which were not used to discover a new planet until 2011.\n",
        "\n",
        "Notice that these dispatch methods are applied *to each individual group*, and the results are then combined within `GroupBy` and returned.\n",
        "Again, any valid `DataFrame`/`Series` method can be called in a similar manner on the corresponding `GroupBy` object."
      ]
    },
    {
      "cell_type": "markdown",
      "metadata": {
        "id": "GyVXY-YvoToY"
      },
      "source": [
        "### Aggregate, Filter, Transform, Apply\n",
        "\n",
        "The preceding discussion focused on aggregation for the combine operation, but there are more options available.\n",
        "In particular, `GroupBy` objects have `aggregate`, `filter`, `transform`, and `apply` methods that efficiently implement a variety of useful operations before combining the grouped data.\n",
        "\n",
        "For the purpose of the following subsections, we'll use this ``DataFrame``:"
      ]
    },
    {
      "cell_type": "code",
      "execution_count": 52,
      "metadata": {
        "id": "yGqZYYqooToY",
        "jupyter": {
          "outputs_hidden": false
        },
        "outputId": "3807e92c-5fbf-44a8-9210-b2bcaa767ed5"
      },
      "outputs": [
        {
          "data": {
            "application/vnd.microsoft.datawrangler.viewer.v0+json": {
              "columns": [
                {
                  "name": "index",
                  "rawType": "int64",
                  "type": "integer"
                },
                {
                  "name": "key",
                  "rawType": "object",
                  "type": "string"
                },
                {
                  "name": "data1",
                  "rawType": "int64",
                  "type": "integer"
                },
                {
                  "name": "data2",
                  "rawType": "int32",
                  "type": "integer"
                }
              ],
              "ref": "89647259-5df4-4b58-96a9-8cfce45f5b99",
              "rows": [
                [
                  "0",
                  "A",
                  "0",
                  "5"
                ],
                [
                  "1",
                  "B",
                  "1",
                  "0"
                ],
                [
                  "2",
                  "C",
                  "2",
                  "3"
                ],
                [
                  "3",
                  "A",
                  "3",
                  "3"
                ],
                [
                  "4",
                  "B",
                  "4",
                  "7"
                ],
                [
                  "5",
                  "C",
                  "5",
                  "9"
                ]
              ],
              "shape": {
                "columns": 3,
                "rows": 6
              }
            },
            "text/html": [
              "<div>\n",
              "<style scoped>\n",
              "    .dataframe tbody tr th:only-of-type {\n",
              "        vertical-align: middle;\n",
              "    }\n",
              "\n",
              "    .dataframe tbody tr th {\n",
              "        vertical-align: top;\n",
              "    }\n",
              "\n",
              "    .dataframe thead th {\n",
              "        text-align: right;\n",
              "    }\n",
              "</style>\n",
              "<table border=\"1\" class=\"dataframe\">\n",
              "  <thead>\n",
              "    <tr style=\"text-align: right;\">\n",
              "      <th></th>\n",
              "      <th>key</th>\n",
              "      <th>data1</th>\n",
              "      <th>data2</th>\n",
              "    </tr>\n",
              "  </thead>\n",
              "  <tbody>\n",
              "    <tr>\n",
              "      <th>0</th>\n",
              "      <td>A</td>\n",
              "      <td>0</td>\n",
              "      <td>5</td>\n",
              "    </tr>\n",
              "    <tr>\n",
              "      <th>1</th>\n",
              "      <td>B</td>\n",
              "      <td>1</td>\n",
              "      <td>0</td>\n",
              "    </tr>\n",
              "    <tr>\n",
              "      <th>2</th>\n",
              "      <td>C</td>\n",
              "      <td>2</td>\n",
              "      <td>3</td>\n",
              "    </tr>\n",
              "    <tr>\n",
              "      <th>3</th>\n",
              "      <td>A</td>\n",
              "      <td>3</td>\n",
              "      <td>3</td>\n",
              "    </tr>\n",
              "    <tr>\n",
              "      <th>4</th>\n",
              "      <td>B</td>\n",
              "      <td>4</td>\n",
              "      <td>7</td>\n",
              "    </tr>\n",
              "    <tr>\n",
              "      <th>5</th>\n",
              "      <td>C</td>\n",
              "      <td>5</td>\n",
              "      <td>9</td>\n",
              "    </tr>\n",
              "  </tbody>\n",
              "</table>\n",
              "</div>"
            ],
            "text/plain": [
              "  key  data1  data2\n",
              "0   A      0      5\n",
              "1   B      1      0\n",
              "2   C      2      3\n",
              "3   A      3      3\n",
              "4   B      4      7\n",
              "5   C      5      9"
            ]
          },
          "execution_count": 52,
          "metadata": {},
          "output_type": "execute_result"
        }
      ],
      "source": [
        "rng = np.random.RandomState(0)\n",
        "df = pd.DataFrame({'key': ['A', 'B', 'C', 'A', 'B', 'C'],\n",
        "                   'data1': range(6),\n",
        "                   'data2': rng.randint(0, 10, 6)},\n",
        "                   columns = ['key', 'data1', 'data2'])\n",
        "df"
      ]
    },
    {
      "cell_type": "markdown",
      "metadata": {
        "id": "GsCXMhMloToY"
      },
      "source": [
        "#### Aggregation\n",
        "\n",
        "You're now familiar with `GroupBy` aggregations with `sum`, `median`, and the like, but the `aggregate` method allows for even more flexibility.\n",
        "It can take a string, a function, or a list thereof, and compute all the aggregates at once.\n",
        "Here is a quick example combining all of these:"
      ]
    },
    {
      "cell_type": "code",
      "execution_count": 53,
      "metadata": {
        "id": "wJHIM_qEoToZ",
        "jupyter": {
          "outputs_hidden": false
        },
        "outputId": "c4b512f2-5356-4b59-c49d-fbcb083968e0"
      },
      "outputs": [
        {
          "name": "stderr",
          "output_type": "stream",
          "text": [
            "C:\\Users\\escob\\AppData\\Local\\Temp\\ipykernel_8612\\968873422.py:1: FutureWarning: The provided callable <function median at 0x000001CD9FBD0180> is currently using SeriesGroupBy.median. In a future version of pandas, the provided callable will be used directly. To keep current behavior pass the string \"median\" instead.\n",
            "  df.groupby('key').aggregate(['min', np.median, max])\n",
            "C:\\Users\\escob\\AppData\\Local\\Temp\\ipykernel_8612\\968873422.py:1: FutureWarning: The provided callable <built-in function max> is currently using SeriesGroupBy.max. In a future version of pandas, the provided callable will be used directly. To keep current behavior pass the string \"max\" instead.\n",
            "  df.groupby('key').aggregate(['min', np.median, max])\n"
          ]
        },
        {
          "data": {
            "application/vnd.microsoft.datawrangler.viewer.v0+json": {
              "columns": [
                {
                  "name": "key",
                  "rawType": "object",
                  "type": "string"
                },
                {
                  "name": "('data1', 'min')",
                  "rawType": "int64",
                  "type": "integer"
                },
                {
                  "name": "('data1', 'median')",
                  "rawType": "float64",
                  "type": "float"
                },
                {
                  "name": "('data1', 'max')",
                  "rawType": "int64",
                  "type": "integer"
                },
                {
                  "name": "('data2', 'min')",
                  "rawType": "int32",
                  "type": "integer"
                },
                {
                  "name": "('data2', 'median')",
                  "rawType": "float64",
                  "type": "float"
                },
                {
                  "name": "('data2', 'max')",
                  "rawType": "int32",
                  "type": "integer"
                }
              ],
              "ref": "1ba3c8b6-7298-42e5-9816-93fc6de43705",
              "rows": [
                [
                  "A",
                  "0",
                  "1.5",
                  "3",
                  "3",
                  "4.0",
                  "5"
                ],
                [
                  "B",
                  "1",
                  "2.5",
                  "4",
                  "0",
                  "3.5",
                  "7"
                ],
                [
                  "C",
                  "2",
                  "3.5",
                  "5",
                  "3",
                  "6.0",
                  "9"
                ]
              ],
              "shape": {
                "columns": 6,
                "rows": 3
              }
            },
            "text/html": [
              "<div>\n",
              "<style scoped>\n",
              "    .dataframe tbody tr th:only-of-type {\n",
              "        vertical-align: middle;\n",
              "    }\n",
              "\n",
              "    .dataframe tbody tr th {\n",
              "        vertical-align: top;\n",
              "    }\n",
              "\n",
              "    .dataframe thead tr th {\n",
              "        text-align: left;\n",
              "    }\n",
              "\n",
              "    .dataframe thead tr:last-of-type th {\n",
              "        text-align: right;\n",
              "    }\n",
              "</style>\n",
              "<table border=\"1\" class=\"dataframe\">\n",
              "  <thead>\n",
              "    <tr>\n",
              "      <th></th>\n",
              "      <th colspan=\"3\" halign=\"left\">data1</th>\n",
              "      <th colspan=\"3\" halign=\"left\">data2</th>\n",
              "    </tr>\n",
              "    <tr>\n",
              "      <th></th>\n",
              "      <th>min</th>\n",
              "      <th>median</th>\n",
              "      <th>max</th>\n",
              "      <th>min</th>\n",
              "      <th>median</th>\n",
              "      <th>max</th>\n",
              "    </tr>\n",
              "    <tr>\n",
              "      <th>key</th>\n",
              "      <th></th>\n",
              "      <th></th>\n",
              "      <th></th>\n",
              "      <th></th>\n",
              "      <th></th>\n",
              "      <th></th>\n",
              "    </tr>\n",
              "  </thead>\n",
              "  <tbody>\n",
              "    <tr>\n",
              "      <th>A</th>\n",
              "      <td>0</td>\n",
              "      <td>1.5</td>\n",
              "      <td>3</td>\n",
              "      <td>3</td>\n",
              "      <td>4.0</td>\n",
              "      <td>5</td>\n",
              "    </tr>\n",
              "    <tr>\n",
              "      <th>B</th>\n",
              "      <td>1</td>\n",
              "      <td>2.5</td>\n",
              "      <td>4</td>\n",
              "      <td>0</td>\n",
              "      <td>3.5</td>\n",
              "      <td>7</td>\n",
              "    </tr>\n",
              "    <tr>\n",
              "      <th>C</th>\n",
              "      <td>2</td>\n",
              "      <td>3.5</td>\n",
              "      <td>5</td>\n",
              "      <td>3</td>\n",
              "      <td>6.0</td>\n",
              "      <td>9</td>\n",
              "    </tr>\n",
              "  </tbody>\n",
              "</table>\n",
              "</div>"
            ],
            "text/plain": [
              "    data1            data2           \n",
              "      min median max   min median max\n",
              "key                                  \n",
              "A       0    1.5   3     3    4.0   5\n",
              "B       1    2.5   4     0    3.5   7\n",
              "C       2    3.5   5     3    6.0   9"
            ]
          },
          "execution_count": 53,
          "metadata": {},
          "output_type": "execute_result"
        }
      ],
      "source": [
        "df.groupby('key').aggregate(['min', np.median, max])"
      ]
    },
    {
      "cell_type": "markdown",
      "metadata": {
        "id": "jAVMtRdmoToZ"
      },
      "source": [
        "Another common pattern is to pass a dictionary mapping column names to operations to be applied on that column:"
      ]
    },
    {
      "cell_type": "code",
      "execution_count": 54,
      "metadata": {
        "id": "qFOiqkjRoToZ",
        "jupyter": {
          "outputs_hidden": false
        },
        "outputId": "97195fd8-38c0-4481-9a53-e02433890360"
      },
      "outputs": [
        {
          "data": {
            "application/vnd.microsoft.datawrangler.viewer.v0+json": {
              "columns": [
                {
                  "name": "key",
                  "rawType": "object",
                  "type": "string"
                },
                {
                  "name": "data1",
                  "rawType": "int64",
                  "type": "integer"
                },
                {
                  "name": "data2",
                  "rawType": "int32",
                  "type": "integer"
                }
              ],
              "ref": "bdafe1bb-9e1b-4d68-b783-6b3836830c58",
              "rows": [
                [
                  "A",
                  "0",
                  "5"
                ],
                [
                  "B",
                  "1",
                  "7"
                ],
                [
                  "C",
                  "2",
                  "9"
                ]
              ],
              "shape": {
                "columns": 2,
                "rows": 3
              }
            },
            "text/html": [
              "<div>\n",
              "<style scoped>\n",
              "    .dataframe tbody tr th:only-of-type {\n",
              "        vertical-align: middle;\n",
              "    }\n",
              "\n",
              "    .dataframe tbody tr th {\n",
              "        vertical-align: top;\n",
              "    }\n",
              "\n",
              "    .dataframe thead th {\n",
              "        text-align: right;\n",
              "    }\n",
              "</style>\n",
              "<table border=\"1\" class=\"dataframe\">\n",
              "  <thead>\n",
              "    <tr style=\"text-align: right;\">\n",
              "      <th></th>\n",
              "      <th>data1</th>\n",
              "      <th>data2</th>\n",
              "    </tr>\n",
              "    <tr>\n",
              "      <th>key</th>\n",
              "      <th></th>\n",
              "      <th></th>\n",
              "    </tr>\n",
              "  </thead>\n",
              "  <tbody>\n",
              "    <tr>\n",
              "      <th>A</th>\n",
              "      <td>0</td>\n",
              "      <td>5</td>\n",
              "    </tr>\n",
              "    <tr>\n",
              "      <th>B</th>\n",
              "      <td>1</td>\n",
              "      <td>7</td>\n",
              "    </tr>\n",
              "    <tr>\n",
              "      <th>C</th>\n",
              "      <td>2</td>\n",
              "      <td>9</td>\n",
              "    </tr>\n",
              "  </tbody>\n",
              "</table>\n",
              "</div>"
            ],
            "text/plain": [
              "     data1  data2\n",
              "key              \n",
              "A        0      5\n",
              "B        1      7\n",
              "C        2      9"
            ]
          },
          "execution_count": 54,
          "metadata": {},
          "output_type": "execute_result"
        }
      ],
      "source": [
        "df.groupby('key').aggregate({'data1': 'min',\n",
        "                             'data2': 'max'})"
      ]
    },
    {
      "cell_type": "markdown",
      "metadata": {
        "id": "pa9NZD0HoToZ"
      },
      "source": [
        "#### Filtering\n",
        "\n",
        "A filtering operation allows you to drop data based on the group properties.\n",
        "For example, we might want to keep all groups in which the standard deviation is larger than some critical value:"
      ]
    },
    {
      "cell_type": "code",
      "execution_count": 55,
      "metadata": {
        "id": "m3iGDgQwoToa",
        "jupyter": {
          "outputs_hidden": false
        },
        "outputId": "90bb02d2-da86-4066-80a2-4364ea1b600c"
      },
      "outputs": [
        {
          "data": {
            "text/html": [
              "<div style=\"float: left; padding: 10px;\">\n",
              "    <p style='font-family:\"Courier New\", Courier, monospace'>df</p><div>\n",
              "<style scoped>\n",
              "    .dataframe tbody tr th:only-of-type {\n",
              "        vertical-align: middle;\n",
              "    }\n",
              "\n",
              "    .dataframe tbody tr th {\n",
              "        vertical-align: top;\n",
              "    }\n",
              "\n",
              "    .dataframe thead th {\n",
              "        text-align: right;\n",
              "    }\n",
              "</style>\n",
              "<table border=\"1\" class=\"dataframe\">\n",
              "  <thead>\n",
              "    <tr style=\"text-align: right;\">\n",
              "      <th></th>\n",
              "      <th>key</th>\n",
              "      <th>data1</th>\n",
              "      <th>data2</th>\n",
              "    </tr>\n",
              "  </thead>\n",
              "  <tbody>\n",
              "    <tr>\n",
              "      <th>0</th>\n",
              "      <td>A</td>\n",
              "      <td>0</td>\n",
              "      <td>5</td>\n",
              "    </tr>\n",
              "    <tr>\n",
              "      <th>1</th>\n",
              "      <td>B</td>\n",
              "      <td>1</td>\n",
              "      <td>0</td>\n",
              "    </tr>\n",
              "    <tr>\n",
              "      <th>2</th>\n",
              "      <td>C</td>\n",
              "      <td>2</td>\n",
              "      <td>3</td>\n",
              "    </tr>\n",
              "    <tr>\n",
              "      <th>3</th>\n",
              "      <td>A</td>\n",
              "      <td>3</td>\n",
              "      <td>3</td>\n",
              "    </tr>\n",
              "    <tr>\n",
              "      <th>4</th>\n",
              "      <td>B</td>\n",
              "      <td>4</td>\n",
              "      <td>7</td>\n",
              "    </tr>\n",
              "    <tr>\n",
              "      <th>5</th>\n",
              "      <td>C</td>\n",
              "      <td>5</td>\n",
              "      <td>9</td>\n",
              "    </tr>\n",
              "  </tbody>\n",
              "</table>\n",
              "</div>\n",
              "    </div>\n",
              "<div style=\"float: left; padding: 10px;\">\n",
              "    <p style='font-family:\"Courier New\", Courier, monospace'>df.groupby('key').std()</p><div>\n",
              "<style scoped>\n",
              "    .dataframe tbody tr th:only-of-type {\n",
              "        vertical-align: middle;\n",
              "    }\n",
              "\n",
              "    .dataframe tbody tr th {\n",
              "        vertical-align: top;\n",
              "    }\n",
              "\n",
              "    .dataframe thead th {\n",
              "        text-align: right;\n",
              "    }\n",
              "</style>\n",
              "<table border=\"1\" class=\"dataframe\">\n",
              "  <thead>\n",
              "    <tr style=\"text-align: right;\">\n",
              "      <th></th>\n",
              "      <th>data1</th>\n",
              "      <th>data2</th>\n",
              "    </tr>\n",
              "    <tr>\n",
              "      <th>key</th>\n",
              "      <th></th>\n",
              "      <th></th>\n",
              "    </tr>\n",
              "  </thead>\n",
              "  <tbody>\n",
              "    <tr>\n",
              "      <th>A</th>\n",
              "      <td>2.12132</td>\n",
              "      <td>1.414214</td>\n",
              "    </tr>\n",
              "    <tr>\n",
              "      <th>B</th>\n",
              "      <td>2.12132</td>\n",
              "      <td>4.949747</td>\n",
              "    </tr>\n",
              "    <tr>\n",
              "      <th>C</th>\n",
              "      <td>2.12132</td>\n",
              "      <td>4.242641</td>\n",
              "    </tr>\n",
              "  </tbody>\n",
              "</table>\n",
              "</div>\n",
              "    </div>\n",
              "<div style=\"float: left; padding: 10px;\">\n",
              "    <p style='font-family:\"Courier New\", Courier, monospace'>df.groupby('key').filter(filter_func)</p><div>\n",
              "<style scoped>\n",
              "    .dataframe tbody tr th:only-of-type {\n",
              "        vertical-align: middle;\n",
              "    }\n",
              "\n",
              "    .dataframe tbody tr th {\n",
              "        vertical-align: top;\n",
              "    }\n",
              "\n",
              "    .dataframe thead th {\n",
              "        text-align: right;\n",
              "    }\n",
              "</style>\n",
              "<table border=\"1\" class=\"dataframe\">\n",
              "  <thead>\n",
              "    <tr style=\"text-align: right;\">\n",
              "      <th></th>\n",
              "      <th>key</th>\n",
              "      <th>data1</th>\n",
              "      <th>data2</th>\n",
              "    </tr>\n",
              "  </thead>\n",
              "  <tbody>\n",
              "    <tr>\n",
              "      <th>1</th>\n",
              "      <td>B</td>\n",
              "      <td>1</td>\n",
              "      <td>0</td>\n",
              "    </tr>\n",
              "    <tr>\n",
              "      <th>2</th>\n",
              "      <td>C</td>\n",
              "      <td>2</td>\n",
              "      <td>3</td>\n",
              "    </tr>\n",
              "    <tr>\n",
              "      <th>4</th>\n",
              "      <td>B</td>\n",
              "      <td>4</td>\n",
              "      <td>7</td>\n",
              "    </tr>\n",
              "    <tr>\n",
              "      <th>5</th>\n",
              "      <td>C</td>\n",
              "      <td>5</td>\n",
              "      <td>9</td>\n",
              "    </tr>\n",
              "  </tbody>\n",
              "</table>\n",
              "</div>\n",
              "    </div>"
            ],
            "text/plain": [
              "df\n",
              "  key  data1  data2\n",
              "0   A      0      5\n",
              "1   B      1      0\n",
              "2   C      2      3\n",
              "3   A      3      3\n",
              "4   B      4      7\n",
              "5   C      5      9\n",
              "\n",
              "df.groupby('key').std()\n",
              "       data1     data2\n",
              "key                   \n",
              "A    2.12132  1.414214\n",
              "B    2.12132  4.949747\n",
              "C    2.12132  4.242641\n",
              "\n",
              "df.groupby('key').filter(filter_func)\n",
              "  key  data1  data2\n",
              "1   B      1      0\n",
              "2   C      2      3\n",
              "4   B      4      7\n",
              "5   C      5      9"
            ]
          },
          "execution_count": 55,
          "metadata": {},
          "output_type": "execute_result"
        }
      ],
      "source": [
        "def filter_func(x):\n",
        "    return x['data2'].std() > 4\n",
        "\n",
        "display('df', \"df.groupby('key').std()\",\n",
        "        \"df.groupby('key').filter(filter_func)\")"
      ]
    },
    {
      "cell_type": "markdown",
      "metadata": {
        "id": "ATxA96X3oToa"
      },
      "source": [
        "The filter function should return a Boolean value specifying whether the group passes the filtering. Here, because group A does not have a standard deviation greater than 4, it is dropped from the result."
      ]
    },
    {
      "cell_type": "markdown",
      "metadata": {
        "id": "7ufi-w-AoToa"
      },
      "source": [
        "#### Transformation\n",
        "\n",
        "While aggregation must return a reduced version of the data, transformation can return some transformed version of the full data to recombine.\n",
        "For such a transformation, the output is the same shape as the input.\n",
        "A common example is to center the data by subtracting the group-wise mean:"
      ]
    },
    {
      "cell_type": "code",
      "execution_count": 56,
      "metadata": {
        "id": "a6n9kTMQoToa",
        "jupyter": {
          "outputs_hidden": false
        },
        "outputId": "0fd51c5a-131a-40a7-b59c-a6b0a24760bf"
      },
      "outputs": [
        {
          "data": {
            "application/vnd.microsoft.datawrangler.viewer.v0+json": {
              "columns": [
                {
                  "name": "index",
                  "rawType": "int64",
                  "type": "integer"
                },
                {
                  "name": "data1",
                  "rawType": "float64",
                  "type": "float"
                },
                {
                  "name": "data2",
                  "rawType": "float64",
                  "type": "float"
                }
              ],
              "ref": "3f326933-a170-4e3d-b82c-d300ec3225d7",
              "rows": [
                [
                  "0",
                  "-1.5",
                  "1.0"
                ],
                [
                  "1",
                  "-1.5",
                  "-3.5"
                ],
                [
                  "2",
                  "-1.5",
                  "-3.0"
                ],
                [
                  "3",
                  "1.5",
                  "-1.0"
                ],
                [
                  "4",
                  "1.5",
                  "3.5"
                ],
                [
                  "5",
                  "1.5",
                  "3.0"
                ]
              ],
              "shape": {
                "columns": 2,
                "rows": 6
              }
            },
            "text/html": [
              "<div>\n",
              "<style scoped>\n",
              "    .dataframe tbody tr th:only-of-type {\n",
              "        vertical-align: middle;\n",
              "    }\n",
              "\n",
              "    .dataframe tbody tr th {\n",
              "        vertical-align: top;\n",
              "    }\n",
              "\n",
              "    .dataframe thead th {\n",
              "        text-align: right;\n",
              "    }\n",
              "</style>\n",
              "<table border=\"1\" class=\"dataframe\">\n",
              "  <thead>\n",
              "    <tr style=\"text-align: right;\">\n",
              "      <th></th>\n",
              "      <th>data1</th>\n",
              "      <th>data2</th>\n",
              "    </tr>\n",
              "  </thead>\n",
              "  <tbody>\n",
              "    <tr>\n",
              "      <th>0</th>\n",
              "      <td>-1.5</td>\n",
              "      <td>1.0</td>\n",
              "    </tr>\n",
              "    <tr>\n",
              "      <th>1</th>\n",
              "      <td>-1.5</td>\n",
              "      <td>-3.5</td>\n",
              "    </tr>\n",
              "    <tr>\n",
              "      <th>2</th>\n",
              "      <td>-1.5</td>\n",
              "      <td>-3.0</td>\n",
              "    </tr>\n",
              "    <tr>\n",
              "      <th>3</th>\n",
              "      <td>1.5</td>\n",
              "      <td>-1.0</td>\n",
              "    </tr>\n",
              "    <tr>\n",
              "      <th>4</th>\n",
              "      <td>1.5</td>\n",
              "      <td>3.5</td>\n",
              "    </tr>\n",
              "    <tr>\n",
              "      <th>5</th>\n",
              "      <td>1.5</td>\n",
              "      <td>3.0</td>\n",
              "    </tr>\n",
              "  </tbody>\n",
              "</table>\n",
              "</div>"
            ],
            "text/plain": [
              "   data1  data2\n",
              "0   -1.5    1.0\n",
              "1   -1.5   -3.5\n",
              "2   -1.5   -3.0\n",
              "3    1.5   -1.0\n",
              "4    1.5    3.5\n",
              "5    1.5    3.0"
            ]
          },
          "execution_count": 56,
          "metadata": {},
          "output_type": "execute_result"
        }
      ],
      "source": [
        "def center(x):\n",
        "    return x - x.mean()\n",
        "df.groupby('key').transform(center)"
      ]
    },
    {
      "cell_type": "markdown",
      "metadata": {
        "id": "rVjjNvyHoTob"
      },
      "source": [
        "#### The apply method\n",
        "\n",
        "The `apply` method lets you apply an arbitrary function to the group results.\n",
        "The function should take a `DataFrame` and returns either a Pandas object (e.g., `DataFrame`, `Series`) or a scalar; the behavior of the combine step will be tailored to the type of output returned.\n",
        "\n",
        "For example, here is an `apply` operation that normalizes the first column by the sum of the second:"
      ]
    },
    {
      "cell_type": "code",
      "execution_count": 57,
      "metadata": {
        "id": "9jgPsE15oTob",
        "jupyter": {
          "outputs_hidden": false
        },
        "outputId": "d0984a5a-8e09-4811-d685-e14c82ed2d79"
      },
      "outputs": [
        {
          "name": "stderr",
          "output_type": "stream",
          "text": [
            "C:\\Users\\escob\\AppData\\Local\\Temp\\ipykernel_8612\\2266638224.py:6: FutureWarning: DataFrameGroupBy.apply operated on the grouping columns. This behavior is deprecated, and in a future version of pandas the grouping columns will be excluded from the operation. Either pass `include_groups=False` to exclude the groupings or explicitly select the grouping columns after groupby to silence this warning.\n",
            "  df.groupby('key').apply(norm_by_data2)\n"
          ]
        },
        {
          "data": {
            "application/vnd.microsoft.datawrangler.viewer.v0+json": {
              "columns": [
                {
                  "name": "('key', None)",
                  "rawType": "object",
                  "type": "unknown"
                },
                {
                  "name": "key",
                  "rawType": "object",
                  "type": "string"
                },
                {
                  "name": "data1",
                  "rawType": "float64",
                  "type": "float"
                },
                {
                  "name": "data2",
                  "rawType": "int32",
                  "type": "integer"
                }
              ],
              "ref": "3ed00ce4-29f6-44de-8fca-ea374195c622",
              "rows": [
                [
                  "('A', np.int64(0))",
                  "A",
                  "0.0",
                  "5"
                ],
                [
                  "('A', np.int64(3))",
                  "A",
                  "0.375",
                  "3"
                ],
                [
                  "('B', np.int64(1))",
                  "B",
                  "0.14285714285714285",
                  "0"
                ],
                [
                  "('B', np.int64(4))",
                  "B",
                  "0.5714285714285714",
                  "7"
                ],
                [
                  "('C', np.int64(2))",
                  "C",
                  "0.16666666666666666",
                  "3"
                ],
                [
                  "('C', np.int64(5))",
                  "C",
                  "0.4166666666666667",
                  "9"
                ]
              ],
              "shape": {
                "columns": 3,
                "rows": 6
              }
            },
            "text/html": [
              "<div>\n",
              "<style scoped>\n",
              "    .dataframe tbody tr th:only-of-type {\n",
              "        vertical-align: middle;\n",
              "    }\n",
              "\n",
              "    .dataframe tbody tr th {\n",
              "        vertical-align: top;\n",
              "    }\n",
              "\n",
              "    .dataframe thead th {\n",
              "        text-align: right;\n",
              "    }\n",
              "</style>\n",
              "<table border=\"1\" class=\"dataframe\">\n",
              "  <thead>\n",
              "    <tr style=\"text-align: right;\">\n",
              "      <th></th>\n",
              "      <th></th>\n",
              "      <th>key</th>\n",
              "      <th>data1</th>\n",
              "      <th>data2</th>\n",
              "    </tr>\n",
              "    <tr>\n",
              "      <th>key</th>\n",
              "      <th></th>\n",
              "      <th></th>\n",
              "      <th></th>\n",
              "      <th></th>\n",
              "    </tr>\n",
              "  </thead>\n",
              "  <tbody>\n",
              "    <tr>\n",
              "      <th rowspan=\"2\" valign=\"top\">A</th>\n",
              "      <th>0</th>\n",
              "      <td>A</td>\n",
              "      <td>0.000000</td>\n",
              "      <td>5</td>\n",
              "    </tr>\n",
              "    <tr>\n",
              "      <th>3</th>\n",
              "      <td>A</td>\n",
              "      <td>0.375000</td>\n",
              "      <td>3</td>\n",
              "    </tr>\n",
              "    <tr>\n",
              "      <th rowspan=\"2\" valign=\"top\">B</th>\n",
              "      <th>1</th>\n",
              "      <td>B</td>\n",
              "      <td>0.142857</td>\n",
              "      <td>0</td>\n",
              "    </tr>\n",
              "    <tr>\n",
              "      <th>4</th>\n",
              "      <td>B</td>\n",
              "      <td>0.571429</td>\n",
              "      <td>7</td>\n",
              "    </tr>\n",
              "    <tr>\n",
              "      <th rowspan=\"2\" valign=\"top\">C</th>\n",
              "      <th>2</th>\n",
              "      <td>C</td>\n",
              "      <td>0.166667</td>\n",
              "      <td>3</td>\n",
              "    </tr>\n",
              "    <tr>\n",
              "      <th>5</th>\n",
              "      <td>C</td>\n",
              "      <td>0.416667</td>\n",
              "      <td>9</td>\n",
              "    </tr>\n",
              "  </tbody>\n",
              "</table>\n",
              "</div>"
            ],
            "text/plain": [
              "      key     data1  data2\n",
              "key                       \n",
              "A   0   A  0.000000      5\n",
              "    3   A  0.375000      3\n",
              "B   1   B  0.142857      0\n",
              "    4   B  0.571429      7\n",
              "C   2   C  0.166667      3\n",
              "    5   C  0.416667      9"
            ]
          },
          "execution_count": 57,
          "metadata": {},
          "output_type": "execute_result"
        }
      ],
      "source": [
        "def norm_by_data2(x):\n",
        "    # x is a DataFrame of group values\n",
        "    x['data1'] /= x['data2'].sum()\n",
        "    return x\n",
        "\n",
        "df.groupby('key').apply(norm_by_data2)"
      ]
    },
    {
      "cell_type": "markdown",
      "metadata": {
        "id": "aYEgLdMeoTob"
      },
      "source": [
        "`apply` within a `GroupBy` is flexible: the only criterion is that the function takes a `DataFrame` and returns a Pandas object or scalar. What you do in between is up to you!"
      ]
    },
    {
      "cell_type": "markdown",
      "metadata": {
        "id": "NBvY817coTob"
      },
      "source": [
        "### Specifying the Split Key\n",
        "\n",
        "In the simple examples presented before, we split the `DataFrame` on a single column name.\n",
        "This is just one of many options by which the groups can be defined, and we'll go through some other options for group specification here."
      ]
    },
    {
      "cell_type": "markdown",
      "metadata": {
        "id": "_CVRuL_AoTob"
      },
      "source": [
        "#### A list, array, series, or index providing the grouping keys\n",
        "\n",
        "The key can be any series or list with a length matching that of the `DataFrame`. For example:"
      ]
    },
    {
      "cell_type": "code",
      "execution_count": 58,
      "metadata": {
        "id": "L91Z4DSnoToc",
        "jupyter": {
          "outputs_hidden": false
        },
        "outputId": "93dfb191-21bc-47d3-a062-1529dbde514a"
      },
      "outputs": [
        {
          "data": {
            "application/vnd.microsoft.datawrangler.viewer.v0+json": {
              "columns": [
                {
                  "name": "index",
                  "rawType": "int64",
                  "type": "integer"
                },
                {
                  "name": "key",
                  "rawType": "object",
                  "type": "string"
                },
                {
                  "name": "data1",
                  "rawType": "int64",
                  "type": "integer"
                },
                {
                  "name": "data2",
                  "rawType": "int32",
                  "type": "integer"
                }
              ],
              "ref": "e89ceea0-7296-43ec-b288-1cfdea16868c",
              "rows": [
                [
                  "0",
                  "ACC",
                  "7",
                  "17"
                ],
                [
                  "1",
                  "BA",
                  "4",
                  "3"
                ],
                [
                  "2",
                  "B",
                  "4",
                  "7"
                ]
              ],
              "shape": {
                "columns": 3,
                "rows": 3
              }
            },
            "text/html": [
              "<div>\n",
              "<style scoped>\n",
              "    .dataframe tbody tr th:only-of-type {\n",
              "        vertical-align: middle;\n",
              "    }\n",
              "\n",
              "    .dataframe tbody tr th {\n",
              "        vertical-align: top;\n",
              "    }\n",
              "\n",
              "    .dataframe thead th {\n",
              "        text-align: right;\n",
              "    }\n",
              "</style>\n",
              "<table border=\"1\" class=\"dataframe\">\n",
              "  <thead>\n",
              "    <tr style=\"text-align: right;\">\n",
              "      <th></th>\n",
              "      <th>key</th>\n",
              "      <th>data1</th>\n",
              "      <th>data2</th>\n",
              "    </tr>\n",
              "  </thead>\n",
              "  <tbody>\n",
              "    <tr>\n",
              "      <th>0</th>\n",
              "      <td>ACC</td>\n",
              "      <td>7</td>\n",
              "      <td>17</td>\n",
              "    </tr>\n",
              "    <tr>\n",
              "      <th>1</th>\n",
              "      <td>BA</td>\n",
              "      <td>4</td>\n",
              "      <td>3</td>\n",
              "    </tr>\n",
              "    <tr>\n",
              "      <th>2</th>\n",
              "      <td>B</td>\n",
              "      <td>4</td>\n",
              "      <td>7</td>\n",
              "    </tr>\n",
              "  </tbody>\n",
              "</table>\n",
              "</div>"
            ],
            "text/plain": [
              "   key  data1  data2\n",
              "0  ACC      7     17\n",
              "1   BA      4      3\n",
              "2    B      4      7"
            ]
          },
          "execution_count": 58,
          "metadata": {},
          "output_type": "execute_result"
        }
      ],
      "source": [
        "L = [0, 1, 0, 1, 2, 0]\n",
        "df.groupby(L).sum()"
      ]
    },
    {
      "cell_type": "markdown",
      "metadata": {
        "id": "dsIBPd1UoToc"
      },
      "source": [
        "Of course, this means there's another, more verbose way of accomplishing the `df.groupby('key')` from before:"
      ]
    },
    {
      "cell_type": "code",
      "execution_count": 26,
      "metadata": {
        "id": "mPHWdM79oToc",
        "jupyter": {
          "outputs_hidden": false
        },
        "outputId": "f330653b-d159-4f96-da6e-b6d6437ac2b8"
      },
      "outputs": [
        {
          "data": {
            "application/vnd.microsoft.datawrangler.viewer.v0+json": {
              "columns": [
                {
                  "name": "key",
                  "rawType": "object",
                  "type": "string"
                },
                {
                  "name": "data1",
                  "rawType": "int64",
                  "type": "integer"
                },
                {
                  "name": "data2",
                  "rawType": "int32",
                  "type": "integer"
                }
              ],
              "ref": "80ed7000-a5f7-4e4f-9290-c0e71ccc8750",
              "rows": [
                [
                  "A",
                  "3",
                  "8"
                ],
                [
                  "B",
                  "5",
                  "7"
                ],
                [
                  "C",
                  "7",
                  "12"
                ]
              ],
              "shape": {
                "columns": 2,
                "rows": 3
              }
            },
            "text/html": [
              "<div>\n",
              "<style scoped>\n",
              "    .dataframe tbody tr th:only-of-type {\n",
              "        vertical-align: middle;\n",
              "    }\n",
              "\n",
              "    .dataframe tbody tr th {\n",
              "        vertical-align: top;\n",
              "    }\n",
              "\n",
              "    .dataframe thead th {\n",
              "        text-align: right;\n",
              "    }\n",
              "</style>\n",
              "<table border=\"1\" class=\"dataframe\">\n",
              "  <thead>\n",
              "    <tr style=\"text-align: right;\">\n",
              "      <th></th>\n",
              "      <th>data1</th>\n",
              "      <th>data2</th>\n",
              "    </tr>\n",
              "    <tr>\n",
              "      <th>key</th>\n",
              "      <th></th>\n",
              "      <th></th>\n",
              "    </tr>\n",
              "  </thead>\n",
              "  <tbody>\n",
              "    <tr>\n",
              "      <th>A</th>\n",
              "      <td>3</td>\n",
              "      <td>8</td>\n",
              "    </tr>\n",
              "    <tr>\n",
              "      <th>B</th>\n",
              "      <td>5</td>\n",
              "      <td>7</td>\n",
              "    </tr>\n",
              "    <tr>\n",
              "      <th>C</th>\n",
              "      <td>7</td>\n",
              "      <td>12</td>\n",
              "    </tr>\n",
              "  </tbody>\n",
              "</table>\n",
              "</div>"
            ],
            "text/plain": [
              "     data1  data2\n",
              "key              \n",
              "A        3      8\n",
              "B        5      7\n",
              "C        7     12"
            ]
          },
          "execution_count": 26,
          "metadata": {},
          "output_type": "execute_result"
        }
      ],
      "source": [
        "df.groupby(df['key']).sum()"
      ]
    },
    {
      "cell_type": "markdown",
      "metadata": {
        "id": "MOv0QEe4oToc"
      },
      "source": [
        "#### A dictionary or series mapping index to group\n",
        "\n",
        "Another method is to provide a dictionary that maps index values to the group keys:"
      ]
    },
    {
      "cell_type": "code",
      "execution_count": 27,
      "metadata": {
        "id": "oL2OlXhVoTod",
        "jupyter": {
          "outputs_hidden": false
        },
        "outputId": "ac942573-f15b-4a7c-f446-e7729f6e0193"
      },
      "outputs": [
        {
          "data": {
            "text/html": [
              "<div style=\"float: left; padding: 10px;\">\n",
              "    <p style='font-family:\"Courier New\", Courier, monospace'>df2</p><div>\n",
              "<style scoped>\n",
              "    .dataframe tbody tr th:only-of-type {\n",
              "        vertical-align: middle;\n",
              "    }\n",
              "\n",
              "    .dataframe tbody tr th {\n",
              "        vertical-align: top;\n",
              "    }\n",
              "\n",
              "    .dataframe thead th {\n",
              "        text-align: right;\n",
              "    }\n",
              "</style>\n",
              "<table border=\"1\" class=\"dataframe\">\n",
              "  <thead>\n",
              "    <tr style=\"text-align: right;\">\n",
              "      <th></th>\n",
              "      <th>data1</th>\n",
              "      <th>data2</th>\n",
              "    </tr>\n",
              "    <tr>\n",
              "      <th>key</th>\n",
              "      <th></th>\n",
              "      <th></th>\n",
              "    </tr>\n",
              "  </thead>\n",
              "  <tbody>\n",
              "    <tr>\n",
              "      <th>A</th>\n",
              "      <td>0</td>\n",
              "      <td>5</td>\n",
              "    </tr>\n",
              "    <tr>\n",
              "      <th>B</th>\n",
              "      <td>1</td>\n",
              "      <td>0</td>\n",
              "    </tr>\n",
              "    <tr>\n",
              "      <th>C</th>\n",
              "      <td>2</td>\n",
              "      <td>3</td>\n",
              "    </tr>\n",
              "    <tr>\n",
              "      <th>A</th>\n",
              "      <td>3</td>\n",
              "      <td>3</td>\n",
              "    </tr>\n",
              "    <tr>\n",
              "      <th>B</th>\n",
              "      <td>4</td>\n",
              "      <td>7</td>\n",
              "    </tr>\n",
              "    <tr>\n",
              "      <th>C</th>\n",
              "      <td>5</td>\n",
              "      <td>9</td>\n",
              "    </tr>\n",
              "  </tbody>\n",
              "</table>\n",
              "</div>\n",
              "    </div>\n",
              "<div style=\"float: left; padding: 10px;\">\n",
              "    <p style='font-family:\"Courier New\", Courier, monospace'>df2.groupby(mapping).sum()</p><div>\n",
              "<style scoped>\n",
              "    .dataframe tbody tr th:only-of-type {\n",
              "        vertical-align: middle;\n",
              "    }\n",
              "\n",
              "    .dataframe tbody tr th {\n",
              "        vertical-align: top;\n",
              "    }\n",
              "\n",
              "    .dataframe thead th {\n",
              "        text-align: right;\n",
              "    }\n",
              "</style>\n",
              "<table border=\"1\" class=\"dataframe\">\n",
              "  <thead>\n",
              "    <tr style=\"text-align: right;\">\n",
              "      <th></th>\n",
              "      <th>data1</th>\n",
              "      <th>data2</th>\n",
              "    </tr>\n",
              "    <tr>\n",
              "      <th>key</th>\n",
              "      <th></th>\n",
              "      <th></th>\n",
              "    </tr>\n",
              "  </thead>\n",
              "  <tbody>\n",
              "    <tr>\n",
              "      <th>consonant</th>\n",
              "      <td>12</td>\n",
              "      <td>19</td>\n",
              "    </tr>\n",
              "    <tr>\n",
              "      <th>vowel</th>\n",
              "      <td>3</td>\n",
              "      <td>8</td>\n",
              "    </tr>\n",
              "  </tbody>\n",
              "</table>\n",
              "</div>\n",
              "    </div>"
            ],
            "text/plain": [
              "df2\n",
              "     data1  data2\n",
              "key              \n",
              "A        0      5\n",
              "B        1      0\n",
              "C        2      3\n",
              "A        3      3\n",
              "B        4      7\n",
              "C        5      9\n",
              "\n",
              "df2.groupby(mapping).sum()\n",
              "           data1  data2\n",
              "key                    \n",
              "consonant     12     19\n",
              "vowel          3      8"
            ]
          },
          "execution_count": 27,
          "metadata": {},
          "output_type": "execute_result"
        }
      ],
      "source": [
        "df2 = df.set_index('key')\n",
        "mapping = {'A': 'vowel', 'B': 'consonant', 'C': 'consonant'}\n",
        "display('df2', 'df2.groupby(mapping).sum()')"
      ]
    },
    {
      "cell_type": "markdown",
      "metadata": {
        "id": "07vE8pN0oTod"
      },
      "source": [
        "#### Any Python function\n",
        "\n",
        "Similar to mapping, you can pass any Python function that will input the index value and output the group:"
      ]
    },
    {
      "cell_type": "code",
      "execution_count": 28,
      "metadata": {
        "id": "EkHHPISyoTod",
        "jupyter": {
          "outputs_hidden": false
        },
        "outputId": "9930fbaa-0b44-4a7d-c8fd-a30e7285c486"
      },
      "outputs": [
        {
          "data": {
            "application/vnd.microsoft.datawrangler.viewer.v0+json": {
              "columns": [
                {
                  "name": "key",
                  "rawType": "object",
                  "type": "string"
                },
                {
                  "name": "data1",
                  "rawType": "float64",
                  "type": "float"
                },
                {
                  "name": "data2",
                  "rawType": "float64",
                  "type": "float"
                }
              ],
              "ref": "30528860-1330-46fb-a52e-06896a114fcd",
              "rows": [
                [
                  "a",
                  "1.5",
                  "4.0"
                ],
                [
                  "b",
                  "2.5",
                  "3.5"
                ],
                [
                  "c",
                  "3.5",
                  "6.0"
                ]
              ],
              "shape": {
                "columns": 2,
                "rows": 3
              }
            },
            "text/html": [
              "<div>\n",
              "<style scoped>\n",
              "    .dataframe tbody tr th:only-of-type {\n",
              "        vertical-align: middle;\n",
              "    }\n",
              "\n",
              "    .dataframe tbody tr th {\n",
              "        vertical-align: top;\n",
              "    }\n",
              "\n",
              "    .dataframe thead th {\n",
              "        text-align: right;\n",
              "    }\n",
              "</style>\n",
              "<table border=\"1\" class=\"dataframe\">\n",
              "  <thead>\n",
              "    <tr style=\"text-align: right;\">\n",
              "      <th></th>\n",
              "      <th>data1</th>\n",
              "      <th>data2</th>\n",
              "    </tr>\n",
              "    <tr>\n",
              "      <th>key</th>\n",
              "      <th></th>\n",
              "      <th></th>\n",
              "    </tr>\n",
              "  </thead>\n",
              "  <tbody>\n",
              "    <tr>\n",
              "      <th>a</th>\n",
              "      <td>1.5</td>\n",
              "      <td>4.0</td>\n",
              "    </tr>\n",
              "    <tr>\n",
              "      <th>b</th>\n",
              "      <td>2.5</td>\n",
              "      <td>3.5</td>\n",
              "    </tr>\n",
              "    <tr>\n",
              "      <th>c</th>\n",
              "      <td>3.5</td>\n",
              "      <td>6.0</td>\n",
              "    </tr>\n",
              "  </tbody>\n",
              "</table>\n",
              "</div>"
            ],
            "text/plain": [
              "     data1  data2\n",
              "key              \n",
              "a      1.5    4.0\n",
              "b      2.5    3.5\n",
              "c      3.5    6.0"
            ]
          },
          "execution_count": 28,
          "metadata": {},
          "output_type": "execute_result"
        }
      ],
      "source": [
        "df2.groupby(str.lower).mean()"
      ]
    },
    {
      "cell_type": "markdown",
      "metadata": {
        "id": "JoO_5LUSoTod"
      },
      "source": [
        "#### A list of valid keys\n",
        "\n",
        "Further, any of the preceding key choices can be combined to group on a multi-index:"
      ]
    },
    {
      "cell_type": "code",
      "execution_count": 29,
      "metadata": {
        "id": "e_exsXKeoToe",
        "jupyter": {
          "outputs_hidden": false
        },
        "outputId": "9deac59c-b842-4dc0-a091-98d300148164"
      },
      "outputs": [
        {
          "data": {
            "application/vnd.microsoft.datawrangler.viewer.v0+json": {
              "columns": [
                {
                  "name": "('key', 'key')",
                  "rawType": "object",
                  "type": "unknown"
                },
                {
                  "name": "data1",
                  "rawType": "float64",
                  "type": "float"
                },
                {
                  "name": "data2",
                  "rawType": "float64",
                  "type": "float"
                }
              ],
              "ref": "bfb1fd3f-a7bf-4906-87d9-5bac210af319",
              "rows": [
                [
                  "('a', 'vowel')",
                  "1.5",
                  "4.0"
                ],
                [
                  "('b', 'consonant')",
                  "2.5",
                  "3.5"
                ],
                [
                  "('c', 'consonant')",
                  "3.5",
                  "6.0"
                ]
              ],
              "shape": {
                "columns": 2,
                "rows": 3
              }
            },
            "text/html": [
              "<div>\n",
              "<style scoped>\n",
              "    .dataframe tbody tr th:only-of-type {\n",
              "        vertical-align: middle;\n",
              "    }\n",
              "\n",
              "    .dataframe tbody tr th {\n",
              "        vertical-align: top;\n",
              "    }\n",
              "\n",
              "    .dataframe thead th {\n",
              "        text-align: right;\n",
              "    }\n",
              "</style>\n",
              "<table border=\"1\" class=\"dataframe\">\n",
              "  <thead>\n",
              "    <tr style=\"text-align: right;\">\n",
              "      <th></th>\n",
              "      <th></th>\n",
              "      <th>data1</th>\n",
              "      <th>data2</th>\n",
              "    </tr>\n",
              "    <tr>\n",
              "      <th>key</th>\n",
              "      <th>key</th>\n",
              "      <th></th>\n",
              "      <th></th>\n",
              "    </tr>\n",
              "  </thead>\n",
              "  <tbody>\n",
              "    <tr>\n",
              "      <th>a</th>\n",
              "      <th>vowel</th>\n",
              "      <td>1.5</td>\n",
              "      <td>4.0</td>\n",
              "    </tr>\n",
              "    <tr>\n",
              "      <th>b</th>\n",
              "      <th>consonant</th>\n",
              "      <td>2.5</td>\n",
              "      <td>3.5</td>\n",
              "    </tr>\n",
              "    <tr>\n",
              "      <th>c</th>\n",
              "      <th>consonant</th>\n",
              "      <td>3.5</td>\n",
              "      <td>6.0</td>\n",
              "    </tr>\n",
              "  </tbody>\n",
              "</table>\n",
              "</div>"
            ],
            "text/plain": [
              "               data1  data2\n",
              "key key                    \n",
              "a   vowel        1.5    4.0\n",
              "b   consonant    2.5    3.5\n",
              "c   consonant    3.5    6.0"
            ]
          },
          "execution_count": 29,
          "metadata": {},
          "output_type": "execute_result"
        }
      ],
      "source": [
        "df2.groupby([str.lower, mapping]).mean()"
      ]
    },
    {
      "cell_type": "markdown",
      "metadata": {
        "id": "ZUKosK38oToe"
      },
      "source": [
        "### Grouping Example\n",
        "\n",
        "As an example of this, in a few lines of Python code we can put all these together and count discovered planets by method and by decade:"
      ]
    },
    {
      "cell_type": "code",
      "execution_count": 30,
      "metadata": {
        "id": "aOJjdVewoTof",
        "jupyter": {
          "outputs_hidden": false
        },
        "outputId": "cce7c745-248c-4716-e595-9839fee66cea"
      },
      "outputs": [
        {
          "data": {
            "application/vnd.microsoft.datawrangler.viewer.v0+json": {
              "columns": [
                {
                  "name": "method",
                  "rawType": "object",
                  "type": "string"
                },
                {
                  "name": "1980s",
                  "rawType": "float64",
                  "type": "float"
                },
                {
                  "name": "1990s",
                  "rawType": "float64",
                  "type": "float"
                },
                {
                  "name": "2000s",
                  "rawType": "float64",
                  "type": "float"
                },
                {
                  "name": "2010s",
                  "rawType": "float64",
                  "type": "float"
                }
              ],
              "ref": "9f57b41c-5926-4301-9a22-5e5147dec29a",
              "rows": [
                [
                  "Astrometry",
                  "0.0",
                  "0.0",
                  "0.0",
                  "2.0"
                ],
                [
                  "Eclipse Timing Variations",
                  "0.0",
                  "0.0",
                  "5.0",
                  "10.0"
                ],
                [
                  "Imaging",
                  "0.0",
                  "0.0",
                  "29.0",
                  "21.0"
                ],
                [
                  "Microlensing",
                  "0.0",
                  "0.0",
                  "12.0",
                  "15.0"
                ],
                [
                  "Orbital Brightness Modulation",
                  "0.0",
                  "0.0",
                  "0.0",
                  "5.0"
                ],
                [
                  "Pulsar Timing",
                  "0.0",
                  "9.0",
                  "1.0",
                  "1.0"
                ],
                [
                  "Pulsation Timing Variations",
                  "0.0",
                  "0.0",
                  "1.0",
                  "0.0"
                ],
                [
                  "Radial Velocity",
                  "1.0",
                  "52.0",
                  "475.0",
                  "424.0"
                ],
                [
                  "Transit",
                  "0.0",
                  "0.0",
                  "64.0",
                  "712.0"
                ],
                [
                  "Transit Timing Variations",
                  "0.0",
                  "0.0",
                  "0.0",
                  "9.0"
                ]
              ],
              "shape": {
                "columns": 4,
                "rows": 10
              }
            },
            "text/html": [
              "<div>\n",
              "<style scoped>\n",
              "    .dataframe tbody tr th:only-of-type {\n",
              "        vertical-align: middle;\n",
              "    }\n",
              "\n",
              "    .dataframe tbody tr th {\n",
              "        vertical-align: top;\n",
              "    }\n",
              "\n",
              "    .dataframe thead th {\n",
              "        text-align: right;\n",
              "    }\n",
              "</style>\n",
              "<table border=\"1\" class=\"dataframe\">\n",
              "  <thead>\n",
              "    <tr style=\"text-align: right;\">\n",
              "      <th>decade</th>\n",
              "      <th>1980s</th>\n",
              "      <th>1990s</th>\n",
              "      <th>2000s</th>\n",
              "      <th>2010s</th>\n",
              "    </tr>\n",
              "    <tr>\n",
              "      <th>method</th>\n",
              "      <th></th>\n",
              "      <th></th>\n",
              "      <th></th>\n",
              "      <th></th>\n",
              "    </tr>\n",
              "  </thead>\n",
              "  <tbody>\n",
              "    <tr>\n",
              "      <th>Astrometry</th>\n",
              "      <td>0.0</td>\n",
              "      <td>0.0</td>\n",
              "      <td>0.0</td>\n",
              "      <td>2.0</td>\n",
              "    </tr>\n",
              "    <tr>\n",
              "      <th>Eclipse Timing Variations</th>\n",
              "      <td>0.0</td>\n",
              "      <td>0.0</td>\n",
              "      <td>5.0</td>\n",
              "      <td>10.0</td>\n",
              "    </tr>\n",
              "    <tr>\n",
              "      <th>Imaging</th>\n",
              "      <td>0.0</td>\n",
              "      <td>0.0</td>\n",
              "      <td>29.0</td>\n",
              "      <td>21.0</td>\n",
              "    </tr>\n",
              "    <tr>\n",
              "      <th>Microlensing</th>\n",
              "      <td>0.0</td>\n",
              "      <td>0.0</td>\n",
              "      <td>12.0</td>\n",
              "      <td>15.0</td>\n",
              "    </tr>\n",
              "    <tr>\n",
              "      <th>Orbital Brightness Modulation</th>\n",
              "      <td>0.0</td>\n",
              "      <td>0.0</td>\n",
              "      <td>0.0</td>\n",
              "      <td>5.0</td>\n",
              "    </tr>\n",
              "    <tr>\n",
              "      <th>Pulsar Timing</th>\n",
              "      <td>0.0</td>\n",
              "      <td>9.0</td>\n",
              "      <td>1.0</td>\n",
              "      <td>1.0</td>\n",
              "    </tr>\n",
              "    <tr>\n",
              "      <th>Pulsation Timing Variations</th>\n",
              "      <td>0.0</td>\n",
              "      <td>0.0</td>\n",
              "      <td>1.0</td>\n",
              "      <td>0.0</td>\n",
              "    </tr>\n",
              "    <tr>\n",
              "      <th>Radial Velocity</th>\n",
              "      <td>1.0</td>\n",
              "      <td>52.0</td>\n",
              "      <td>475.0</td>\n",
              "      <td>424.0</td>\n",
              "    </tr>\n",
              "    <tr>\n",
              "      <th>Transit</th>\n",
              "      <td>0.0</td>\n",
              "      <td>0.0</td>\n",
              "      <td>64.0</td>\n",
              "      <td>712.0</td>\n",
              "    </tr>\n",
              "    <tr>\n",
              "      <th>Transit Timing Variations</th>\n",
              "      <td>0.0</td>\n",
              "      <td>0.0</td>\n",
              "      <td>0.0</td>\n",
              "      <td>9.0</td>\n",
              "    </tr>\n",
              "  </tbody>\n",
              "</table>\n",
              "</div>"
            ],
            "text/plain": [
              "decade                         1980s  1990s  2000s  2010s\n",
              "method                                                   \n",
              "Astrometry                       0.0    0.0    0.0    2.0\n",
              "Eclipse Timing Variations        0.0    0.0    5.0   10.0\n",
              "Imaging                          0.0    0.0   29.0   21.0\n",
              "Microlensing                     0.0    0.0   12.0   15.0\n",
              "Orbital Brightness Modulation    0.0    0.0    0.0    5.0\n",
              "Pulsar Timing                    0.0    9.0    1.0    1.0\n",
              "Pulsation Timing Variations      0.0    0.0    1.0    0.0\n",
              "Radial Velocity                  1.0   52.0  475.0  424.0\n",
              "Transit                          0.0    0.0   64.0  712.0\n",
              "Transit Timing Variations        0.0    0.0    0.0    9.0"
            ]
          },
          "execution_count": 30,
          "metadata": {},
          "output_type": "execute_result"
        }
      ],
      "source": [
        "decade = 10 * (planets['year'] // 10)\n",
        "decade = decade.astype(str) + 's'\n",
        "decade.name = 'decade'\n",
        "planets.groupby(['method', decade])['number'].sum().unstack().fillna(0)"
      ]
    },
    {
      "cell_type": "markdown",
      "metadata": {
        "id": "RbvtCadyoTof"
      },
      "source": [
        "This shows the power of combining many of the operations we've discussed up to this point when looking at realistic datasets: we quickly gain a coarse understanding of when and how extrasolar planets were detected in the years after the first discovery.\n",
        "\n",
        "I would suggest digging into these few lines of code and evaluating the individual steps to make sure you understand exactly what they are doing to the result.\n",
        "It's certainly a somewhat complicated example, but understanding these pieces will give you the means to similarly explore your own data."
      ]
    }
  ],
  "metadata": {
    "anaconda-cloud": {},
    "colab": {
      "provenance": []
    },
    "jupytext": {
      "formats": "ipynb,md"
    },
    "kernelspec": {
      "display_name": "venvfund",
      "language": "python",
      "name": "python3"
    },
    "language_info": {
      "codemirror_mode": {
        "name": "ipython",
        "version": 3
      },
      "file_extension": ".py",
      "mimetype": "text/x-python",
      "name": "python",
      "nbconvert_exporter": "python",
      "pygments_lexer": "ipython3",
      "version": "3.11.9"
    }
  },
  "nbformat": 4,
  "nbformat_minor": 0
}
