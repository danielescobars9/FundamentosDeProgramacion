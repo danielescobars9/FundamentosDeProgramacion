{
 "cells": [
  {
   "cell_type": "markdown",
   "metadata": {},
   "source": [
    "# Ciclos y control de flujo\n",
    "\n",
    "## Ciclos\n",
    "\n",
    "Se usan para ejecutar acciones repetidas con posibles criterios para detener las ejecuciones. Por ejemplo:\n",
    "\n",
    "- Manejar el carro a 60 kilometros por hora *mientras* los semáforos estén en verde.\n",
    "- Estudiar *hasta* que triunfe.\n",
    "- Contar *cada*  moneda en la alcancía hasta que termine.\n",
    "- Esforzarte *por siempre*.\n",
    "\n",
    "## Control de flujo\n",
    "\n",
    "Es lo que determina las condiciones para ejecutar un procedimiento, para dejar de ejecutarlo o para alertar sobre un error que impide la ejecución de un procedimiento. Por ejemplo:\n",
    "\n",
    "- podemos *ejecutar un procedimiento* llamado `party` solo si cada estudiante aprueba el 80% del curso.\n",
    "- si hay `pandemia` no podemos ejecutar el procedimiento `dia_sin_iva`.\n",
    "- si *no* voto políticos corruptos, no se roban mis impuestos.\n",
    "\n",
    "Es bastante difícil construir ejemplos de código sin mezclar las dos cosas, por lo que los siguientes ejemplos mostrarán ambos. Nos ayudaremos del *módulo* `random` de la *librería estándar* y de algunas de sus *funciones*, pero hablaremos de eso más adelante. \n",
    "\n",
    "\n",
    "---"
   ]
  },
  {
   "cell_type": "code",
   "execution_count": 1,
   "metadata": {},
   "outputs": [],
   "source": [
    "import random"
   ]
  },
  {
   "cell_type": "code",
   "execution_count": 6,
   "metadata": {},
   "outputs": [],
   "source": [
    "estudiantes_izquierda_1 = [\"camila\", \"kimberly\", \"daissy\", \"alejandro\"]\n",
    "estudiantes_izquierda_2 = [\"sebastian\", \"johnatan\", \"angel\", \"melisa\", \"alejandro\", \"pablo\", \"andrea\"]\n",
    "estudiantes_izquierda_3 = [\"brain\", \"ronald\", \"santiago\", \"daniel\", \"paola\", \"dayanna\"]\n",
    "estudiantes_izquierda_4 = [\"isaac\", \"arnold\", \" andres\", \"manuel\", \"camilo\", \"johan\"]\n",
    "estudiantes_izquierda = [estudiantes_izquierda_1, estudiantes_izquierda_2, estudiantes_izquierda_3, estudiantes_izquierda_4]\n"
   ]
  },
  {
   "cell_type": "code",
   "execution_count": 8,
   "metadata": {},
   "outputs": [],
   "source": [
    "estudiantes_derecha_1 = [\"juan pablo\", \"juan pablo\", \"valentina\", \"ivan\", \"juan\"]\n",
    "estudiantes_derecha_2 = [\"estefania\", \"daniel\", \"alfonso\", \"juan pablo\", \"juan pablo\", \"josue\"]\n",
    "estudiantes_derecha_3 = [\"daniel\"]"
   ]
  },
  {
   "cell_type": "markdown",
   "metadata": {},
   "source": [
    "---"
   ]
  },
  {
   "cell_type": "code",
   "execution_count": null,
   "metadata": {},
   "outputs": [
    {
     "name": "stdout",
     "output_type": "stream",
     "text": [
      "Hay un empate con 300 votos\n"
     ]
    }
   ],
   "source": [
    "votos_por_corruptos = 300\n",
    "votos_por_honestos = 300\n",
    "\n",
    "if votos_por_corruptos > votos_por_honestos:\n",
    "    print(\"Se les van a robar los impuestos\")\n",
    "elif votos_por_corruptos == votos_por_honestos:\n",
    "    if votos_por_honestos == 300:\n",
    "        print(f\"Hay un empate con {votos_por_honestos} votos\")\n",
    "else:\n",
    "    print(\"No se les van a robar los impuestos\")\n"
   ]
  },
  {
   "cell_type": "markdown",
   "metadata": {},
   "source": [
    "---"
   ]
  },
  {
   "cell_type": "code",
   "execution_count": 17,
   "metadata": {},
   "outputs": [
    {
     "name": "stdout",
     "output_type": "stream",
     "text": [
      "running at 60 km/h because traffic light is green\n",
      "not running because traffic light is red\n"
     ]
    }
   ],
   "source": [
    "speed = 60\n",
    "traffic_lights = [\"red\", \"green\", \"yellow\"]\n",
    "current_traffic_light = \"green\"\n",
    "while current_traffic_light == \"green\":\n",
    "    print(f\"running at {speed} km/h because traffic light is green\")\n",
    "    current_traffic_light = random.sample(traffic_lights, k=1)[0]\n",
    "print(f\"not running because traffic light is {current_traffic_light}\")"
   ]
  },
  {
   "cell_type": "markdown",
   "metadata": {},
   "source": [
    "---"
   ]
  },
  {
   "cell_type": "code",
   "execution_count": null,
   "metadata": {},
   "outputs": [],
   "source": [
    "money_box = [50, 50, 200, 500, 200, 100, 100, 1000, 500]\n",
    "total_savings = 0\n",
    "for coin in money_box:\n",
    "    total_savings += coin\n",
    "total_savings"
   ]
  },
  {
   "cell_type": "markdown",
   "metadata": {},
   "source": [
    "---"
   ]
  },
  {
   "cell_type": "code",
   "execution_count": null,
   "metadata": {},
   "outputs": [],
   "source": [
    "years = [22, 24, 65, 49, 33, 28]\n",
    "sum_of_years = 0\n",
    "for y in years:\n",
    "    sum_of_years = sum_of_years + y\n",
    "average_years = sum_of_years / len(years)\n",
    "average_years"
   ]
  },
  {
   "cell_type": "markdown",
   "metadata": {},
   "source": [
    "---"
   ]
  },
  {
   "cell_type": "code",
   "execution_count": null,
   "metadata": {},
   "outputs": [],
   "source": [
    "numbers = [1, 2, 3, 4, 5]\n",
    "print(f\"All numbers: {numbers}\")\n",
    "sum_of_pairs = 0\n",
    "for n in numbers:\n",
    "    if n % 2 == 0:\n",
    "        sum_of_pairs += n\n",
    "sum_of_pairs"
   ]
  },
  {
   "cell_type": "markdown",
   "metadata": {},
   "source": [
    "---"
   ]
  },
  {
   "cell_type": "code",
   "execution_count": null,
   "metadata": {},
   "outputs": [],
   "source": [
    "party = True\n",
    "students_grade = [0.7, 0.8, 0.9, 1.0, 0.85]\n",
    "for g in students_grade:\n",
    "    if g < 0.8:\n",
    "        party = False\n",
    "party"
   ]
  },
  {
   "cell_type": "markdown",
   "metadata": {},
   "source": [
    "---"
   ]
  },
  {
   "cell_type": "code",
   "execution_count": null,
   "metadata": {},
   "outputs": [],
   "source": [
    "effort = None\n",
    "wants_to_pass_the_course = True\n",
    "if effort is None and wants_to_pass_the_course:\n",
    "    raise RuntimeError(\"there is not way you can pass the course without effort\")\n",
    "print(\"you can pass!\")"
   ]
  },
  {
   "cell_type": "code",
   "execution_count": null,
   "metadata": {},
   "outputs": [],
   "source": [
    "effort = 100\n",
    "wants_to_pass_the_course = True\n",
    "if effort is None and wants_to_pass_the_course:\n",
    "    raise RuntimeError(\"there is not way you can pass the course without effort\")\n",
    "print(\"you can pass!\")"
   ]
  },
  {
   "cell_type": "markdown",
   "metadata": {},
   "source": [
    "---"
   ]
  },
  {
   "cell_type": "markdown",
   "metadata": {},
   "source": [
    "Todo esto puede suceder en múltiples niveles de jerarquías, no solo una como se muestra arriba."
   ]
  },
  {
   "cell_type": "code",
   "execution_count": null,
   "metadata": {},
   "outputs": [],
   "source": [
    "bases = [1, 2, 3, 4]\n",
    "powers = [2, 3, 4, 5]\n",
    "results = {}\n",
    "for b in bases:\n",
    "    results_for_current_base = []\n",
    "    for p in powers:\n",
    "        results_for_current_base.append(b**p)\n",
    "    results[b] = results_for_current_base\n",
    "results"
   ]
  },
  {
   "cell_type": "markdown",
   "metadata": {},
   "source": [
    "---\n",
    "Muchas estructuras de datos disponibles en python (y sus librerías) pueden iterarse"
   ]
  },
  {
   "cell_type": "code",
   "execution_count": null,
   "metadata": {},
   "outputs": [],
   "source": [
    "grades = {\"Santiago\": 3.3, \"Julian\": 3.4, \"Danilo\": 4.1}\n",
    "for name, g in grades.items():\n",
    "    print(f\"{name}: {g}\")"
   ]
  },
  {
   "cell_type": "markdown",
   "metadata": {},
   "source": [
    "---\n",
    "Finalmente, hay una forma de trabajar con ciclos y control de flujo para cosas sencillas de una forma más eficiente en términos de lineas de código y tiempo de ejecución:"
   ]
  },
  {
   "cell_type": "code",
   "execution_count": null,
   "metadata": {},
   "outputs": [],
   "source": [
    "numbers = [1,2,3,4,5,6,7,8,9,10]\n",
    "is_even = [(n % 2) == 0 for n in numbers]\n",
    "even_numbers = [n for n in numbers if (n % 2) == 0]\n",
    "new_numbers = [n*2 if (n % 2) != 0 else n / 2 for n in numbers]\n",
    "numbers, is_even, even_numbers, new_numbers"
   ]
  },
  {
   "cell_type": "code",
   "execution_count": null,
   "metadata": {},
   "outputs": [],
   "source": []
  }
 ],
 "metadata": {
  "kernelspec": {
   "display_name": "Python 3",
   "language": "python",
   "name": "python3"
  },
  "language_info": {
   "codemirror_mode": {
    "name": "ipython",
    "version": 3
   },
   "file_extension": ".py",
   "mimetype": "text/x-python",
   "name": "python",
   "nbconvert_exporter": "python",
   "pygments_lexer": "ipython3",
   "version": "3.11.9"
  }
 },
 "nbformat": 4,
 "nbformat_minor": 2
}
