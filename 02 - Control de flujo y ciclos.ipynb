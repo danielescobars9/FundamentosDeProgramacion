{
 "cells": [
  {
   "cell_type": "markdown",
   "metadata": {},
   "source": [
    "# Ciclos y control de flujo\n",
    "\n",
    "## Ciclos\n",
    "\n",
    "Se usan para ejecutar acciones repetidas con posibles criterios para detener las ejecuciones. Por ejemplo:\n",
    "\n",
    "- Manejar el carro a 60 kilometros por hora *mientras* los semáforos estén en verde.\n",
    "- Estudiar *hasta* que triunfe.\n",
    "- Contar *cada*  moneda en la alcancía hasta que termine.\n",
    "- Esforzarte *por siempre*.\n",
    "\n",
    "## Control de flujo\n",
    "\n",
    "Es lo que determina las condiciones para ejecutar un procedimiento, para dejar de ejecutarlo o para alertar sobre un error que impide la ejecución de un procedimiento. Por ejemplo:\n",
    "\n",
    "- podemos *ejecutar un procedimiento* llamado `party` solo si cada estudiante aprueba el 80% del curso.\n",
    "- si hay `pandemia` no podemos ejecutar el procedimiento `dia_sin_iva`.\n",
    "- si *no* voto políticos corruptos, no se roban mis impuestos.\n",
    "\n",
    "Es bastante difícil construir ejemplos de código sin mezclar las dos cosas, por lo que los siguientes ejemplos mostrarán ambos. Nos ayudaremos del *módulo* `random` de la *librería estándar* y de algunas de sus *funciones*, pero hablaremos de eso más adelante. \n",
    "\n",
    "\n",
    "---"
   ]
  },
  {
   "cell_type": "code",
   "execution_count": 1,
   "metadata": {},
   "outputs": [],
   "source": [
    "import random"
   ]
  },
  {
   "cell_type": "code",
   "execution_count": 2,
   "metadata": {},
   "outputs": [],
   "source": [
    "estudiantes_izquierda_1 = [\"camila\", \"kimberly\", \"daissy\", \"alejandro\"]\n",
    "estudiantes_izquierda_2 = [\"sebastian\", \"johnatan\", \"angel\", \"melisa\", \"alejandro\", \"pablo\", \"andrea\"]\n",
    "estudiantes_izquierda_3 = [\"brain\", \"ronald\", \"santiago\", \"daniel\", \"paola\", \"dayanna\"]\n",
    "estudiantes_izquierda_4 = [\"isaac\", \"arnold\", \" andres\", \"manuel\", \"camilo\", \"johan\"]\n",
    "estudiantes_izquierda = [estudiantes_izquierda_1, estudiantes_izquierda_2, estudiantes_izquierda_3, estudiantes_izquierda_4]\n"
   ]
  },
  {
   "cell_type": "code",
   "execution_count": null,
   "metadata": {},
   "outputs": [],
   "source": [
    "estudiantes_derecha_1 = [\"juan pablo\", \"juan pablo\", \"valentina\", \"ivan\", \"juan jose\"]\n",
    "estudiantes_derecha_2 = [\"estefania\", \"daniel\", \"alfonso\", \"juan pablo\", \"juan pablo\", \"josue\"]\n",
    "estudiantes_derecha_3 = [\"daniel\"]\n",
    "estudiantes_derecha = [estudiantes_derecha_1, estudiantes_derecha_2, estudiantes_derecha_3]"
   ]
  },
  {
   "cell_type": "markdown",
   "metadata": {},
   "source": [
    "---"
   ]
  },
  {
   "cell_type": "code",
   "execution_count": 4,
   "metadata": {},
   "outputs": [
    {
     "name": "stdout",
     "output_type": "stream",
     "text": [
      "Hay un empate con 300 votos\n"
     ]
    }
   ],
   "source": [
    "votos_por_corruptos = 300\n",
    "votos_por_honestos = 300\n",
    "\n",
    "if votos_por_corruptos > votos_por_honestos:\n",
    "    print(\"Se les van a robar los impuestos\")\n",
    "elif votos_por_corruptos == votos_por_honestos:\n",
    "    if votos_por_honestos == 300:\n",
    "        print(f\"Hay un empate con {votos_por_honestos} votos\")\n",
    "else:\n",
    "    print(\"No se les van a robar los impuestos\")\n"
   ]
  },
  {
   "cell_type": "markdown",
   "metadata": {},
   "source": [
    "---"
   ]
  },
  {
   "cell_type": "code",
   "execution_count": 15,
   "metadata": {},
   "outputs": [
    {
     "name": "stdout",
     "output_type": "stream",
     "text": [
      "running at 60 km/h because traffic light is green\n",
      "not running because traffic light is yellow\n"
     ]
    }
   ],
   "source": [
    "speed = 60\n",
    "traffic_lights = [\"red\", \"green\", \"yellow\"]\n",
    "current_traffic_light = \"green\"\n",
    "while current_traffic_light == \"green\":\n",
    "    print(f\"running at {speed} km/h because traffic light is green\")\n",
    "    current_traffic_light = random.sample(traffic_lights, k=1)[0]\n",
    "print(f\"not running because traffic light is {current_traffic_light}\")"
   ]
  },
  {
   "cell_type": "markdown",
   "metadata": {},
   "source": [
    "---"
   ]
  },
  {
   "cell_type": "code",
   "execution_count": 28,
   "metadata": {},
   "outputs": [
    {
     "name": "stdout",
     "output_type": "stream",
     "text": [
      "hola juan pablo de la derecha\n",
      "hola valentina de la derecha\n"
     ]
    }
   ],
   "source": [
    "numero_saludos = 0\n",
    "estudiante = random.sample(estudiantes_izquierda_1, 1)\n",
    "while estudiante[0] != \"valentina\":\n",
    "    numero_saludos += 1\n",
    "    estudiante = random.sample(estudiantes_derecha_1, 1)\n",
    "    print(f\"hola {estudiante[0]} de la derecha\")\n",
    "    if numero_saludos == 5:\n",
    "        print(\"Ya saludé a todos los de la derecha\")\n",
    "        break"
   ]
  },
  {
   "cell_type": "code",
   "execution_count": null,
   "metadata": {},
   "outputs": [
    {
     "data": {
      "text/plain": [
       "2700"
      ]
     },
     "execution_count": 29,
     "metadata": {},
     "output_type": "execute_result"
    }
   ],
   "source": [
    "money_box = [50, 50, 200, 500, 200, 100, 100, 1000, 500]\n",
    "total_savings = 0\n",
    "for coin in money_box:\n",
    "    total_savings += coin\n",
    "total_savings"
   ]
  },
  {
   "cell_type": "markdown",
   "metadata": {},
   "source": [
    "---"
   ]
  },
  {
   "cell_type": "code",
   "execution_count": 30,
   "metadata": {},
   "outputs": [
    {
     "data": {
      "text/plain": [
       "36.833333333333336"
      ]
     },
     "execution_count": 30,
     "metadata": {},
     "output_type": "execute_result"
    }
   ],
   "source": [
    "years = [22, 24, 65, 49, 33, 28]\n",
    "sum_of_years = 0\n",
    "for y in years:\n",
    "    sum_of_years = sum_of_years + y\n",
    "average_years = sum_of_years / len(years)\n",
    "average_years"
   ]
  },
  {
   "cell_type": "markdown",
   "metadata": {},
   "source": [
    "---"
   ]
  },
  {
   "cell_type": "code",
   "execution_count": 34,
   "metadata": {},
   "outputs": [
    {
     "name": "stdout",
     "output_type": "stream",
     "text": [
      "All numbers: [1, 2, 3, 4, 5]\n"
     ]
    },
    {
     "data": {
      "text/plain": [
       "6"
      ]
     },
     "execution_count": 34,
     "metadata": {},
     "output_type": "execute_result"
    }
   ],
   "source": [
    "numbers = [1, 2, 3, 4, 5]\n",
    "print(f\"All numbers: {numbers}\")\n",
    "sum_of_evens = 0\n",
    "for n in numbers:\n",
    "    if n % 2 == 0:\n",
    "        sum_of_evens += n\n",
    "sum_of_evens"
   ]
  },
  {
   "cell_type": "markdown",
   "metadata": {},
   "source": [
    "---"
   ]
  },
  {
   "cell_type": "code",
   "execution_count": 43,
   "metadata": {},
   "outputs": [
    {
     "name": "stdout",
     "output_type": "stream",
     "text": [
      "Student grade: 0.7\n",
      "Student grade: 0.8\n",
      "Student grade: 0.9\n",
      "Student grade: 1.0\n",
      "Student grade: 0.85\n",
      "Student grade: 0.6\n"
     ]
    },
    {
     "data": {
      "text/plain": [
       "[False, False, True, True, True, False]"
      ]
     },
     "execution_count": 43,
     "metadata": {},
     "output_type": "execute_result"
    }
   ],
   "source": [
    "party = True\n",
    "good_grade = 0.8\n",
    "students_grade = [0.7, 0.8, 0.9, 1.0, 0.85, 0.6]\n",
    "passing_students = []\n",
    "for g in students_grade:\n",
    "    print(f\"Student grade: {g}\")\n",
    "    if g < good_grade:\n",
    "        party = False\n",
    "    elif g > 0.85:\n",
    "        party = True\n",
    "    passing_students.append(party)\n",
    "passing_students"
   ]
  },
  {
   "cell_type": "markdown",
   "metadata": {},
   "source": [
    "---"
   ]
  },
  {
   "cell_type": "code",
   "execution_count": 45,
   "metadata": {},
   "outputs": [
    {
     "name": "stdout",
     "output_type": "stream",
     "text": [
      "you can pass!\n"
     ]
    }
   ],
   "source": [
    "effort = \"High\"\n",
    "wants_to_pass_the_course = True\n",
    "if effort is None and wants_to_pass_the_course:\n",
    "    raise RuntimeError(\"there is not way you can pass the course without effort\")\n",
    "print(\"you can pass!\")"
   ]
  },
  {
   "cell_type": "code",
   "execution_count": 46,
   "metadata": {},
   "outputs": [
    {
     "name": "stdout",
     "output_type": "stream",
     "text": [
      "you can pass!\n"
     ]
    }
   ],
   "source": [
    "effort = 100\n",
    "wants_to_pass_the_course = True\n",
    "if effort is None and wants_to_pass_the_course:\n",
    "    raise RuntimeError(\"there is not way you can pass the course without effort\")\n",
    "print(\"you can pass!\")"
   ]
  },
  {
   "cell_type": "markdown",
   "metadata": {},
   "source": [
    "---"
   ]
  },
  {
   "cell_type": "markdown",
   "metadata": {},
   "source": [
    "Todo esto puede suceder en múltiples niveles de jerarquías, no solo una como se muestra arriba."
   ]
  },
  {
   "cell_type": "code",
   "execution_count": 47,
   "metadata": {},
   "outputs": [
    {
     "data": {
      "text/plain": [
       "{1: [1, 1, 1, 1],\n",
       " 2: [4, 8, 16, 32],\n",
       " 3: [9, 27, 81, 243],\n",
       " 4: [16, 64, 256, 1024]}"
      ]
     },
     "execution_count": 47,
     "metadata": {},
     "output_type": "execute_result"
    }
   ],
   "source": [
    "bases = [1, 2, 3, 4]\n",
    "powers = [2, 3, 4, 5]\n",
    "results = {}\n",
    "for b in bases:\n",
    "    results_for_current_base = []\n",
    "    for p in powers:\n",
    "        results_for_current_base.append(b**p)\n",
    "    results[b] = results_for_current_base\n",
    "results"
   ]
  },
  {
   "cell_type": "markdown",
   "metadata": {},
   "source": [
    "---\n",
    "Muchas estructuras de datos disponibles en python (y sus librerías) pueden iterarse"
   ]
  },
  {
   "cell_type": "code",
   "execution_count": 54,
   "metadata": {},
   "outputs": [
    {
     "name": "stdout",
     "output_type": "stream",
     "text": [
      "Santiago: 3.3\n",
      "Julian: 3.4\n",
      "Danilo: 4.1\n"
     ]
    }
   ],
   "source": [
    "grades = {\"Santiago\": 3.3, \"Julian\": 3.4, \"Danilo\": 4.1}\n",
    "for name, g in grades.items():\n",
    "    print(f\"{name}: {g}\")"
   ]
  },
  {
   "cell_type": "markdown",
   "metadata": {},
   "source": [
    "---\n",
    "Finalmente, hay una forma de trabajar con ciclos y control de flujo para cosas sencillas de una forma más eficiente en términos de lineas de código y tiempo de ejecución:"
   ]
  },
  {
   "cell_type": "markdown",
   "metadata": {},
   "source": [
    "#### List Comprehension"
   ]
  },
  {
   "cell_type": "code",
   "execution_count": 51,
   "metadata": {},
   "outputs": [
    {
     "data": {
      "text/plain": [
       "([1, 2, 3, 4, 5, 6, 7, 8, 9, 10],\n",
       " [False, True, False, True, False, True, False, True, False, True],\n",
       " [2, 4, 6, 8, 10],\n",
       " [2, 1.0, 6, 2.0, 10, 3.0, 14, 4.0, 18, 5.0])"
      ]
     },
     "execution_count": 51,
     "metadata": {},
     "output_type": "execute_result"
    }
   ],
   "source": [
    "numbers = [1,2,3,4,5,6,7,8,9,10]\n",
    "is_even = [(n % 2) == 0 for n in numbers]\n",
    "even_numbers = [n for n in numbers if (n % 2) == 0]\n",
    "new_numbers = [n*2 if (n % 2) != 0 else n / 2 for n in numbers]\n",
    "numbers, is_even, even_numbers, new_numbers"
   ]
  },
  {
   "cell_type": "markdown",
   "metadata": {},
   "source": [
    "#### Dictonary Comprehension"
   ]
  }
 ],
 "metadata": {
  "kernelspec": {
   "display_name": "Python 3",
   "language": "python",
   "name": "python3"
  },
  "language_info": {
   "codemirror_mode": {
    "name": "ipython",
    "version": 3
   },
   "file_extension": ".py",
   "mimetype": "text/x-python",
   "name": "python",
   "nbconvert_exporter": "python",
   "pygments_lexer": "ipython3",
   "version": "3.11.9"
  }
 },
 "nbformat": 4,
 "nbformat_minor": 2
}
